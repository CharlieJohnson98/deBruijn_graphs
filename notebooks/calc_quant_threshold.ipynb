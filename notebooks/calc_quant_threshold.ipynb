{
 "cells": [
  {
   "cell_type": "code",
   "execution_count": 1,
   "id": "c608258a-5856-4e55-a58e-bbe4f6d9934f",
   "metadata": {},
   "outputs": [],
   "source": [
    "import pandas as pd"
   ]
  },
  {
   "cell_type": "code",
   "execution_count": 18,
   "id": "da11bb90-5ff2-46f2-aa21-98475c6f43f4",
   "metadata": {},
   "outputs": [],
   "source": [
    "def get_truth_set(truth_file):\n",
    "    df = pd.read_csv(truth_file)\n",
    "    truth_set = [frozenset({i,j}) for i,j in zip(df['Node1'],df['Node2'])]\n",
    "    truth_set = set(truth_set)\n",
    "    return(truth_set)\n",
    "\n",
    "def get_library_set(lib_file):\n",
    "    df = pd.read_csv(library_file)\n",
    "    lib_set = [frozenset({i,j}) for i,j in zip(df['Node1'],df['Node2']) if 'N' not in i and 'N' not in j]\n",
    "    #lib_set = [x for x in lib_set if 'N' not in list(x)]\n",
    "    lib_set = set(lib_set)\n",
    "    return(lib_set)\n",
    "\n",
    "def label_exp(df, truth_set, lib_set, exp):\n",
    "    df['label'] = ['oligo match' if frozenset({i,j}) in truth_set else 'library match' if frozenset({i,j}) in lib_set else 'off target' for i, j in zip(df['node1'],df['node2'])]\n",
    "    df['exp'] = exp\n",
    "    return(df)"
   ]
  },
  {
   "cell_type": "code",
   "execution_count": 59,
   "id": "677fb9e5-f864-4343-8911-4adad8d9e663",
   "metadata": {},
   "outputs": [],
   "source": [
    "f1 = '../oligo/results/8mer/oligo_2_1w_8mers_unique.csv'\n",
    "f2 = '../oligo/results/10mer/oligo_2_1w_10mers_unique.csv'\n",
    "f3 = '../oligo/results/12mer/oligo_2_1w_12mers_unique.csv'\n",
    "f4 = '../oligo/results/10mer/streptavidin_7w_10mers_unique.csv'"
   ]
  },
  {
   "cell_type": "code",
   "execution_count": 52,
   "id": "6f1a8966-1c68-4096-acd6-7239ad18f96b",
   "metadata": {},
   "outputs": [
    {
     "name": "stdout",
     "output_type": "stream",
     "text": [
      "98.0\n",
      "122.5\n"
     ]
    }
   ],
   "source": [
    "df1 = pd.read_csv(f1)\n",
    "print(df1['count'].quantile(0.05))\n",
    "print(df1['count'].quantile(0.10))"
   ]
  },
  {
   "cell_type": "code",
   "execution_count": 53,
   "id": "72a46ddb-4555-4429-8f31-01a273d7d679",
   "metadata": {},
   "outputs": [
    {
     "name": "stdout",
     "output_type": "stream",
     "text": [
      "3.0\n",
      "4.0\n"
     ]
    }
   ],
   "source": [
    "df2 = pd.read_csv(f2)\n",
    "print(df2['count'].quantile(0.05))\n",
    "print(df2['count'].quantile(0.10))"
   ]
  },
  {
   "cell_type": "code",
   "execution_count": 54,
   "id": "330e4e55-b8c6-4331-b624-cc3cf0634adf",
   "metadata": {},
   "outputs": [
    {
     "name": "stdout",
     "output_type": "stream",
     "text": [
      "3.0\n",
      "4.0\n"
     ]
    }
   ],
   "source": [
    "df3 = pd.read_csv(f3)\n",
    "print(df2['count'].quantile(0.05))\n",
    "print(df2['count'].quantile(0.10))"
   ]
  },
  {
   "cell_type": "code",
   "execution_count": 65,
   "id": "ca7c5141-20a1-4f0a-bf5d-24a02ab8339e",
   "metadata": {},
   "outputs": [
    {
     "name": "stdout",
     "output_type": "stream",
     "text": [
      "3.0\n",
      "4.0\n"
     ]
    }
   ],
   "source": [
    "df4 = pd.read_csv(f4)\n",
    "print(df2['count'].quantile(0.04))\n",
    "print(df2['count'].quantile(0.10))"
   ]
  },
  {
   "cell_type": "code",
   "execution_count": 62,
   "id": "d91791c5-e817-4150-9bdf-4788c232c871",
   "metadata": {},
   "outputs": [
    {
     "data": {
      "text/plain": [
       "label\n",
       "off target    3388\n",
       "dtype: int64"
      ]
     },
     "execution_count": 62,
     "metadata": {},
     "output_type": "execute_result"
    }
   ],
   "source": [
    "test = df1[df1['count'] <= df1['count'].quantile(0.05)].reset_index(drop=True)\n",
    "library_file = f'../oligo/data/bait_kmers/library_5mers.csv'\n",
    "lib_set = get_library_set(library_file)\n",
    "truth_file = f'../oligo/data/bait_kmers/oligo_1_comp_5mers.csv'\n",
    "truth_set = get_truth_set(truth_file)\n",
    "test_labels = label_exp(test, truth_set, lib_set, 'test')\n",
    "test_labels.groupby('label').size()"
   ]
  },
  {
   "cell_type": "code",
   "execution_count": 63,
   "id": "b1c61ebe-b365-4f69-befe-b65cbc9a5d87",
   "metadata": {},
   "outputs": [
    {
     "data": {
      "text/plain": [
       "label\n",
       "off target    72523\n",
       "dtype: int64"
      ]
     },
     "execution_count": 63,
     "metadata": {},
     "output_type": "execute_result"
    }
   ],
   "source": [
    "test = df2[df2['count'] <= df2['count'].quantile(0.05)].reset_index(drop=True)\n",
    "library_file = f'../oligo/data/bait_kmers/library_10mers.csv'\n",
    "lib_set = get_library_set(library_file)\n",
    "truth_file = f'../oligo/data/bait_kmers/oligo_1_comp_10mers.csv'\n",
    "truth_set = get_truth_set(truth_file)\n",
    "test_labels = label_exp(test, truth_set, lib_set, 'test')\n",
    "test_labels.groupby('label').size()"
   ]
  },
  {
   "cell_type": "code",
   "execution_count": 29,
   "id": "034df5d3-1e19-4028-827c-fac58dd3afe0",
   "metadata": {},
   "outputs": [
    {
     "data": {
      "text/html": [
       "<div>\n",
       "<style scoped>\n",
       "    .dataframe tbody tr th:only-of-type {\n",
       "        vertical-align: middle;\n",
       "    }\n",
       "\n",
       "    .dataframe tbody tr th {\n",
       "        vertical-align: top;\n",
       "    }\n",
       "\n",
       "    .dataframe thead th {\n",
       "        text-align: right;\n",
       "    }\n",
       "</style>\n",
       "<table border=\"1\" class=\"dataframe\">\n",
       "  <thead>\n",
       "    <tr style=\"text-align: right;\">\n",
       "      <th></th>\n",
       "      <th>node1</th>\n",
       "      <th>node2</th>\n",
       "      <th>count</th>\n",
       "      <th>label</th>\n",
       "      <th>exp</th>\n",
       "    </tr>\n",
       "  </thead>\n",
       "  <tbody>\n",
       "    <tr>\n",
       "      <th>3056</th>\n",
       "      <td>TGGATGGAG</td>\n",
       "      <td>GGATGGAGT</td>\n",
       "      <td>9</td>\n",
       "      <td>oligo match</td>\n",
       "      <td>test</td>\n",
       "    </tr>\n",
       "  </tbody>\n",
       "</table>\n",
       "</div>"
      ],
      "text/plain": [
       "          node1      node2  count        label   exp\n",
       "3056  TGGATGGAG  GGATGGAGT      9  oligo match  test"
      ]
     },
     "execution_count": 29,
     "metadata": {},
     "output_type": "execute_result"
    }
   ],
   "source": [
    "test_labels[test_labels.label == \"oligo match\"]"
   ]
  },
  {
   "cell_type": "code",
   "execution_count": 66,
   "id": "95c5e551-8dfe-40e6-90dc-a8316e8d0cc7",
   "metadata": {},
   "outputs": [],
   "source": [
    "infile = '../oligo/results/10mer/oligo_1_0w_10mers_unique.csv'\n",
    "cut = 0.03\n",
    "outfile = '../oligo/results/10mer/q3cut/oligo_1_0w_10mers_q03.csv'"
   ]
  },
  {
   "cell_type": "code",
   "execution_count": null,
   "id": "427087cf-6d97-46be-be69-3cf93f91ca1e",
   "metadata": {},
   "outputs": [],
   "source": [
    "def read_data(infile, sep=','):\n",
    "    print(f'Reading in {infile} ...')\n",
    "    df = pd.read_csv(infile, sep=sep)\n",
    "    print(f'Number of unique k-mers = {len(df)}')\n",
    "    return(df)\n",
    "\n",
    "def calc_quartiles(df):\n",
    "    print(f'Calculating quartiles ...')\n",
    "    Q1 = df['count'].quantile(0.25)\n",
    "    Q2 = df['count'].quantile(0.75)\n",
    "    IQR = Q3-Q1\n",
    "    print(f'Q1={Q1}\\tQ3={Q3}\\tIQR={IQR}')\n",
    "\n",
    "def calc_cutoff(df, cut):\n",
    "    print(f'Calculating quantile cutoff for q={cut} ...')\n",
    "    q = df['count'].quantile(cut)\n",
    "    df_cut = df[df['count'] >= q]\n",
    "    n_removed = len(df) - len(df_cut)\n",
    "    print(f'Count={q} for q={cut} ({n_removed) rows removed) ...')\n",
    "    print(f'Final table:')\n",
    "    print(df_cut)\n",
    "    return(df_cut)"
   ]
  },
  {
   "cell_type": "code",
   "execution_count": null,
   "id": "72957b45-5143-4aa8-a4ae-a4160bcc3957",
   "metadata": {},
   "outputs": [],
   "source": [
    "def main()\n",
    "    df = read_data(args.infile, args.sep)\n",
    "    calc_quartiles(df)\n",
    "    df_out = calc_cutoff(df, args.cut)\n",
    "    print(f'Writing to {args.outfile} ...')\n",
    "    df_out.to_csv(args.outfile)"
   ]
  }
 ],
 "metadata": {
  "kernelspec": {
   "display_name": "Python 3 (ipykernel)",
   "language": "python",
   "name": "python3"
  },
  "language_info": {
   "codemirror_mode": {
    "name": "ipython",
    "version": 3
   },
   "file_extension": ".py",
   "mimetype": "text/x-python",
   "name": "python",
   "nbconvert_exporter": "python",
   "pygments_lexer": "ipython3",
   "version": "3.9.16"
  }
 },
 "nbformat": 4,
 "nbformat_minor": 5
}
