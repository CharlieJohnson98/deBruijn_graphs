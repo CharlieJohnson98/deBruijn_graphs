{
 "cells": [
  {
   "cell_type": "code",
   "execution_count": 10,
   "id": "00f3bf9f-2854-44e2-a670-96a7ee6ddd59",
   "metadata": {},
   "outputs": [],
   "source": [
    "from Bio import Entrez\n",
    "from Bio import SeqIO\n",
    "Entrez.email = 'rachaelcox@utexas.edu'"
   ]
  },
  {
   "cell_type": "code",
   "execution_count": 2,
   "id": "e2c295e2-db10-478a-bbe2-34909241a0b0",
   "metadata": {},
   "outputs": [],
   "source": [
    "test_ids = [\"dbj|GMH35230.1|\", \"emb|CAD7700248.1|\", \"gb|MBT3431290.1|\"]"
   ]
  },
  {
   "cell_type": "code",
   "execution_count": 13,
   "id": "52766753-0761-4bb8-ac13-161aed9600c7",
   "metadata": {},
   "outputs": [],
   "source": [
    "handle = Entrez.efetch(db=\"protein\", id=\"gb|KAG7029352.1|\", rettype=\"gb\", retmode=\"text\")"
   ]
  },
  {
   "cell_type": "code",
   "execution_count": 14,
   "id": "5acda860-4dea-44dc-9eaf-f9ad008d62c4",
   "metadata": {},
   "outputs": [],
   "source": [
    "seq_record = SeqIO.read(handle, \"gb\")"
   ]
  },
  {
   "cell_type": "code",
   "execution_count": 20,
   "id": "286564b1-0e19-4711-b927-5a473664e791",
   "metadata": {},
   "outputs": [
    {
     "data": {
      "text/plain": [
       "'Patatin-like protein 2, partial [Cucurbita argyrosperma subsp. argyrosperma]'"
      ]
     },
     "execution_count": 20,
     "metadata": {},
     "output_type": "execute_result"
    }
   ],
   "source": [
    "seq_record.description"
   ]
  },
  {
   "cell_type": "code",
   "execution_count": 55,
   "id": "79b1e4ea-176e-43cf-b9bb-6a19ad1cc9a5",
   "metadata": {},
   "outputs": [
    {
     "name": "stdout",
     "output_type": "stream",
     "text": [
      "dbj|GMH35230.1| \n",
      " hypothetical protein BSKO_03098 [Bryopsis sp. KO-2023] \n",
      " Bryopsis sp. KO-2023 \n",
      " ['Eukaryota', 'Viridiplantae', 'Chlorophyta', 'Ulvophyceae', 'TCBD clade', 'Bryopsidales', 'Bryopsidineae', 'Bryopsidaceae', 'Bryopsis']\n",
      "\n",
      "emb|CAD7700248.1| \n",
      " unnamed protein product [Ostreobium quekettii] \n",
      " Ostreobium quekettii \n",
      " ['Eukaryota', 'Viridiplantae', 'Chlorophyta', 'Ulvophyceae', 'TCBD clade', 'Bryopsidales', 'Ostreobineae', 'Ostreobiaceae', 'Ostreobium']\n",
      "\n",
      "gb|MBT3431290.1| \n",
      " MAG: patatin [Candidatus Thioglobus sp.] \n",
      " Candidatus Thioglobus sp. \n",
      " ['Bacteria', 'Pseudomonadota', 'Gammaproteobacteria', 'Candidatus Thioglobus']\n",
      "\n"
     ]
    }
   ],
   "source": [
    "for i in test_ids:\n",
    "    handle = Entrez.efetch(db=\"protein\", id=i, rettype=\"gb\", retmode=\"text\")\n",
    "    seq_record = SeqIO.read(handle, \"gb\")\n",
    "    print(i, '\\n', seq_record.description, '\\n',\n",
    "          seq_record.annotations['organism'], '\\n', seq_record.annotations['taxonomy'])\n",
    "    print()"
   ]
  },
  {
   "cell_type": "code",
   "execution_count": 56,
   "id": "b45136d5-9308-4ecd-a42c-26b6e72f4ca0",
   "metadata": {},
   "outputs": [
    {
     "data": {
      "text/plain": [
       "SeqRecord(seq=Seq('MHVLAWLLCVLEVVWGQPVFSKILNKKPYIYTRILSIDGGGVRGVVPAVLLSYL...NRK'), id='MBT3431290.1', name='MBT3431290', description='MAG: patatin [Candidatus Thioglobus sp.]', dbxrefs=['BioProject:PRJNA630981', 'BioSample:SAMN14913765'])"
      ]
     },
     "execution_count": 56,
     "metadata": {},
     "output_type": "execute_result"
    }
   ],
   "source": [
    "seq_record"
   ]
  }
 ],
 "metadata": {
  "kernelspec": {
   "display_name": "Python 3 (ipykernel)",
   "language": "python",
   "name": "python3"
  },
  "language_info": {
   "codemirror_mode": {
    "name": "ipython",
    "version": 3
   },
   "file_extension": ".py",
   "mimetype": "text/x-python",
   "name": "python",
   "nbconvert_exporter": "python",
   "pygments_lexer": "ipython3",
   "version": "3.9.16"
  }
 },
 "nbformat": 4,
 "nbformat_minor": 5
}
