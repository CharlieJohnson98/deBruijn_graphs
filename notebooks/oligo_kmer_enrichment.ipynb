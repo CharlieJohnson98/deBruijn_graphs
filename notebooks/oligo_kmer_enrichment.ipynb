{
 "cells": [
  {
   "cell_type": "code",
   "execution_count": 53,
   "id": "bc06a3ca-e8fa-437a-9640-0c79fe686c1f",
   "metadata": {},
   "outputs": [],
   "source": [
    "\n",
    "import os\n",
    "import glob\n",
    "\n",
    "from tqdm import tqdm\n",
    "from scipy.stats import zscore\n",
    "from Bio import SeqIO"
   ]
  },
  {
   "cell_type": "code",
   "execution_count": 2,
   "id": "13f2a4f4-901b-4fda-9f78-c5893be947d1",
   "metadata": {},
   "outputs": [],
   "source": [
    "# for record in SeqIO.parse('../oligo/data/fastas/prey.fasta', \"fasta\"):\n",
    "#     print('>'+record.id+'_comp')\n",
    "#     print(record.seq.complement())\n",
    "#     with open('../oligo/data/fastas/prey_comp.fasta', 'w') as f:\n",
    "#         f.write('>'+record.id+'_comp'+'\\n')\n",
    "#         f.write(str(record.seq.complement())+'\\n')"
   ]
  },
  {
   "cell_type": "code",
   "execution_count": 66,
   "id": "d02d8f06-f6d6-4c6f-8fc3-6156aa84ebfa",
   "metadata": {},
   "outputs": [],
   "source": [
    "import math\n",
    "import pandas as pd\n",
    "import time\n",
    "import re\n",
    "from scipy.stats import norm\n",
    "from statsmodels.stats.multitest import multipletests"
   ]
  },
  {
   "cell_type": "code",
   "execution_count": 57,
   "id": "9d5fba7c-bc1b-4431-98ff-0488005b08a6",
   "metadata": {},
   "outputs": [],
   "source": [
    "def merge_data(exp_file, bg_file):\n",
    "    exp_df = pd.read_csv(exp_file).rename(columns={'count': 'exp_count'})\n",
    "    bg_df = pd.read_csv(bg_file).rename(columns={'count': 'bg_count'})\n",
    "    exp_label = re.search('(?<=_)\\w\\w(?=_)', exp_file)[0]\n",
    "    join_cols = ['node1','node2']\n",
    "    join_df = exp_df.merge(bg_df, how='outer', left_on=join_cols, right_on=join_cols).reset_index(drop=True)\n",
    "    min_exp = join_df['exp_count'].min(skipna=True)\n",
    "    min_bg = join_df['bg_count'].min(skipna=True)\n",
    "    join_df['exp_count'] = join_df['exp_count'].fillna(min_exp).astype(int)\n",
    "    join_df['bg_count'] = join_df['bg_count'].fillna(min_bg).astype(int)\n",
    "    join_df['exp_norm'] = join_df['exp_count']/join_df['exp_count'].sum()\n",
    "    join_df['bg_norm'] = join_df['bg_count']/join_df['bg_count'].sum()\n",
    "    join_df['exp'] = exp_label\n",
    "    join_df['node_edge'] = join_df['node1']+join_df['node2'].str.rstrip().str[-1]\n",
    "    return(join_df)\n",
    "\n",
    "def get_oligo_set(truth_file):\n",
    "    df = pd.read_csv(truth_file)\n",
    "    df.columns = map(str.lower, df.columns)\n",
    "    df['node_edge'] = df['node1']+df['node2'].str.rstrip().str[-1]\n",
    "    truth_set = df['node_edge'].unique()\n",
    "    truth_set = set(truth_set)\n",
    "    return(truth_set)\n",
    "\n",
    "def get_library_set(lib_file):\n",
    "    df = pd.read_csv(lib_file)\n",
    "    df.columns = map(str.lower, df.columns)\n",
    "    df['node_edge'] = df['node1']+df['node2'].str.rstrip().str[-1]\n",
    "    lib_set = df['node_edge'].unique()\n",
    "    lib_set = set(lib_set)\n",
    "    return(lib_set)\n",
    "\n",
    "def calc_fc(exp, bg):\n",
    "    if bg > exp:\n",
    "        fc = -bg/exp\n",
    "        log2fc = -(math.log2(abs(fc)))\n",
    "    elif bg <= exp:\n",
    "        fc = exp/bg\n",
    "        log2fc = math.log2(fc)\n",
    "    return(fc, log2fc)\n",
    "\n",
    "def calc_pseudo_fc(df):\n",
    "    # pseudocounts\n",
    "    df['exp_pc'] = df['exp_norm']\n",
    "    df['bg_pc'] = df['bg_norm']\n",
    "    df['f0_exp_pc'] = df['exp_pc']/df['exp_pc'].sum()\n",
    "    df['f0_bg_pc'] = df['bg_pc']/df['bg_pc'].sum()\n",
    "    # fold change cols\n",
    "    df[['fc','log2fc']] = [calc_fc(i,j) for i,j in zip(df['f0_exp_pc'], df['f0_bg_pc'])]\n",
    "    # drop extra cols\n",
    "    df.reset_index(drop=True, inplace=True)\n",
    "    df.drop(['exp_pc','bg_pc','f0_exp_pc','f0_bg_pc'], axis=1, inplace=True)\n",
    "    df.sort_values(by='log2fc', ascending=False, inplace=True)\n",
    "    return(df)\n",
    "\n",
    "def calc_apex_zscore(f0_exp, f0_bg, f1, exp_sum, bg_sum):\n",
    "    apex_zscore = (\n",
    "        (f0_exp - f0_bg)/math.sqrt(\n",
    "        (((f1*(1-f1))/exp_sum) + ((f1*(1-f1))/bg_sum)))\n",
    "                  )\n",
    "    return(apex_zscore)\n",
    "\n",
    "def calc_pval(zscore, one_side=True):\n",
    "    p_value = norm.cdf(zscore)\n",
    "    # for one-sided test, subtract the obtained p-value from 1\n",
    "    if one_side:\n",
    "        p_val = 1 - p_value\n",
    "    return(p_val)"
   ]
  },
  {
   "cell_type": "code",
   "execution_count": 41,
   "id": "2484e469-bad3-42b6-9e5c-85642b0b5642",
   "metadata": {},
   "outputs": [],
   "source": [
    "exp_file = '../oligo/results/10mer/kmer_counts_all/oligo_3_3w_10mers_unique.csv'\n",
    "bg_file = '../oligo/results/10mer/kmer_counts_all/oligo_3_bg_10mers_unique.csv'\n",
    "lib_file = '../oligo/data/bait_kmers/library_10mers.csv'\n",
    "oligo_file = '../oligo/data/bait_kmers/oligo_3_comp_10mers.csv'"
   ]
  },
  {
   "cell_type": "code",
   "execution_count": 67,
   "id": "2402d6bc-e680-4fa4-937a-1c5aeaabb664",
   "metadata": {},
   "outputs": [
    {
     "name": "stdout",
     "output_type": "stream",
     "text": [
      "             node1      node2  exp_count  bg_count      exp_norm  \\\n",
      "1699     AGAGAGAGA  GAGAGAGAG       3248         1  1.516037e-05   \n",
      "2082     TTGAGGCGA  TGAGGCGAA       2591      1745  1.209375e-05   \n",
      "8402     ACTTTTTTG  CTTTTTTGC        608       278  2.837901e-06   \n",
      "4640     GGGTTTGTT  GGTTTGTTA       1096       501  5.115691e-06   \n",
      "567      AGAGGACGC  GAGGACGCG       8885      4060  4.147163e-05   \n",
      "...            ...        ...        ...       ...           ...   \n",
      "39568    GGGGTAGCA  GGGTAGCAT        154       168  7.188105e-07   \n",
      "714512   TCACCAGCC  CACCAGCCA         11        12  5.134361e-08   \n",
      "39726    ACGCCATGC  CGCCATGCG        154       168  7.188105e-07   \n",
      "413985   ACTACCCAC  CTACCCACC         22        24  1.026872e-07   \n",
      "1045115  GAGAGAGAG  AGAGAGAGA          1      2429  4.667601e-09   \n",
      "\n",
      "              bg_norm exp   node_edge     label           fc     log2fc  \\\n",
      "1699     4.912413e-09  3w  AGAGAGAGAG  no match  3086.134344  11.591585   \n",
      "2082     8.572161e-06  3w  TTGAGGCGAA  no match     1.410817   0.496531   \n",
      "8402     1.365651e-06  3w  ACTTTTTTGC  no match     2.078058   1.055236   \n",
      "4640     2.461119e-06  3w  GGGTTTGTTA  no match     2.078603   1.055615   \n",
      "567      1.994440e-05  3w  AGAGGACGCG  no match     2.079362   1.056141   \n",
      "...               ...  ..         ...       ...          ...        ...   \n",
      "39568    8.252855e-07  3w  GGGGTAGCAT  no match    -1.148127  -0.199282   \n",
      "714512   5.894896e-08  3w  TCACCAGCCA  no match    -1.148127  -0.199282   \n",
      "39726    8.252855e-07  3w  ACGCCATGCG  no match    -1.148127  -0.199282   \n",
      "413985   1.178979e-07  3w  ACTACCCACC  no match    -1.148127  -0.199282   \n",
      "1045115  1.193225e-05  3w  GAGAGAGAGA  no match -2556.399405 -11.319898   \n",
      "\n",
      "               f0_exp         f0_bg            f1  apex_zscore  apex_pval  \\\n",
      "1699     1.516037e-05  4.912413e-09  7.776285e-06    55.526655   0.000000   \n",
      "2082     1.209375e-05  8.572161e-06  1.037795e-05    11.168694   0.000000   \n",
      "8402     2.837901e-06  1.365651e-06  2.120587e-06    10.329302   0.000000   \n",
      "4640     5.115691e-06  2.461119e-06  3.822323e-06    13.872300   0.000000   \n",
      "567      4.147163e-05  1.994440e-05  3.098308e-05    39.513878   0.000000   \n",
      "...               ...           ...           ...          ...        ...   \n",
      "39568    7.188105e-07  8.252855e-07  7.706875e-07    -1.239154   0.892356   \n",
      "714512   5.134361e-08  5.894896e-08  5.504911e-08    -0.331178   0.629745   \n",
      "39726    7.188105e-07  8.252855e-07  7.706875e-07    -1.239154   0.892356   \n",
      "413985   1.026872e-07  1.178979e-07  1.100982e-07    -0.468356   0.680235   \n",
      "1045115  4.667601e-09  1.193225e-05  5.816058e-06   -50.530817   1.000000   \n",
      "\n",
      "         apex_pval_bonferroni  apex_pval_bh  \n",
      "1699                      0.0           0.0  \n",
      "2082                      0.0           0.0  \n",
      "8402                      0.0           0.0  \n",
      "4640                      0.0           0.0  \n",
      "567                       0.0           0.0  \n",
      "...                       ...           ...  \n",
      "39568                     1.0           1.0  \n",
      "714512                    1.0           1.0  \n",
      "39726                     1.0           1.0  \n",
      "413985                    1.0           1.0  \n",
      "1045115                   1.0           1.0  \n",
      "\n",
      "[1048488 rows x 18 columns]\n",
      "Total run time: 2.27 minutes.\n"
     ]
    }
   ],
   "source": [
    "t0 = time.time()\n",
    "lib_kmers = get_library_set(lib_file)\n",
    "oligo_kmers = get_oligo_set(oligo_file)\n",
    "df = merge_data(exp_file, bg_file)\n",
    "exp_sum = df['exp_count'].sum()\n",
    "bg_sum = df['bg_count'].sum()\n",
    "df['label'] = (['oligo match' if edge in oligo_kmers \\\n",
    "                else 'library match' if edge in lib_kmers \\\n",
    "                else 'no match' for edge in df['node_edge']])\n",
    "df = calc_pseudo_fc(df)\n",
    "df['f0_exp'] = df['exp_count']/exp_sum\n",
    "df['f0_bg'] = df['bg_count']/bg_sum\n",
    "# apex zscore calculation\n",
    "df['f1'] = (df['exp_count']+df['bg_count'])/(df['exp_count'].sum()+df['bg_count'].sum())\n",
    "df['apex_zscore'] = [calc_apex_zscore(i, j, k, exp_sum, bg_sum) for i, j, k in zip(df.f0_exp, df.f0_bg, df.f1)]\n",
    "df['apex_pval'] = [calc_pval(z) for z in df.apex_zscore]\n",
    "bonf_pvals = multipletests(df['apex_pval'], method='bonferroni')[1]\n",
    "bh_pvals = multipletests(df['apex_pval'], method='fdr_bh')[1]\n",
    "df['apex_pval_bonferroni'] = bonf_pvals\n",
    "df['apex_pval_bh'] = bh_pvals\n",
    "df.sort_values('apex_pval_bh', ascending=True, inplace=True)\n",
    "print(df)\n",
    "print(f'Total run time: {round((time.time()-t0)/60, 2)} minutes.')"
   ]
  },
  {
   "cell_type": "code",
   "execution_count": 70,
   "id": "82dee0a4-82a2-4d67-8d06-23507e18f402",
   "metadata": {},
   "outputs": [
    {
     "name": "stdout",
     "output_type": "stream",
     "text": [
      "ACTTGTTTTT\n",
      "TGAACAAAAA\n",
      "TGTTGTTTAC\n",
      "ACAACAAATG\n",
      "TTGAATGTAG\n",
      "AACTTACATC\n",
      "CTTGTTTTTT\n",
      "GAACAAAAAA\n",
      "TGTTTACTTG\n",
      "ACAAATGAAC\n",
      "CTTGAATGTA\n",
      "GAACTTACAT\n",
      "TGTAGTTGAT\n",
      "ACATCAACTA\n",
      "GTTGATTTGT\n",
      "CAACTAAACA\n",
      "GTAGTTGATT\n",
      "CATCAACTAA\n",
      "TGATTTGTTG\n",
      "ACTAAACAAC\n",
      "TTGTTTTTTT\n",
      "AACAAAAAAA\n",
      "GAATGTAGTT\n",
      "CTTACATCAA\n",
      "TTACTTGTTT\n",
      "AATGAACAAA\n",
      "TCTTGAATGT\n",
      "AGAACTTACA\n",
      "TGAATGTAGT\n",
      "ACTTACATCA\n",
      "GTTTACTTGT\n",
      "CAAATGAACA\n",
      "AATGTAGTTG\n",
      "TTACATCAAC\n",
      "ATGTAGTTGA\n",
      "TACATCAACT\n",
      "TTGTTTACTT\n",
      "AACAAATGAA\n",
      "GTTGTTTACT\n",
      "CAACAAATGA\n",
      "TTGATTTGTT\n",
      "AACTAAACAA\n",
      "TTTACTTGTT\n",
      "AAATGAACAA\n",
      "ATTTGTTGTT\n",
      "TAAACAACAA\n",
      "AGTTGATTTG\n",
      "TCAACTAAAC\n",
      "GATTTGTTGT\n",
      "CTAAACAACA\n",
      "TTTTTTTTTT\n",
      "AAAAAAAAAA\n",
      "TTTGTTGTTT\n",
      "AAACAACAAA\n",
      "TACTTGTTTT\n",
      "ATGAACAAAA\n",
      "TAGTTGATTT\n",
      "ATCAACTAAA\n",
      "TTGTTGTTTA\n",
      "AACAACAAAT\n",
      "GTTTTTTTTT\n",
      "CAAAAAAAAA\n",
      "TGTTTTTTTT\n",
      "ACAAAAAAAA\n"
     ]
    }
   ],
   "source": [
    "from Bio.Seq import Seq\n",
    "for i in oligo_kmers:\n",
    "    print(i)\n",
    "    print(Seq(i).complement())"
   ]
  },
  {
   "cell_type": "code",
   "execution_count": 62,
   "id": "d0ef8938-6374-4172-bf3d-7aac1669737f",
   "metadata": {},
   "outputs": [
    {
     "data": {
      "text/html": [
       "<div>\n",
       "<style scoped>\n",
       "    .dataframe tbody tr th:only-of-type {\n",
       "        vertical-align: middle;\n",
       "    }\n",
       "\n",
       "    .dataframe tbody tr th {\n",
       "        vertical-align: top;\n",
       "    }\n",
       "\n",
       "    .dataframe thead th {\n",
       "        text-align: right;\n",
       "    }\n",
       "</style>\n",
       "<table border=\"1\" class=\"dataframe\">\n",
       "  <thead>\n",
       "    <tr style=\"text-align: right;\">\n",
       "      <th></th>\n",
       "      <th>node1</th>\n",
       "      <th>node2</th>\n",
       "      <th>exp_count</th>\n",
       "      <th>bg_count</th>\n",
       "      <th>exp_norm</th>\n",
       "      <th>bg_norm</th>\n",
       "      <th>exp</th>\n",
       "      <th>node_edge</th>\n",
       "      <th>label</th>\n",
       "      <th>fc</th>\n",
       "      <th>log2fc</th>\n",
       "      <th>f0_exp</th>\n",
       "      <th>f0_bg</th>\n",
       "      <th>f1</th>\n",
       "      <th>apex_zscore</th>\n",
       "      <th>apex_pval</th>\n",
       "    </tr>\n",
       "  </thead>\n",
       "  <tbody>\n",
       "    <tr>\n",
       "      <th>1699</th>\n",
       "      <td>AGAGAGAGA</td>\n",
       "      <td>GAGAGAGAG</td>\n",
       "      <td>3248</td>\n",
       "      <td>1</td>\n",
       "      <td>1.516037e-05</td>\n",
       "      <td>4.912413e-09</td>\n",
       "      <td>3w</td>\n",
       "      <td>AGAGAGAGAG</td>\n",
       "      <td>no match</td>\n",
       "      <td>3086.134344</td>\n",
       "      <td>11.591585</td>\n",
       "      <td>1.516037e-05</td>\n",
       "      <td>4.912413e-09</td>\n",
       "      <td>7.776285e-06</td>\n",
       "      <td>55.526655</td>\n",
       "      <td>0.000000e+00</td>\n",
       "    </tr>\n",
       "    <tr>\n",
       "      <th>65741</th>\n",
       "      <td>TGAGGTAAG</td>\n",
       "      <td>GAGGTAAGT</td>\n",
       "      <td>101</td>\n",
       "      <td>2</td>\n",
       "      <td>4.714277e-07</td>\n",
       "      <td>9.824827e-09</td>\n",
       "      <td>3w</td>\n",
       "      <td>TGAGGTAAGT</td>\n",
       "      <td>no match</td>\n",
       "      <td>47.983308</td>\n",
       "      <td>5.584461</td>\n",
       "      <td>4.714277e-07</td>\n",
       "      <td>9.824827e-09</td>\n",
       "      <td>2.465243e-07</td>\n",
       "      <td>9.498513</td>\n",
       "      <td>0.000000e+00</td>\n",
       "    </tr>\n",
       "    <tr>\n",
       "      <th>186764</th>\n",
       "      <td>TGGGTAAGG</td>\n",
       "      <td>GGGTAAGGG</td>\n",
       "      <td>44</td>\n",
       "      <td>1</td>\n",
       "      <td>2.053744e-07</td>\n",
       "      <td>4.912413e-09</td>\n",
       "      <td>3w</td>\n",
       "      <td>TGGGTAAGGG</td>\n",
       "      <td>no match</td>\n",
       "      <td>41.807239</td>\n",
       "      <td>5.385681</td>\n",
       "      <td>2.053744e-07</td>\n",
       "      <td>4.912413e-09</td>\n",
       "      <td>1.077048e-07</td>\n",
       "      <td>6.240675</td>\n",
       "      <td>2.178432e-10</td>\n",
       "    </tr>\n",
       "    <tr>\n",
       "      <th>12794</th>\n",
       "      <td>AGATGTAAG</td>\n",
       "      <td>GATGTAAGT</td>\n",
       "      <td>412</td>\n",
       "      <td>10</td>\n",
       "      <td>1.923052e-06</td>\n",
       "      <td>4.912413e-08</td>\n",
       "      <td>3w</td>\n",
       "      <td>AGATGTAAGT</td>\n",
       "      <td>no match</td>\n",
       "      <td>39.146778</td>\n",
       "      <td>5.290822</td>\n",
       "      <td>1.923052e-06</td>\n",
       "      <td>4.912413e-08</td>\n",
       "      <td>1.010032e-06</td>\n",
       "      <td>19.050328</td>\n",
       "      <td>0.000000e+00</td>\n",
       "    </tr>\n",
       "    <tr>\n",
       "      <th>7161</th>\n",
       "      <td>ATGTAAGTT</td>\n",
       "      <td>TGTAAGTTC</td>\n",
       "      <td>709</td>\n",
       "      <td>18</td>\n",
       "      <td>3.309329e-06</td>\n",
       "      <td>8.842344e-08</td>\n",
       "      <td>3w</td>\n",
       "      <td>ATGTAAGTTC</td>\n",
       "      <td>no match</td>\n",
       "      <td>37.425924</td>\n",
       "      <td>5.225966</td>\n",
       "      <td>3.309329e-06</td>\n",
       "      <td>8.842344e-08</td>\n",
       "      <td>1.740031e-06</td>\n",
       "      <td>24.946916</td>\n",
       "      <td>0.000000e+00</td>\n",
       "    </tr>\n",
       "    <tr>\n",
       "      <th>...</th>\n",
       "      <td>...</td>\n",
       "      <td>...</td>\n",
       "      <td>...</td>\n",
       "      <td>...</td>\n",
       "      <td>...</td>\n",
       "      <td>...</td>\n",
       "      <td>...</td>\n",
       "      <td>...</td>\n",
       "      <td>...</td>\n",
       "      <td>...</td>\n",
       "      <td>...</td>\n",
       "      <td>...</td>\n",
       "      <td>...</td>\n",
       "      <td>...</td>\n",
       "      <td>...</td>\n",
       "      <td>...</td>\n",
       "    </tr>\n",
       "    <tr>\n",
       "      <th>66</th>\n",
       "      <td>ATGCGAAAA</td>\n",
       "      <td>TGCGAAAAC</td>\n",
       "      <td>236859</td>\n",
       "      <td>220671</td>\n",
       "      <td>1.105563e-03</td>\n",
       "      <td>1.084027e-03</td>\n",
       "      <td>3w</td>\n",
       "      <td>ATGCGAAAAC</td>\n",
       "      <td>no match</td>\n",
       "      <td>1.019867</td>\n",
       "      <td>0.028381</td>\n",
       "      <td>1.105563e-03</td>\n",
       "      <td>1.084027e-03</td>\n",
       "      <td>1.095070e-03</td>\n",
       "      <td>6.652746</td>\n",
       "      <td>1.438372e-11</td>\n",
       "    </tr>\n",
       "    <tr>\n",
       "      <th>157</th>\n",
       "      <td>GCGAGGGAC</td>\n",
       "      <td>CGAGGGACC</td>\n",
       "      <td>38707</td>\n",
       "      <td>36081</td>\n",
       "      <td>1.806688e-04</td>\n",
       "      <td>1.772448e-04</td>\n",
       "      <td>3w</td>\n",
       "      <td>GCGAGGGACC</td>\n",
       "      <td>no match</td>\n",
       "      <td>1.019318</td>\n",
       "      <td>0.027604</td>\n",
       "      <td>1.806688e-04</td>\n",
       "      <td>1.772448e-04</td>\n",
       "      <td>1.790006e-04</td>\n",
       "      <td>2.614974</td>\n",
       "      <td>4.461709e-03</td>\n",
       "    </tr>\n",
       "    <tr>\n",
       "      <th>105</th>\n",
       "      <td>TCTGCGAAA</td>\n",
       "      <td>CTGCGAAAA</td>\n",
       "      <td>71728</td>\n",
       "      <td>67194</td>\n",
       "      <td>3.347977e-04</td>\n",
       "      <td>3.300847e-04</td>\n",
       "      <td>3w</td>\n",
       "      <td>TCTGCGAAAA</td>\n",
       "      <td>no match</td>\n",
       "      <td>1.014278</td>\n",
       "      <td>0.020453</td>\n",
       "      <td>3.347977e-04</td>\n",
       "      <td>3.300847e-04</td>\n",
       "      <td>3.325014e-04</td>\n",
       "      <td>2.641114</td>\n",
       "      <td>4.131695e-03</td>\n",
       "    </tr>\n",
       "    <tr>\n",
       "      <th>126</th>\n",
       "      <td>GCGAGGGAA</td>\n",
       "      <td>CGAGGGAAA</td>\n",
       "      <td>54431</td>\n",
       "      <td>51119</td>\n",
       "      <td>2.540622e-04</td>\n",
       "      <td>2.511177e-04</td>\n",
       "      <td>3w</td>\n",
       "      <td>GCGAGGGAAA</td>\n",
       "      <td>no match</td>\n",
       "      <td>1.011726</td>\n",
       "      <td>0.016818</td>\n",
       "      <td>2.540622e-04</td>\n",
       "      <td>2.511177e-04</td>\n",
       "      <td>2.526275e-04</td>\n",
       "      <td>1.892982</td>\n",
       "      <td>2.918013e-02</td>\n",
       "    </tr>\n",
       "    <tr>\n",
       "      <th>83</th>\n",
       "      <td>TGGCGAAAA</td>\n",
       "      <td>GGCGAAAAC</td>\n",
       "      <td>132854</td>\n",
       "      <td>125083</td>\n",
       "      <td>6.201095e-04</td>\n",
       "      <td>6.144594e-04</td>\n",
       "      <td>3w</td>\n",
       "      <td>TGGCGAAAAC</td>\n",
       "      <td>no match</td>\n",
       "      <td>1.009195</td>\n",
       "      <td>0.013205</td>\n",
       "      <td>6.201095e-04</td>\n",
       "      <td>6.144594e-04</td>\n",
       "      <td>6.173566e-04</td>\n",
       "      <td>2.323993</td>\n",
       "      <td>1.006294e-02</td>\n",
       "    </tr>\n",
       "  </tbody>\n",
       "</table>\n",
       "<p>119097 rows × 16 columns</p>\n",
       "</div>"
      ],
      "text/plain": [
       "            node1      node2  exp_count  bg_count      exp_norm       bg_norm  \\\n",
       "1699    AGAGAGAGA  GAGAGAGAG       3248         1  1.516037e-05  4.912413e-09   \n",
       "65741   TGAGGTAAG  GAGGTAAGT        101         2  4.714277e-07  9.824827e-09   \n",
       "186764  TGGGTAAGG  GGGTAAGGG         44         1  2.053744e-07  4.912413e-09   \n",
       "12794   AGATGTAAG  GATGTAAGT        412        10  1.923052e-06  4.912413e-08   \n",
       "7161    ATGTAAGTT  TGTAAGTTC        709        18  3.309329e-06  8.842344e-08   \n",
       "...           ...        ...        ...       ...           ...           ...   \n",
       "66      ATGCGAAAA  TGCGAAAAC     236859    220671  1.105563e-03  1.084027e-03   \n",
       "157     GCGAGGGAC  CGAGGGACC      38707     36081  1.806688e-04  1.772448e-04   \n",
       "105     TCTGCGAAA  CTGCGAAAA      71728     67194  3.347977e-04  3.300847e-04   \n",
       "126     GCGAGGGAA  CGAGGGAAA      54431     51119  2.540622e-04  2.511177e-04   \n",
       "83      TGGCGAAAA  GGCGAAAAC     132854    125083  6.201095e-04  6.144594e-04   \n",
       "\n",
       "       exp   node_edge     label           fc     log2fc        f0_exp  \\\n",
       "1699    3w  AGAGAGAGAG  no match  3086.134344  11.591585  1.516037e-05   \n",
       "65741   3w  TGAGGTAAGT  no match    47.983308   5.584461  4.714277e-07   \n",
       "186764  3w  TGGGTAAGGG  no match    41.807239   5.385681  2.053744e-07   \n",
       "12794   3w  AGATGTAAGT  no match    39.146778   5.290822  1.923052e-06   \n",
       "7161    3w  ATGTAAGTTC  no match    37.425924   5.225966  3.309329e-06   \n",
       "...     ..         ...       ...          ...        ...           ...   \n",
       "66      3w  ATGCGAAAAC  no match     1.019867   0.028381  1.105563e-03   \n",
       "157     3w  GCGAGGGACC  no match     1.019318   0.027604  1.806688e-04   \n",
       "105     3w  TCTGCGAAAA  no match     1.014278   0.020453  3.347977e-04   \n",
       "126     3w  GCGAGGGAAA  no match     1.011726   0.016818  2.540622e-04   \n",
       "83      3w  TGGCGAAAAC  no match     1.009195   0.013205  6.201095e-04   \n",
       "\n",
       "               f0_bg            f1  apex_zscore     apex_pval  \n",
       "1699    4.912413e-09  7.776285e-06    55.526655  0.000000e+00  \n",
       "65741   9.824827e-09  2.465243e-07     9.498513  0.000000e+00  \n",
       "186764  4.912413e-09  1.077048e-07     6.240675  2.178432e-10  \n",
       "12794   4.912413e-08  1.010032e-06    19.050328  0.000000e+00  \n",
       "7161    8.842344e-08  1.740031e-06    24.946916  0.000000e+00  \n",
       "...              ...           ...          ...           ...  \n",
       "66      1.084027e-03  1.095070e-03     6.652746  1.438372e-11  \n",
       "157     1.772448e-04  1.790006e-04     2.614974  4.461709e-03  \n",
       "105     3.300847e-04  3.325014e-04     2.641114  4.131695e-03  \n",
       "126     2.511177e-04  2.526275e-04     1.892982  2.918013e-02  \n",
       "83      6.144594e-04  6.173566e-04     2.323993  1.006294e-02  \n",
       "\n",
       "[119097 rows x 16 columns]"
      ]
     },
     "execution_count": 62,
     "metadata": {},
     "output_type": "execute_result"
    }
   ],
   "source": [
    "df[df.apex_pval < 0.05]"
   ]
  },
  {
   "cell_type": "code",
   "execution_count": 68,
   "id": "7072f264-006a-45f4-ae36-eb7478bdcaef",
   "metadata": {},
   "outputs": [
    {
     "data": {
      "text/html": [
       "<div>\n",
       "<style scoped>\n",
       "    .dataframe tbody tr th:only-of-type {\n",
       "        vertical-align: middle;\n",
       "    }\n",
       "\n",
       "    .dataframe tbody tr th {\n",
       "        vertical-align: top;\n",
       "    }\n",
       "\n",
       "    .dataframe thead th {\n",
       "        text-align: right;\n",
       "    }\n",
       "</style>\n",
       "<table border=\"1\" class=\"dataframe\">\n",
       "  <thead>\n",
       "    <tr style=\"text-align: right;\">\n",
       "      <th></th>\n",
       "      <th>node1</th>\n",
       "      <th>node2</th>\n",
       "      <th>exp_count</th>\n",
       "      <th>bg_count</th>\n",
       "      <th>exp_norm</th>\n",
       "      <th>bg_norm</th>\n",
       "      <th>exp</th>\n",
       "      <th>node_edge</th>\n",
       "      <th>label</th>\n",
       "      <th>fc</th>\n",
       "      <th>log2fc</th>\n",
       "      <th>f0_exp</th>\n",
       "      <th>f0_bg</th>\n",
       "      <th>f1</th>\n",
       "      <th>apex_zscore</th>\n",
       "      <th>apex_pval</th>\n",
       "      <th>apex_pval_bonferroni</th>\n",
       "      <th>apex_pval_bh</th>\n",
       "    </tr>\n",
       "  </thead>\n",
       "  <tbody>\n",
       "    <tr>\n",
       "      <th>20426</th>\n",
       "      <td>ACTTGTTTT</td>\n",
       "      <td>CTTGTTTTT</td>\n",
       "      <td>271</td>\n",
       "      <td>70</td>\n",
       "      <td>1.264920e-06</td>\n",
       "      <td>3.438689e-07</td>\n",
       "      <td>3w</td>\n",
       "      <td>ACTTGTTTTT</td>\n",
       "      <td>oligo match</td>\n",
       "      <td>3.678494</td>\n",
       "      <td>1.879115</td>\n",
       "      <td>1.264920e-06</td>\n",
       "      <td>3.438689e-07</td>\n",
       "      <td>8.161629e-07</td>\n",
       "      <td>10.416272</td>\n",
       "      <td>0.000000e+00</td>\n",
       "      <td>0.000000e+00</td>\n",
       "      <td>0.000000e+00</td>\n",
       "    </tr>\n",
       "    <tr>\n",
       "      <th>13793</th>\n",
       "      <td>CTTGTTTTT</td>\n",
       "      <td>TTGTTTTTT</td>\n",
       "      <td>384</td>\n",
       "      <td>90</td>\n",
       "      <td>1.792359e-06</td>\n",
       "      <td>4.421172e-07</td>\n",
       "      <td>3w</td>\n",
       "      <td>CTTGTTTTTT</td>\n",
       "      <td>oligo match</td>\n",
       "      <td>4.054035</td>\n",
       "      <td>2.019359</td>\n",
       "      <td>1.792359e-06</td>\n",
       "      <td>4.421172e-07</td>\n",
       "      <td>1.134490e-06</td>\n",
       "      <td>12.951743</td>\n",
       "      <td>0.000000e+00</td>\n",
       "      <td>0.000000e+00</td>\n",
       "      <td>0.000000e+00</td>\n",
       "    </tr>\n",
       "    <tr>\n",
       "      <th>19946</th>\n",
       "      <td>TTTGTTGTT</td>\n",
       "      <td>TTGTTGTTT</td>\n",
       "      <td>277</td>\n",
       "      <td>58</td>\n",
       "      <td>1.292925e-06</td>\n",
       "      <td>2.849200e-07</td>\n",
       "      <td>3w</td>\n",
       "      <td>TTTGTTGTTT</td>\n",
       "      <td>oligo match</td>\n",
       "      <td>4.537855</td>\n",
       "      <td>2.182010</td>\n",
       "      <td>1.292925e-06</td>\n",
       "      <td>2.849200e-07</td>\n",
       "      <td>8.018023e-07</td>\n",
       "      <td>11.501285</td>\n",
       "      <td>0.000000e+00</td>\n",
       "      <td>0.000000e+00</td>\n",
       "      <td>0.000000e+00</td>\n",
       "    </tr>\n",
       "    <tr>\n",
       "      <th>22575</th>\n",
       "      <td>TACTTGTTT</td>\n",
       "      <td>ACTTGTTTT</td>\n",
       "      <td>249</td>\n",
       "      <td>77</td>\n",
       "      <td>1.162233e-06</td>\n",
       "      <td>3.782558e-07</td>\n",
       "      <td>3w</td>\n",
       "      <td>TACTTGTTTT</td>\n",
       "      <td>oligo match</td>\n",
       "      <td>3.072610</td>\n",
       "      <td>1.619465</td>\n",
       "      <td>1.162233e-06</td>\n",
       "      <td>3.782558e-07</td>\n",
       "      <td>7.802613e-07</td>\n",
       "      <td>9.067765</td>\n",
       "      <td>0.000000e+00</td>\n",
       "      <td>0.000000e+00</td>\n",
       "      <td>0.000000e+00</td>\n",
       "    </tr>\n",
       "    <tr>\n",
       "      <th>5805</th>\n",
       "      <td>TTGTTTTTT</td>\n",
       "      <td>TGTTTTTTT</td>\n",
       "      <td>877</td>\n",
       "      <td>136</td>\n",
       "      <td>4.093486e-06</td>\n",
       "      <td>6.680882e-07</td>\n",
       "      <td>3w</td>\n",
       "      <td>TTGTTTTTTT</td>\n",
       "      <td>oligo match</td>\n",
       "      <td>6.127164</td>\n",
       "      <td>2.615219</td>\n",
       "      <td>4.093486e-06</td>\n",
       "      <td>6.680882e-07</td>\n",
       "      <td>2.424554e-06</td>\n",
       "      <td>22.475663</td>\n",
       "      <td>0.000000e+00</td>\n",
       "      <td>0.000000e+00</td>\n",
       "      <td>0.000000e+00</td>\n",
       "    </tr>\n",
       "    <tr>\n",
       "      <th>5144</th>\n",
       "      <td>TGTTTTTTT</td>\n",
       "      <td>GTTTTTTTT</td>\n",
       "      <td>991</td>\n",
       "      <td>152</td>\n",
       "      <td>4.625593e-06</td>\n",
       "      <td>7.466868e-07</td>\n",
       "      <td>3w</td>\n",
       "      <td>TGTTTTTTTT</td>\n",
       "      <td>oligo match</td>\n",
       "      <td>6.194823</td>\n",
       "      <td>2.631063</td>\n",
       "      <td>4.625593e-06</td>\n",
       "      <td>7.466868e-07</td>\n",
       "      <td>2.735701e-06</td>\n",
       "      <td>23.960307</td>\n",
       "      <td>0.000000e+00</td>\n",
       "      <td>0.000000e+00</td>\n",
       "      <td>0.000000e+00</td>\n",
       "    </tr>\n",
       "    <tr>\n",
       "      <th>2610</th>\n",
       "      <td>GTTTTTTTT</td>\n",
       "      <td>TTTTTTTTT</td>\n",
       "      <td>2004</td>\n",
       "      <td>260</td>\n",
       "      <td>9.353872e-06</td>\n",
       "      <td>1.277227e-06</td>\n",
       "      <td>3w</td>\n",
       "      <td>GTTTTTTTTT</td>\n",
       "      <td>oligo match</td>\n",
       "      <td>7.323576</td>\n",
       "      <td>2.872548</td>\n",
       "      <td>9.353872e-06</td>\n",
       "      <td>1.277227e-06</td>\n",
       "      <td>5.418747e-06</td>\n",
       "      <td>35.448645</td>\n",
       "      <td>0.000000e+00</td>\n",
       "      <td>0.000000e+00</td>\n",
       "      <td>0.000000e+00</td>\n",
       "    </tr>\n",
       "    <tr>\n",
       "      <th>40859</th>\n",
       "      <td>TAGTTGATT</td>\n",
       "      <td>AGTTGATTT</td>\n",
       "      <td>150</td>\n",
       "      <td>31</td>\n",
       "      <td>7.001401e-07</td>\n",
       "      <td>1.522848e-07</td>\n",
       "      <td>3w</td>\n",
       "      <td>TAGTTGATTT</td>\n",
       "      <td>oligo match</td>\n",
       "      <td>4.597570</td>\n",
       "      <td>2.200872</td>\n",
       "      <td>7.001401e-07</td>\n",
       "      <td>1.522848e-07</td>\n",
       "      <td>4.332126e-07</td>\n",
       "      <td>8.504179</td>\n",
       "      <td>0.000000e+00</td>\n",
       "      <td>0.000000e+00</td>\n",
       "      <td>0.000000e+00</td>\n",
       "    </tr>\n",
       "    <tr>\n",
       "      <th>35149</th>\n",
       "      <td>ATTTGTTGT</td>\n",
       "      <td>TTTGTTGTT</td>\n",
       "      <td>171</td>\n",
       "      <td>45</td>\n",
       "      <td>7.981598e-07</td>\n",
       "      <td>2.210586e-07</td>\n",
       "      <td>3w</td>\n",
       "      <td>ATTTGTTGTT</td>\n",
       "      <td>oligo match</td>\n",
       "      <td>3.610625</td>\n",
       "      <td>1.852249</td>\n",
       "      <td>7.981598e-07</td>\n",
       "      <td>2.210586e-07</td>\n",
       "      <td>5.169830e-07</td>\n",
       "      <td>8.200321</td>\n",
       "      <td>1.110223e-16</td>\n",
       "      <td>1.164056e-10</td>\n",
       "      <td>1.704078e-14</td>\n",
       "    </tr>\n",
       "    <tr>\n",
       "      <th>38725</th>\n",
       "      <td>TTGATTTGT</td>\n",
       "      <td>TGATTTGTT</td>\n",
       "      <td>157</td>\n",
       "      <td>46</td>\n",
       "      <td>7.328133e-07</td>\n",
       "      <td>2.259710e-07</td>\n",
       "      <td>3w</td>\n",
       "      <td>TTGATTTGTT</td>\n",
       "      <td>oligo match</td>\n",
       "      <td>3.242953</td>\n",
       "      <td>1.697308</td>\n",
       "      <td>7.328133e-07</td>\n",
       "      <td>2.259710e-07</td>\n",
       "      <td>4.858682e-07</td>\n",
       "      <td>7.429005</td>\n",
       "      <td>5.473400e-14</td>\n",
       "      <td>5.738794e-08</td>\n",
       "      <td>6.708117e-12</td>\n",
       "    </tr>\n",
       "    <tr>\n",
       "      <th>54868</th>\n",
       "      <td>GTAGTTGAT</td>\n",
       "      <td>TAGTTGATT</td>\n",
       "      <td>117</td>\n",
       "      <td>29</td>\n",
       "      <td>5.461093e-07</td>\n",
       "      <td>1.424600e-07</td>\n",
       "      <td>3w</td>\n",
       "      <td>GTAGTTGATT</td>\n",
       "      <td>oligo match</td>\n",
       "      <td>3.833422</td>\n",
       "      <td>1.938633</td>\n",
       "      <td>5.461093e-07</td>\n",
       "      <td>1.424600e-07</td>\n",
       "      <td>3.494422e-07</td>\n",
       "      <td>6.976435</td>\n",
       "      <td>1.513789e-12</td>\n",
       "      <td>1.587190e-06</td>\n",
       "      <td>1.620905e-10</td>\n",
       "    </tr>\n",
       "    <tr>\n",
       "      <th>40785</th>\n",
       "      <td>GTTGATTTG</td>\n",
       "      <td>TTGATTTGT</td>\n",
       "      <td>150</td>\n",
       "      <td>49</td>\n",
       "      <td>7.001401e-07</td>\n",
       "      <td>2.407083e-07</td>\n",
       "      <td>3w</td>\n",
       "      <td>GTTGATTTGT</td>\n",
       "      <td>oligo match</td>\n",
       "      <td>2.908667</td>\n",
       "      <td>1.540358</td>\n",
       "      <td>7.001401e-07</td>\n",
       "      <td>2.407083e-07</td>\n",
       "      <td>4.762945e-07</td>\n",
       "      <td>6.801432</td>\n",
       "      <td>5.179190e-12</td>\n",
       "      <td>5.430319e-06</td>\n",
       "      <td>5.253283e-10</td>\n",
       "    </tr>\n",
       "    <tr>\n",
       "      <th>33145</th>\n",
       "      <td>TTTACTTGT</td>\n",
       "      <td>TTACTTGTT</td>\n",
       "      <td>179</td>\n",
       "      <td>67</td>\n",
       "      <td>8.355006e-07</td>\n",
       "      <td>3.291317e-07</td>\n",
       "      <td>3w</td>\n",
       "      <td>TTTACTTGTT</td>\n",
       "      <td>oligo match</td>\n",
       "      <td>2.538499</td>\n",
       "      <td>1.343976</td>\n",
       "      <td>8.355006e-07</td>\n",
       "      <td>3.291317e-07</td>\n",
       "      <td>5.887861e-07</td>\n",
       "      <td>6.742256</td>\n",
       "      <td>7.797318e-12</td>\n",
       "      <td>8.175395e-06</td>\n",
       "      <td>7.745518e-10</td>\n",
       "    </tr>\n",
       "    <tr>\n",
       "      <th>40265</th>\n",
       "      <td>TTGTTTACT</td>\n",
       "      <td>TGTTTACTT</td>\n",
       "      <td>152</td>\n",
       "      <td>53</td>\n",
       "      <td>7.094753e-07</td>\n",
       "      <td>2.603579e-07</td>\n",
       "      <td>3w</td>\n",
       "      <td>TTGTTTACTT</td>\n",
       "      <td>oligo match</td>\n",
       "      <td>2.725000</td>\n",
       "      <td>1.446256</td>\n",
       "      <td>7.094753e-07</td>\n",
       "      <td>2.603579e-07</td>\n",
       "      <td>4.906551e-07</td>\n",
       "      <td>6.550716</td>\n",
       "      <td>2.863099e-11</td>\n",
       "      <td>3.001925e-05</td>\n",
       "      <td>2.676466e-09</td>\n",
       "    </tr>\n",
       "    <tr>\n",
       "      <th>38738</th>\n",
       "      <td>TTGTTGTTT</td>\n",
       "      <td>TGTTGTTTA</td>\n",
       "      <td>157</td>\n",
       "      <td>56</td>\n",
       "      <td>7.328133e-07</td>\n",
       "      <td>2.750952e-07</td>\n",
       "      <td>3w</td>\n",
       "      <td>TTGTTGTTTA</td>\n",
       "      <td>oligo match</td>\n",
       "      <td>2.663854</td>\n",
       "      <td>1.413515</td>\n",
       "      <td>7.328133e-07</td>\n",
       "      <td>2.750952e-07</td>\n",
       "      <td>5.098026e-07</td>\n",
       "      <td>6.549591</td>\n",
       "      <td>2.884748e-11</td>\n",
       "      <td>3.024624e-05</td>\n",
       "      <td>2.695983e-09</td>\n",
       "    </tr>\n",
       "    <tr>\n",
       "      <th>39847</th>\n",
       "      <td>TGTTTACTT</td>\n",
       "      <td>GTTTACTTG</td>\n",
       "      <td>153</td>\n",
       "      <td>55</td>\n",
       "      <td>7.141429e-07</td>\n",
       "      <td>2.701827e-07</td>\n",
       "      <td>3w</td>\n",
       "      <td>TGTTTACTTG</td>\n",
       "      <td>oligo match</td>\n",
       "      <td>2.643185</td>\n",
       "      <td>1.402277</td>\n",
       "      <td>7.141429e-07</td>\n",
       "      <td>2.701827e-07</td>\n",
       "      <td>4.978354e-07</td>\n",
       "      <td>6.428626</td>\n",
       "      <td>6.438117e-11</td>\n",
       "      <td>6.750288e-05</td>\n",
       "      <td>5.791256e-09</td>\n",
       "    </tr>\n",
       "    <tr>\n",
       "      <th>53610</th>\n",
       "      <td>TGATTTGTT</td>\n",
       "      <td>GATTTGTTG</td>\n",
       "      <td>120</td>\n",
       "      <td>40</td>\n",
       "      <td>5.601121e-07</td>\n",
       "      <td>1.964965e-07</td>\n",
       "      <td>3w</td>\n",
       "      <td>TGATTTGTTG</td>\n",
       "      <td>oligo match</td>\n",
       "      <td>2.850494</td>\n",
       "      <td>1.511212</td>\n",
       "      <td>5.601121e-07</td>\n",
       "      <td>1.964965e-07</td>\n",
       "      <td>3.829503e-07</td>\n",
       "      <td>6.003275</td>\n",
       "      <td>9.668821e-10</td>\n",
       "      <td>1.013764e-03</td>\n",
       "      <td>7.578980e-08</td>\n",
       "    </tr>\n",
       "    <tr>\n",
       "      <th>37382</th>\n",
       "      <td>TTACTTGTT</td>\n",
       "      <td>TACTTGTTT</td>\n",
       "      <td>162</td>\n",
       "      <td>67</td>\n",
       "      <td>7.561514e-07</td>\n",
       "      <td>3.291317e-07</td>\n",
       "      <td>3w</td>\n",
       "      <td>TTACTTGTTT</td>\n",
       "      <td>oligo match</td>\n",
       "      <td>2.297413</td>\n",
       "      <td>1.200010</td>\n",
       "      <td>7.561514e-07</td>\n",
       "      <td>3.291317e-07</td>\n",
       "      <td>5.480977e-07</td>\n",
       "      <td>5.892993</td>\n",
       "      <td>1.896313e-09</td>\n",
       "      <td>1.988261e-03</td>\n",
       "      <td>1.431949e-07</td>\n",
       "    </tr>\n",
       "    <tr>\n",
       "      <th>53145</th>\n",
       "      <td>GATTTGTTG</td>\n",
       "      <td>ATTTGTTGT</td>\n",
       "      <td>120</td>\n",
       "      <td>54</td>\n",
       "      <td>5.601121e-07</td>\n",
       "      <td>2.652703e-07</td>\n",
       "      <td>3w</td>\n",
       "      <td>GATTTGTTGT</td>\n",
       "      <td>oligo match</td>\n",
       "      <td>2.111477</td>\n",
       "      <td>1.078252</td>\n",
       "      <td>5.601121e-07</td>\n",
       "      <td>2.652703e-07</td>\n",
       "      <td>4.164585e-07</td>\n",
       "      <td>4.667885</td>\n",
       "      <td>1.521578e-06</td>\n",
       "      <td>1.000000e+00</td>\n",
       "      <td>7.303406e-05</td>\n",
       "    </tr>\n",
       "    <tr>\n",
       "      <th>74147</th>\n",
       "      <td>AGTTGATTT</td>\n",
       "      <td>GTTGATTTG</td>\n",
       "      <td>92</td>\n",
       "      <td>36</td>\n",
       "      <td>4.294193e-07</td>\n",
       "      <td>1.768469e-07</td>\n",
       "      <td>3w</td>\n",
       "      <td>AGTTGATTTG</td>\n",
       "      <td>oligo match</td>\n",
       "      <td>2.428198</td>\n",
       "      <td>1.279886</td>\n",
       "      <td>4.294193e-07</td>\n",
       "      <td>1.768469e-07</td>\n",
       "      <td>3.063603e-07</td>\n",
       "      <td>4.662155</td>\n",
       "      <td>1.564581e-06</td>\n",
       "      <td>1.000000e+00</td>\n",
       "      <td>7.489244e-05</td>\n",
       "    </tr>\n",
       "    <tr>\n",
       "      <th>51595</th>\n",
       "      <td>GTTTACTTG</td>\n",
       "      <td>TTTACTTGT</td>\n",
       "      <td>123</td>\n",
       "      <td>57</td>\n",
       "      <td>5.741149e-07</td>\n",
       "      <td>2.800076e-07</td>\n",
       "      <td>3w</td>\n",
       "      <td>GTTTACTTGT</td>\n",
       "      <td>oligo match</td>\n",
       "      <td>2.050355</td>\n",
       "      <td>1.035874</td>\n",
       "      <td>5.741149e-07</td>\n",
       "      <td>2.800076e-07</td>\n",
       "      <td>4.308191e-07</td>\n",
       "      <td>4.577996</td>\n",
       "      <td>2.347259e-06</td>\n",
       "      <td>1.000000e+00</td>\n",
       "      <td>1.088574e-04</td>\n",
       "    </tr>\n",
       "    <tr>\n",
       "      <th>146234</th>\n",
       "      <td>TGTAGTTGA</td>\n",
       "      <td>GTAGTTGAT</td>\n",
       "      <td>53</td>\n",
       "      <td>18</td>\n",
       "      <td>2.473829e-07</td>\n",
       "      <td>8.842344e-08</td>\n",
       "      <td>3w</td>\n",
       "      <td>TGTAGTTGAT</td>\n",
       "      <td>oligo match</td>\n",
       "      <td>2.797707</td>\n",
       "      <td>1.484245</td>\n",
       "      <td>2.473829e-07</td>\n",
       "      <td>8.842344e-08</td>\n",
       "      <td>1.699342e-07</td>\n",
       "      <td>3.939697</td>\n",
       "      <td>4.079235e-05</td>\n",
       "      <td>1.000000e+00</td>\n",
       "      <td>1.439689e-03</td>\n",
       "    </tr>\n",
       "    <tr>\n",
       "      <th>132207</th>\n",
       "      <td>TCTTGAATG</td>\n",
       "      <td>CTTGAATGT</td>\n",
       "      <td>58</td>\n",
       "      <td>21</td>\n",
       "      <td>2.707209e-07</td>\n",
       "      <td>1.031607e-07</td>\n",
       "      <td>3w</td>\n",
       "      <td>TCTTGAATGT</td>\n",
       "      <td>oligo match</td>\n",
       "      <td>2.624264</td>\n",
       "      <td>1.391913</td>\n",
       "      <td>2.707209e-07</td>\n",
       "      <td>1.031607e-07</td>\n",
       "      <td>1.890817e-07</td>\n",
       "      <td>3.936978</td>\n",
       "      <td>4.125710e-05</td>\n",
       "      <td>1.000000e+00</td>\n",
       "      <td>1.454867e-03</td>\n",
       "    </tr>\n",
       "    <tr>\n",
       "      <th>83726</th>\n",
       "      <td>TGTTGTTTA</td>\n",
       "      <td>GTTGTTTAC</td>\n",
       "      <td>83</td>\n",
       "      <td>40</td>\n",
       "      <td>3.874109e-07</td>\n",
       "      <td>1.964965e-07</td>\n",
       "      <td>3w</td>\n",
       "      <td>TGTTGTTTAC</td>\n",
       "      <td>oligo match</td>\n",
       "      <td>1.971591</td>\n",
       "      <td>0.979361</td>\n",
       "      <td>3.874109e-07</td>\n",
       "      <td>1.964965e-07</td>\n",
       "      <td>2.943931e-07</td>\n",
       "      <td>3.594941</td>\n",
       "      <td>1.622327e-04</td>\n",
       "      <td>1.000000e+00</td>\n",
       "      <td>4.877531e-03</td>\n",
       "    </tr>\n",
       "    <tr>\n",
       "      <th>64085</th>\n",
       "      <td>GTTGTTTAC</td>\n",
       "      <td>TTGTTTACT</td>\n",
       "      <td>103</td>\n",
       "      <td>61</td>\n",
       "      <td>4.807629e-07</td>\n",
       "      <td>2.996572e-07</td>\n",
       "      <td>3w</td>\n",
       "      <td>GTTGTTTACT</td>\n",
       "      <td>oligo match</td>\n",
       "      <td>1.604376</td>\n",
       "      <td>0.682012</td>\n",
       "      <td>4.807629e-07</td>\n",
       "      <td>2.996572e-07</td>\n",
       "      <td>3.925241e-07</td>\n",
       "      <td>2.953357</td>\n",
       "      <td>1.571692e-03</td>\n",
       "      <td>1.000000e+00</td>\n",
       "      <td>3.335156e-02</td>\n",
       "    </tr>\n",
       "    <tr>\n",
       "      <th>129658</th>\n",
       "      <td>TTGAATGTA</td>\n",
       "      <td>TGAATGTAG</td>\n",
       "      <td>59</td>\n",
       "      <td>31</td>\n",
       "      <td>2.753885e-07</td>\n",
       "      <td>1.522848e-07</td>\n",
       "      <td>3w</td>\n",
       "      <td>TTGAATGTAG</td>\n",
       "      <td>oligo match</td>\n",
       "      <td>1.808378</td>\n",
       "      <td>0.854696</td>\n",
       "      <td>2.753885e-07</td>\n",
       "      <td>1.522848e-07</td>\n",
       "      <td>2.154096e-07</td>\n",
       "      <td>2.709913</td>\n",
       "      <td>3.365042e-03</td>\n",
       "      <td>1.000000e+00</td>\n",
       "      <td>6.158395e-02</td>\n",
       "    </tr>\n",
       "    <tr>\n",
       "      <th>163997</th>\n",
       "      <td>GAATGTAGT</td>\n",
       "      <td>AATGTAGTT</td>\n",
       "      <td>49</td>\n",
       "      <td>24</td>\n",
       "      <td>2.287124e-07</td>\n",
       "      <td>1.178979e-07</td>\n",
       "      <td>3w</td>\n",
       "      <td>GAATGTAGTT</td>\n",
       "      <td>oligo match</td>\n",
       "      <td>1.939919</td>\n",
       "      <td>0.955997</td>\n",
       "      <td>2.287124e-07</td>\n",
       "      <td>1.178979e-07</td>\n",
       "      <td>1.747211e-07</td>\n",
       "      <td>2.708576</td>\n",
       "      <td>3.378635e-03</td>\n",
       "      <td>1.000000e+00</td>\n",
       "      <td>6.176264e-02</td>\n",
       "    </tr>\n",
       "    <tr>\n",
       "      <th>302843</th>\n",
       "      <td>TGAATGTAG</td>\n",
       "      <td>GAATGTAGT</td>\n",
       "      <td>30</td>\n",
       "      <td>15</td>\n",
       "      <td>1.400280e-07</td>\n",
       "      <td>7.368620e-08</td>\n",
       "      <td>3w</td>\n",
       "      <td>TGAATGTAGT</td>\n",
       "      <td>oligo match</td>\n",
       "      <td>1.900329</td>\n",
       "      <td>0.926249</td>\n",
       "      <td>1.400280e-07</td>\n",
       "      <td>7.368620e-08</td>\n",
       "      <td>1.077048e-07</td>\n",
       "      <td>2.065318</td>\n",
       "      <td>1.944647e-02</td>\n",
       "      <td>1.000000e+00</td>\n",
       "      <td>2.321593e-01</td>\n",
       "    </tr>\n",
       "    <tr>\n",
       "      <th>188247</th>\n",
       "      <td>AATGTAGTT</td>\n",
       "      <td>ATGTAGTTG</td>\n",
       "      <td>44</td>\n",
       "      <td>29</td>\n",
       "      <td>2.053744e-07</td>\n",
       "      <td>1.424600e-07</td>\n",
       "      <td>3w</td>\n",
       "      <td>AATGTAGTTG</td>\n",
       "      <td>oligo match</td>\n",
       "      <td>1.441629</td>\n",
       "      <td>0.527700</td>\n",
       "      <td>2.053744e-07</td>\n",
       "      <td>1.424600e-07</td>\n",
       "      <td>1.747211e-07</td>\n",
       "      <td>1.537782</td>\n",
       "      <td>6.205099e-02</td>\n",
       "      <td>1.000000e+00</td>\n",
       "      <td>5.006674e-01</td>\n",
       "    </tr>\n",
       "    <tr>\n",
       "      <th>409392</th>\n",
       "      <td>ATGTAGTTG</td>\n",
       "      <td>TGTAGTTGA</td>\n",
       "      <td>22</td>\n",
       "      <td>13</td>\n",
       "      <td>1.026872e-07</td>\n",
       "      <td>6.386137e-08</td>\n",
       "      <td>3w</td>\n",
       "      <td>ATGTAGTTGA</td>\n",
       "      <td>oligo match</td>\n",
       "      <td>1.607971</td>\n",
       "      <td>0.685241</td>\n",
       "      <td>1.026872e-07</td>\n",
       "      <td>6.386137e-08</td>\n",
       "      <td>8.377039e-08</td>\n",
       "      <td>1.370543</td>\n",
       "      <td>8.525876e-02</td>\n",
       "      <td>1.000000e+00</td>\n",
       "      <td>6.039589e-01</td>\n",
       "    </tr>\n",
       "    <tr>\n",
       "      <th>283854</th>\n",
       "      <td>CTTGAATGT</td>\n",
       "      <td>TTGAATGTA</td>\n",
       "      <td>31</td>\n",
       "      <td>20</td>\n",
       "      <td>1.446956e-07</td>\n",
       "      <td>9.824827e-08</td>\n",
       "      <td>3w</td>\n",
       "      <td>CTTGAATGTA</td>\n",
       "      <td>oligo match</td>\n",
       "      <td>1.472755</td>\n",
       "      <td>0.558517</td>\n",
       "      <td>1.446956e-07</td>\n",
       "      <td>9.824827e-08</td>\n",
       "      <td>1.220654e-07</td>\n",
       "      <td>1.358256</td>\n",
       "      <td>8.719122e-02</td>\n",
       "      <td>1.000000e+00</td>\n",
       "      <td>6.142632e-01</td>\n",
       "    </tr>\n",
       "  </tbody>\n",
       "</table>\n",
       "</div>"
      ],
      "text/plain": [
       "            node1      node2  exp_count  bg_count      exp_norm       bg_norm  \\\n",
       "20426   ACTTGTTTT  CTTGTTTTT        271        70  1.264920e-06  3.438689e-07   \n",
       "13793   CTTGTTTTT  TTGTTTTTT        384        90  1.792359e-06  4.421172e-07   \n",
       "19946   TTTGTTGTT  TTGTTGTTT        277        58  1.292925e-06  2.849200e-07   \n",
       "22575   TACTTGTTT  ACTTGTTTT        249        77  1.162233e-06  3.782558e-07   \n",
       "5805    TTGTTTTTT  TGTTTTTTT        877       136  4.093486e-06  6.680882e-07   \n",
       "5144    TGTTTTTTT  GTTTTTTTT        991       152  4.625593e-06  7.466868e-07   \n",
       "2610    GTTTTTTTT  TTTTTTTTT       2004       260  9.353872e-06  1.277227e-06   \n",
       "40859   TAGTTGATT  AGTTGATTT        150        31  7.001401e-07  1.522848e-07   \n",
       "35149   ATTTGTTGT  TTTGTTGTT        171        45  7.981598e-07  2.210586e-07   \n",
       "38725   TTGATTTGT  TGATTTGTT        157        46  7.328133e-07  2.259710e-07   \n",
       "54868   GTAGTTGAT  TAGTTGATT        117        29  5.461093e-07  1.424600e-07   \n",
       "40785   GTTGATTTG  TTGATTTGT        150        49  7.001401e-07  2.407083e-07   \n",
       "33145   TTTACTTGT  TTACTTGTT        179        67  8.355006e-07  3.291317e-07   \n",
       "40265   TTGTTTACT  TGTTTACTT        152        53  7.094753e-07  2.603579e-07   \n",
       "38738   TTGTTGTTT  TGTTGTTTA        157        56  7.328133e-07  2.750952e-07   \n",
       "39847   TGTTTACTT  GTTTACTTG        153        55  7.141429e-07  2.701827e-07   \n",
       "53610   TGATTTGTT  GATTTGTTG        120        40  5.601121e-07  1.964965e-07   \n",
       "37382   TTACTTGTT  TACTTGTTT        162        67  7.561514e-07  3.291317e-07   \n",
       "53145   GATTTGTTG  ATTTGTTGT        120        54  5.601121e-07  2.652703e-07   \n",
       "74147   AGTTGATTT  GTTGATTTG         92        36  4.294193e-07  1.768469e-07   \n",
       "51595   GTTTACTTG  TTTACTTGT        123        57  5.741149e-07  2.800076e-07   \n",
       "146234  TGTAGTTGA  GTAGTTGAT         53        18  2.473829e-07  8.842344e-08   \n",
       "132207  TCTTGAATG  CTTGAATGT         58        21  2.707209e-07  1.031607e-07   \n",
       "83726   TGTTGTTTA  GTTGTTTAC         83        40  3.874109e-07  1.964965e-07   \n",
       "64085   GTTGTTTAC  TTGTTTACT        103        61  4.807629e-07  2.996572e-07   \n",
       "129658  TTGAATGTA  TGAATGTAG         59        31  2.753885e-07  1.522848e-07   \n",
       "163997  GAATGTAGT  AATGTAGTT         49        24  2.287124e-07  1.178979e-07   \n",
       "302843  TGAATGTAG  GAATGTAGT         30        15  1.400280e-07  7.368620e-08   \n",
       "188247  AATGTAGTT  ATGTAGTTG         44        29  2.053744e-07  1.424600e-07   \n",
       "409392  ATGTAGTTG  TGTAGTTGA         22        13  1.026872e-07  6.386137e-08   \n",
       "283854  CTTGAATGT  TTGAATGTA         31        20  1.446956e-07  9.824827e-08   \n",
       "\n",
       "       exp   node_edge        label        fc    log2fc        f0_exp  \\\n",
       "20426   3w  ACTTGTTTTT  oligo match  3.678494  1.879115  1.264920e-06   \n",
       "13793   3w  CTTGTTTTTT  oligo match  4.054035  2.019359  1.792359e-06   \n",
       "19946   3w  TTTGTTGTTT  oligo match  4.537855  2.182010  1.292925e-06   \n",
       "22575   3w  TACTTGTTTT  oligo match  3.072610  1.619465  1.162233e-06   \n",
       "5805    3w  TTGTTTTTTT  oligo match  6.127164  2.615219  4.093486e-06   \n",
       "5144    3w  TGTTTTTTTT  oligo match  6.194823  2.631063  4.625593e-06   \n",
       "2610    3w  GTTTTTTTTT  oligo match  7.323576  2.872548  9.353872e-06   \n",
       "40859   3w  TAGTTGATTT  oligo match  4.597570  2.200872  7.001401e-07   \n",
       "35149   3w  ATTTGTTGTT  oligo match  3.610625  1.852249  7.981598e-07   \n",
       "38725   3w  TTGATTTGTT  oligo match  3.242953  1.697308  7.328133e-07   \n",
       "54868   3w  GTAGTTGATT  oligo match  3.833422  1.938633  5.461093e-07   \n",
       "40785   3w  GTTGATTTGT  oligo match  2.908667  1.540358  7.001401e-07   \n",
       "33145   3w  TTTACTTGTT  oligo match  2.538499  1.343976  8.355006e-07   \n",
       "40265   3w  TTGTTTACTT  oligo match  2.725000  1.446256  7.094753e-07   \n",
       "38738   3w  TTGTTGTTTA  oligo match  2.663854  1.413515  7.328133e-07   \n",
       "39847   3w  TGTTTACTTG  oligo match  2.643185  1.402277  7.141429e-07   \n",
       "53610   3w  TGATTTGTTG  oligo match  2.850494  1.511212  5.601121e-07   \n",
       "37382   3w  TTACTTGTTT  oligo match  2.297413  1.200010  7.561514e-07   \n",
       "53145   3w  GATTTGTTGT  oligo match  2.111477  1.078252  5.601121e-07   \n",
       "74147   3w  AGTTGATTTG  oligo match  2.428198  1.279886  4.294193e-07   \n",
       "51595   3w  GTTTACTTGT  oligo match  2.050355  1.035874  5.741149e-07   \n",
       "146234  3w  TGTAGTTGAT  oligo match  2.797707  1.484245  2.473829e-07   \n",
       "132207  3w  TCTTGAATGT  oligo match  2.624264  1.391913  2.707209e-07   \n",
       "83726   3w  TGTTGTTTAC  oligo match  1.971591  0.979361  3.874109e-07   \n",
       "64085   3w  GTTGTTTACT  oligo match  1.604376  0.682012  4.807629e-07   \n",
       "129658  3w  TTGAATGTAG  oligo match  1.808378  0.854696  2.753885e-07   \n",
       "163997  3w  GAATGTAGTT  oligo match  1.939919  0.955997  2.287124e-07   \n",
       "302843  3w  TGAATGTAGT  oligo match  1.900329  0.926249  1.400280e-07   \n",
       "188247  3w  AATGTAGTTG  oligo match  1.441629  0.527700  2.053744e-07   \n",
       "409392  3w  ATGTAGTTGA  oligo match  1.607971  0.685241  1.026872e-07   \n",
       "283854  3w  CTTGAATGTA  oligo match  1.472755  0.558517  1.446956e-07   \n",
       "\n",
       "               f0_bg            f1  apex_zscore     apex_pval  \\\n",
       "20426   3.438689e-07  8.161629e-07    10.416272  0.000000e+00   \n",
       "13793   4.421172e-07  1.134490e-06    12.951743  0.000000e+00   \n",
       "19946   2.849200e-07  8.018023e-07    11.501285  0.000000e+00   \n",
       "22575   3.782558e-07  7.802613e-07     9.067765  0.000000e+00   \n",
       "5805    6.680882e-07  2.424554e-06    22.475663  0.000000e+00   \n",
       "5144    7.466868e-07  2.735701e-06    23.960307  0.000000e+00   \n",
       "2610    1.277227e-06  5.418747e-06    35.448645  0.000000e+00   \n",
       "40859   1.522848e-07  4.332126e-07     8.504179  0.000000e+00   \n",
       "35149   2.210586e-07  5.169830e-07     8.200321  1.110223e-16   \n",
       "38725   2.259710e-07  4.858682e-07     7.429005  5.473400e-14   \n",
       "54868   1.424600e-07  3.494422e-07     6.976435  1.513789e-12   \n",
       "40785   2.407083e-07  4.762945e-07     6.801432  5.179190e-12   \n",
       "33145   3.291317e-07  5.887861e-07     6.742256  7.797318e-12   \n",
       "40265   2.603579e-07  4.906551e-07     6.550716  2.863099e-11   \n",
       "38738   2.750952e-07  5.098026e-07     6.549591  2.884748e-11   \n",
       "39847   2.701827e-07  4.978354e-07     6.428626  6.438117e-11   \n",
       "53610   1.964965e-07  3.829503e-07     6.003275  9.668821e-10   \n",
       "37382   3.291317e-07  5.480977e-07     5.892993  1.896313e-09   \n",
       "53145   2.652703e-07  4.164585e-07     4.667885  1.521578e-06   \n",
       "74147   1.768469e-07  3.063603e-07     4.662155  1.564581e-06   \n",
       "51595   2.800076e-07  4.308191e-07     4.577996  2.347259e-06   \n",
       "146234  8.842344e-08  1.699342e-07     3.939697  4.079235e-05   \n",
       "132207  1.031607e-07  1.890817e-07     3.936978  4.125710e-05   \n",
       "83726   1.964965e-07  2.943931e-07     3.594941  1.622327e-04   \n",
       "64085   2.996572e-07  3.925241e-07     2.953357  1.571692e-03   \n",
       "129658  1.522848e-07  2.154096e-07     2.709913  3.365042e-03   \n",
       "163997  1.178979e-07  1.747211e-07     2.708576  3.378635e-03   \n",
       "302843  7.368620e-08  1.077048e-07     2.065318  1.944647e-02   \n",
       "188247  1.424600e-07  1.747211e-07     1.537782  6.205099e-02   \n",
       "409392  6.386137e-08  8.377039e-08     1.370543  8.525876e-02   \n",
       "283854  9.824827e-08  1.220654e-07     1.358256  8.719122e-02   \n",
       "\n",
       "        apex_pval_bonferroni  apex_pval_bh  \n",
       "20426           0.000000e+00  0.000000e+00  \n",
       "13793           0.000000e+00  0.000000e+00  \n",
       "19946           0.000000e+00  0.000000e+00  \n",
       "22575           0.000000e+00  0.000000e+00  \n",
       "5805            0.000000e+00  0.000000e+00  \n",
       "5144            0.000000e+00  0.000000e+00  \n",
       "2610            0.000000e+00  0.000000e+00  \n",
       "40859           0.000000e+00  0.000000e+00  \n",
       "35149           1.164056e-10  1.704078e-14  \n",
       "38725           5.738794e-08  6.708117e-12  \n",
       "54868           1.587190e-06  1.620905e-10  \n",
       "40785           5.430319e-06  5.253283e-10  \n",
       "33145           8.175395e-06  7.745518e-10  \n",
       "40265           3.001925e-05  2.676466e-09  \n",
       "38738           3.024624e-05  2.695983e-09  \n",
       "39847           6.750288e-05  5.791256e-09  \n",
       "53610           1.013764e-03  7.578980e-08  \n",
       "37382           1.988261e-03  1.431949e-07  \n",
       "53145           1.000000e+00  7.303406e-05  \n",
       "74147           1.000000e+00  7.489244e-05  \n",
       "51595           1.000000e+00  1.088574e-04  \n",
       "146234          1.000000e+00  1.439689e-03  \n",
       "132207          1.000000e+00  1.454867e-03  \n",
       "83726           1.000000e+00  4.877531e-03  \n",
       "64085           1.000000e+00  3.335156e-02  \n",
       "129658          1.000000e+00  6.158395e-02  \n",
       "163997          1.000000e+00  6.176264e-02  \n",
       "302843          1.000000e+00  2.321593e-01  \n",
       "188247          1.000000e+00  5.006674e-01  \n",
       "409392          1.000000e+00  6.039589e-01  \n",
       "283854          1.000000e+00  6.142632e-01  "
      ]
     },
     "execution_count": 68,
     "metadata": {},
     "output_type": "execute_result"
    }
   ],
   "source": [
    "df[df['label']=='oligo match']"
   ]
  },
  {
   "cell_type": "code",
   "execution_count": 55,
   "id": "f7c5be08-a332-4992-bcc1-bef9ed397940",
   "metadata": {},
   "outputs": [
    {
     "name": "stdout",
     "output_type": "stream",
     "text": [
      "31\n",
      "32\n"
     ]
    }
   ],
   "source": [
    "print(len(df[df['label']=='oligo match']))\n",
    "print(len(oligo_kmers))"
   ]
  },
  {
   "cell_type": "code",
   "execution_count": 49,
   "id": "22930fbe-3396-4f3b-866d-5f789dd27fa1",
   "metadata": {},
   "outputs": [
    {
     "data": {
      "image/png": "[encoded data removed]",
      "text/plain": [
       "<Figure size 640x480 with 1 Axes>"
      ]
     },
     "metadata": {},
     "output_type": "display_data"
    }
   ],
   "source": [
    "import matplotlib.pyplot as plt\n",
    "import pandas as pd\n",
    "import matplotlib.pyplot as plt\n",
    "plt.hist(df['apex_zscore'], bins='auto', edgecolor='black')\n",
    "plt.xlabel('z-score')\n",
    "plt.ylabel('frequency')\n",
    "plt.show()"
   ]
  },
  {
   "cell_type": "markdown",
   "id": "026ffd5d-4c70-4df2-8c75-cc9a133f6cf5",
   "metadata": {},
   "source": [
    "# estimating variance with a negative binomial model"
   ]
  },
  {
   "cell_type": "markdown",
   "id": "7ed63995-ee9c-48b6-9f3a-c1c5184e8619",
   "metadata": {},
   "source": [
    "* `successes` is an array representing the number of successes (e.g., counts).\n",
    "* `exposure` is an array representing an exposure variable (e.g., the number of trials or observations).\n",
    "* the np.log(exposure) is used as an offset to model the log of the exposure variable."
   ]
  },
  {
   "cell_type": "markdown",
   "id": "3e81b704-3199-4e00-87db-ef52b6bc727f",
   "metadata": {},
   "source": [
    "The binomial answers the question \"if I flip a coin n times, how many times will I get a heads?\" It models any sort of yes-no counting process.\n",
    "\n",
    "The negative binomial is the opposite of the binomial. It answers the question, \"how many coin flips will it take for me to get x heads?\""
   ]
  },
  {
   "cell_type": "code",
   "execution_count": 44,
   "id": "e5c5de06-1ccd-411b-aa24-399eebcadeb4",
   "metadata": {},
   "outputs": [
    {
     "name": "stderr",
     "output_type": "stream",
     "text": [
      "/stor/home/rmcox/miniconda3/envs/oligo/lib/python3.9/site-packages/statsmodels/genmod/families/family.py:1367: ValueWarning: Negative binomial dispersion parameter alpha not set. Using default value alpha=1.0.\n",
      "  warnings.warn(\"Negative binomial dispersion parameter alpha not \"\n"
     ]
    }
   ],
   "source": [
    "import statsmodels.api as sm\n",
    "import numpy as np\n",
    "\n",
    "exposure = np.random.randint(5, 15, 100)\n",
    "successes = np.random.randint(0, 5, 100)\n",
    "\n",
    "# template\n",
    "model = sm.GLM(successes, sm.add_constant(np.log(exposure)), family=sm.families.NegativeBinomial())\n",
    "result = model.fit()"
   ]
  },
  {
   "cell_type": "code",
   "execution_count": 48,
   "id": "ab77b0c0-07d0-42ce-984b-f07cc0454137",
   "metadata": {},
   "outputs": [
    {
     "data": {
      "text/html": [
       "<table class=\"simpletable\">\n",
       "<caption>Generalized Linear Model Regression Results</caption>\n",
       "<tr>\n",
       "  <th>Dep. Variable:</th>           <td>y</td>        <th>  No. Observations:  </th>  <td>   100</td>  \n",
       "</tr>\n",
       "<tr>\n",
       "  <th>Model:</th>                  <td>GLM</td>       <th>  Df Residuals:      </th>  <td>    98</td>  \n",
       "</tr>\n",
       "<tr>\n",
       "  <th>Model Family:</th>    <td>NegativeBinomial</td> <th>  Df Model:          </th>  <td>     1</td>  \n",
       "</tr>\n",
       "<tr>\n",
       "  <th>Link Function:</th>          <td>Log</td>       <th>  Scale:             </th> <td>  1.0000</td> \n",
       "</tr>\n",
       "<tr>\n",
       "  <th>Method:</th>                <td>IRLS</td>       <th>  Log-Likelihood:    </th> <td> -187.66</td> \n",
       "</tr>\n",
       "<tr>\n",
       "  <th>Date:</th>            <td>Sun, 21 Jan 2024</td> <th>  Deviance:          </th> <td>  57.081</td> \n",
       "</tr>\n",
       "<tr>\n",
       "  <th>Time:</th>                <td>23:04:37</td>     <th>  Pearson chi2:      </th>  <td>  31.3</td>  \n",
       "</tr>\n",
       "<tr>\n",
       "  <th>No. Iterations:</th>          <td>5</td>        <th>  Pseudo R-squ. (CS):</th> <td>1.220e-05</td>\n",
       "</tr>\n",
       "<tr>\n",
       "  <th>Covariance Type:</th>     <td>nonrobust</td>    <th>                     </th>     <td> </td>    \n",
       "</tr>\n",
       "</table>\n",
       "<table class=\"simpletable\">\n",
       "<tr>\n",
       "    <td></td>       <th>coef</th>     <th>std err</th>      <th>z</th>      <th>P>|z|</th>  <th>[0.025</th>    <th>0.975]</th>  \n",
       "</tr>\n",
       "<tr>\n",
       "  <th>const</th> <td>    0.6818</td> <td>    0.830</td> <td>    0.821</td> <td> 0.412</td> <td>   -0.945</td> <td>    2.309</td>\n",
       "</tr>\n",
       "<tr>\n",
       "  <th>x1</th>    <td>   -0.0136</td> <td>    0.378</td> <td>   -0.036</td> <td> 0.971</td> <td>   -0.754</td> <td>    0.727</td>\n",
       "</tr>\n",
       "</table>"
      ],
      "text/latex": [
       "\\begin{center}\n",
       "\\begin{tabular}{lclc}\n",
       "\\toprule\n",
       "\\textbf{Dep. Variable:}   &        y         & \\textbf{  No. Observations:  } &      100    \\\\\n",
       "\\textbf{Model:}           &       GLM        & \\textbf{  Df Residuals:      } &       98    \\\\\n",
       "\\textbf{Model Family:}    & NegativeBinomial & \\textbf{  Df Model:          } &        1    \\\\\n",
       "\\textbf{Link Function:}   &       Log        & \\textbf{  Scale:             } &    1.0000   \\\\\n",
       "\\textbf{Method:}          &       IRLS       & \\textbf{  Log-Likelihood:    } &   -187.66   \\\\\n",
       "\\textbf{Date:}            & Sun, 21 Jan 2024 & \\textbf{  Deviance:          } &    57.081   \\\\\n",
       "\\textbf{Time:}            &     23:04:37     & \\textbf{  Pearson chi2:      } &     31.3    \\\\\n",
       "\\textbf{No. Iterations:}  &        5         & \\textbf{  Pseudo R-squ. (CS):} & 1.220e-05   \\\\\n",
       "\\textbf{Covariance Type:} &    nonrobust     & \\textbf{                     } &             \\\\\n",
       "\\bottomrule\n",
       "\\end{tabular}\n",
       "\\begin{tabular}{lcccccc}\n",
       "               & \\textbf{coef} & \\textbf{std err} & \\textbf{z} & \\textbf{P$> |$z$|$} & \\textbf{[0.025} & \\textbf{0.975]}  \\\\\n",
       "\\midrule\n",
       "\\textbf{const} &       0.6818  &        0.830     &     0.821  &         0.412        &       -0.945    &        2.309     \\\\\n",
       "\\textbf{x1}    &      -0.0136  &        0.378     &    -0.036  &         0.971        &       -0.754    &        0.727     \\\\\n",
       "\\bottomrule\n",
       "\\end{tabular}\n",
       "%\\caption{Generalized Linear Model Regression Results}\n",
       "\\end{center}"
      ],
      "text/plain": [
       "<class 'statsmodels.iolib.summary.Summary'>\n",
       "\"\"\"\n",
       "                 Generalized Linear Model Regression Results                  \n",
       "==============================================================================\n",
       "Dep. Variable:                      y   No. Observations:                  100\n",
       "Model:                            GLM   Df Residuals:                       98\n",
       "Model Family:        NegativeBinomial   Df Model:                            1\n",
       "Link Function:                    Log   Scale:                          1.0000\n",
       "Method:                          IRLS   Log-Likelihood:                -187.66\n",
       "Date:                Sun, 21 Jan 2024   Deviance:                       57.081\n",
       "Time:                        23:04:37   Pearson chi2:                     31.3\n",
       "No. Iterations:                     5   Pseudo R-squ. (CS):          1.220e-05\n",
       "Covariance Type:            nonrobust                                         \n",
       "==============================================================================\n",
       "                 coef    std err          z      P>|z|      [0.025      0.975]\n",
       "------------------------------------------------------------------------------\n",
       "const          0.6818      0.830      0.821      0.412      -0.945       2.309\n",
       "x1            -0.0136      0.378     -0.036      0.971      -0.754       0.727\n",
       "==============================================================================\n",
       "\"\"\""
      ]
     },
     "execution_count": 48,
     "metadata": {},
     "output_type": "execute_result"
    }
   ],
   "source": [
    "result.summary()"
   ]
  },
  {
   "cell_type": "code",
   "execution_count": 110,
   "id": "abf44086-5684-4ec9-964e-aa5d82f738fc",
   "metadata": {
    "collapsed": true,
    "jupyter": {
     "outputs_hidden": true
    }
   },
   "outputs": [
    {
     "name": "stdout",
     "output_type": "stream",
     "text": [
      "AGAGAGAGA,GAGAGAGAG\n",
      "ATATATATA,TATATATAT\n",
      "GCGCGCGCG,CGCGCGCGC\n",
      "TGTGAGAGG,GTGAGAGGG\n",
      "GTGTGGTGG,TGTGGTGGG\n",
      "TTGGAAGAT,TGGAAGATG\n",
      "ATTGCGACT,TTGCGACTC\n",
      "AAGGTAGGT,AGGTAGGTA\n",
      "TAGGTGAGG,AGGTGAGGG\n",
      "CTGGGTAGG,TGGGTAGGG\n",
      "AGGTGCGAG,GGTGCGAGA\n",
      "GTGTAAGGG,TGTAAGGGG\n",
      "ATGTAGAGG,TGTAGAGGG\n",
      "TGGGTAAGG,GGGTAAGGG\n",
      "AAAAGTAGG,AAAGTAGGG\n",
      "TGGGTCAAA,GGGTCAAAT\n",
      "GTGATGTGG,TGATGTGGG\n",
      "TGAGGTGTG,GAGGTGTGG\n",
      "CATGTGGGT,ATGTGGGTT\n",
      "ATGTGGGGT,TGTGGGGTA\n",
      "AATGGTAGG,ATGGTAGGT\n",
      "AAGGTAGGT,AGGTAGGTT\n",
      "GTAGGTGGG,TAGGTGGGG\n",
      "CATGTGAAG,ATGTGAAGA\n",
      "CCGTAACGA,CGTAACGAT\n",
      "GGAGGGCGG,GAGGGCGGA\n",
      "AAGTGGTAG,AGTGGTAGG\n",
      "AAGAGGTGG,AGAGGTGGG\n",
      "CCACCTGTG,CACCTGTGT\n",
      "TTGTGCCGG,TGTGCCGGG\n",
      "TAAGGGACA,AAGGGACAG\n",
      "GAGGTAGGG,AGGTAGGGA\n",
      "ATGTCGGAT,TGTCGGATA\n",
      "CCGCCCCTC,CGCCCCTCT\n",
      "ATGATCCAG,TGATCCAGA\n",
      "GTGAAGGTG,TGAAGGTGA\n",
      "TCGTGGTAG,CGTGGTAGG\n",
      "TTGGCTGTG,TGGCTGTGA\n",
      "CAGACGAGT,AGACGAGTT\n",
      "GCTGGACGA,CTGGACGAA\n",
      "CAGGGAAAT,AGGGAAATG\n",
      "AAACCGATG,AACCGATGG\n",
      "CATTGGGGT,ATTGGGGTA\n",
      "AAGGGGGGG,AGGGGGGGC\n",
      "TGTGAGTAG,GTGAGTAGA\n",
      "TGAAGTAGG,GAAGTAGGG\n",
      "TGTACTGGG,GTACTGGGG\n",
      "GTGGGGTAG,TGGGGTAGT\n",
      "TGGCATGGG,GGCATGGGG\n",
      "TAAATGGGG,AAATGGGGT\n",
      "GCTGGCCAG,CTGGCCAGT\n",
      "GTAGGCCGT,TAGGCCGTG\n",
      "TGCCACGAA,GCCACGAAT\n",
      "AAGTTCCAG,AGTTCCAGA\n",
      "ACGTGTGGG,CGTGTGGGG\n",
      "CGAGGTAGG,GAGGTAGGT\n",
      "GTGGACGCA,TGGACGCAA\n",
      "ATGGGTAGG,TGGGTAGGT\n",
      "TTAAAGGCG,TAAAGGCGT\n",
      "AGGTCCAGG,GGTCCAGGG\n",
      "TGAGGGCAG,GAGGGCAGA\n",
      "TTGTAGGCG,TGTAGGCGT\n",
      "AACTGGCGA,ACTGGCGAG\n",
      "GATCGGAGT,ATCGGAGTA\n",
      "TCGTACCAC,CGTACCACC\n",
      "GTGAGGCAG,TGAGGCAGG\n",
      "CGTGGTAGG,GTGGTAGGG\n",
      "ATAGAAGGT,TAGAAGGTA\n",
      "AAGGTGTAG,AGGTGTAGG\n",
      "GAAGTAGTG,AAGTAGTGG\n",
      "TGGAGACTT,GGAGACTTC\n",
      "AAATTGGGC,AATTGGGCT\n",
      "AAGTGTAGG,AGTGTAGGT\n",
      "TGGGTAGGT,GGGTAGGTG\n",
      "CCAATCGCT,CAATCGCTA\n",
      "CGCTTACTG,GCTTACTGA\n",
      "TTGGAAGGT,TGGAAGGTG\n",
      "ATAGATCGG,TAGATCGGG\n",
      "TAGCATGGT,AGCATGGTC\n",
      "GATTGAGGC,ATTGAGGCA\n",
      "CTAGTTGGG,TAGTTGGGG\n",
      "AGGTAGGGT,GGTAGGGTT\n",
      "CGGTCGGTT,GGTCGGTTT\n",
      "AGAAATAGA,GAAATAGAT\n",
      "TGTAGTGGG,GTAGTGGGG\n",
      "AGTACAATG,GTACAATGA\n",
      "CTCGGCGAG,TCGGCGAGA\n",
      "AGAGATAGG,GAGATAGGG\n",
      "GTATGCCGG,TATGCCGGG\n",
      "GAGAGCAGA,AGAGCAGAG\n",
      "TAACGCGAG,AACGCGAGG\n",
      "CAGAGAGGG,AGAGAGGGC\n",
      "ACGTCGAGA,CGTCGAGAC\n",
      "CGTTGTGAG,GTTGTGAGG\n",
      "CAGTGAGGA,AGTGAGGAA\n",
      "TGTGTGCGA,GTGTGCGAG\n",
      "AGGACGAGG,GGACGAGGA\n",
      "GAAGGTGGG,AAGGTGGGG\n",
      "ACCAGGGTA,CCAGGGTAG\n"
     ]
    }
   ],
   "source": [
    "df.reset_index(inplace=True, drop=True)\n",
    "for i in range(0,99):\n",
    "    node1 = df.node1[i]\n",
    "    node2 = df.node2[i]\n",
    "    print(f'{node1},{node2}')"
   ]
  },
  {
   "cell_type": "code",
   "execution_count": 109,
   "id": "d31caed9-771e-48e5-9ea3-ae6905218919",
   "metadata": {},
   "outputs": [
    {
     "data": {
      "text/html": [
       "<div>\n",
       "<style scoped>\n",
       "    .dataframe tbody tr th:only-of-type {\n",
       "        vertical-align: middle;\n",
       "    }\n",
       "\n",
       "    .dataframe tbody tr th {\n",
       "        vertical-align: top;\n",
       "    }\n",
       "\n",
       "    .dataframe thead th {\n",
       "        text-align: right;\n",
       "    }\n",
       "</style>\n",
       "<table border=\"1\" class=\"dataframe\">\n",
       "  <thead>\n",
       "    <tr style=\"text-align: right;\">\n",
       "      <th></th>\n",
       "      <th>node1</th>\n",
       "      <th>node2</th>\n",
       "      <th>exp_count</th>\n",
       "      <th>bg_count</th>\n",
       "      <th>exp</th>\n",
       "      <th>label</th>\n",
       "      <th>fc</th>\n",
       "      <th>log2fc</th>\n",
       "    </tr>\n",
       "  </thead>\n",
       "  <tbody>\n",
       "    <tr>\n",
       "      <th>1995</th>\n",
       "      <td>AGAGAGAGA</td>\n",
       "      <td>GAGAGAGAG</td>\n",
       "      <td>4351</td>\n",
       "      <td>0</td>\n",
       "      <td>0w</td>\n",
       "      <td>no match</td>\n",
       "      <td>4618.279094</td>\n",
       "      <td>12.173140</td>\n",
       "    </tr>\n",
       "    <tr>\n",
       "      <th>52751</th>\n",
       "      <td>ATATATATA</td>\n",
       "      <td>TATATATAT</td>\n",
       "      <td>174</td>\n",
       "      <td>0</td>\n",
       "      <td>0w</td>\n",
       "      <td>no match</td>\n",
       "      <td>185.707454</td>\n",
       "      <td>7.536888</td>\n",
       "    </tr>\n",
       "    <tr>\n",
       "      <th>86570</th>\n",
       "      <td>GCGCGCGCG</td>\n",
       "      <td>CGCGCGCGC</td>\n",
       "      <td>118</td>\n",
       "      <td>0</td>\n",
       "      <td>0w</td>\n",
       "      <td>no match</td>\n",
       "      <td>126.281069</td>\n",
       "      <td>6.980495</td>\n",
       "    </tr>\n",
       "    <tr>\n",
       "      <th>308006</th>\n",
       "      <td>TGTGAGAGG</td>\n",
       "      <td>GTGAGAGGG</td>\n",
       "      <td>52</td>\n",
       "      <td>0</td>\n",
       "      <td>0w</td>\n",
       "      <td>no match</td>\n",
       "      <td>56.242829</td>\n",
       "      <td>5.813597</td>\n",
       "    </tr>\n",
       "    <tr>\n",
       "      <th>355467</th>\n",
       "      <td>GTGTGGTGG</td>\n",
       "      <td>TGTGGTGGG</td>\n",
       "      <td>47</td>\n",
       "      <td>0</td>\n",
       "      <td>0w</td>\n",
       "      <td>no match</td>\n",
       "      <td>50.936902</td>\n",
       "      <td>5.670639</td>\n",
       "    </tr>\n",
       "    <tr>\n",
       "      <th>...</th>\n",
       "      <td>...</td>\n",
       "      <td>...</td>\n",
       "      <td>...</td>\n",
       "      <td>...</td>\n",
       "      <td>...</td>\n",
       "      <td>...</td>\n",
       "      <td>...</td>\n",
       "      <td>...</td>\n",
       "    </tr>\n",
       "    <tr>\n",
       "      <th>1006200</th>\n",
       "      <td>ACCTGTCAG</td>\n",
       "      <td>CCTGTCAGA</td>\n",
       "      <td>0</td>\n",
       "      <td>42</td>\n",
       "      <td>0w</td>\n",
       "      <td>no match</td>\n",
       "      <td>-40.520721</td>\n",
       "      <td>-5.340588</td>\n",
       "    </tr>\n",
       "    <tr>\n",
       "      <th>1006199</th>\n",
       "      <td>AAGCCACGT</td>\n",
       "      <td>AGCCACGTG</td>\n",
       "      <td>0</td>\n",
       "      <td>43</td>\n",
       "      <td>0w</td>\n",
       "      <td>no match</td>\n",
       "      <td>-41.463064</td>\n",
       "      <td>-5.373755</td>\n",
       "    </tr>\n",
       "    <tr>\n",
       "      <th>1006198</th>\n",
       "      <td>CGCGCGCGC</td>\n",
       "      <td>GCGCGCGCG</td>\n",
       "      <td>0</td>\n",
       "      <td>142</td>\n",
       "      <td>0w</td>\n",
       "      <td>no match</td>\n",
       "      <td>-134.754957</td>\n",
       "      <td>-7.074195</td>\n",
       "    </tr>\n",
       "    <tr>\n",
       "      <th>1006197</th>\n",
       "      <td>TATATATAT</td>\n",
       "      <td>ATATATATA</td>\n",
       "      <td>0</td>\n",
       "      <td>173</td>\n",
       "      <td>0w</td>\n",
       "      <td>no match</td>\n",
       "      <td>-163.967570</td>\n",
       "      <td>-7.357267</td>\n",
       "    </tr>\n",
       "    <tr>\n",
       "      <th>1006196</th>\n",
       "      <td>GAGAGAGAG</td>\n",
       "      <td>AGAGAGAGA</td>\n",
       "      <td>0</td>\n",
       "      <td>4173</td>\n",
       "      <td>0w</td>\n",
       "      <td>no match</td>\n",
       "      <td>-3933.336992</td>\n",
       "      <td>-11.941538</td>\n",
       "    </tr>\n",
       "  </tbody>\n",
       "</table>\n",
       "<p>1025896 rows × 8 columns</p>\n",
       "</div>"
      ],
      "text/plain": [
       "             node1      node2  exp_count  bg_count exp     label           fc  \\\n",
       "1995     AGAGAGAGA  GAGAGAGAG       4351         0  0w  no match  4618.279094   \n",
       "52751    ATATATATA  TATATATAT        174         0  0w  no match   185.707454   \n",
       "86570    GCGCGCGCG  CGCGCGCGC        118         0  0w  no match   126.281069   \n",
       "308006   TGTGAGAGG  GTGAGAGGG         52         0  0w  no match    56.242829   \n",
       "355467   GTGTGGTGG  TGTGGTGGG         47         0  0w  no match    50.936902   \n",
       "...            ...        ...        ...       ...  ..       ...          ...   \n",
       "1006200  ACCTGTCAG  CCTGTCAGA          0        42  0w  no match   -40.520721   \n",
       "1006199  AAGCCACGT  AGCCACGTG          0        43  0w  no match   -41.463064   \n",
       "1006198  CGCGCGCGC  GCGCGCGCG          0       142  0w  no match  -134.754957   \n",
       "1006197  TATATATAT  ATATATATA          0       173  0w  no match  -163.967570   \n",
       "1006196  GAGAGAGAG  AGAGAGAGA          0      4173  0w  no match -3933.336992   \n",
       "\n",
       "            log2fc  \n",
       "1995     12.173140  \n",
       "52751     7.536888  \n",
       "86570     6.980495  \n",
       "308006    5.813597  \n",
       "355467    5.670639  \n",
       "...            ...  \n",
       "1006200  -5.340588  \n",
       "1006199  -5.373755  \n",
       "1006198  -7.074195  \n",
       "1006197  -7.357267  \n",
       "1006196 -11.941538  \n",
       "\n",
       "[1025896 rows x 8 columns]"
      ]
     },
     "execution_count": 109,
     "metadata": {},
     "output_type": "execute_result"
    }
   ],
   "source": [
    "df"
   ]
  },
  {
   "cell_type": "code",
   "execution_count": 87,
   "id": "e932bd8f-3e8b-474c-aa5f-856fad80dd78",
   "metadata": {},
   "outputs": [
    {
     "data": {
      "text/html": [
       "<div>\n",
       "<style scoped>\n",
       "    .dataframe tbody tr th:only-of-type {\n",
       "        vertical-align: middle;\n",
       "    }\n",
       "\n",
       "    .dataframe tbody tr th {\n",
       "        vertical-align: top;\n",
       "    }\n",
       "\n",
       "    .dataframe thead th {\n",
       "        text-align: right;\n",
       "    }\n",
       "</style>\n",
       "<table border=\"1\" class=\"dataframe\">\n",
       "  <thead>\n",
       "    <tr style=\"text-align: right;\">\n",
       "      <th></th>\n",
       "      <th>node1</th>\n",
       "      <th>node2</th>\n",
       "      <th>exp_count</th>\n",
       "      <th>bg_count</th>\n",
       "      <th>exp</th>\n",
       "      <th>label</th>\n",
       "      <th>fc</th>\n",
       "      <th>log2fc</th>\n",
       "      <th>zscore_trad</th>\n",
       "    </tr>\n",
       "  </thead>\n",
       "  <tbody>\n",
       "    <tr>\n",
       "      <th>943787</th>\n",
       "      <td>ATGGAGTGT</td>\n",
       "      <td>TGGAGTGTA</td>\n",
       "      <td>15</td>\n",
       "      <td>0</td>\n",
       "      <td>0w</td>\n",
       "      <td>oligo match</td>\n",
       "      <td>16.978967</td>\n",
       "      <td>4.085677</td>\n",
       "      <td>-0.010038</td>\n",
       "    </tr>\n",
       "    <tr>\n",
       "      <th>1002349</th>\n",
       "      <td>TGGATGGAG</td>\n",
       "      <td>GGATGGAGT</td>\n",
       "      <td>11</td>\n",
       "      <td>0</td>\n",
       "      <td>0w</td>\n",
       "      <td>oligo match</td>\n",
       "      <td>12.734225</td>\n",
       "      <td>3.670639</td>\n",
       "      <td>-0.010152</td>\n",
       "    </tr>\n",
       "    <tr>\n",
       "      <th>14308</th>\n",
       "      <td>GTTTTTTTT</td>\n",
       "      <td>TTTTTTTTT</td>\n",
       "      <td>562</td>\n",
       "      <td>349</td>\n",
       "      <td>0w</td>\n",
       "      <td>oligo match</td>\n",
       "      <td>1.706993</td>\n",
       "      <td>0.771457</td>\n",
       "      <td>0.005477</td>\n",
       "    </tr>\n",
       "    <tr>\n",
       "      <th>459473</th>\n",
       "      <td>TTCTGGATG</td>\n",
       "      <td>TCTGGATGG</td>\n",
       "      <td>39</td>\n",
       "      <td>28</td>\n",
       "      <td>0w</td>\n",
       "      <td>oligo match</td>\n",
       "      <td>1.463704</td>\n",
       "      <td>0.549624</td>\n",
       "      <td>-0.009358</td>\n",
       "    </tr>\n",
       "    <tr>\n",
       "      <th>31750</th>\n",
       "      <td>TGTTTTTTT</td>\n",
       "      <td>GTTTTTTTT</td>\n",
       "      <td>275</td>\n",
       "      <td>201</td>\n",
       "      <td>0w</td>\n",
       "      <td>oligo match</td>\n",
       "      <td>1.449937</td>\n",
       "      <td>0.535990</td>\n",
       "      <td>-0.002663</td>\n",
       "    </tr>\n",
       "    <tr>\n",
       "      <th>292744</th>\n",
       "      <td>AGCCTGTTT</td>\n",
       "      <td>GCCTGTTTT</td>\n",
       "      <td>53</td>\n",
       "      <td>42</td>\n",
       "      <td>0w</td>\n",
       "      <td>oligo match</td>\n",
       "      <td>1.332651</td>\n",
       "      <td>0.414300</td>\n",
       "      <td>-0.008961</td>\n",
       "    </tr>\n",
       "    <tr>\n",
       "      <th>59848</th>\n",
       "      <td>CTGTTTTTT</td>\n",
       "      <td>TGTTTTTTT</td>\n",
       "      <td>157</td>\n",
       "      <td>128</td>\n",
       "      <td>0w</td>\n",
       "      <td>oligo match</td>\n",
       "      <td>1.299747</td>\n",
       "      <td>0.378230</td>\n",
       "      <td>-0.006011</td>\n",
       "    </tr>\n",
       "    <tr>\n",
       "      <th>514268</th>\n",
       "      <td>ACCGGTTGT</td>\n",
       "      <td>CCGGTTGTG</td>\n",
       "      <td>36</td>\n",
       "      <td>30</td>\n",
       "      <td>0w</td>\n",
       "      <td>oligo match</td>\n",
       "      <td>1.266576</td>\n",
       "      <td>0.340934</td>\n",
       "      <td>-0.009443</td>\n",
       "    </tr>\n",
       "    <tr>\n",
       "      <th>880731</th>\n",
       "      <td>TGGAGTGTA</td>\n",
       "      <td>GGAGTGTAC</td>\n",
       "      <td>18</td>\n",
       "      <td>15</td>\n",
       "      <td>0w</td>\n",
       "      <td>oligo match</td>\n",
       "      <td>1.260158</td>\n",
       "      <td>0.333604</td>\n",
       "      <td>-0.009953</td>\n",
       "    </tr>\n",
       "    <tr>\n",
       "      <th>85133</th>\n",
       "      <td>GGTTGTGAG</td>\n",
       "      <td>GTTGTGAGC</td>\n",
       "      <td>120</td>\n",
       "      <td>106</td>\n",
       "      <td>0w</td>\n",
       "      <td>oligo match</td>\n",
       "      <td>1.200032</td>\n",
       "      <td>0.263073</td>\n",
       "      <td>-0.007060</td>\n",
       "    </tr>\n",
       "    <tr>\n",
       "      <th>104311</th>\n",
       "      <td>CCTGTTTTT</td>\n",
       "      <td>CTGTTTTTT</td>\n",
       "      <td>104</td>\n",
       "      <td>94</td>\n",
       "      <td>0w</td>\n",
       "      <td>oligo match</td>\n",
       "      <td>1.172889</td>\n",
       "      <td>0.230067</td>\n",
       "      <td>-0.007514</td>\n",
       "    </tr>\n",
       "    <tr>\n",
       "      <th>789099</th>\n",
       "      <td>GTTGTGAGC</td>\n",
       "      <td>TTGTGAGCC</td>\n",
       "      <td>22</td>\n",
       "      <td>21</td>\n",
       "      <td>0w</td>\n",
       "      <td>oligo match</td>\n",
       "      <td>1.109421</td>\n",
       "      <td>0.149807</td>\n",
       "      <td>-0.009840</td>\n",
       "    </tr>\n",
       "    <tr>\n",
       "      <th>109922</th>\n",
       "      <td>GCCTGTTTT</td>\n",
       "      <td>CCTGTTTTT</td>\n",
       "      <td>100</td>\n",
       "      <td>101</td>\n",
       "      <td>0w</td>\n",
       "      <td>oligo match</td>\n",
       "      <td>1.050782</td>\n",
       "      <td>0.071463</td>\n",
       "      <td>-0.007627</td>\n",
       "    </tr>\n",
       "    <tr>\n",
       "      <th>681811</th>\n",
       "      <td>TTGTGAGCC</td>\n",
       "      <td>TGTGAGCCT</td>\n",
       "      <td>27</td>\n",
       "      <td>28</td>\n",
       "      <td>0w</td>\n",
       "      <td>oligo match</td>\n",
       "      <td>1.024593</td>\n",
       "      <td>0.035051</td>\n",
       "      <td>-0.009698</td>\n",
       "    </tr>\n",
       "    <tr>\n",
       "      <th>913137</th>\n",
       "      <td>CGGTTGTGA</td>\n",
       "      <td>GGTTGTGAG</td>\n",
       "      <td>16</td>\n",
       "      <td>17</td>\n",
       "      <td>0w</td>\n",
       "      <td>oligo match</td>\n",
       "      <td>1.002231</td>\n",
       "      <td>0.003215</td>\n",
       "      <td>-0.010010</td>\n",
       "    </tr>\n",
       "    <tr>\n",
       "      <th>754491</th>\n",
       "      <td>TACCGGTTG</td>\n",
       "      <td>ACCGGTTGT</td>\n",
       "      <td>24</td>\n",
       "      <td>26</td>\n",
       "      <td>0w</td>\n",
       "      <td>oligo match</td>\n",
       "      <td>-1.017730</td>\n",
       "      <td>-0.025355</td>\n",
       "      <td>-0.009783</td>\n",
       "    </tr>\n",
       "    <tr>\n",
       "      <th>975462</th>\n",
       "      <td>CTGGATGGA</td>\n",
       "      <td>TGGATGGAG</td>\n",
       "      <td>13</td>\n",
       "      <td>15</td>\n",
       "      <td>0w</td>\n",
       "      <td>oligo match</td>\n",
       "      <td>-1.076963</td>\n",
       "      <td>-0.106968</td>\n",
       "      <td>-0.010095</td>\n",
       "    </tr>\n",
       "    <tr>\n",
       "      <th>618617</th>\n",
       "      <td>AGTGTACCG</td>\n",
       "      <td>GTGTACCGG</td>\n",
       "      <td>30</td>\n",
       "      <td>35</td>\n",
       "      <td>0w</td>\n",
       "      <td>oligo match</td>\n",
       "      <td>-1.094333</td>\n",
       "      <td>-0.130052</td>\n",
       "      <td>-0.009613</td>\n",
       "    </tr>\n",
       "    <tr>\n",
       "      <th>952573</th>\n",
       "      <td>GATGGAGTG</td>\n",
       "      <td>ATGGAGTGT</td>\n",
       "      <td>14</td>\n",
       "      <td>17</td>\n",
       "      <td>0w</td>\n",
       "      <td>oligo match</td>\n",
       "      <td>-1.130811</td>\n",
       "      <td>-0.177358</td>\n",
       "      <td>-0.010067</td>\n",
       "    </tr>\n",
       "    <tr>\n",
       "      <th>675145</th>\n",
       "      <td>TGTGAGCCT</td>\n",
       "      <td>GTGAGCCTG</td>\n",
       "      <td>27</td>\n",
       "      <td>33</td>\n",
       "      <td>0w</td>\n",
       "      <td>oligo match</td>\n",
       "      <td>-1.144273</td>\n",
       "      <td>-0.194431</td>\n",
       "      <td>-0.009698</td>\n",
       "    </tr>\n",
       "    <tr>\n",
       "      <th>474199</th>\n",
       "      <td>GAGCCTGTT</td>\n",
       "      <td>AGCCTGTTT</td>\n",
       "      <td>38</td>\n",
       "      <td>47</td>\n",
       "      <td>0w</td>\n",
       "      <td>oligo match</td>\n",
       "      <td>-1.159806</td>\n",
       "      <td>-0.213883</td>\n",
       "      <td>-0.009386</td>\n",
       "    </tr>\n",
       "    <tr>\n",
       "      <th>492533</th>\n",
       "      <td>GTACCGGTT</td>\n",
       "      <td>TACCGGTTG</td>\n",
       "      <td>37</td>\n",
       "      <td>46</td>\n",
       "      <td>0w</td>\n",
       "      <td>oligo match</td>\n",
       "      <td>-1.165529</td>\n",
       "      <td>-0.220985</td>\n",
       "      <td>-0.009414</td>\n",
       "    </tr>\n",
       "    <tr>\n",
       "      <th>447823</th>\n",
       "      <td>GGATGGAGT</td>\n",
       "      <td>GATGGAGTG</td>\n",
       "      <td>40</td>\n",
       "      <td>50</td>\n",
       "      <td>0w</td>\n",
       "      <td>oligo match</td>\n",
       "      <td>-1.172182</td>\n",
       "      <td>-0.229197</td>\n",
       "      <td>-0.009329</td>\n",
       "    </tr>\n",
       "    <tr>\n",
       "      <th>846154</th>\n",
       "      <td>TGAGCCTGT</td>\n",
       "      <td>GAGCCTGTT</td>\n",
       "      <td>19</td>\n",
       "      <td>24</td>\n",
       "      <td>0w</td>\n",
       "      <td>oligo match</td>\n",
       "      <td>-1.177928</td>\n",
       "      <td>-0.236251</td>\n",
       "      <td>-0.009925</td>\n",
       "    </tr>\n",
       "    <tr>\n",
       "      <th>951558</th>\n",
       "      <td>TCTGGATGG</td>\n",
       "      <td>CTGGATGGA</td>\n",
       "      <td>14</td>\n",
       "      <td>18</td>\n",
       "      <td>0w</td>\n",
       "      <td>oligo match</td>\n",
       "      <td>-1.193634</td>\n",
       "      <td>-0.255360</td>\n",
       "      <td>-0.010067</td>\n",
       "    </tr>\n",
       "    <tr>\n",
       "      <th>677869</th>\n",
       "      <td>GAGTGTACC</td>\n",
       "      <td>AGTGTACCG</td>\n",
       "      <td>27</td>\n",
       "      <td>35</td>\n",
       "      <td>0w</td>\n",
       "      <td>oligo match</td>\n",
       "      <td>-1.211583</td>\n",
       "      <td>-0.276893</td>\n",
       "      <td>-0.009698</td>\n",
       "    </tr>\n",
       "    <tr>\n",
       "      <th>751473</th>\n",
       "      <td>GTGAGCCTG</td>\n",
       "      <td>TGAGCCTGT</td>\n",
       "      <td>24</td>\n",
       "      <td>32</td>\n",
       "      <td>0w</td>\n",
       "      <td>oligo match</td>\n",
       "      <td>-1.243892</td>\n",
       "      <td>-0.314861</td>\n",
       "      <td>-0.009783</td>\n",
       "    </tr>\n",
       "    <tr>\n",
       "      <th>201181</th>\n",
       "      <td>GGAGTGTAC</td>\n",
       "      <td>GAGTGTACC</td>\n",
       "      <td>68</td>\n",
       "      <td>101</td>\n",
       "      <td>0w</td>\n",
       "      <td>oligo match</td>\n",
       "      <td>-1.393028</td>\n",
       "      <td>-0.478224</td>\n",
       "      <td>-0.008535</td>\n",
       "    </tr>\n",
       "    <tr>\n",
       "      <th>840466</th>\n",
       "      <td>TGTACCGGT</td>\n",
       "      <td>GTACCGGTT</td>\n",
       "      <td>20</td>\n",
       "      <td>37</td>\n",
       "      <td>0w</td>\n",
       "      <td>oligo match</td>\n",
       "      <td>-1.705191</td>\n",
       "      <td>-0.769933</td>\n",
       "      <td>-0.009897</td>\n",
       "    </tr>\n",
       "    <tr>\n",
       "      <th>864748</th>\n",
       "      <td>GTGTACCGG</td>\n",
       "      <td>TGTACCGGT</td>\n",
       "      <td>19</td>\n",
       "      <td>42</td>\n",
       "      <td>0w</td>\n",
       "      <td>oligo match</td>\n",
       "      <td>-2.026036</td>\n",
       "      <td>-1.018660</td>\n",
       "      <td>-0.009925</td>\n",
       "    </tr>\n",
       "  </tbody>\n",
       "</table>\n",
       "</div>"
      ],
      "text/plain": [
       "             node1      node2  exp_count  bg_count exp        label  \\\n",
       "943787   ATGGAGTGT  TGGAGTGTA         15         0  0w  oligo match   \n",
       "1002349  TGGATGGAG  GGATGGAGT         11         0  0w  oligo match   \n",
       "14308    GTTTTTTTT  TTTTTTTTT        562       349  0w  oligo match   \n",
       "459473   TTCTGGATG  TCTGGATGG         39        28  0w  oligo match   \n",
       "31750    TGTTTTTTT  GTTTTTTTT        275       201  0w  oligo match   \n",
       "292744   AGCCTGTTT  GCCTGTTTT         53        42  0w  oligo match   \n",
       "59848    CTGTTTTTT  TGTTTTTTT        157       128  0w  oligo match   \n",
       "514268   ACCGGTTGT  CCGGTTGTG         36        30  0w  oligo match   \n",
       "880731   TGGAGTGTA  GGAGTGTAC         18        15  0w  oligo match   \n",
       "85133    GGTTGTGAG  GTTGTGAGC        120       106  0w  oligo match   \n",
       "104311   CCTGTTTTT  CTGTTTTTT        104        94  0w  oligo match   \n",
       "789099   GTTGTGAGC  TTGTGAGCC         22        21  0w  oligo match   \n",
       "109922   GCCTGTTTT  CCTGTTTTT        100       101  0w  oligo match   \n",
       "681811   TTGTGAGCC  TGTGAGCCT         27        28  0w  oligo match   \n",
       "913137   CGGTTGTGA  GGTTGTGAG         16        17  0w  oligo match   \n",
       "754491   TACCGGTTG  ACCGGTTGT         24        26  0w  oligo match   \n",
       "975462   CTGGATGGA  TGGATGGAG         13        15  0w  oligo match   \n",
       "618617   AGTGTACCG  GTGTACCGG         30        35  0w  oligo match   \n",
       "952573   GATGGAGTG  ATGGAGTGT         14        17  0w  oligo match   \n",
       "675145   TGTGAGCCT  GTGAGCCTG         27        33  0w  oligo match   \n",
       "474199   GAGCCTGTT  AGCCTGTTT         38        47  0w  oligo match   \n",
       "492533   GTACCGGTT  TACCGGTTG         37        46  0w  oligo match   \n",
       "447823   GGATGGAGT  GATGGAGTG         40        50  0w  oligo match   \n",
       "846154   TGAGCCTGT  GAGCCTGTT         19        24  0w  oligo match   \n",
       "951558   TCTGGATGG  CTGGATGGA         14        18  0w  oligo match   \n",
       "677869   GAGTGTACC  AGTGTACCG         27        35  0w  oligo match   \n",
       "751473   GTGAGCCTG  TGAGCCTGT         24        32  0w  oligo match   \n",
       "201181   GGAGTGTAC  GAGTGTACC         68       101  0w  oligo match   \n",
       "840466   TGTACCGGT  GTACCGGTT         20        37  0w  oligo match   \n",
       "864748   GTGTACCGG  TGTACCGGT         19        42  0w  oligo match   \n",
       "\n",
       "                fc    log2fc  zscore_trad  \n",
       "943787   16.978967  4.085677    -0.010038  \n",
       "1002349  12.734225  3.670639    -0.010152  \n",
       "14308     1.706993  0.771457     0.005477  \n",
       "459473    1.463704  0.549624    -0.009358  \n",
       "31750     1.449937  0.535990    -0.002663  \n",
       "292744    1.332651  0.414300    -0.008961  \n",
       "59848     1.299747  0.378230    -0.006011  \n",
       "514268    1.266576  0.340934    -0.009443  \n",
       "880731    1.260158  0.333604    -0.009953  \n",
       "85133     1.200032  0.263073    -0.007060  \n",
       "104311    1.172889  0.230067    -0.007514  \n",
       "789099    1.109421  0.149807    -0.009840  \n",
       "109922    1.050782  0.071463    -0.007627  \n",
       "681811    1.024593  0.035051    -0.009698  \n",
       "913137    1.002231  0.003215    -0.010010  \n",
       "754491   -1.017730 -0.025355    -0.009783  \n",
       "975462   -1.076963 -0.106968    -0.010095  \n",
       "618617   -1.094333 -0.130052    -0.009613  \n",
       "952573   -1.130811 -0.177358    -0.010067  \n",
       "675145   -1.144273 -0.194431    -0.009698  \n",
       "474199   -1.159806 -0.213883    -0.009386  \n",
       "492533   -1.165529 -0.220985    -0.009414  \n",
       "447823   -1.172182 -0.229197    -0.009329  \n",
       "846154   -1.177928 -0.236251    -0.009925  \n",
       "951558   -1.193634 -0.255360    -0.010067  \n",
       "677869   -1.211583 -0.276893    -0.009698  \n",
       "751473   -1.243892 -0.314861    -0.009783  \n",
       "201181   -1.393028 -0.478224    -0.008535  \n",
       "840466   -1.705191 -0.769933    -0.009897  \n",
       "864748   -2.026036 -1.018660    -0.009925  "
      ]
     },
     "execution_count": 87,
     "metadata": {},
     "output_type": "execute_result"
    }
   ],
   "source": [
    "df['zscore_trad'] = (df['exp_count'] - df['bg_count'].mean())/(df['bg_count'].std(ddof=1))\n",
    "df[df.label == 'oligo match']"
   ]
  },
  {
   "cell_type": "code",
   "execution_count": 54,
   "id": "738ceac4-f8df-4d49-9361-db37915d32fc",
   "metadata": {},
   "outputs": [
    {
     "ename": "KeyboardInterrupt",
     "evalue": "",
     "output_type": "error",
     "traceback": [
      "\u001b[0;31m---------------------------------------------------------------------------\u001b[0m",
      "\u001b[0;31mKeyboardInterrupt\u001b[0m                         Traceback (most recent call last)",
      "Cell \u001b[0;32mIn[54], line 1\u001b[0m\n\u001b[0;32m----> 1\u001b[0m df[\u001b[38;5;124m'\u001b[39m\u001b[38;5;124mzscore_apex\u001b[39m\u001b[38;5;124m'\u001b[39m] \u001b[38;5;241m=\u001b[39m ([calc_apex_zscore(i, j, \u001b[38;5;28mint\u001b[39m(df[\u001b[38;5;124m'\u001b[39m\u001b[38;5;124mexp_count\u001b[39m\u001b[38;5;124m'\u001b[39m]\u001b[38;5;241m.\u001b[39msum()), \u001b[38;5;28mint\u001b[39m(df[\u001b[38;5;124m'\u001b[39m\u001b[38;5;124mbg_count\u001b[39m\u001b[38;5;124m'\u001b[39m]\u001b[38;5;241m.\u001b[39msum())) \\\n\u001b[1;32m      2\u001b[0m                       \u001b[38;5;28;01mfor\u001b[39;00m i, j \u001b[38;5;129;01min\u001b[39;00m \u001b[38;5;28mzip\u001b[39m(df\u001b[38;5;241m.\u001b[39mexp_count, df\u001b[38;5;241m.\u001b[39mbg_count)])\n\u001b[1;32m      3\u001b[0m df\n",
      "Cell \u001b[0;32mIn[54], line 1\u001b[0m, in \u001b[0;36m<listcomp>\u001b[0;34m(.0)\u001b[0m\n\u001b[0;32m----> 1\u001b[0m df[\u001b[38;5;124m'\u001b[39m\u001b[38;5;124mzscore_apex\u001b[39m\u001b[38;5;124m'\u001b[39m] \u001b[38;5;241m=\u001b[39m ([calc_apex_zscore(i, j, \u001b[38;5;28mint\u001b[39m(\u001b[43mdf\u001b[49m\u001b[43m[\u001b[49m\u001b[38;5;124;43m'\u001b[39;49m\u001b[38;5;124;43mexp_count\u001b[39;49m\u001b[38;5;124;43m'\u001b[39;49m\u001b[43m]\u001b[49m\u001b[38;5;241;43m.\u001b[39;49m\u001b[43msum\u001b[49m\u001b[43m(\u001b[49m\u001b[43m)\u001b[49m), \u001b[38;5;28mint\u001b[39m(df[\u001b[38;5;124m'\u001b[39m\u001b[38;5;124mbg_count\u001b[39m\u001b[38;5;124m'\u001b[39m]\u001b[38;5;241m.\u001b[39msum())) \\\n\u001b[1;32m      2\u001b[0m                       \u001b[38;5;28;01mfor\u001b[39;00m i, j \u001b[38;5;129;01min\u001b[39;00m \u001b[38;5;28mzip\u001b[39m(df\u001b[38;5;241m.\u001b[39mexp_count, df\u001b[38;5;241m.\u001b[39mbg_count)])\n\u001b[1;32m      3\u001b[0m df\n",
      "File \u001b[0;32m~/miniconda3/envs/oligo/lib/python3.9/site-packages/pandas/core/generic.py:11797\u001b[0m, in \u001b[0;36mNDFrame._add_numeric_operations.<locals>.sum\u001b[0;34m(self, axis, skipna, level, numeric_only, min_count, **kwargs)\u001b[0m\n\u001b[1;32m  11777\u001b[0m \u001b[38;5;129m@doc\u001b[39m(\n\u001b[1;32m  11778\u001b[0m     _num_doc,\n\u001b[1;32m  11779\u001b[0m     desc\u001b[38;5;241m=\u001b[39m\u001b[38;5;124m\"\u001b[39m\u001b[38;5;124mReturn the sum of the values over the requested axis.\u001b[39m\u001b[38;5;130;01m\\n\u001b[39;00m\u001b[38;5;130;01m\\n\u001b[39;00m\u001b[38;5;124m\"\u001b[39m\n\u001b[0;32m   (...)\u001b[0m\n\u001b[1;32m  11795\u001b[0m     \u001b[38;5;241m*\u001b[39m\u001b[38;5;241m*\u001b[39mkwargs,\n\u001b[1;32m  11796\u001b[0m ):\n\u001b[0;32m> 11797\u001b[0m     \u001b[38;5;28;01mreturn\u001b[39;00m \u001b[43mNDFrame\u001b[49m\u001b[38;5;241;43m.\u001b[39;49m\u001b[43msum\u001b[49m\u001b[43m(\u001b[49m\n\u001b[1;32m  11798\u001b[0m \u001b[43m        \u001b[49m\u001b[38;5;28;43mself\u001b[39;49m\u001b[43m,\u001b[49m\u001b[43m \u001b[49m\u001b[43maxis\u001b[49m\u001b[43m,\u001b[49m\u001b[43m \u001b[49m\u001b[43mskipna\u001b[49m\u001b[43m,\u001b[49m\u001b[43m \u001b[49m\u001b[43mlevel\u001b[49m\u001b[43m,\u001b[49m\u001b[43m \u001b[49m\u001b[43mnumeric_only\u001b[49m\u001b[43m,\u001b[49m\u001b[43m \u001b[49m\u001b[43mmin_count\u001b[49m\u001b[43m,\u001b[49m\u001b[43m \u001b[49m\u001b[38;5;241;43m*\u001b[39;49m\u001b[38;5;241;43m*\u001b[39;49m\u001b[43mkwargs\u001b[49m\n\u001b[1;32m  11799\u001b[0m \u001b[43m    \u001b[49m\u001b[43m)\u001b[49m\n",
      "File \u001b[0;32m~/miniconda3/envs/oligo/lib/python3.9/site-packages/pandas/core/generic.py:11501\u001b[0m, in \u001b[0;36mNDFrame.sum\u001b[0;34m(self, axis, skipna, level, numeric_only, min_count, **kwargs)\u001b[0m\n\u001b[1;32m  11492\u001b[0m \u001b[38;5;28;01mdef\u001b[39;00m \u001b[38;5;21msum\u001b[39m(\n\u001b[1;32m  11493\u001b[0m     \u001b[38;5;28mself\u001b[39m,\n\u001b[1;32m  11494\u001b[0m     axis: Axis \u001b[38;5;241m|\u001b[39m \u001b[38;5;28;01mNone\u001b[39;00m \u001b[38;5;241m=\u001b[39m \u001b[38;5;28;01mNone\u001b[39;00m,\n\u001b[0;32m   (...)\u001b[0m\n\u001b[1;32m  11499\u001b[0m     \u001b[38;5;241m*\u001b[39m\u001b[38;5;241m*\u001b[39mkwargs,\n\u001b[1;32m  11500\u001b[0m ):\n\u001b[0;32m> 11501\u001b[0m     \u001b[38;5;28;01mreturn\u001b[39;00m \u001b[38;5;28;43mself\u001b[39;49m\u001b[38;5;241;43m.\u001b[39;49m\u001b[43m_min_count_stat_function\u001b[49m\u001b[43m(\u001b[49m\n\u001b[1;32m  11502\u001b[0m \u001b[43m        \u001b[49m\u001b[38;5;124;43m\"\u001b[39;49m\u001b[38;5;124;43msum\u001b[39;49m\u001b[38;5;124;43m\"\u001b[39;49m\u001b[43m,\u001b[49m\u001b[43m \u001b[49m\u001b[43mnanops\u001b[49m\u001b[38;5;241;43m.\u001b[39;49m\u001b[43mnansum\u001b[49m\u001b[43m,\u001b[49m\u001b[43m \u001b[49m\u001b[43maxis\u001b[49m\u001b[43m,\u001b[49m\u001b[43m \u001b[49m\u001b[43mskipna\u001b[49m\u001b[43m,\u001b[49m\u001b[43m \u001b[49m\u001b[43mlevel\u001b[49m\u001b[43m,\u001b[49m\u001b[43m \u001b[49m\u001b[43mnumeric_only\u001b[49m\u001b[43m,\u001b[49m\u001b[43m \u001b[49m\u001b[43mmin_count\u001b[49m\u001b[43m,\u001b[49m\u001b[43m \u001b[49m\u001b[38;5;241;43m*\u001b[39;49m\u001b[38;5;241;43m*\u001b[39;49m\u001b[43mkwargs\u001b[49m\n\u001b[1;32m  11503\u001b[0m \u001b[43m    \u001b[49m\u001b[43m)\u001b[49m\n",
      "File \u001b[0;32m~/miniconda3/envs/oligo/lib/python3.9/site-packages/pandas/core/generic.py:11483\u001b[0m, in \u001b[0;36mNDFrame._min_count_stat_function\u001b[0;34m(self, name, func, axis, skipna, level, numeric_only, min_count, **kwargs)\u001b[0m\n\u001b[1;32m  11467\u001b[0m     warnings\u001b[38;5;241m.\u001b[39mwarn(\n\u001b[1;32m  11468\u001b[0m         \u001b[38;5;124m\"\u001b[39m\u001b[38;5;124mUsing the level keyword in DataFrame and Series aggregations is \u001b[39m\u001b[38;5;124m\"\u001b[39m\n\u001b[1;32m  11469\u001b[0m         \u001b[38;5;124m\"\u001b[39m\u001b[38;5;124mdeprecated and will be removed in a future version. Use groupby \u001b[39m\u001b[38;5;124m\"\u001b[39m\n\u001b[0;32m   (...)\u001b[0m\n\u001b[1;32m  11472\u001b[0m         stacklevel\u001b[38;5;241m=\u001b[39mfind_stack_level(),\n\u001b[1;32m  11473\u001b[0m     )\n\u001b[1;32m  11474\u001b[0m     \u001b[38;5;28;01mreturn\u001b[39;00m \u001b[38;5;28mself\u001b[39m\u001b[38;5;241m.\u001b[39m_agg_by_level(\n\u001b[1;32m  11475\u001b[0m         name,\n\u001b[1;32m  11476\u001b[0m         axis\u001b[38;5;241m=\u001b[39maxis,\n\u001b[0;32m   (...)\u001b[0m\n\u001b[1;32m  11480\u001b[0m         numeric_only\u001b[38;5;241m=\u001b[39mnumeric_only,\n\u001b[1;32m  11481\u001b[0m     )\n\u001b[0;32m> 11483\u001b[0m \u001b[38;5;28;01mreturn\u001b[39;00m \u001b[38;5;28;43mself\u001b[39;49m\u001b[38;5;241;43m.\u001b[39;49m\u001b[43m_reduce\u001b[49m\u001b[43m(\u001b[49m\n\u001b[1;32m  11484\u001b[0m \u001b[43m    \u001b[49m\u001b[43mfunc\u001b[49m\u001b[43m,\u001b[49m\n\u001b[1;32m  11485\u001b[0m \u001b[43m    \u001b[49m\u001b[43mname\u001b[49m\u001b[38;5;241;43m=\u001b[39;49m\u001b[43mname\u001b[49m\u001b[43m,\u001b[49m\n\u001b[1;32m  11486\u001b[0m \u001b[43m    \u001b[49m\u001b[43maxis\u001b[49m\u001b[38;5;241;43m=\u001b[39;49m\u001b[43maxis\u001b[49m\u001b[43m,\u001b[49m\n\u001b[1;32m  11487\u001b[0m \u001b[43m    \u001b[49m\u001b[43mskipna\u001b[49m\u001b[38;5;241;43m=\u001b[39;49m\u001b[43mskipna\u001b[49m\u001b[43m,\u001b[49m\n\u001b[1;32m  11488\u001b[0m \u001b[43m    \u001b[49m\u001b[43mnumeric_only\u001b[49m\u001b[38;5;241;43m=\u001b[39;49m\u001b[43mnumeric_only\u001b[49m\u001b[43m,\u001b[49m\n\u001b[1;32m  11489\u001b[0m \u001b[43m    \u001b[49m\u001b[43mmin_count\u001b[49m\u001b[38;5;241;43m=\u001b[39;49m\u001b[43mmin_count\u001b[49m\u001b[43m,\u001b[49m\n\u001b[1;32m  11490\u001b[0m \u001b[43m\u001b[49m\u001b[43m)\u001b[49m\n",
      "File \u001b[0;32m~/miniconda3/envs/oligo/lib/python3.9/site-packages/pandas/core/series.py:4816\u001b[0m, in \u001b[0;36mSeries._reduce\u001b[0;34m(self, op, name, axis, skipna, numeric_only, filter_type, **kwds)\u001b[0m\n\u001b[1;32m   4812\u001b[0m     \u001b[38;5;28;01mraise\u001b[39;00m \u001b[38;5;167;01mNotImplementedError\u001b[39;00m(\n\u001b[1;32m   4813\u001b[0m         \u001b[38;5;124mf\u001b[39m\u001b[38;5;124m\"\u001b[39m\u001b[38;5;124mSeries.\u001b[39m\u001b[38;5;132;01m{\u001b[39;00mname\u001b[38;5;132;01m}\u001b[39;00m\u001b[38;5;124m does not implement \u001b[39m\u001b[38;5;132;01m{\u001b[39;00mkwd_name\u001b[38;5;132;01m}\u001b[39;00m\u001b[38;5;124m.\u001b[39m\u001b[38;5;124m\"\u001b[39m\n\u001b[1;32m   4814\u001b[0m     )\n\u001b[1;32m   4815\u001b[0m \u001b[38;5;28;01mwith\u001b[39;00m np\u001b[38;5;241m.\u001b[39merrstate(\u001b[38;5;28mall\u001b[39m\u001b[38;5;241m=\u001b[39m\u001b[38;5;124m\"\u001b[39m\u001b[38;5;124mignore\u001b[39m\u001b[38;5;124m\"\u001b[39m):\n\u001b[0;32m-> 4816\u001b[0m     \u001b[38;5;28;01mreturn\u001b[39;00m \u001b[43mop\u001b[49m\u001b[43m(\u001b[49m\u001b[43mdelegate\u001b[49m\u001b[43m,\u001b[49m\u001b[43m \u001b[49m\u001b[43mskipna\u001b[49m\u001b[38;5;241;43m=\u001b[39;49m\u001b[43mskipna\u001b[49m\u001b[43m,\u001b[49m\u001b[43m \u001b[49m\u001b[38;5;241;43m*\u001b[39;49m\u001b[38;5;241;43m*\u001b[39;49m\u001b[43mkwds\u001b[49m\u001b[43m)\u001b[49m\n",
      "File \u001b[0;32m~/miniconda3/envs/oligo/lib/python3.9/site-packages/pandas/core/nanops.py:93\u001b[0m, in \u001b[0;36mdisallow.__call__.<locals>._f\u001b[0;34m(*args, **kwargs)\u001b[0m\n\u001b[1;32m     91\u001b[0m \u001b[38;5;28;01mtry\u001b[39;00m:\n\u001b[1;32m     92\u001b[0m     \u001b[38;5;28;01mwith\u001b[39;00m np\u001b[38;5;241m.\u001b[39merrstate(invalid\u001b[38;5;241m=\u001b[39m\u001b[38;5;124m\"\u001b[39m\u001b[38;5;124mignore\u001b[39m\u001b[38;5;124m\"\u001b[39m):\n\u001b[0;32m---> 93\u001b[0m         \u001b[38;5;28;01mreturn\u001b[39;00m \u001b[43mf\u001b[49m\u001b[43m(\u001b[49m\u001b[38;5;241;43m*\u001b[39;49m\u001b[43margs\u001b[49m\u001b[43m,\u001b[49m\u001b[43m \u001b[49m\u001b[38;5;241;43m*\u001b[39;49m\u001b[38;5;241;43m*\u001b[39;49m\u001b[43mkwargs\u001b[49m\u001b[43m)\u001b[49m\n\u001b[1;32m     94\u001b[0m \u001b[38;5;28;01mexcept\u001b[39;00m \u001b[38;5;167;01mValueError\u001b[39;00m \u001b[38;5;28;01mas\u001b[39;00m e:\n\u001b[1;32m     95\u001b[0m     \u001b[38;5;66;03m# we want to transform an object array\u001b[39;00m\n\u001b[1;32m     96\u001b[0m     \u001b[38;5;66;03m# ValueError message to the more typical TypeError\u001b[39;00m\n\u001b[1;32m     97\u001b[0m     \u001b[38;5;66;03m# e.g. this is normally a disallowed function on\u001b[39;00m\n\u001b[1;32m     98\u001b[0m     \u001b[38;5;66;03m# object arrays that contain strings\u001b[39;00m\n\u001b[1;32m     99\u001b[0m     \u001b[38;5;28;01mif\u001b[39;00m is_object_dtype(args[\u001b[38;5;241m0\u001b[39m]):\n",
      "File \u001b[0;32m~/miniconda3/envs/oligo/lib/python3.9/site-packages/pandas/core/nanops.py:418\u001b[0m, in \u001b[0;36m_datetimelike_compat.<locals>.new_func\u001b[0;34m(values, axis, skipna, mask, **kwargs)\u001b[0m\n\u001b[1;32m    415\u001b[0m \u001b[38;5;28;01mif\u001b[39;00m datetimelike \u001b[38;5;129;01mand\u001b[39;00m mask \u001b[38;5;129;01mis\u001b[39;00m \u001b[38;5;28;01mNone\u001b[39;00m:\n\u001b[1;32m    416\u001b[0m     mask \u001b[38;5;241m=\u001b[39m isna(values)\n\u001b[0;32m--> 418\u001b[0m result \u001b[38;5;241m=\u001b[39m \u001b[43mfunc\u001b[49m\u001b[43m(\u001b[49m\u001b[43mvalues\u001b[49m\u001b[43m,\u001b[49m\u001b[43m \u001b[49m\u001b[43maxis\u001b[49m\u001b[38;5;241;43m=\u001b[39;49m\u001b[43maxis\u001b[49m\u001b[43m,\u001b[49m\u001b[43m \u001b[49m\u001b[43mskipna\u001b[49m\u001b[38;5;241;43m=\u001b[39;49m\u001b[43mskipna\u001b[49m\u001b[43m,\u001b[49m\u001b[43m \u001b[49m\u001b[43mmask\u001b[49m\u001b[38;5;241;43m=\u001b[39;49m\u001b[43mmask\u001b[49m\u001b[43m,\u001b[49m\u001b[43m \u001b[49m\u001b[38;5;241;43m*\u001b[39;49m\u001b[38;5;241;43m*\u001b[39;49m\u001b[43mkwargs\u001b[49m\u001b[43m)\u001b[49m\n\u001b[1;32m    420\u001b[0m \u001b[38;5;28;01mif\u001b[39;00m datetimelike:\n\u001b[1;32m    421\u001b[0m     result \u001b[38;5;241m=\u001b[39m _wrap_results(result, orig_values\u001b[38;5;241m.\u001b[39mdtype, fill_value\u001b[38;5;241m=\u001b[39miNaT)\n",
      "File \u001b[0;32m~/miniconda3/envs/oligo/lib/python3.9/site-packages/pandas/core/nanops.py:491\u001b[0m, in \u001b[0;36mmaybe_operate_rowwise.<locals>.newfunc\u001b[0;34m(values, axis, **kwargs)\u001b[0m\n\u001b[1;32m    488\u001b[0m         results \u001b[38;5;241m=\u001b[39m [func(x, \u001b[38;5;241m*\u001b[39m\u001b[38;5;241m*\u001b[39mkwargs) \u001b[38;5;28;01mfor\u001b[39;00m x \u001b[38;5;129;01min\u001b[39;00m arrs]\n\u001b[1;32m    489\u001b[0m     \u001b[38;5;28;01mreturn\u001b[39;00m np\u001b[38;5;241m.\u001b[39marray(results)\n\u001b[0;32m--> 491\u001b[0m \u001b[38;5;28;01mreturn\u001b[39;00m \u001b[43mfunc\u001b[49m\u001b[43m(\u001b[49m\u001b[43mvalues\u001b[49m\u001b[43m,\u001b[49m\u001b[43m \u001b[49m\u001b[43maxis\u001b[49m\u001b[38;5;241;43m=\u001b[39;49m\u001b[43maxis\u001b[49m\u001b[43m,\u001b[49m\u001b[43m \u001b[49m\u001b[38;5;241;43m*\u001b[39;49m\u001b[38;5;241;43m*\u001b[39;49m\u001b[43mkwargs\u001b[49m\u001b[43m)\u001b[49m\n",
      "File \u001b[0;32m~/miniconda3/envs/oligo/lib/python3.9/site-packages/pandas/core/nanops.py:631\u001b[0m, in \u001b[0;36mnansum\u001b[0;34m(values, axis, skipna, min_count, mask)\u001b[0m\n\u001b[1;32m    628\u001b[0m \u001b[38;5;28;01melif\u001b[39;00m is_timedelta64_dtype(dtype):\n\u001b[1;32m    629\u001b[0m     dtype_sum \u001b[38;5;241m=\u001b[39m np\u001b[38;5;241m.\u001b[39mdtype(np\u001b[38;5;241m.\u001b[39mfloat64)\n\u001b[0;32m--> 631\u001b[0m the_sum \u001b[38;5;241m=\u001b[39m \u001b[43mvalues\u001b[49m\u001b[38;5;241;43m.\u001b[39;49m\u001b[43msum\u001b[49m\u001b[43m(\u001b[49m\u001b[43maxis\u001b[49m\u001b[43m,\u001b[49m\u001b[43m \u001b[49m\u001b[43mdtype\u001b[49m\u001b[38;5;241;43m=\u001b[39;49m\u001b[43mdtype_sum\u001b[49m\u001b[43m)\u001b[49m\n\u001b[1;32m    632\u001b[0m the_sum \u001b[38;5;241m=\u001b[39m _maybe_null_out(the_sum, axis, mask, values\u001b[38;5;241m.\u001b[39mshape, min_count\u001b[38;5;241m=\u001b[39mmin_count)\n\u001b[1;32m    634\u001b[0m \u001b[38;5;28;01mreturn\u001b[39;00m the_sum\n",
      "File \u001b[0;32m~/miniconda3/envs/oligo/lib/python3.9/site-packages/numpy/core/_methods.py:49\u001b[0m, in \u001b[0;36m_sum\u001b[0;34m(a, axis, dtype, out, keepdims, initial, where)\u001b[0m\n\u001b[1;32m     47\u001b[0m \u001b[38;5;28;01mdef\u001b[39;00m \u001b[38;5;21m_sum\u001b[39m(a, axis\u001b[38;5;241m=\u001b[39m\u001b[38;5;28;01mNone\u001b[39;00m, dtype\u001b[38;5;241m=\u001b[39m\u001b[38;5;28;01mNone\u001b[39;00m, out\u001b[38;5;241m=\u001b[39m\u001b[38;5;28;01mNone\u001b[39;00m, keepdims\u001b[38;5;241m=\u001b[39m\u001b[38;5;28;01mFalse\u001b[39;00m,\n\u001b[1;32m     48\u001b[0m          initial\u001b[38;5;241m=\u001b[39m_NoValue, where\u001b[38;5;241m=\u001b[39m\u001b[38;5;28;01mTrue\u001b[39;00m):\n\u001b[0;32m---> 49\u001b[0m     \u001b[38;5;28;01mreturn\u001b[39;00m \u001b[43mumr_sum\u001b[49m\u001b[43m(\u001b[49m\u001b[43ma\u001b[49m\u001b[43m,\u001b[49m\u001b[43m \u001b[49m\u001b[43maxis\u001b[49m\u001b[43m,\u001b[49m\u001b[43m \u001b[49m\u001b[43mdtype\u001b[49m\u001b[43m,\u001b[49m\u001b[43m \u001b[49m\u001b[43mout\u001b[49m\u001b[43m,\u001b[49m\u001b[43m \u001b[49m\u001b[43mkeepdims\u001b[49m\u001b[43m,\u001b[49m\u001b[43m \u001b[49m\u001b[43minitial\u001b[49m\u001b[43m,\u001b[49m\u001b[43m \u001b[49m\u001b[43mwhere\u001b[49m\u001b[43m)\u001b[49m\n",
      "\u001b[0;31mKeyboardInterrupt\u001b[0m: "
     ]
    }
   ],
   "source": [
    "df['zscore_apex'] = ([calc_apex_zscore(i, j, int(df['exp_count'].sum()), int(df['bg_count'].sum())) \\\n",
    "                      for i, j in zip(df.exp_count, df.bg_count)])\n"
   ]
  },
  {
   "cell_type": "markdown",
   "id": "23a5cceb-f8bc-4702-b992-650054686f51",
   "metadata": {},
   "source": [
    "# code archive below here"
   ]
  },
  {
   "cell_type": "code",
   "execution_count": 4,
   "id": "7eb29622-f516-4e4e-944a-fa26530b48a2",
   "metadata": {},
   "outputs": [
    {
     "data": {
      "text/plain": [
       "[11, 12, 13, 14, 15]"
      ]
     },
     "execution_count": 4,
     "metadata": {},
     "output_type": "execute_result"
    }
   ],
   "source": [
    "kmers = list(range(11,16))\n",
    "kmers"
   ]
  },
  {
   "cell_type": "code",
   "execution_count": 5,
   "id": "bf2ee962-81e6-4fb4-aed8-e90130931202",
   "metadata": {},
   "outputs": [],
   "source": [
    "# for k in kmers:\n",
    "#     library_file = f'../oligo/data/bait_kmers/library_{k}mers.csv'\n",
    "#     lib_set = get_library_set(library_file)\n",
    "#     for i in range(1,4):\n",
    "#         files = glob.glob(f'../oligo/results_pruned/{k}mer/oligo_{i}*{k}mers_unique.csv')\n",
    "#         print(files)\n",
    "#         truth_file = f'../oligo/data/bait_kmers/oligo_{i}_{k}mers.csv'\n",
    "#         outfile_prefix = f'oligo_{i}'\n",
    "#         for f in tqdm(files):\n",
    "#             truth_set = get_truth_set(truth_file)\n",
    "#             exp = re.search('(?<=_)\\w\\w(?=_)', f)[0]\n",
    "#             df = calc_zscore(f)\n",
    "#             df_out = label_exp(df, truth_set, lib_set, exp)\n",
    "#             df_out.to_csv(f'../oligo/results_pruned/{k}mer/{outfile_prefix}_{exp}_{k}mer_enrichment.csv', index=False)"
   ]
  },
  {
   "cell_type": "code",
   "execution_count": 6,
   "id": "70753026-e492-4aa4-883c-a35de51f0a70",
   "metadata": {},
   "outputs": [
    {
     "data": {
      "text/plain": [
       "[5, 6, 7, 8, 9, 10, 11, 12, 13, 14, 15]"
      ]
     },
     "execution_count": 6,
     "metadata": {},
     "output_type": "execute_result"
    }
   ],
   "source": [
    "kmers = list(range(5,16))\n",
    "kmers"
   ]
  },
  {
   "cell_type": "code",
   "execution_count": 7,
   "id": "77618c8a-74e2-4c98-bc27-2a378d369b2a",
   "metadata": {
    "scrolled": true
   },
   "outputs": [
    {
     "name": "stdout",
     "output_type": "stream",
     "text": [
      "['../oligo/results_pruned/5mer/oligo_1_3w_3mm_5mers_unique.csv', '../oligo/results_pruned/5mer/oligo_1_0w_3mm_5mers_unique.csv', '../oligo/results_pruned/5mer/oligo_1_bg_3mm_5mers_unique.csv', '../oligo/results_pruned/5mer/oligo_1_1w_3mm_5mers_unique.csv']\n"
     ]
    },
    {
     "name": "stderr",
     "output_type": "stream",
     "text": [
      "100%|██████████████████████████████████████████████████████████████████████████████████████████| 4/4 [00:00<00:00, 24.06it/s]\n"
     ]
    },
    {
     "name": "stdout",
     "output_type": "stream",
     "text": [
      "['../oligo/results_pruned/5mer/oligo_2_3w_3mm_5mers_unique.csv', '../oligo/results_pruned/5mer/oligo_2_1w_3mm_5mers_unique.csv', '../oligo/results_pruned/5mer/oligo_2_0w_3mm_5mers_unique.csv', '../oligo/results_pruned/5mer/oligo_2_bg_3mm_5mers_unique.csv']\n"
     ]
    },
    {
     "name": "stderr",
     "output_type": "stream",
     "text": [
      "100%|██████████████████████████████████████████████████████████████████████████████████████████| 4/4 [00:00<00:00, 51.12it/s]\n"
     ]
    },
    {
     "name": "stdout",
     "output_type": "stream",
     "text": [
      "['../oligo/results_pruned/5mer/oligo_3_1w_3mm_5mers_unique.csv', '../oligo/results_pruned/5mer/oligo_3_0w_3mm_5mers_unique.csv', '../oligo/results_pruned/5mer/oligo_3_bg_3mm_5mers_unique.csv', '../oligo/results_pruned/5mer/oligo_3_3w_3mm_5mers_unique.csv']\n"
     ]
    },
    {
     "name": "stderr",
     "output_type": "stream",
     "text": [
      "100%|██████████████████████████████████████████████████████████████████████████████████████████| 4/4 [00:00<00:00, 50.70it/s]\n"
     ]
    },
    {
     "name": "stdout",
     "output_type": "stream",
     "text": [
      "['../oligo/results_pruned/6mer/oligo_1_3w_3mm_6mers_unique.csv', '../oligo/results_pruned/6mer/oligo_1_1w_3mm_6mers_unique.csv', '../oligo/results_pruned/6mer/oligo_1_bg_3mm_6mers_unique.csv', '../oligo/results_pruned/6mer/oligo_1_0w_3mm_6mers_unique.csv']\n"
     ]
    },
    {
     "name": "stderr",
     "output_type": "stream",
     "text": [
      "100%|██████████████████████████████████████████████████████████████████████████████████████████| 4/4 [00:00<00:00, 17.89it/s]\n"
     ]
    },
    {
     "name": "stdout",
     "output_type": "stream",
     "text": [
      "['../oligo/results_pruned/6mer/oligo_2_3w_3mm_6mers_unique.csv', '../oligo/results_pruned/6mer/oligo_2_bg_3mm_6mers_unique.csv', '../oligo/results_pruned/6mer/oligo_2_0w_3mm_6mers_unique.csv', '../oligo/results_pruned/6mer/oligo_2_1w_3mm_6mers_unique.csv']\n"
     ]
    },
    {
     "name": "stderr",
     "output_type": "stream",
     "text": [
      "100%|██████████████████████████████████████████████████████████████████████████████████████████| 4/4 [00:00<00:00, 26.56it/s]\n"
     ]
    },
    {
     "name": "stdout",
     "output_type": "stream",
     "text": [
      "['../oligo/results_pruned/6mer/oligo_3_bg_3mm_6mers_unique.csv', '../oligo/results_pruned/6mer/oligo_3_0w_3mm_6mers_unique.csv', '../oligo/results_pruned/6mer/oligo_3_1w_3mm_6mers_unique.csv', '../oligo/results_pruned/6mer/oligo_3_3w_3mm_6mers_unique.csv']\n"
     ]
    },
    {
     "name": "stderr",
     "output_type": "stream",
     "text": [
      "100%|██████████████████████████████████████████████████████████████████████████████████████████| 4/4 [00:00<00:00, 20.95it/s]\n"
     ]
    },
    {
     "name": "stdout",
     "output_type": "stream",
     "text": [
      "['../oligo/results_pruned/7mer/oligo_1_3w_3mm_7mers_unique.csv', '../oligo/results_pruned/7mer/oligo_1_0w_3mm_7mers_unique.csv', '../oligo/results_pruned/7mer/oligo_1_bg_3mm_7mers_unique.csv', '../oligo/results_pruned/7mer/oligo_1_1w_3mm_7mers_unique.csv']\n"
     ]
    },
    {
     "name": "stderr",
     "output_type": "stream",
     "text": [
      "100%|██████████████████████████████████████████████████████████████████████████████████████████| 4/4 [00:00<00:00,  8.25it/s]\n"
     ]
    },
    {
     "name": "stdout",
     "output_type": "stream",
     "text": [
      "['../oligo/results_pruned/7mer/oligo_2_3w_3mm_7mers_unique.csv', '../oligo/results_pruned/7mer/oligo_2_1w_3mm_7mers_unique.csv', '../oligo/results_pruned/7mer/oligo_2_0w_3mm_7mers_unique.csv', '../oligo/results_pruned/7mer/oligo_2_bg_3mm_7mers_unique.csv']\n"
     ]
    },
    {
     "name": "stderr",
     "output_type": "stream",
     "text": [
      "100%|██████████████████████████████████████████████████████████████████████████████████████████| 4/4 [00:00<00:00,  7.47it/s]\n"
     ]
    },
    {
     "name": "stdout",
     "output_type": "stream",
     "text": [
      "['../oligo/results_pruned/7mer/oligo_3_1w_3mm_7mers_unique.csv', '../oligo/results_pruned/7mer/oligo_3_0w_3mm_7mers_unique.csv', '../oligo/results_pruned/7mer/oligo_3_bg_3mm_7mers_unique.csv', '../oligo/results_pruned/7mer/oligo_3_3w_3mm_7mers_unique.csv']\n"
     ]
    },
    {
     "name": "stderr",
     "output_type": "stream",
     "text": [
      "100%|██████████████████████████████████████████████████████████████████████████████████████████| 4/4 [00:00<00:00,  9.19it/s]\n"
     ]
    },
    {
     "name": "stdout",
     "output_type": "stream",
     "text": [
      "['../oligo/results_pruned/8mer/oligo_1_1w_3mm_8mers_unique.csv', '../oligo/results_pruned/8mer/oligo_1_0w_3mm_8mers_unique.csv', '../oligo/results_pruned/8mer/oligo_1_bg_3mm_8mers_unique.csv', '../oligo/results_pruned/8mer/oligo_1_3w_3mm_8mers_unique.csv']\n"
     ]
    },
    {
     "name": "stderr",
     "output_type": "stream",
     "text": [
      "100%|██████████████████████████████████████████████████████████████████████████████████████████| 4/4 [00:01<00:00,  2.97it/s]\n"
     ]
    },
    {
     "name": "stdout",
     "output_type": "stream",
     "text": [
      "['../oligo/results_pruned/8mer/oligo_2_0w_3mm_8mers_unique.csv', '../oligo/results_pruned/8mer/oligo_2_bg_3mm_8mers_unique.csv', '../oligo/results_pruned/8mer/oligo_2_1w_3mm_8mers_unique.csv', '../oligo/results_pruned/8mer/oligo_2_3w_3mm_8mers_unique.csv']\n"
     ]
    },
    {
     "name": "stderr",
     "output_type": "stream",
     "text": [
      "100%|██████████████████████████████████████████████████████████████████████████████████████████| 4/4 [00:01<00:00,  3.04it/s]\n"
     ]
    },
    {
     "name": "stdout",
     "output_type": "stream",
     "text": [
      "['../oligo/results_pruned/8mer/oligo_3_3w_3mm_8mers_unique.csv', '../oligo/results_pruned/8mer/oligo_3_0w_3mm_8mers_unique.csv', '../oligo/results_pruned/8mer/oligo_3_bg_3mm_8mers_unique.csv', '../oligo/results_pruned/8mer/oligo_3_1w_3mm_8mers_unique.csv']\n"
     ]
    },
    {
     "name": "stderr",
     "output_type": "stream",
     "text": [
      "100%|██████████████████████████████████████████████████████████████████████████████████████████| 4/4 [00:01<00:00,  3.08it/s]\n"
     ]
    },
    {
     "name": "stdout",
     "output_type": "stream",
     "text": [
      "['../oligo/results_pruned/9mer/oligo_1_0w_3mm_9mers_unique.csv', '../oligo/results_pruned/9mer/oligo_1_bg_3mm_9mers_unique.csv', '../oligo/results_pruned/9mer/oligo_1_1w_3mm_9mers_unique.csv', '../oligo/results_pruned/9mer/oligo_1_3w_3mm_9mers_unique.csv']\n"
     ]
    },
    {
     "name": "stderr",
     "output_type": "stream",
     "text": [
      "100%|██████████████████████████████████████████████████████████████████████████████████████████| 4/4 [00:04<00:00,  1.17s/it]\n"
     ]
    },
    {
     "name": "stdout",
     "output_type": "stream",
     "text": [
      "['../oligo/results_pruned/9mer/oligo_2_1w_3mm_9mers_unique.csv', '../oligo/results_pruned/9mer/oligo_2_0w_3mm_9mers_unique.csv', '../oligo/results_pruned/9mer/oligo_2_bg_3mm_9mers_unique.csv', '../oligo/results_pruned/9mer/oligo_2_3w_3mm_9mers_unique.csv']\n"
     ]
    },
    {
     "name": "stderr",
     "output_type": "stream",
     "text": [
      "100%|██████████████████████████████████████████████████████████████████████████████████████████| 4/4 [00:04<00:00,  1.22s/it]\n"
     ]
    },
    {
     "name": "stdout",
     "output_type": "stream",
     "text": [
      "['../oligo/results_pruned/9mer/oligo_3_3w_3mm_9mers_unique.csv', '../oligo/results_pruned/9mer/oligo_3_1w_3mm_9mers_unique.csv', '../oligo/results_pruned/9mer/oligo_3_0w_3mm_9mers_unique.csv', '../oligo/results_pruned/9mer/oligo_3_bg_3mm_9mers_unique.csv']\n"
     ]
    },
    {
     "name": "stderr",
     "output_type": "stream",
     "text": [
      "100%|██████████████████████████████████████████████████████████████████████████████████████████| 4/4 [00:04<00:00,  1.17s/it]\n"
     ]
    },
    {
     "name": "stdout",
     "output_type": "stream",
     "text": [
      "['../oligo/results_pruned/10mer/oligo_1_3w_3mm_10mers_unique.csv', '../oligo/results_pruned/10mer/oligo_1_0w_3mm_10mers_unique.csv', '../oligo/results_pruned/10mer/oligo_1_1w_3mm_10mers_unique.csv', '../oligo/results_pruned/10mer/oligo_1_bg_3mm_10mers_unique.csv']\n"
     ]
    },
    {
     "name": "stderr",
     "output_type": "stream",
     "text": [
      "100%|██████████████████████████████████████████████████████████████████████████████████████████| 4/4 [00:18<00:00,  4.72s/it]\n"
     ]
    },
    {
     "name": "stdout",
     "output_type": "stream",
     "text": [
      "['../oligo/results_pruned/10mer/oligo_2_3w_3mm_10mers_unique.csv', '../oligo/results_pruned/10mer/oligo_2_0w_3mm_10mers_unique.csv', '../oligo/results_pruned/10mer/oligo_2_1w_3mm_10mers_unique.csv', '../oligo/results_pruned/10mer/oligo_2_bg_3mm_10mers_unique.csv']\n"
     ]
    },
    {
     "name": "stderr",
     "output_type": "stream",
     "text": [
      "100%|██████████████████████████████████████████████████████████████████████████████████████████| 4/4 [00:18<00:00,  4.64s/it]\n"
     ]
    },
    {
     "name": "stdout",
     "output_type": "stream",
     "text": [
      "['../oligo/results_pruned/10mer/oligo_3_3w_3mm_10mers_unique.csv', '../oligo/results_pruned/10mer/oligo_3_0w_3mm_10mers_unique.csv', '../oligo/results_pruned/10mer/oligo_3_1w_3mm_10mers_unique.csv', '../oligo/results_pruned/10mer/oligo_3_bg_3mm_10mers_unique.csv']\n"
     ]
    },
    {
     "name": "stderr",
     "output_type": "stream",
     "text": [
      "100%|██████████████████████████████████████████████████████████████████████████████████████████| 4/4 [00:18<00:00,  4.71s/it]\n"
     ]
    },
    {
     "name": "stdout",
     "output_type": "stream",
     "text": [
      "['../oligo/results_pruned/11mer/oligo_1_3w_3mm_11mers_unique.csv', '../oligo/results_pruned/11mer/oligo_1_1w_3mm_11mers_unique.csv', '../oligo/results_pruned/11mer/oligo_1_0w_3mm_11mers_unique.csv', '../oligo/results_pruned/11mer/oligo_1_bg_3mm_11mers_unique.csv']\n"
     ]
    },
    {
     "name": "stderr",
     "output_type": "stream",
     "text": [
      "100%|██████████████████████████████████████████████████████████████████████████████████████████| 4/4 [01:15<00:00, 18.84s/it]\n"
     ]
    },
    {
     "name": "stdout",
     "output_type": "stream",
     "text": [
      "['../oligo/results_pruned/11mer/oligo_2_3w_3mm_11mers_unique.csv', '../oligo/results_pruned/11mer/oligo_2_1w_3mm_11mers_unique.csv', '../oligo/results_pruned/11mer/oligo_2_0w_3mm_11mers_unique.csv', '../oligo/results_pruned/11mer/oligo_2_bg_3mm_11mers_unique.csv']\n"
     ]
    },
    {
     "name": "stderr",
     "output_type": "stream",
     "text": [
      "100%|██████████████████████████████████████████████████████████████████████████████████████████| 4/4 [01:05<00:00, 16.34s/it]\n"
     ]
    },
    {
     "name": "stdout",
     "output_type": "stream",
     "text": [
      "['../oligo/results_pruned/11mer/oligo_3_3w_3mm_11mers_unique.csv', '../oligo/results_pruned/11mer/oligo_3_1w_3mm_11mers_unique.csv', '../oligo/results_pruned/11mer/oligo_3_0w_3mm_11mers_unique.csv', '../oligo/results_pruned/11mer/oligo_3_bg_3mm_11mers_unique.csv']\n"
     ]
    },
    {
     "name": "stderr",
     "output_type": "stream",
     "text": [
      "100%|██████████████████████████████████████████████████████████████████████████████████████████| 4/4 [01:08<00:00, 17.11s/it]\n"
     ]
    },
    {
     "name": "stdout",
     "output_type": "stream",
     "text": [
      "['../oligo/results_pruned/12mer/oligo_1_bg_3mm_12mers_unique.csv', '../oligo/results_pruned/12mer/oligo_1_3w_3mm_12mers_unique.csv', '../oligo/results_pruned/12mer/oligo_1_0w_3mm_12mers_unique.csv', '../oligo/results_pruned/12mer/oligo_1_1w_3mm_12mers_unique.csv']\n"
     ]
    },
    {
     "name": "stderr",
     "output_type": "stream",
     "text": [
      "100%|██████████████████████████████████████████████████████████████████████████████████████████| 4/4 [03:37<00:00, 54.27s/it]\n"
     ]
    },
    {
     "name": "stdout",
     "output_type": "stream",
     "text": [
      "['../oligo/results_pruned/12mer/oligo_2_bg_3mm_12mers_unique.csv', '../oligo/results_pruned/12mer/oligo_2_3w_3mm_12mers_unique.csv', '../oligo/results_pruned/12mer/oligo_2_0w_3mm_12mers_unique.csv', '../oligo/results_pruned/12mer/oligo_2_1w_3mm_12mers_unique.csv']\n"
     ]
    },
    {
     "name": "stderr",
     "output_type": "stream",
     "text": [
      "100%|██████████████████████████████████████████████████████████████████████████████████████████| 4/4 [02:24<00:00, 36.08s/it]\n"
     ]
    },
    {
     "name": "stdout",
     "output_type": "stream",
     "text": [
      "['../oligo/results_pruned/12mer/oligo_3_bg_3mm_12mers_unique.csv', '../oligo/results_pruned/12mer/oligo_3_3w_3mm_12mers_unique.csv', '../oligo/results_pruned/12mer/oligo_3_0w_3mm_12mers_unique.csv', '../oligo/results_pruned/12mer/oligo_3_1w_3mm_12mers_unique.csv']\n"
     ]
    },
    {
     "name": "stderr",
     "output_type": "stream",
     "text": [
      "100%|██████████████████████████████████████████████████████████████████████████████████████████| 4/4 [02:45<00:00, 41.42s/it]\n"
     ]
    },
    {
     "name": "stdout",
     "output_type": "stream",
     "text": [
      "['../oligo/results_pruned/13mer/oligo_1_3w_3mm_13mers_unique.csv', '../oligo/results_pruned/13mer/oligo_1_1w_3mm_13mers_unique.csv', '../oligo/results_pruned/13mer/oligo_1_0w_3mm_13mers_unique.csv', '../oligo/results_pruned/13mer/oligo_1_bg_3mm_13mers_unique.csv']\n"
     ]
    },
    {
     "name": "stderr",
     "output_type": "stream",
     "text": [
      "100%|██████████████████████████████████████████████████████████████████████████████████████████| 4/4 [06:23<00:00, 95.80s/it]\n"
     ]
    },
    {
     "name": "stdout",
     "output_type": "stream",
     "text": [
      "['../oligo/results_pruned/13mer/oligo_2_3w_3mm_13mers_unique.csv', '../oligo/results_pruned/13mer/oligo_2_1w_3mm_13mers_unique.csv', '../oligo/results_pruned/13mer/oligo_2_0w_3mm_13mers_unique.csv', '../oligo/results_pruned/13mer/oligo_2_bg_3mm_13mers_unique.csv']\n"
     ]
    },
    {
     "name": "stderr",
     "output_type": "stream",
     "text": [
      "100%|██████████████████████████████████████████████████████████████████████████████████████████| 4/4 [03:29<00:00, 52.49s/it]\n"
     ]
    },
    {
     "name": "stdout",
     "output_type": "stream",
     "text": [
      "['../oligo/results_pruned/13mer/oligo_3_3w_3mm_13mers_unique.csv', '../oligo/results_pruned/13mer/oligo_3_1w_3mm_13mers_unique.csv', '../oligo/results_pruned/13mer/oligo_3_0w_3mm_13mers_unique.csv', '../oligo/results_pruned/13mer/oligo_3_bg_3mm_13mers_unique.csv']\n"
     ]
    },
    {
     "name": "stderr",
     "output_type": "stream",
     "text": [
      "100%|██████████████████████████████████████████████████████████████████████████████████████████| 4/4 [04:20<00:00, 65.22s/it]\n"
     ]
    },
    {
     "name": "stdout",
     "output_type": "stream",
     "text": [
      "['../oligo/results_pruned/14mer/oligo_1_3w_3mm_14mers_unique.csv', '../oligo/results_pruned/14mer/oligo_1_0w_3mm_14mers_unique.csv', '../oligo/results_pruned/14mer/oligo_1_1w_3mm_14mers_unique.csv']\n"
     ]
    },
    {
     "name": "stderr",
     "output_type": "stream",
     "text": [
      "100%|█████████████████████████████████████████████████████████████████████████████████████████| 3/3 [06:18<00:00, 126.15s/it]\n"
     ]
    },
    {
     "name": "stdout",
     "output_type": "stream",
     "text": [
      "['../oligo/results_pruned/14mer/oligo_2_bg_3mm_14mers_unique.csv', '../oligo/results_pruned/14mer/oligo_2_3w_3mm_14mers_unique.csv', '../oligo/results_pruned/14mer/oligo_2_0w_3mm_14mers_unique.csv', '../oligo/results_pruned/14mer/oligo_2_1w_3mm_14mers_unique.csv']\n"
     ]
    },
    {
     "name": "stderr",
     "output_type": "stream",
     "text": [
      "100%|██████████████████████████████████████████████████████████████████████████████████████████| 4/4 [04:16<00:00, 64.17s/it]\n"
     ]
    },
    {
     "name": "stdout",
     "output_type": "stream",
     "text": [
      "['../oligo/results_pruned/14mer/oligo_3_bg_3mm_14mers_unique.csv', '../oligo/results_pruned/14mer/oligo_3_3w_3mm_14mers_unique.csv', '../oligo/results_pruned/14mer/oligo_3_0w_3mm_14mers_unique.csv', '../oligo/results_pruned/14mer/oligo_3_1w_3mm_14mers_unique.csv']\n"
     ]
    },
    {
     "name": "stderr",
     "output_type": "stream",
     "text": [
      "100%|██████████████████████████████████████████████████████████████████████████████████████████| 4/4 [05:23<00:00, 80.98s/it]\n"
     ]
    },
    {
     "name": "stdout",
     "output_type": "stream",
     "text": [
      "['../oligo/results_pruned/15mer/oligo_1_0w_3mm_15mers_unique.csv', '../oligo/results_pruned/15mer/oligo_1_1w_3mm_15mers_unique.csv', '../oligo/results_pruned/15mer/oligo_1_3w_3mm_15mers_unique.csv']\n"
     ]
    },
    {
     "name": "stderr",
     "output_type": "stream",
     "text": [
      "100%|█████████████████████████████████████████████████████████████████████████████████████████| 3/3 [07:24<00:00, 148.29s/it]\n"
     ]
    },
    {
     "name": "stdout",
     "output_type": "stream",
     "text": [
      "['../oligo/results_pruned/15mer/oligo_2_bg_3mm_15mers_unique.csv', '../oligo/results_pruned/15mer/oligo_2_0w_3mm_15mers_unique.csv', '../oligo/results_pruned/15mer/oligo_2_1w_3mm_15mers_unique.csv', '../oligo/results_pruned/15mer/oligo_2_3w_3mm_15mers_unique.csv']\n"
     ]
    },
    {
     "name": "stderr",
     "output_type": "stream",
     "text": [
      "100%|██████████████████████████████████████████████████████████████████████████████████████████| 4/4 [04:56<00:00, 74.01s/it]\n"
     ]
    },
    {
     "name": "stdout",
     "output_type": "stream",
     "text": [
      "['../oligo/results_pruned/15mer/oligo_3_bg_3mm_15mers_unique.csv', '../oligo/results_pruned/15mer/oligo_3_0w_3mm_15mers_unique.csv', '../oligo/results_pruned/15mer/oligo_3_1w_3mm_15mers_unique.csv', '../oligo/results_pruned/15mer/oligo_3_3w_3mm_15mers_unique.csv']\n"
     ]
    },
    {
     "name": "stderr",
     "output_type": "stream",
     "text": [
      "100%|██████████████████████████████████████████████████████████████████████████████████████████| 4/4 [06:19<00:00, 94.99s/it]\n"
     ]
    }
   ],
   "source": [
    "for k in kmers:\n",
    "    library_file = f'../oligo/data/bait_kmers/library_{k}mers.csv'\n",
    "    lib_set = get_library_set(library_file)\n",
    "    for i in range(1,4):\n",
    "        files = glob.glob(f'../oligo/results_pruned/{k}mer/oligo_{i}*{k}mers_unique.csv')\n",
    "        print(files)\n",
    "        truth_file = f'../oligo/data/bait_kmers/oligo_{i}_comp_{k}mers.csv'\n",
    "        outfile_prefix = f'oligo_{i}'\n",
    "        for f in tqdm(files):\n",
    "            truth_set = get_truth_set(truth_file)\n",
    "            exp = re.search('(?<=_)\\w\\w(?=_)', f)[0]\n",
    "            df = calc_zscore(f)\n",
    "            df_out = label_exp(df, truth_set, lib_set, exp)\n",
    "            df_out.to_csv(f'../oligo/results_pruned/{k}mer/{outfile_prefix}_{exp}_comp_{k}mer_enrichment.csv', index=False)"
   ]
  },
  {
   "cell_type": "code",
   "execution_count": 8,
   "id": "eb24d752-b20d-4ea6-aa02-458ccbd0a742",
   "metadata": {},
   "outputs": [],
   "source": [
    "# redo_files = ['../oligo/results/13mer/oligo_1_0w_13mers_unique.csv','../oligo/results/14mer/oligo_1_bg_14mers_unique.csv','../oligo/results/15mer/oligo_1_bg_15mers_unique.csv']\n",
    "# redo_k = [13, 14, 15]\n",
    "# i=1\n",
    "# for k, f in zip(redo_k, redo_files):\n",
    "#     print(k, '\\t', f)\n",
    "#     library_file = f'../oligo/data/bait_kmers/library_{k}mers.csv'\n",
    "#     lib_set = get_library_set(library_file)\n",
    "#     truth_file = f'../oligo/data/bait_kmers/oligo_{i}_{k}mers.csv'\n",
    "#     outfile_prefix = f'oligo_{i}'\n",
    "#     exp = re.search('(?<=_)\\w\\w(?=_)', f)[0]\n",
    "#     df = calc_zscore(f)\n",
    "#     df_out = label_exp(df, truth_set, lib_set, exp)\n",
    "#     df_out.to_csv(f'../oligo/results/{k}mer/{outfile_prefix}_{exp}_{k}mer_enrichment.csv', index=False)"
   ]
  },
  {
   "cell_type": "code",
   "execution_count": 9,
   "id": "7231a560-cd9c-4414-b22b-84eceba62cd9",
   "metadata": {},
   "outputs": [],
   "source": [
    "# k=11\n",
    "# library_file = f'../oligo/data/bait_kmers/library_comp_{k}mers.csv'\n",
    "# lib_set = get_library_set(library_file)"
   ]
  },
  {
   "cell_type": "code",
   "execution_count": 10,
   "id": "126425e3-b673-47fe-b906-977a5d8837da",
   "metadata": {},
   "outputs": [],
   "source": [
    "# for i in range(1,4):\n",
    "#     files = glob.glob(f'../oligo/results/{k}mer/oligo_{i}*{k}mers_unique.csv')\n",
    "#     print(files)\n",
    "#     truth_file = f'../oligo/data/bait_kmers/oligo_{i}_{k}mers.csv'\n",
    "#     outfile_prefix = f'oligo_{i}'\n",
    "#     for f in tqdm(files):\n",
    "#         truth_set = get_truth_set(truth_file)\n",
    "#         exp = re.search('(?<=_)\\w\\w(?=_)', f)[0]\n",
    "#         df = calc_zscore(f)\n",
    "#         df_out = label_exp(df, truth_set, lib_set, exp)\n",
    "#         #df_out.to_csv(f'../oligo/results/{k}mer/{outfile_prefix}_{exp}_{k}mer_enrichment.csv', index=False)"
   ]
  },
  {
   "cell_type": "markdown",
   "id": "7d03d3ff-3781-444f-910d-92f2f284bbc2",
   "metadata": {},
   "source": [
    "## streptavidin"
   ]
  },
  {
   "cell_type": "code",
   "execution_count": 4,
   "id": "75f3ac76-b936-4e26-98cd-bb3ddd68ca59",
   "metadata": {
    "scrolled": true
   },
   "outputs": [
    {
     "name": "stdout",
     "output_type": "stream",
     "text": [
      "['../oligo/results/hfog1/streptavidin_bg_5mers_unique.csv', '../oligo/results/hfog1/streptavidin_3w_5mers_unique.csv', '../oligo/results/hfog1/streptavidin_bg_15mers_unique.csv', '../oligo/results/hfog1/streptavidin_3w_15mers_unique.csv', '../oligo/results/hfog1/streptavidin_7w_5mers_unique.csv', '../oligo/results/hfog1/streptavidin_7w_15mers_unique.csv', '../oligo/results/hfog1/streptavidin_0w_5mers_unique.csv', '../oligo/results/hfog1/streptavidin_0w_15mers_unique.csv']\n"
     ]
    },
    {
     "name": "stderr",
     "output_type": "stream",
     "text": [
      "100%|███████████████████████████████████████| 8/8 [05:49<00:00, 43.66s/it]\n"
     ]
    },
    {
     "name": "stdout",
     "output_type": "stream",
     "text": [
      "['../oligo/results/hfog1/streptavidin_7w_6mers_unique.csv', '../oligo/results/hfog1/streptavidin_0w_6mers_unique.csv', '../oligo/results/hfog1/streptavidin_bg_6mers_unique.csv', '../oligo/results/hfog1/streptavidin_3w_6mers_unique.csv']\n"
     ]
    },
    {
     "name": "stderr",
     "output_type": "stream",
     "text": [
      "100%|███████████████████████████████████████| 4/4 [00:00<00:00,  5.34it/s]\n"
     ]
    },
    {
     "name": "stdout",
     "output_type": "stream",
     "text": [
      "['../oligo/results/hfog1/streptavidin_bg_7mers_unique.csv', '../oligo/results/hfog1/streptavidin_3w_7mers_unique.csv', '../oligo/results/hfog1/streptavidin_0w_7mers_unique.csv', '../oligo/results/hfog1/streptavidin_7w_7mers_unique.csv']\n"
     ]
    },
    {
     "name": "stderr",
     "output_type": "stream",
     "text": [
      "100%|███████████████████████████████████████| 4/4 [00:00<00:00,  7.26it/s]\n"
     ]
    },
    {
     "name": "stdout",
     "output_type": "stream",
     "text": [
      "['../oligo/results/hfog1/streptavidin_7w_8mers_unique.csv', '../oligo/results/hfog1/streptavidin_0w_8mers_unique.csv', '../oligo/results/hfog1/streptavidin_3w_8mers_unique.csv', '../oligo/results/hfog1/streptavidin_bg_8mers_unique.csv']\n"
     ]
    },
    {
     "name": "stderr",
     "output_type": "stream",
     "text": [
      "100%|███████████████████████████████████████| 4/4 [00:01<00:00,  2.60it/s]\n"
     ]
    },
    {
     "name": "stdout",
     "output_type": "stream",
     "text": [
      "['../oligo/results/hfog1/streptavidin_3w_9mers_unique.csv', '../oligo/results/hfog1/streptavidin_bg_9mers_unique.csv', '../oligo/results/hfog1/streptavidin_0w_9mers_unique.csv', '../oligo/results/hfog1/streptavidin_7w_9mers_unique.csv']\n"
     ]
    },
    {
     "name": "stderr",
     "output_type": "stream",
     "text": [
      "100%|███████████████████████████████████████| 4/4 [00:05<00:00,  1.31s/it]\n"
     ]
    },
    {
     "name": "stdout",
     "output_type": "stream",
     "text": [
      "['../oligo/results/hfog1/streptavidin_3w_10mers_unique.csv', '../oligo/results/hfog1/streptavidin_bg_10mers_unique.csv', '../oligo/results/hfog1/streptavidin_7w_10mers_unique.csv', '../oligo/results/hfog1/streptavidin_0w_10mers_unique.csv']\n"
     ]
    },
    {
     "name": "stderr",
     "output_type": "stream",
     "text": [
      "100%|███████████████████████████████████████| 4/4 [00:20<00:00,  5.08s/it]\n"
     ]
    },
    {
     "name": "stdout",
     "output_type": "stream",
     "text": [
      "['../oligo/results/hfog1/streptavidin_0w_11mers_unique.csv', '../oligo/results/hfog1/streptavidin_7w_11mers_unique.csv', '../oligo/results/hfog1/streptavidin_bg_11mers_unique.csv', '../oligo/results/hfog1/streptavidin_3w_11mers_unique.csv']\n"
     ]
    },
    {
     "name": "stderr",
     "output_type": "stream",
     "text": [
      "100%|███████████████████████████████████████| 4/4 [01:10<00:00, 17.75s/it]\n"
     ]
    },
    {
     "name": "stdout",
     "output_type": "stream",
     "text": [
      "['../oligo/results/hfog1/streptavidin_bg_12mers_unique.csv', '../oligo/results/hfog1/streptavidin_3w_12mers_unique.csv', '../oligo/results/hfog1/streptavidin_7w_12mers_unique.csv', '../oligo/results/hfog1/streptavidin_0w_12mers_unique.csv']\n"
     ]
    },
    {
     "name": "stderr",
     "output_type": "stream",
     "text": [
      "100%|███████████████████████████████████████| 4/4 [02:42<00:00, 40.65s/it]\n"
     ]
    },
    {
     "name": "stdout",
     "output_type": "stream",
     "text": [
      "['../oligo/results/hfog1/streptavidin_0w_13mers_unique.csv', '../oligo/results/hfog1/streptavidin_7w_13mers_unique.csv', '../oligo/results/hfog1/streptavidin_3w_13mers_unique.csv', '../oligo/results/hfog1/streptavidin_bg_13mers_unique.csv']\n"
     ]
    },
    {
     "name": "stderr",
     "output_type": "stream",
     "text": [
      "100%|███████████████████████████████████████| 4/4 [04:13<00:00, 63.30s/it]\n"
     ]
    },
    {
     "name": "stdout",
     "output_type": "stream",
     "text": [
      "['../oligo/results/hfog1/streptavidin_0w_14mers_unique.csv', '../oligo/results/hfog1/streptavidin_7w_14mers_unique.csv', '../oligo/results/hfog1/streptavidin_3w_14mers_unique.csv', '../oligo/results/hfog1/streptavidin_bg_14mers_unique.csv']\n"
     ]
    },
    {
     "name": "stderr",
     "output_type": "stream",
     "text": [
      "100%|███████████████████████████████████████| 4/4 [05:03<00:00, 75.96s/it]\n"
     ]
    },
    {
     "name": "stdout",
     "output_type": "stream",
     "text": [
      "['../oligo/results/hfog1/streptavidin_bg_15mers_unique.csv', '../oligo/results/hfog1/streptavidin_3w_15mers_unique.csv', '../oligo/results/hfog1/streptavidin_7w_15mers_unique.csv', '../oligo/results/hfog1/streptavidin_0w_15mers_unique.csv']\n"
     ]
    },
    {
     "name": "stderr",
     "output_type": "stream",
     "text": [
      "100%|███████████████████████████████████████| 4/4 [05:48<00:00, 87.15s/it]\n"
     ]
    }
   ],
   "source": [
    "kmers = list(range(5,16))\n",
    "for k in kmers:\n",
    "    library_file = f'../oligo/data/bait_kmers/library_{k}mers.csv'\n",
    "    lib_set = get_library_set(library_file)\n",
    "    files = glob.glob(f'../oligo/results/hfog1/streptavidin*_{k}mers_unique.csv')\n",
    "    print(files)\n",
    "    truth_file = f'../oligo/data/bait_kmers/oligo_all_comp_{k}mers.csv'\n",
    "    outfile_prefix = f'streptavidin'\n",
    "    for f in tqdm(files):\n",
    "        truth_set = get_truth_set(truth_file)\n",
    "        exp = re.search('(?<=_)\\w\\w(?=_)', f)[0]\n",
    "        df = calc_zscore(f)\n",
    "        df_out = label_exp(df, truth_set, lib_set, exp)\n",
    "        df_out.to_csv(f'../oligo/results/{k}mer/{outfile_prefix}_{exp}_comp_{k}mer_enrichment.csv', index=False)"
   ]
  },
  {
   "cell_type": "code",
   "execution_count": 5,
   "id": "97e6aa96-ed07-46dd-bc83-aa5c5b907437",
   "metadata": {},
   "outputs": [
    {
     "name": "stdout",
     "output_type": "stream",
     "text": [
      "['../oligo/results/hfog1/streptavidin_bg_5mers_unique.csv', '../oligo/results/hfog1/streptavidin_3w_5mers_unique.csv', '../oligo/results/hfog1/streptavidin_7w_5mers_unique.csv', '../oligo/results/hfog1/streptavidin_0w_5mers_unique.csv']\n"
     ]
    },
    {
     "name": "stderr",
     "output_type": "stream",
     "text": [
      "100%|███████████████████████████████████████| 4/4 [00:00<00:00,  4.29it/s]\n"
     ]
    }
   ],
   "source": [
    "k = 5\n",
    "library_file = f'../oligo/data/bait_kmers/library_{k}mers.csv'\n",
    "lib_set = get_library_set(library_file)\n",
    "files = glob.glob(f'../oligo/results/hfog1/streptavidin*_{k}mers_unique.csv')\n",
    "print(files)\n",
    "truth_file = f'../oligo/data/bait_kmers/oligo_all_comp_{k}mers.csv'\n",
    "outfile_prefix = f'streptavidin'\n",
    "for f in tqdm(files):\n",
    "    truth_set = get_truth_set(truth_file)\n",
    "    exp = re.search('(?<=_)\\w\\w(?=_)', f)[0]\n",
    "    df = calc_zscore(f)\n",
    "    df_out = label_exp(df, truth_set, lib_set, exp)\n",
    "    df_out.to_csv(f'../oligo/results/{k}mer/{outfile_prefix}_{exp}_comp_{k}mer_enrichment.csv', index=False)"
   ]
  },
  {
   "cell_type": "code",
   "execution_count": 6,
   "id": "b8c6092b-44ba-4789-943a-d5b30e5b8c51",
   "metadata": {},
   "outputs": [
    {
     "name": "stdout",
     "output_type": "stream",
     "text": [
      "['../oligo/results/hfog1/streptavidin_bg_5mers_unique.csv', '../oligo/results/hfog1/streptavidin_3w_5mers_unique.csv', '../oligo/results/hfog1/streptavidin_7w_5mers_unique.csv', '../oligo/results/hfog1/streptavidin_0w_5mers_unique.csv']\n"
     ]
    },
    {
     "name": "stderr",
     "output_type": "stream",
     "text": [
      "100%|███████████████████████████████████████| 4/4 [00:00<00:00, 82.06it/s]\n"
     ]
    },
    {
     "name": "stdout",
     "output_type": "stream",
     "text": [
      "['../oligo/results/hfog1/streptavidin_7w_6mers_unique.csv', '../oligo/results/hfog1/streptavidin_0w_6mers_unique.csv', '../oligo/results/hfog1/streptavidin_bg_6mers_unique.csv', '../oligo/results/hfog1/streptavidin_3w_6mers_unique.csv']\n"
     ]
    },
    {
     "name": "stderr",
     "output_type": "stream",
     "text": [
      "100%|███████████████████████████████████████| 4/4 [00:00<00:00, 40.07it/s]\n"
     ]
    },
    {
     "name": "stdout",
     "output_type": "stream",
     "text": [
      "['../oligo/results/hfog1/streptavidin_bg_7mers_unique.csv', '../oligo/results/hfog1/streptavidin_3w_7mers_unique.csv', '../oligo/results/hfog1/streptavidin_0w_7mers_unique.csv', '../oligo/results/hfog1/streptavidin_7w_7mers_unique.csv']\n"
     ]
    },
    {
     "name": "stderr",
     "output_type": "stream",
     "text": [
      "100%|███████████████████████████████████████| 4/4 [00:00<00:00, 12.98it/s]\n"
     ]
    },
    {
     "name": "stdout",
     "output_type": "stream",
     "text": [
      "['../oligo/results/hfog1/streptavidin_7w_8mers_unique.csv', '../oligo/results/hfog1/streptavidin_0w_8mers_unique.csv', '../oligo/results/hfog1/streptavidin_3w_8mers_unique.csv', '../oligo/results/hfog1/streptavidin_bg_8mers_unique.csv']\n"
     ]
    },
    {
     "name": "stderr",
     "output_type": "stream",
     "text": [
      "100%|███████████████████████████████████████| 4/4 [00:01<00:00,  3.41it/s]\n"
     ]
    },
    {
     "name": "stdout",
     "output_type": "stream",
     "text": [
      "['../oligo/results/hfog1/streptavidin_3w_9mers_unique.csv', '../oligo/results/hfog1/streptavidin_bg_9mers_unique.csv', '../oligo/results/hfog1/streptavidin_0w_9mers_unique.csv', '../oligo/results/hfog1/streptavidin_7w_9mers_unique.csv']\n"
     ]
    },
    {
     "name": "stderr",
     "output_type": "stream",
     "text": [
      "100%|███████████████████████████████████████| 4/4 [00:04<00:00,  1.17s/it]\n"
     ]
    },
    {
     "name": "stdout",
     "output_type": "stream",
     "text": [
      "['../oligo/results/hfog1/streptavidin_3w_10mers_unique.csv', '../oligo/results/hfog1/streptavidin_bg_10mers_unique.csv', '../oligo/results/hfog1/streptavidin_7w_10mers_unique.csv', '../oligo/results/hfog1/streptavidin_0w_10mers_unique.csv']\n"
     ]
    },
    {
     "name": "stderr",
     "output_type": "stream",
     "text": [
      "100%|███████████████████████████████████████| 4/4 [00:19<00:00,  4.94s/it]\n"
     ]
    },
    {
     "name": "stdout",
     "output_type": "stream",
     "text": [
      "['../oligo/results/hfog1/streptavidin_0w_11mers_unique.csv', '../oligo/results/hfog1/streptavidin_7w_11mers_unique.csv', '../oligo/results/hfog1/streptavidin_bg_11mers_unique.csv', '../oligo/results/hfog1/streptavidin_3w_11mers_unique.csv']\n"
     ]
    },
    {
     "name": "stderr",
     "output_type": "stream",
     "text": [
      "100%|███████████████████████████████████████| 4/4 [01:09<00:00, 17.35s/it]\n"
     ]
    },
    {
     "name": "stdout",
     "output_type": "stream",
     "text": [
      "['../oligo/results/hfog1/streptavidin_bg_12mers_unique.csv', '../oligo/results/hfog1/streptavidin_3w_12mers_unique.csv', '../oligo/results/hfog1/streptavidin_7w_12mers_unique.csv', '../oligo/results/hfog1/streptavidin_0w_12mers_unique.csv']\n"
     ]
    },
    {
     "name": "stderr",
     "output_type": "stream",
     "text": [
      "100%|███████████████████████████████████████| 4/4 [02:40<00:00, 40.08s/it]\n"
     ]
    },
    {
     "name": "stdout",
     "output_type": "stream",
     "text": [
      "['../oligo/results/hfog1/streptavidin_0w_13mers_unique.csv', '../oligo/results/hfog1/streptavidin_7w_13mers_unique.csv', '../oligo/results/hfog1/streptavidin_3w_13mers_unique.csv', '../oligo/results/hfog1/streptavidin_bg_13mers_unique.csv']\n"
     ]
    },
    {
     "name": "stderr",
     "output_type": "stream",
     "text": [
      "100%|███████████████████████████████████████| 4/4 [04:02<00:00, 60.71s/it]\n"
     ]
    },
    {
     "name": "stdout",
     "output_type": "stream",
     "text": [
      "['../oligo/results/hfog1/streptavidin_0w_14mers_unique.csv', '../oligo/results/hfog1/streptavidin_7w_14mers_unique.csv', '../oligo/results/hfog1/streptavidin_3w_14mers_unique.csv', '../oligo/results/hfog1/streptavidin_bg_14mers_unique.csv']\n"
     ]
    },
    {
     "name": "stderr",
     "output_type": "stream",
     "text": [
      "100%|███████████████████████████████████████| 4/4 [05:02<00:00, 75.56s/it]\n"
     ]
    },
    {
     "name": "stdout",
     "output_type": "stream",
     "text": [
      "['../oligo/results/hfog1/streptavidin_bg_15mers_unique.csv', '../oligo/results/hfog1/streptavidin_3w_15mers_unique.csv', '../oligo/results/hfog1/streptavidin_7w_15mers_unique.csv', '../oligo/results/hfog1/streptavidin_0w_15mers_unique.csv']\n"
     ]
    },
    {
     "name": "stderr",
     "output_type": "stream",
     "text": [
      "100%|███████████████████████████████████████| 4/4 [05:47<00:00, 86.89s/it]\n"
     ]
    }
   ],
   "source": [
    "kmers = list(range(5,16))\n",
    "for k in kmers:\n",
    "    library_file = f'../oligo/data/bait_kmers/library_{k}mers.csv'\n",
    "    lib_set = get_library_set(library_file)\n",
    "    files = glob.glob(f'../oligo/results/hfog1/streptavidin*_{k}mers_unique.csv')\n",
    "    print(files)\n",
    "    truth_file = f'../oligo/data/bait_kmers/oligo_all_{k}mers.csv'\n",
    "    outfile_prefix = f'streptavidin'\n",
    "    for f in tqdm(files):\n",
    "        truth_set = get_truth_set(truth_file)\n",
    "        exp = re.search('(?<=_)\\w\\w(?=_)', f)[0]\n",
    "        df = calc_zscore(f)\n",
    "        df_out = label_exp(df, truth_set, lib_set, exp)\n",
    "        df_out.to_csv(f'../oligo/results/{k}mer/{outfile_prefix}_{exp}_{k}mer_enrichment.csv', index=False)"
   ]
  }
 ],
 "metadata": {
  "kernelspec": {
   "display_name": "Python 3 (ipykernel)",
   "language": "python",
   "name": "python3"
  },
  "language_info": {
   "codemirror_mode": {
    "name": "ipython",
    "version": 3
   },
   "file_extension": ".py",
   "mimetype": "text/x-python",
   "name": "python",
   "nbconvert_exporter": "python",
   "pygments_lexer": "ipython3",
   "version": "3.9.16"
  }
 },
 "nbformat": 4,
 "nbformat_minor": 5
}
