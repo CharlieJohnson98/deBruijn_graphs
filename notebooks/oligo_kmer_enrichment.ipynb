{
 "cells": [
  {
   "cell_type": "code",
   "execution_count": 53,
   "id": "bc06a3ca-e8fa-437a-9640-0c79fe686c1f",
   "metadata": {},
   "outputs": [],
   "source": [
    "import re\n",
    "import os\n",
    "import glob\n",
    "\n",
    "from tqdm import tqdm\n",
    "from scipy.stats import zscore\n",
    "from Bio import SeqIO"
   ]
  },
  {
   "cell_type": "code",
   "execution_count": 2,
   "id": "13f2a4f4-901b-4fda-9f78-c5893be947d1",
   "metadata": {},
   "outputs": [],
   "source": [
    "# for record in SeqIO.parse('../oligo/data/fastas/prey.fasta', \"fasta\"):\n",
    "#     print('>'+record.id+'_comp')\n",
    "#     print(record.seq.complement())\n",
    "#     with open('../oligo/data/fastas/prey_comp.fasta', 'w') as f:\n",
    "#         f.write('>'+record.id+'_comp'+'\\n')\n",
    "#         f.write(str(record.seq.complement())+'\\n')"
   ]
  },
  {
   "cell_type": "code",
   "execution_count": 77,
   "id": "d02d8f06-f6d6-4c6f-8fc3-6156aa84ebfa",
   "metadata": {},
   "outputs": [],
   "source": [
    "import math\n",
    "import pandas as pd\n",
    "import time"
   ]
  },
  {
   "cell_type": "code",
   "execution_count": 104,
   "id": "9d5fba7c-bc1b-4431-98ff-0488005b08a6",
   "metadata": {},
   "outputs": [],
   "source": [
    "def merge_data(exp_file, bg_file):\n",
    "    exp_df = pd.read_csv(exp_file).rename(columns={'count': 'exp_count'})\n",
    "    bg_df = pd.read_csv(bg_file).rename(columns={'count': 'bg_count'})\n",
    "    exp_label = re.search('(?<=_)\\w\\w(?=_)', exp_file)[0]\n",
    "    join_cols = ['node1','node2']\n",
    "    join_df = exp_df.merge(bg_df, how='outer', left_on=join_cols, right_on=join_cols).reset_index(drop=True)\n",
    "    join_df['exp_count'] = enr_df['exp_count'].fillna(0).astype(int)\n",
    "    join_df['bg_count'] = enr_df['bg_count'].fillna(0).astype(int)\n",
    "    join_df['exp'] = exp_label\n",
    "    return(join_df)\n",
    "\n",
    "def get_oligo_set(truth_file):\n",
    "    df = pd.read_csv(truth_file)\n",
    "    truth_set = [frozenset({i,j}) for i,j in zip(df['Node1'],df['Node2'])]\n",
    "    truth_set = set(truth_set)\n",
    "    return(truth_set)\n",
    "\n",
    "def get_library_set(lib_file):\n",
    "    df = pd.read_csv(lib_file)\n",
    "    lib_set = [frozenset({i,j}) for i,j in zip(df['Node1'],df['Node2']) if 'N' not in i and 'N' not in j]\n",
    "    lib_set = set(lib_set)\n",
    "    return(lib_set)\n",
    "\n",
    "def calc_fc(exp, bg):\n",
    "    if bg > exp:\n",
    "        fc = -bg/exp\n",
    "        log2fc = -(math.log2(abs(fc)))\n",
    "    elif bg <= exp:\n",
    "        fc = exp/bg\n",
    "        log2fc = math.log2(fc)\n",
    "    return(fc, log2fc)\n",
    "\n",
    "def calc_pseudo_fc(df):\n",
    "    # pseudocounts\n",
    "    df['exp_pc'] = df['exp_count'] + 1\n",
    "    df['bg_pc'] = df['bg_count'] + 1\n",
    "    df['f0_exp_pc'] = df['exp_pc']/df['exp_pc'].sum()\n",
    "    df['f0_bg_pc'] = df['bg_pc']/df['bg_pc'].sum()\n",
    "    # fold change cols\n",
    "    df[['fc','log2fc']] = [calc_fc(i,j) for i,j in zip(df['f0_exp_pc'], df['f0_bg_pc'])]\n",
    "    # drop extra cols\n",
    "    df.reset_index(drop=True, inplace=True)\n",
    "    df.drop(['exp_pc','bg_pc','f0_exp_pc','f0_bg_pc'], axis=1, inplace=True)\n",
    "    df.sort_values(by='log2fc', ascending=False, inplace=True)\n",
    "    return(df)\n",
    "\n",
    "def calc_apex_zscore(df):\n",
    "    # null distribution approximation\n",
    "    df['f0_exp'] = df['exp_count']/df['exp_count'].sum()\n",
    "    df['f0_bg'] = df['bg_count']/df['bg_count'].sum()\n",
    "    # apex zscore calculation\n",
    "    df['f1'] = (df['exp_count']+df['bg_count'])/(exp_sum+bg_sum)\n",
    "    apex_zscore = (\n",
    "        (f0_exp - f0_bg)/math.sqrt(\n",
    "        (((f1*(1-f1))/exp_sum) + ((f1*(1-f1))/bg_sum)))\n",
    "                  )\n",
    "    return(apex_zscore)"
   ]
  },
  {
   "cell_type": "code",
   "execution_count": 16,
   "id": "2484e469-bad3-42b6-9e5c-85642b0b5642",
   "metadata": {},
   "outputs": [],
   "source": [
    "exp_file = '../oligo/results/10mer/kmer_counts_q04cut/oligo_1_0w_10mers_q04.csv'\n",
    "bg_file = '../oligo/results/10mer/kmer_counts_q04cut/oligo_1_bg_10mers_q04.csv'\n",
    "lib_file = '../oligo/data/bait_kmers/library_10mers.csv'\n",
    "oligo_file = '../oligo/data/bait_kmers/oligo_1_comp_10mers.csv'"
   ]
  },
  {
   "cell_type": "code",
   "execution_count": 105,
   "id": "8c261384-dc7b-404f-9505-752013a247f5",
   "metadata": {},
   "outputs": [
    {
     "name": "stdout",
     "output_type": "stream",
     "text": [
      "             node1      node2  exp_count  bg_count exp     label           fc  \\\n",
      "1995     AGAGAGAGA  GAGAGAGAG       4351         0  0w  no match  4618.279094   \n",
      "52751    ATATATATA  TATATATAT        174         0  0w  no match   185.707454   \n",
      "86570    GCGCGCGCG  CGCGCGCGC        118         0  0w  no match   126.281069   \n",
      "308006   TGTGAGAGG  GTGAGAGGG         52         0  0w  no match    56.242829   \n",
      "355467   GTGTGGTGG  TGTGGTGGG         47         0  0w  no match    50.936902   \n",
      "...            ...        ...        ...       ...  ..       ...          ...   \n",
      "1006200  ACCTGTCAG  CCTGTCAGA          0        42  0w  no match   -40.520721   \n",
      "1006199  AAGCCACGT  AGCCACGTG          0        43  0w  no match   -41.463064   \n",
      "1006198  CGCGCGCGC  GCGCGCGCG          0       142  0w  no match  -134.754957   \n",
      "1006197  TATATATAT  ATATATATA          0       173  0w  no match  -163.967570   \n",
      "1006196  GAGAGAGAG  AGAGAGAGA          0      4173  0w  no match -3933.336992   \n",
      "\n",
      "            log2fc  \n",
      "1995     12.173140  \n",
      "52751     7.536888  \n",
      "86570     6.980495  \n",
      "308006    5.813597  \n",
      "355467    5.670639  \n",
      "...            ...  \n",
      "1006200  -5.340588  \n",
      "1006199  -5.373755  \n",
      "1006198  -7.074195  \n",
      "1006197  -7.357267  \n",
      "1006196 -11.941538  \n",
      "\n",
      "[1025896 rows x 8 columns]\n",
      "Total run time: 0.23 minutes.\n"
     ]
    }
   ],
   "source": [
    "t0 = time.time()\n",
    "lib_kmers = get_library_set(lib_file)\n",
    "oligo_kmers = get_oligo_set(oligo_file)\n",
    "df = merge_data(exp_file, bg_file)\n",
    "df['label'] = (['oligo match' if frozenset({i,j}) in oligo_kmers \\\n",
    "                else 'library match' if frozenset({i,j}) in lib_kmers \\\n",
    "                else 'no match' for i, j in zip(df['node1'],df['node2'])])\n",
    "df = calc_pseudo_fc(df)\n",
    "print(df)\n",
    "print(f'Total run time: {round((time.time()-t0)/60, 2)} minutes.')"
   ]
  },
  {
   "cell_type": "code",
   "execution_count": 110,
   "id": "abf44086-5684-4ec9-964e-aa5d82f738fc",
   "metadata": {},
   "outputs": [
    {
     "name": "stdout",
     "output_type": "stream",
     "text": [
      "AGAGAGAGA,GAGAGAGAG\n",
      "ATATATATA,TATATATAT\n",
      "GCGCGCGCG,CGCGCGCGC\n",
      "TGTGAGAGG,GTGAGAGGG\n",
      "GTGTGGTGG,TGTGGTGGG\n",
      "TTGGAAGAT,TGGAAGATG\n",
      "ATTGCGACT,TTGCGACTC\n",
      "AAGGTAGGT,AGGTAGGTA\n",
      "TAGGTGAGG,AGGTGAGGG\n",
      "CTGGGTAGG,TGGGTAGGG\n",
      "AGGTGCGAG,GGTGCGAGA\n",
      "GTGTAAGGG,TGTAAGGGG\n",
      "ATGTAGAGG,TGTAGAGGG\n",
      "TGGGTAAGG,GGGTAAGGG\n",
      "AAAAGTAGG,AAAGTAGGG\n",
      "TGGGTCAAA,GGGTCAAAT\n",
      "GTGATGTGG,TGATGTGGG\n",
      "TGAGGTGTG,GAGGTGTGG\n",
      "CATGTGGGT,ATGTGGGTT\n",
      "ATGTGGGGT,TGTGGGGTA\n",
      "AATGGTAGG,ATGGTAGGT\n",
      "AAGGTAGGT,AGGTAGGTT\n",
      "GTAGGTGGG,TAGGTGGGG\n",
      "CATGTGAAG,ATGTGAAGA\n",
      "CCGTAACGA,CGTAACGAT\n",
      "GGAGGGCGG,GAGGGCGGA\n",
      "AAGTGGTAG,AGTGGTAGG\n",
      "AAGAGGTGG,AGAGGTGGG\n",
      "CCACCTGTG,CACCTGTGT\n",
      "TTGTGCCGG,TGTGCCGGG\n",
      "TAAGGGACA,AAGGGACAG\n",
      "GAGGTAGGG,AGGTAGGGA\n",
      "ATGTCGGAT,TGTCGGATA\n",
      "CCGCCCCTC,CGCCCCTCT\n",
      "ATGATCCAG,TGATCCAGA\n",
      "GTGAAGGTG,TGAAGGTGA\n",
      "TCGTGGTAG,CGTGGTAGG\n",
      "TTGGCTGTG,TGGCTGTGA\n",
      "CAGACGAGT,AGACGAGTT\n",
      "GCTGGACGA,CTGGACGAA\n",
      "CAGGGAAAT,AGGGAAATG\n",
      "AAACCGATG,AACCGATGG\n",
      "CATTGGGGT,ATTGGGGTA\n",
      "AAGGGGGGG,AGGGGGGGC\n",
      "TGTGAGTAG,GTGAGTAGA\n",
      "TGAAGTAGG,GAAGTAGGG\n",
      "TGTACTGGG,GTACTGGGG\n",
      "GTGGGGTAG,TGGGGTAGT\n",
      "TGGCATGGG,GGCATGGGG\n",
      "TAAATGGGG,AAATGGGGT\n",
      "GCTGGCCAG,CTGGCCAGT\n",
      "GTAGGCCGT,TAGGCCGTG\n",
      "TGCCACGAA,GCCACGAAT\n",
      "AAGTTCCAG,AGTTCCAGA\n",
      "ACGTGTGGG,CGTGTGGGG\n",
      "CGAGGTAGG,GAGGTAGGT\n",
      "GTGGACGCA,TGGACGCAA\n",
      "ATGGGTAGG,TGGGTAGGT\n",
      "TTAAAGGCG,TAAAGGCGT\n",
      "AGGTCCAGG,GGTCCAGGG\n",
      "TGAGGGCAG,GAGGGCAGA\n",
      "TTGTAGGCG,TGTAGGCGT\n",
      "AACTGGCGA,ACTGGCGAG\n",
      "GATCGGAGT,ATCGGAGTA\n",
      "TCGTACCAC,CGTACCACC\n",
      "GTGAGGCAG,TGAGGCAGG\n",
      "CGTGGTAGG,GTGGTAGGG\n",
      "ATAGAAGGT,TAGAAGGTA\n",
      "AAGGTGTAG,AGGTGTAGG\n",
      "GAAGTAGTG,AAGTAGTGG\n",
      "TGGAGACTT,GGAGACTTC\n",
      "AAATTGGGC,AATTGGGCT\n",
      "AAGTGTAGG,AGTGTAGGT\n",
      "TGGGTAGGT,GGGTAGGTG\n",
      "CCAATCGCT,CAATCGCTA\n",
      "CGCTTACTG,GCTTACTGA\n",
      "TTGGAAGGT,TGGAAGGTG\n",
      "ATAGATCGG,TAGATCGGG\n",
      "TAGCATGGT,AGCATGGTC\n",
      "GATTGAGGC,ATTGAGGCA\n",
      "CTAGTTGGG,TAGTTGGGG\n",
      "AGGTAGGGT,GGTAGGGTT\n",
      "CGGTCGGTT,GGTCGGTTT\n",
      "AGAAATAGA,GAAATAGAT\n",
      "TGTAGTGGG,GTAGTGGGG\n",
      "AGTACAATG,GTACAATGA\n",
      "CTCGGCGAG,TCGGCGAGA\n",
      "AGAGATAGG,GAGATAGGG\n",
      "GTATGCCGG,TATGCCGGG\n",
      "GAGAGCAGA,AGAGCAGAG\n",
      "TAACGCGAG,AACGCGAGG\n",
      "CAGAGAGGG,AGAGAGGGC\n",
      "ACGTCGAGA,CGTCGAGAC\n",
      "CGTTGTGAG,GTTGTGAGG\n",
      "CAGTGAGGA,AGTGAGGAA\n",
      "TGTGTGCGA,GTGTGCGAG\n",
      "AGGACGAGG,GGACGAGGA\n",
      "GAAGGTGGG,AAGGTGGGG\n",
      "ACCAGGGTA,CCAGGGTAG\n"
     ]
    }
   ],
   "source": [
    "df.reset_index(inplace=True, drop=True)\n",
    "for i in range(0,99):\n",
    "    node1 = df.node1[i]\n",
    "    node2 = df.node2[i]\n",
    "    print(f'{node1},{node2}')"
   ]
  },
  {
   "cell_type": "code",
   "execution_count": 109,
   "id": "d31caed9-771e-48e5-9ea3-ae6905218919",
   "metadata": {},
   "outputs": [
    {
     "data": {
      "text/html": [
       "<div>\n",
       "<style scoped>\n",
       "    .dataframe tbody tr th:only-of-type {\n",
       "        vertical-align: middle;\n",
       "    }\n",
       "\n",
       "    .dataframe tbody tr th {\n",
       "        vertical-align: top;\n",
       "    }\n",
       "\n",
       "    .dataframe thead th {\n",
       "        text-align: right;\n",
       "    }\n",
       "</style>\n",
       "<table border=\"1\" class=\"dataframe\">\n",
       "  <thead>\n",
       "    <tr style=\"text-align: right;\">\n",
       "      <th></th>\n",
       "      <th>node1</th>\n",
       "      <th>node2</th>\n",
       "      <th>exp_count</th>\n",
       "      <th>bg_count</th>\n",
       "      <th>exp</th>\n",
       "      <th>label</th>\n",
       "      <th>fc</th>\n",
       "      <th>log2fc</th>\n",
       "    </tr>\n",
       "  </thead>\n",
       "  <tbody>\n",
       "    <tr>\n",
       "      <th>1995</th>\n",
       "      <td>AGAGAGAGA</td>\n",
       "      <td>GAGAGAGAG</td>\n",
       "      <td>4351</td>\n",
       "      <td>0</td>\n",
       "      <td>0w</td>\n",
       "      <td>no match</td>\n",
       "      <td>4618.279094</td>\n",
       "      <td>12.173140</td>\n",
       "    </tr>\n",
       "    <tr>\n",
       "      <th>52751</th>\n",
       "      <td>ATATATATA</td>\n",
       "      <td>TATATATAT</td>\n",
       "      <td>174</td>\n",
       "      <td>0</td>\n",
       "      <td>0w</td>\n",
       "      <td>no match</td>\n",
       "      <td>185.707454</td>\n",
       "      <td>7.536888</td>\n",
       "    </tr>\n",
       "    <tr>\n",
       "      <th>86570</th>\n",
       "      <td>GCGCGCGCG</td>\n",
       "      <td>CGCGCGCGC</td>\n",
       "      <td>118</td>\n",
       "      <td>0</td>\n",
       "      <td>0w</td>\n",
       "      <td>no match</td>\n",
       "      <td>126.281069</td>\n",
       "      <td>6.980495</td>\n",
       "    </tr>\n",
       "    <tr>\n",
       "      <th>308006</th>\n",
       "      <td>TGTGAGAGG</td>\n",
       "      <td>GTGAGAGGG</td>\n",
       "      <td>52</td>\n",
       "      <td>0</td>\n",
       "      <td>0w</td>\n",
       "      <td>no match</td>\n",
       "      <td>56.242829</td>\n",
       "      <td>5.813597</td>\n",
       "    </tr>\n",
       "    <tr>\n",
       "      <th>355467</th>\n",
       "      <td>GTGTGGTGG</td>\n",
       "      <td>TGTGGTGGG</td>\n",
       "      <td>47</td>\n",
       "      <td>0</td>\n",
       "      <td>0w</td>\n",
       "      <td>no match</td>\n",
       "      <td>50.936902</td>\n",
       "      <td>5.670639</td>\n",
       "    </tr>\n",
       "    <tr>\n",
       "      <th>...</th>\n",
       "      <td>...</td>\n",
       "      <td>...</td>\n",
       "      <td>...</td>\n",
       "      <td>...</td>\n",
       "      <td>...</td>\n",
       "      <td>...</td>\n",
       "      <td>...</td>\n",
       "      <td>...</td>\n",
       "    </tr>\n",
       "    <tr>\n",
       "      <th>1006200</th>\n",
       "      <td>ACCTGTCAG</td>\n",
       "      <td>CCTGTCAGA</td>\n",
       "      <td>0</td>\n",
       "      <td>42</td>\n",
       "      <td>0w</td>\n",
       "      <td>no match</td>\n",
       "      <td>-40.520721</td>\n",
       "      <td>-5.340588</td>\n",
       "    </tr>\n",
       "    <tr>\n",
       "      <th>1006199</th>\n",
       "      <td>AAGCCACGT</td>\n",
       "      <td>AGCCACGTG</td>\n",
       "      <td>0</td>\n",
       "      <td>43</td>\n",
       "      <td>0w</td>\n",
       "      <td>no match</td>\n",
       "      <td>-41.463064</td>\n",
       "      <td>-5.373755</td>\n",
       "    </tr>\n",
       "    <tr>\n",
       "      <th>1006198</th>\n",
       "      <td>CGCGCGCGC</td>\n",
       "      <td>GCGCGCGCG</td>\n",
       "      <td>0</td>\n",
       "      <td>142</td>\n",
       "      <td>0w</td>\n",
       "      <td>no match</td>\n",
       "      <td>-134.754957</td>\n",
       "      <td>-7.074195</td>\n",
       "    </tr>\n",
       "    <tr>\n",
       "      <th>1006197</th>\n",
       "      <td>TATATATAT</td>\n",
       "      <td>ATATATATA</td>\n",
       "      <td>0</td>\n",
       "      <td>173</td>\n",
       "      <td>0w</td>\n",
       "      <td>no match</td>\n",
       "      <td>-163.967570</td>\n",
       "      <td>-7.357267</td>\n",
       "    </tr>\n",
       "    <tr>\n",
       "      <th>1006196</th>\n",
       "      <td>GAGAGAGAG</td>\n",
       "      <td>AGAGAGAGA</td>\n",
       "      <td>0</td>\n",
       "      <td>4173</td>\n",
       "      <td>0w</td>\n",
       "      <td>no match</td>\n",
       "      <td>-3933.336992</td>\n",
       "      <td>-11.941538</td>\n",
       "    </tr>\n",
       "  </tbody>\n",
       "</table>\n",
       "<p>1025896 rows × 8 columns</p>\n",
       "</div>"
      ],
      "text/plain": [
       "             node1      node2  exp_count  bg_count exp     label           fc  \\\n",
       "1995     AGAGAGAGA  GAGAGAGAG       4351         0  0w  no match  4618.279094   \n",
       "52751    ATATATATA  TATATATAT        174         0  0w  no match   185.707454   \n",
       "86570    GCGCGCGCG  CGCGCGCGC        118         0  0w  no match   126.281069   \n",
       "308006   TGTGAGAGG  GTGAGAGGG         52         0  0w  no match    56.242829   \n",
       "355467   GTGTGGTGG  TGTGGTGGG         47         0  0w  no match    50.936902   \n",
       "...            ...        ...        ...       ...  ..       ...          ...   \n",
       "1006200  ACCTGTCAG  CCTGTCAGA          0        42  0w  no match   -40.520721   \n",
       "1006199  AAGCCACGT  AGCCACGTG          0        43  0w  no match   -41.463064   \n",
       "1006198  CGCGCGCGC  GCGCGCGCG          0       142  0w  no match  -134.754957   \n",
       "1006197  TATATATAT  ATATATATA          0       173  0w  no match  -163.967570   \n",
       "1006196  GAGAGAGAG  AGAGAGAGA          0      4173  0w  no match -3933.336992   \n",
       "\n",
       "            log2fc  \n",
       "1995     12.173140  \n",
       "52751     7.536888  \n",
       "86570     6.980495  \n",
       "308006    5.813597  \n",
       "355467    5.670639  \n",
       "...            ...  \n",
       "1006200  -5.340588  \n",
       "1006199  -5.373755  \n",
       "1006198  -7.074195  \n",
       "1006197  -7.357267  \n",
       "1006196 -11.941538  \n",
       "\n",
       "[1025896 rows x 8 columns]"
      ]
     },
     "execution_count": 109,
     "metadata": {},
     "output_type": "execute_result"
    }
   ],
   "source": [
    "df"
   ]
  },
  {
   "cell_type": "code",
   "execution_count": 87,
   "id": "e932bd8f-3e8b-474c-aa5f-856fad80dd78",
   "metadata": {},
   "outputs": [
    {
     "data": {
      "text/html": [
       "<div>\n",
       "<style scoped>\n",
       "    .dataframe tbody tr th:only-of-type {\n",
       "        vertical-align: middle;\n",
       "    }\n",
       "\n",
       "    .dataframe tbody tr th {\n",
       "        vertical-align: top;\n",
       "    }\n",
       "\n",
       "    .dataframe thead th {\n",
       "        text-align: right;\n",
       "    }\n",
       "</style>\n",
       "<table border=\"1\" class=\"dataframe\">\n",
       "  <thead>\n",
       "    <tr style=\"text-align: right;\">\n",
       "      <th></th>\n",
       "      <th>node1</th>\n",
       "      <th>node2</th>\n",
       "      <th>exp_count</th>\n",
       "      <th>bg_count</th>\n",
       "      <th>exp</th>\n",
       "      <th>label</th>\n",
       "      <th>fc</th>\n",
       "      <th>log2fc</th>\n",
       "      <th>zscore_trad</th>\n",
       "    </tr>\n",
       "  </thead>\n",
       "  <tbody>\n",
       "    <tr>\n",
       "      <th>943787</th>\n",
       "      <td>ATGGAGTGT</td>\n",
       "      <td>TGGAGTGTA</td>\n",
       "      <td>15</td>\n",
       "      <td>0</td>\n",
       "      <td>0w</td>\n",
       "      <td>oligo match</td>\n",
       "      <td>16.978967</td>\n",
       "      <td>4.085677</td>\n",
       "      <td>-0.010038</td>\n",
       "    </tr>\n",
       "    <tr>\n",
       "      <th>1002349</th>\n",
       "      <td>TGGATGGAG</td>\n",
       "      <td>GGATGGAGT</td>\n",
       "      <td>11</td>\n",
       "      <td>0</td>\n",
       "      <td>0w</td>\n",
       "      <td>oligo match</td>\n",
       "      <td>12.734225</td>\n",
       "      <td>3.670639</td>\n",
       "      <td>-0.010152</td>\n",
       "    </tr>\n",
       "    <tr>\n",
       "      <th>14308</th>\n",
       "      <td>GTTTTTTTT</td>\n",
       "      <td>TTTTTTTTT</td>\n",
       "      <td>562</td>\n",
       "      <td>349</td>\n",
       "      <td>0w</td>\n",
       "      <td>oligo match</td>\n",
       "      <td>1.706993</td>\n",
       "      <td>0.771457</td>\n",
       "      <td>0.005477</td>\n",
       "    </tr>\n",
       "    <tr>\n",
       "      <th>459473</th>\n",
       "      <td>TTCTGGATG</td>\n",
       "      <td>TCTGGATGG</td>\n",
       "      <td>39</td>\n",
       "      <td>28</td>\n",
       "      <td>0w</td>\n",
       "      <td>oligo match</td>\n",
       "      <td>1.463704</td>\n",
       "      <td>0.549624</td>\n",
       "      <td>-0.009358</td>\n",
       "    </tr>\n",
       "    <tr>\n",
       "      <th>31750</th>\n",
       "      <td>TGTTTTTTT</td>\n",
       "      <td>GTTTTTTTT</td>\n",
       "      <td>275</td>\n",
       "      <td>201</td>\n",
       "      <td>0w</td>\n",
       "      <td>oligo match</td>\n",
       "      <td>1.449937</td>\n",
       "      <td>0.535990</td>\n",
       "      <td>-0.002663</td>\n",
       "    </tr>\n",
       "    <tr>\n",
       "      <th>292744</th>\n",
       "      <td>AGCCTGTTT</td>\n",
       "      <td>GCCTGTTTT</td>\n",
       "      <td>53</td>\n",
       "      <td>42</td>\n",
       "      <td>0w</td>\n",
       "      <td>oligo match</td>\n",
       "      <td>1.332651</td>\n",
       "      <td>0.414300</td>\n",
       "      <td>-0.008961</td>\n",
       "    </tr>\n",
       "    <tr>\n",
       "      <th>59848</th>\n",
       "      <td>CTGTTTTTT</td>\n",
       "      <td>TGTTTTTTT</td>\n",
       "      <td>157</td>\n",
       "      <td>128</td>\n",
       "      <td>0w</td>\n",
       "      <td>oligo match</td>\n",
       "      <td>1.299747</td>\n",
       "      <td>0.378230</td>\n",
       "      <td>-0.006011</td>\n",
       "    </tr>\n",
       "    <tr>\n",
       "      <th>514268</th>\n",
       "      <td>ACCGGTTGT</td>\n",
       "      <td>CCGGTTGTG</td>\n",
       "      <td>36</td>\n",
       "      <td>30</td>\n",
       "      <td>0w</td>\n",
       "      <td>oligo match</td>\n",
       "      <td>1.266576</td>\n",
       "      <td>0.340934</td>\n",
       "      <td>-0.009443</td>\n",
       "    </tr>\n",
       "    <tr>\n",
       "      <th>880731</th>\n",
       "      <td>TGGAGTGTA</td>\n",
       "      <td>GGAGTGTAC</td>\n",
       "      <td>18</td>\n",
       "      <td>15</td>\n",
       "      <td>0w</td>\n",
       "      <td>oligo match</td>\n",
       "      <td>1.260158</td>\n",
       "      <td>0.333604</td>\n",
       "      <td>-0.009953</td>\n",
       "    </tr>\n",
       "    <tr>\n",
       "      <th>85133</th>\n",
       "      <td>GGTTGTGAG</td>\n",
       "      <td>GTTGTGAGC</td>\n",
       "      <td>120</td>\n",
       "      <td>106</td>\n",
       "      <td>0w</td>\n",
       "      <td>oligo match</td>\n",
       "      <td>1.200032</td>\n",
       "      <td>0.263073</td>\n",
       "      <td>-0.007060</td>\n",
       "    </tr>\n",
       "    <tr>\n",
       "      <th>104311</th>\n",
       "      <td>CCTGTTTTT</td>\n",
       "      <td>CTGTTTTTT</td>\n",
       "      <td>104</td>\n",
       "      <td>94</td>\n",
       "      <td>0w</td>\n",
       "      <td>oligo match</td>\n",
       "      <td>1.172889</td>\n",
       "      <td>0.230067</td>\n",
       "      <td>-0.007514</td>\n",
       "    </tr>\n",
       "    <tr>\n",
       "      <th>789099</th>\n",
       "      <td>GTTGTGAGC</td>\n",
       "      <td>TTGTGAGCC</td>\n",
       "      <td>22</td>\n",
       "      <td>21</td>\n",
       "      <td>0w</td>\n",
       "      <td>oligo match</td>\n",
       "      <td>1.109421</td>\n",
       "      <td>0.149807</td>\n",
       "      <td>-0.009840</td>\n",
       "    </tr>\n",
       "    <tr>\n",
       "      <th>109922</th>\n",
       "      <td>GCCTGTTTT</td>\n",
       "      <td>CCTGTTTTT</td>\n",
       "      <td>100</td>\n",
       "      <td>101</td>\n",
       "      <td>0w</td>\n",
       "      <td>oligo match</td>\n",
       "      <td>1.050782</td>\n",
       "      <td>0.071463</td>\n",
       "      <td>-0.007627</td>\n",
       "    </tr>\n",
       "    <tr>\n",
       "      <th>681811</th>\n",
       "      <td>TTGTGAGCC</td>\n",
       "      <td>TGTGAGCCT</td>\n",
       "      <td>27</td>\n",
       "      <td>28</td>\n",
       "      <td>0w</td>\n",
       "      <td>oligo match</td>\n",
       "      <td>1.024593</td>\n",
       "      <td>0.035051</td>\n",
       "      <td>-0.009698</td>\n",
       "    </tr>\n",
       "    <tr>\n",
       "      <th>913137</th>\n",
       "      <td>CGGTTGTGA</td>\n",
       "      <td>GGTTGTGAG</td>\n",
       "      <td>16</td>\n",
       "      <td>17</td>\n",
       "      <td>0w</td>\n",
       "      <td>oligo match</td>\n",
       "      <td>1.002231</td>\n",
       "      <td>0.003215</td>\n",
       "      <td>-0.010010</td>\n",
       "    </tr>\n",
       "    <tr>\n",
       "      <th>754491</th>\n",
       "      <td>TACCGGTTG</td>\n",
       "      <td>ACCGGTTGT</td>\n",
       "      <td>24</td>\n",
       "      <td>26</td>\n",
       "      <td>0w</td>\n",
       "      <td>oligo match</td>\n",
       "      <td>-1.017730</td>\n",
       "      <td>-0.025355</td>\n",
       "      <td>-0.009783</td>\n",
       "    </tr>\n",
       "    <tr>\n",
       "      <th>975462</th>\n",
       "      <td>CTGGATGGA</td>\n",
       "      <td>TGGATGGAG</td>\n",
       "      <td>13</td>\n",
       "      <td>15</td>\n",
       "      <td>0w</td>\n",
       "      <td>oligo match</td>\n",
       "      <td>-1.076963</td>\n",
       "      <td>-0.106968</td>\n",
       "      <td>-0.010095</td>\n",
       "    </tr>\n",
       "    <tr>\n",
       "      <th>618617</th>\n",
       "      <td>AGTGTACCG</td>\n",
       "      <td>GTGTACCGG</td>\n",
       "      <td>30</td>\n",
       "      <td>35</td>\n",
       "      <td>0w</td>\n",
       "      <td>oligo match</td>\n",
       "      <td>-1.094333</td>\n",
       "      <td>-0.130052</td>\n",
       "      <td>-0.009613</td>\n",
       "    </tr>\n",
       "    <tr>\n",
       "      <th>952573</th>\n",
       "      <td>GATGGAGTG</td>\n",
       "      <td>ATGGAGTGT</td>\n",
       "      <td>14</td>\n",
       "      <td>17</td>\n",
       "      <td>0w</td>\n",
       "      <td>oligo match</td>\n",
       "      <td>-1.130811</td>\n",
       "      <td>-0.177358</td>\n",
       "      <td>-0.010067</td>\n",
       "    </tr>\n",
       "    <tr>\n",
       "      <th>675145</th>\n",
       "      <td>TGTGAGCCT</td>\n",
       "      <td>GTGAGCCTG</td>\n",
       "      <td>27</td>\n",
       "      <td>33</td>\n",
       "      <td>0w</td>\n",
       "      <td>oligo match</td>\n",
       "      <td>-1.144273</td>\n",
       "      <td>-0.194431</td>\n",
       "      <td>-0.009698</td>\n",
       "    </tr>\n",
       "    <tr>\n",
       "      <th>474199</th>\n",
       "      <td>GAGCCTGTT</td>\n",
       "      <td>AGCCTGTTT</td>\n",
       "      <td>38</td>\n",
       "      <td>47</td>\n",
       "      <td>0w</td>\n",
       "      <td>oligo match</td>\n",
       "      <td>-1.159806</td>\n",
       "      <td>-0.213883</td>\n",
       "      <td>-0.009386</td>\n",
       "    </tr>\n",
       "    <tr>\n",
       "      <th>492533</th>\n",
       "      <td>GTACCGGTT</td>\n",
       "      <td>TACCGGTTG</td>\n",
       "      <td>37</td>\n",
       "      <td>46</td>\n",
       "      <td>0w</td>\n",
       "      <td>oligo match</td>\n",
       "      <td>-1.165529</td>\n",
       "      <td>-0.220985</td>\n",
       "      <td>-0.009414</td>\n",
       "    </tr>\n",
       "    <tr>\n",
       "      <th>447823</th>\n",
       "      <td>GGATGGAGT</td>\n",
       "      <td>GATGGAGTG</td>\n",
       "      <td>40</td>\n",
       "      <td>50</td>\n",
       "      <td>0w</td>\n",
       "      <td>oligo match</td>\n",
       "      <td>-1.172182</td>\n",
       "      <td>-0.229197</td>\n",
       "      <td>-0.009329</td>\n",
       "    </tr>\n",
       "    <tr>\n",
       "      <th>846154</th>\n",
       "      <td>TGAGCCTGT</td>\n",
       "      <td>GAGCCTGTT</td>\n",
       "      <td>19</td>\n",
       "      <td>24</td>\n",
       "      <td>0w</td>\n",
       "      <td>oligo match</td>\n",
       "      <td>-1.177928</td>\n",
       "      <td>-0.236251</td>\n",
       "      <td>-0.009925</td>\n",
       "    </tr>\n",
       "    <tr>\n",
       "      <th>951558</th>\n",
       "      <td>TCTGGATGG</td>\n",
       "      <td>CTGGATGGA</td>\n",
       "      <td>14</td>\n",
       "      <td>18</td>\n",
       "      <td>0w</td>\n",
       "      <td>oligo match</td>\n",
       "      <td>-1.193634</td>\n",
       "      <td>-0.255360</td>\n",
       "      <td>-0.010067</td>\n",
       "    </tr>\n",
       "    <tr>\n",
       "      <th>677869</th>\n",
       "      <td>GAGTGTACC</td>\n",
       "      <td>AGTGTACCG</td>\n",
       "      <td>27</td>\n",
       "      <td>35</td>\n",
       "      <td>0w</td>\n",
       "      <td>oligo match</td>\n",
       "      <td>-1.211583</td>\n",
       "      <td>-0.276893</td>\n",
       "      <td>-0.009698</td>\n",
       "    </tr>\n",
       "    <tr>\n",
       "      <th>751473</th>\n",
       "      <td>GTGAGCCTG</td>\n",
       "      <td>TGAGCCTGT</td>\n",
       "      <td>24</td>\n",
       "      <td>32</td>\n",
       "      <td>0w</td>\n",
       "      <td>oligo match</td>\n",
       "      <td>-1.243892</td>\n",
       "      <td>-0.314861</td>\n",
       "      <td>-0.009783</td>\n",
       "    </tr>\n",
       "    <tr>\n",
       "      <th>201181</th>\n",
       "      <td>GGAGTGTAC</td>\n",
       "      <td>GAGTGTACC</td>\n",
       "      <td>68</td>\n",
       "      <td>101</td>\n",
       "      <td>0w</td>\n",
       "      <td>oligo match</td>\n",
       "      <td>-1.393028</td>\n",
       "      <td>-0.478224</td>\n",
       "      <td>-0.008535</td>\n",
       "    </tr>\n",
       "    <tr>\n",
       "      <th>840466</th>\n",
       "      <td>TGTACCGGT</td>\n",
       "      <td>GTACCGGTT</td>\n",
       "      <td>20</td>\n",
       "      <td>37</td>\n",
       "      <td>0w</td>\n",
       "      <td>oligo match</td>\n",
       "      <td>-1.705191</td>\n",
       "      <td>-0.769933</td>\n",
       "      <td>-0.009897</td>\n",
       "    </tr>\n",
       "    <tr>\n",
       "      <th>864748</th>\n",
       "      <td>GTGTACCGG</td>\n",
       "      <td>TGTACCGGT</td>\n",
       "      <td>19</td>\n",
       "      <td>42</td>\n",
       "      <td>0w</td>\n",
       "      <td>oligo match</td>\n",
       "      <td>-2.026036</td>\n",
       "      <td>-1.018660</td>\n",
       "      <td>-0.009925</td>\n",
       "    </tr>\n",
       "  </tbody>\n",
       "</table>\n",
       "</div>"
      ],
      "text/plain": [
       "             node1      node2  exp_count  bg_count exp        label  \\\n",
       "943787   ATGGAGTGT  TGGAGTGTA         15         0  0w  oligo match   \n",
       "1002349  TGGATGGAG  GGATGGAGT         11         0  0w  oligo match   \n",
       "14308    GTTTTTTTT  TTTTTTTTT        562       349  0w  oligo match   \n",
       "459473   TTCTGGATG  TCTGGATGG         39        28  0w  oligo match   \n",
       "31750    TGTTTTTTT  GTTTTTTTT        275       201  0w  oligo match   \n",
       "292744   AGCCTGTTT  GCCTGTTTT         53        42  0w  oligo match   \n",
       "59848    CTGTTTTTT  TGTTTTTTT        157       128  0w  oligo match   \n",
       "514268   ACCGGTTGT  CCGGTTGTG         36        30  0w  oligo match   \n",
       "880731   TGGAGTGTA  GGAGTGTAC         18        15  0w  oligo match   \n",
       "85133    GGTTGTGAG  GTTGTGAGC        120       106  0w  oligo match   \n",
       "104311   CCTGTTTTT  CTGTTTTTT        104        94  0w  oligo match   \n",
       "789099   GTTGTGAGC  TTGTGAGCC         22        21  0w  oligo match   \n",
       "109922   GCCTGTTTT  CCTGTTTTT        100       101  0w  oligo match   \n",
       "681811   TTGTGAGCC  TGTGAGCCT         27        28  0w  oligo match   \n",
       "913137   CGGTTGTGA  GGTTGTGAG         16        17  0w  oligo match   \n",
       "754491   TACCGGTTG  ACCGGTTGT         24        26  0w  oligo match   \n",
       "975462   CTGGATGGA  TGGATGGAG         13        15  0w  oligo match   \n",
       "618617   AGTGTACCG  GTGTACCGG         30        35  0w  oligo match   \n",
       "952573   GATGGAGTG  ATGGAGTGT         14        17  0w  oligo match   \n",
       "675145   TGTGAGCCT  GTGAGCCTG         27        33  0w  oligo match   \n",
       "474199   GAGCCTGTT  AGCCTGTTT         38        47  0w  oligo match   \n",
       "492533   GTACCGGTT  TACCGGTTG         37        46  0w  oligo match   \n",
       "447823   GGATGGAGT  GATGGAGTG         40        50  0w  oligo match   \n",
       "846154   TGAGCCTGT  GAGCCTGTT         19        24  0w  oligo match   \n",
       "951558   TCTGGATGG  CTGGATGGA         14        18  0w  oligo match   \n",
       "677869   GAGTGTACC  AGTGTACCG         27        35  0w  oligo match   \n",
       "751473   GTGAGCCTG  TGAGCCTGT         24        32  0w  oligo match   \n",
       "201181   GGAGTGTAC  GAGTGTACC         68       101  0w  oligo match   \n",
       "840466   TGTACCGGT  GTACCGGTT         20        37  0w  oligo match   \n",
       "864748   GTGTACCGG  TGTACCGGT         19        42  0w  oligo match   \n",
       "\n",
       "                fc    log2fc  zscore_trad  \n",
       "943787   16.978967  4.085677    -0.010038  \n",
       "1002349  12.734225  3.670639    -0.010152  \n",
       "14308     1.706993  0.771457     0.005477  \n",
       "459473    1.463704  0.549624    -0.009358  \n",
       "31750     1.449937  0.535990    -0.002663  \n",
       "292744    1.332651  0.414300    -0.008961  \n",
       "59848     1.299747  0.378230    -0.006011  \n",
       "514268    1.266576  0.340934    -0.009443  \n",
       "880731    1.260158  0.333604    -0.009953  \n",
       "85133     1.200032  0.263073    -0.007060  \n",
       "104311    1.172889  0.230067    -0.007514  \n",
       "789099    1.109421  0.149807    -0.009840  \n",
       "109922    1.050782  0.071463    -0.007627  \n",
       "681811    1.024593  0.035051    -0.009698  \n",
       "913137    1.002231  0.003215    -0.010010  \n",
       "754491   -1.017730 -0.025355    -0.009783  \n",
       "975462   -1.076963 -0.106968    -0.010095  \n",
       "618617   -1.094333 -0.130052    -0.009613  \n",
       "952573   -1.130811 -0.177358    -0.010067  \n",
       "675145   -1.144273 -0.194431    -0.009698  \n",
       "474199   -1.159806 -0.213883    -0.009386  \n",
       "492533   -1.165529 -0.220985    -0.009414  \n",
       "447823   -1.172182 -0.229197    -0.009329  \n",
       "846154   -1.177928 -0.236251    -0.009925  \n",
       "951558   -1.193634 -0.255360    -0.010067  \n",
       "677869   -1.211583 -0.276893    -0.009698  \n",
       "751473   -1.243892 -0.314861    -0.009783  \n",
       "201181   -1.393028 -0.478224    -0.008535  \n",
       "840466   -1.705191 -0.769933    -0.009897  \n",
       "864748   -2.026036 -1.018660    -0.009925  "
      ]
     },
     "execution_count": 87,
     "metadata": {},
     "output_type": "execute_result"
    }
   ],
   "source": [
    "df['zscore_trad'] = (df['exp_count'] - df['bg_count'].mean())/(df['bg_count'].std(ddof=1))\n",
    "df[df.label == 'oligo match']"
   ]
  },
  {
   "cell_type": "code",
   "execution_count": 54,
   "id": "738ceac4-f8df-4d49-9361-db37915d32fc",
   "metadata": {},
   "outputs": [
    {
     "ename": "KeyboardInterrupt",
     "evalue": "",
     "output_type": "error",
     "traceback": [
      "\u001b[0;31m---------------------------------------------------------------------------\u001b[0m",
      "\u001b[0;31mKeyboardInterrupt\u001b[0m                         Traceback (most recent call last)",
      "Cell \u001b[0;32mIn[54], line 1\u001b[0m\n\u001b[0;32m----> 1\u001b[0m df[\u001b[38;5;124m'\u001b[39m\u001b[38;5;124mzscore_apex\u001b[39m\u001b[38;5;124m'\u001b[39m] \u001b[38;5;241m=\u001b[39m ([calc_apex_zscore(i, j, \u001b[38;5;28mint\u001b[39m(df[\u001b[38;5;124m'\u001b[39m\u001b[38;5;124mexp_count\u001b[39m\u001b[38;5;124m'\u001b[39m]\u001b[38;5;241m.\u001b[39msum()), \u001b[38;5;28mint\u001b[39m(df[\u001b[38;5;124m'\u001b[39m\u001b[38;5;124mbg_count\u001b[39m\u001b[38;5;124m'\u001b[39m]\u001b[38;5;241m.\u001b[39msum())) \\\n\u001b[1;32m      2\u001b[0m                       \u001b[38;5;28;01mfor\u001b[39;00m i, j \u001b[38;5;129;01min\u001b[39;00m \u001b[38;5;28mzip\u001b[39m(df\u001b[38;5;241m.\u001b[39mexp_count, df\u001b[38;5;241m.\u001b[39mbg_count)])\n\u001b[1;32m      3\u001b[0m df\n",
      "Cell \u001b[0;32mIn[54], line 1\u001b[0m, in \u001b[0;36m<listcomp>\u001b[0;34m(.0)\u001b[0m\n\u001b[0;32m----> 1\u001b[0m df[\u001b[38;5;124m'\u001b[39m\u001b[38;5;124mzscore_apex\u001b[39m\u001b[38;5;124m'\u001b[39m] \u001b[38;5;241m=\u001b[39m ([calc_apex_zscore(i, j, \u001b[38;5;28mint\u001b[39m(\u001b[43mdf\u001b[49m\u001b[43m[\u001b[49m\u001b[38;5;124;43m'\u001b[39;49m\u001b[38;5;124;43mexp_count\u001b[39;49m\u001b[38;5;124;43m'\u001b[39;49m\u001b[43m]\u001b[49m\u001b[38;5;241;43m.\u001b[39;49m\u001b[43msum\u001b[49m\u001b[43m(\u001b[49m\u001b[43m)\u001b[49m), \u001b[38;5;28mint\u001b[39m(df[\u001b[38;5;124m'\u001b[39m\u001b[38;5;124mbg_count\u001b[39m\u001b[38;5;124m'\u001b[39m]\u001b[38;5;241m.\u001b[39msum())) \\\n\u001b[1;32m      2\u001b[0m                       \u001b[38;5;28;01mfor\u001b[39;00m i, j \u001b[38;5;129;01min\u001b[39;00m \u001b[38;5;28mzip\u001b[39m(df\u001b[38;5;241m.\u001b[39mexp_count, df\u001b[38;5;241m.\u001b[39mbg_count)])\n\u001b[1;32m      3\u001b[0m df\n",
      "File \u001b[0;32m~/miniconda3/envs/oligo/lib/python3.9/site-packages/pandas/core/generic.py:11797\u001b[0m, in \u001b[0;36mNDFrame._add_numeric_operations.<locals>.sum\u001b[0;34m(self, axis, skipna, level, numeric_only, min_count, **kwargs)\u001b[0m\n\u001b[1;32m  11777\u001b[0m \u001b[38;5;129m@doc\u001b[39m(\n\u001b[1;32m  11778\u001b[0m     _num_doc,\n\u001b[1;32m  11779\u001b[0m     desc\u001b[38;5;241m=\u001b[39m\u001b[38;5;124m\"\u001b[39m\u001b[38;5;124mReturn the sum of the values over the requested axis.\u001b[39m\u001b[38;5;130;01m\\n\u001b[39;00m\u001b[38;5;130;01m\\n\u001b[39;00m\u001b[38;5;124m\"\u001b[39m\n\u001b[0;32m   (...)\u001b[0m\n\u001b[1;32m  11795\u001b[0m     \u001b[38;5;241m*\u001b[39m\u001b[38;5;241m*\u001b[39mkwargs,\n\u001b[1;32m  11796\u001b[0m ):\n\u001b[0;32m> 11797\u001b[0m     \u001b[38;5;28;01mreturn\u001b[39;00m \u001b[43mNDFrame\u001b[49m\u001b[38;5;241;43m.\u001b[39;49m\u001b[43msum\u001b[49m\u001b[43m(\u001b[49m\n\u001b[1;32m  11798\u001b[0m \u001b[43m        \u001b[49m\u001b[38;5;28;43mself\u001b[39;49m\u001b[43m,\u001b[49m\u001b[43m \u001b[49m\u001b[43maxis\u001b[49m\u001b[43m,\u001b[49m\u001b[43m \u001b[49m\u001b[43mskipna\u001b[49m\u001b[43m,\u001b[49m\u001b[43m \u001b[49m\u001b[43mlevel\u001b[49m\u001b[43m,\u001b[49m\u001b[43m \u001b[49m\u001b[43mnumeric_only\u001b[49m\u001b[43m,\u001b[49m\u001b[43m \u001b[49m\u001b[43mmin_count\u001b[49m\u001b[43m,\u001b[49m\u001b[43m \u001b[49m\u001b[38;5;241;43m*\u001b[39;49m\u001b[38;5;241;43m*\u001b[39;49m\u001b[43mkwargs\u001b[49m\n\u001b[1;32m  11799\u001b[0m \u001b[43m    \u001b[49m\u001b[43m)\u001b[49m\n",
      "File \u001b[0;32m~/miniconda3/envs/oligo/lib/python3.9/site-packages/pandas/core/generic.py:11501\u001b[0m, in \u001b[0;36mNDFrame.sum\u001b[0;34m(self, axis, skipna, level, numeric_only, min_count, **kwargs)\u001b[0m\n\u001b[1;32m  11492\u001b[0m \u001b[38;5;28;01mdef\u001b[39;00m \u001b[38;5;21msum\u001b[39m(\n\u001b[1;32m  11493\u001b[0m     \u001b[38;5;28mself\u001b[39m,\n\u001b[1;32m  11494\u001b[0m     axis: Axis \u001b[38;5;241m|\u001b[39m \u001b[38;5;28;01mNone\u001b[39;00m \u001b[38;5;241m=\u001b[39m \u001b[38;5;28;01mNone\u001b[39;00m,\n\u001b[0;32m   (...)\u001b[0m\n\u001b[1;32m  11499\u001b[0m     \u001b[38;5;241m*\u001b[39m\u001b[38;5;241m*\u001b[39mkwargs,\n\u001b[1;32m  11500\u001b[0m ):\n\u001b[0;32m> 11501\u001b[0m     \u001b[38;5;28;01mreturn\u001b[39;00m \u001b[38;5;28;43mself\u001b[39;49m\u001b[38;5;241;43m.\u001b[39;49m\u001b[43m_min_count_stat_function\u001b[49m\u001b[43m(\u001b[49m\n\u001b[1;32m  11502\u001b[0m \u001b[43m        \u001b[49m\u001b[38;5;124;43m\"\u001b[39;49m\u001b[38;5;124;43msum\u001b[39;49m\u001b[38;5;124;43m\"\u001b[39;49m\u001b[43m,\u001b[49m\u001b[43m \u001b[49m\u001b[43mnanops\u001b[49m\u001b[38;5;241;43m.\u001b[39;49m\u001b[43mnansum\u001b[49m\u001b[43m,\u001b[49m\u001b[43m \u001b[49m\u001b[43maxis\u001b[49m\u001b[43m,\u001b[49m\u001b[43m \u001b[49m\u001b[43mskipna\u001b[49m\u001b[43m,\u001b[49m\u001b[43m \u001b[49m\u001b[43mlevel\u001b[49m\u001b[43m,\u001b[49m\u001b[43m \u001b[49m\u001b[43mnumeric_only\u001b[49m\u001b[43m,\u001b[49m\u001b[43m \u001b[49m\u001b[43mmin_count\u001b[49m\u001b[43m,\u001b[49m\u001b[43m \u001b[49m\u001b[38;5;241;43m*\u001b[39;49m\u001b[38;5;241;43m*\u001b[39;49m\u001b[43mkwargs\u001b[49m\n\u001b[1;32m  11503\u001b[0m \u001b[43m    \u001b[49m\u001b[43m)\u001b[49m\n",
      "File \u001b[0;32m~/miniconda3/envs/oligo/lib/python3.9/site-packages/pandas/core/generic.py:11483\u001b[0m, in \u001b[0;36mNDFrame._min_count_stat_function\u001b[0;34m(self, name, func, axis, skipna, level, numeric_only, min_count, **kwargs)\u001b[0m\n\u001b[1;32m  11467\u001b[0m     warnings\u001b[38;5;241m.\u001b[39mwarn(\n\u001b[1;32m  11468\u001b[0m         \u001b[38;5;124m\"\u001b[39m\u001b[38;5;124mUsing the level keyword in DataFrame and Series aggregations is \u001b[39m\u001b[38;5;124m\"\u001b[39m\n\u001b[1;32m  11469\u001b[0m         \u001b[38;5;124m\"\u001b[39m\u001b[38;5;124mdeprecated and will be removed in a future version. Use groupby \u001b[39m\u001b[38;5;124m\"\u001b[39m\n\u001b[0;32m   (...)\u001b[0m\n\u001b[1;32m  11472\u001b[0m         stacklevel\u001b[38;5;241m=\u001b[39mfind_stack_level(),\n\u001b[1;32m  11473\u001b[0m     )\n\u001b[1;32m  11474\u001b[0m     \u001b[38;5;28;01mreturn\u001b[39;00m \u001b[38;5;28mself\u001b[39m\u001b[38;5;241m.\u001b[39m_agg_by_level(\n\u001b[1;32m  11475\u001b[0m         name,\n\u001b[1;32m  11476\u001b[0m         axis\u001b[38;5;241m=\u001b[39maxis,\n\u001b[0;32m   (...)\u001b[0m\n\u001b[1;32m  11480\u001b[0m         numeric_only\u001b[38;5;241m=\u001b[39mnumeric_only,\n\u001b[1;32m  11481\u001b[0m     )\n\u001b[0;32m> 11483\u001b[0m \u001b[38;5;28;01mreturn\u001b[39;00m \u001b[38;5;28;43mself\u001b[39;49m\u001b[38;5;241;43m.\u001b[39;49m\u001b[43m_reduce\u001b[49m\u001b[43m(\u001b[49m\n\u001b[1;32m  11484\u001b[0m \u001b[43m    \u001b[49m\u001b[43mfunc\u001b[49m\u001b[43m,\u001b[49m\n\u001b[1;32m  11485\u001b[0m \u001b[43m    \u001b[49m\u001b[43mname\u001b[49m\u001b[38;5;241;43m=\u001b[39;49m\u001b[43mname\u001b[49m\u001b[43m,\u001b[49m\n\u001b[1;32m  11486\u001b[0m \u001b[43m    \u001b[49m\u001b[43maxis\u001b[49m\u001b[38;5;241;43m=\u001b[39;49m\u001b[43maxis\u001b[49m\u001b[43m,\u001b[49m\n\u001b[1;32m  11487\u001b[0m \u001b[43m    \u001b[49m\u001b[43mskipna\u001b[49m\u001b[38;5;241;43m=\u001b[39;49m\u001b[43mskipna\u001b[49m\u001b[43m,\u001b[49m\n\u001b[1;32m  11488\u001b[0m \u001b[43m    \u001b[49m\u001b[43mnumeric_only\u001b[49m\u001b[38;5;241;43m=\u001b[39;49m\u001b[43mnumeric_only\u001b[49m\u001b[43m,\u001b[49m\n\u001b[1;32m  11489\u001b[0m \u001b[43m    \u001b[49m\u001b[43mmin_count\u001b[49m\u001b[38;5;241;43m=\u001b[39;49m\u001b[43mmin_count\u001b[49m\u001b[43m,\u001b[49m\n\u001b[1;32m  11490\u001b[0m \u001b[43m\u001b[49m\u001b[43m)\u001b[49m\n",
      "File \u001b[0;32m~/miniconda3/envs/oligo/lib/python3.9/site-packages/pandas/core/series.py:4816\u001b[0m, in \u001b[0;36mSeries._reduce\u001b[0;34m(self, op, name, axis, skipna, numeric_only, filter_type, **kwds)\u001b[0m\n\u001b[1;32m   4812\u001b[0m     \u001b[38;5;28;01mraise\u001b[39;00m \u001b[38;5;167;01mNotImplementedError\u001b[39;00m(\n\u001b[1;32m   4813\u001b[0m         \u001b[38;5;124mf\u001b[39m\u001b[38;5;124m\"\u001b[39m\u001b[38;5;124mSeries.\u001b[39m\u001b[38;5;132;01m{\u001b[39;00mname\u001b[38;5;132;01m}\u001b[39;00m\u001b[38;5;124m does not implement \u001b[39m\u001b[38;5;132;01m{\u001b[39;00mkwd_name\u001b[38;5;132;01m}\u001b[39;00m\u001b[38;5;124m.\u001b[39m\u001b[38;5;124m\"\u001b[39m\n\u001b[1;32m   4814\u001b[0m     )\n\u001b[1;32m   4815\u001b[0m \u001b[38;5;28;01mwith\u001b[39;00m np\u001b[38;5;241m.\u001b[39merrstate(\u001b[38;5;28mall\u001b[39m\u001b[38;5;241m=\u001b[39m\u001b[38;5;124m\"\u001b[39m\u001b[38;5;124mignore\u001b[39m\u001b[38;5;124m\"\u001b[39m):\n\u001b[0;32m-> 4816\u001b[0m     \u001b[38;5;28;01mreturn\u001b[39;00m \u001b[43mop\u001b[49m\u001b[43m(\u001b[49m\u001b[43mdelegate\u001b[49m\u001b[43m,\u001b[49m\u001b[43m \u001b[49m\u001b[43mskipna\u001b[49m\u001b[38;5;241;43m=\u001b[39;49m\u001b[43mskipna\u001b[49m\u001b[43m,\u001b[49m\u001b[43m \u001b[49m\u001b[38;5;241;43m*\u001b[39;49m\u001b[38;5;241;43m*\u001b[39;49m\u001b[43mkwds\u001b[49m\u001b[43m)\u001b[49m\n",
      "File \u001b[0;32m~/miniconda3/envs/oligo/lib/python3.9/site-packages/pandas/core/nanops.py:93\u001b[0m, in \u001b[0;36mdisallow.__call__.<locals>._f\u001b[0;34m(*args, **kwargs)\u001b[0m\n\u001b[1;32m     91\u001b[0m \u001b[38;5;28;01mtry\u001b[39;00m:\n\u001b[1;32m     92\u001b[0m     \u001b[38;5;28;01mwith\u001b[39;00m np\u001b[38;5;241m.\u001b[39merrstate(invalid\u001b[38;5;241m=\u001b[39m\u001b[38;5;124m\"\u001b[39m\u001b[38;5;124mignore\u001b[39m\u001b[38;5;124m\"\u001b[39m):\n\u001b[0;32m---> 93\u001b[0m         \u001b[38;5;28;01mreturn\u001b[39;00m \u001b[43mf\u001b[49m\u001b[43m(\u001b[49m\u001b[38;5;241;43m*\u001b[39;49m\u001b[43margs\u001b[49m\u001b[43m,\u001b[49m\u001b[43m \u001b[49m\u001b[38;5;241;43m*\u001b[39;49m\u001b[38;5;241;43m*\u001b[39;49m\u001b[43mkwargs\u001b[49m\u001b[43m)\u001b[49m\n\u001b[1;32m     94\u001b[0m \u001b[38;5;28;01mexcept\u001b[39;00m \u001b[38;5;167;01mValueError\u001b[39;00m \u001b[38;5;28;01mas\u001b[39;00m e:\n\u001b[1;32m     95\u001b[0m     \u001b[38;5;66;03m# we want to transform an object array\u001b[39;00m\n\u001b[1;32m     96\u001b[0m     \u001b[38;5;66;03m# ValueError message to the more typical TypeError\u001b[39;00m\n\u001b[1;32m     97\u001b[0m     \u001b[38;5;66;03m# e.g. this is normally a disallowed function on\u001b[39;00m\n\u001b[1;32m     98\u001b[0m     \u001b[38;5;66;03m# object arrays that contain strings\u001b[39;00m\n\u001b[1;32m     99\u001b[0m     \u001b[38;5;28;01mif\u001b[39;00m is_object_dtype(args[\u001b[38;5;241m0\u001b[39m]):\n",
      "File \u001b[0;32m~/miniconda3/envs/oligo/lib/python3.9/site-packages/pandas/core/nanops.py:418\u001b[0m, in \u001b[0;36m_datetimelike_compat.<locals>.new_func\u001b[0;34m(values, axis, skipna, mask, **kwargs)\u001b[0m\n\u001b[1;32m    415\u001b[0m \u001b[38;5;28;01mif\u001b[39;00m datetimelike \u001b[38;5;129;01mand\u001b[39;00m mask \u001b[38;5;129;01mis\u001b[39;00m \u001b[38;5;28;01mNone\u001b[39;00m:\n\u001b[1;32m    416\u001b[0m     mask \u001b[38;5;241m=\u001b[39m isna(values)\n\u001b[0;32m--> 418\u001b[0m result \u001b[38;5;241m=\u001b[39m \u001b[43mfunc\u001b[49m\u001b[43m(\u001b[49m\u001b[43mvalues\u001b[49m\u001b[43m,\u001b[49m\u001b[43m \u001b[49m\u001b[43maxis\u001b[49m\u001b[38;5;241;43m=\u001b[39;49m\u001b[43maxis\u001b[49m\u001b[43m,\u001b[49m\u001b[43m \u001b[49m\u001b[43mskipna\u001b[49m\u001b[38;5;241;43m=\u001b[39;49m\u001b[43mskipna\u001b[49m\u001b[43m,\u001b[49m\u001b[43m \u001b[49m\u001b[43mmask\u001b[49m\u001b[38;5;241;43m=\u001b[39;49m\u001b[43mmask\u001b[49m\u001b[43m,\u001b[49m\u001b[43m \u001b[49m\u001b[38;5;241;43m*\u001b[39;49m\u001b[38;5;241;43m*\u001b[39;49m\u001b[43mkwargs\u001b[49m\u001b[43m)\u001b[49m\n\u001b[1;32m    420\u001b[0m \u001b[38;5;28;01mif\u001b[39;00m datetimelike:\n\u001b[1;32m    421\u001b[0m     result \u001b[38;5;241m=\u001b[39m _wrap_results(result, orig_values\u001b[38;5;241m.\u001b[39mdtype, fill_value\u001b[38;5;241m=\u001b[39miNaT)\n",
      "File \u001b[0;32m~/miniconda3/envs/oligo/lib/python3.9/site-packages/pandas/core/nanops.py:491\u001b[0m, in \u001b[0;36mmaybe_operate_rowwise.<locals>.newfunc\u001b[0;34m(values, axis, **kwargs)\u001b[0m\n\u001b[1;32m    488\u001b[0m         results \u001b[38;5;241m=\u001b[39m [func(x, \u001b[38;5;241m*\u001b[39m\u001b[38;5;241m*\u001b[39mkwargs) \u001b[38;5;28;01mfor\u001b[39;00m x \u001b[38;5;129;01min\u001b[39;00m arrs]\n\u001b[1;32m    489\u001b[0m     \u001b[38;5;28;01mreturn\u001b[39;00m np\u001b[38;5;241m.\u001b[39marray(results)\n\u001b[0;32m--> 491\u001b[0m \u001b[38;5;28;01mreturn\u001b[39;00m \u001b[43mfunc\u001b[49m\u001b[43m(\u001b[49m\u001b[43mvalues\u001b[49m\u001b[43m,\u001b[49m\u001b[43m \u001b[49m\u001b[43maxis\u001b[49m\u001b[38;5;241;43m=\u001b[39;49m\u001b[43maxis\u001b[49m\u001b[43m,\u001b[49m\u001b[43m \u001b[49m\u001b[38;5;241;43m*\u001b[39;49m\u001b[38;5;241;43m*\u001b[39;49m\u001b[43mkwargs\u001b[49m\u001b[43m)\u001b[49m\n",
      "File \u001b[0;32m~/miniconda3/envs/oligo/lib/python3.9/site-packages/pandas/core/nanops.py:631\u001b[0m, in \u001b[0;36mnansum\u001b[0;34m(values, axis, skipna, min_count, mask)\u001b[0m\n\u001b[1;32m    628\u001b[0m \u001b[38;5;28;01melif\u001b[39;00m is_timedelta64_dtype(dtype):\n\u001b[1;32m    629\u001b[0m     dtype_sum \u001b[38;5;241m=\u001b[39m np\u001b[38;5;241m.\u001b[39mdtype(np\u001b[38;5;241m.\u001b[39mfloat64)\n\u001b[0;32m--> 631\u001b[0m the_sum \u001b[38;5;241m=\u001b[39m \u001b[43mvalues\u001b[49m\u001b[38;5;241;43m.\u001b[39;49m\u001b[43msum\u001b[49m\u001b[43m(\u001b[49m\u001b[43maxis\u001b[49m\u001b[43m,\u001b[49m\u001b[43m \u001b[49m\u001b[43mdtype\u001b[49m\u001b[38;5;241;43m=\u001b[39;49m\u001b[43mdtype_sum\u001b[49m\u001b[43m)\u001b[49m\n\u001b[1;32m    632\u001b[0m the_sum \u001b[38;5;241m=\u001b[39m _maybe_null_out(the_sum, axis, mask, values\u001b[38;5;241m.\u001b[39mshape, min_count\u001b[38;5;241m=\u001b[39mmin_count)\n\u001b[1;32m    634\u001b[0m \u001b[38;5;28;01mreturn\u001b[39;00m the_sum\n",
      "File \u001b[0;32m~/miniconda3/envs/oligo/lib/python3.9/site-packages/numpy/core/_methods.py:49\u001b[0m, in \u001b[0;36m_sum\u001b[0;34m(a, axis, dtype, out, keepdims, initial, where)\u001b[0m\n\u001b[1;32m     47\u001b[0m \u001b[38;5;28;01mdef\u001b[39;00m \u001b[38;5;21m_sum\u001b[39m(a, axis\u001b[38;5;241m=\u001b[39m\u001b[38;5;28;01mNone\u001b[39;00m, dtype\u001b[38;5;241m=\u001b[39m\u001b[38;5;28;01mNone\u001b[39;00m, out\u001b[38;5;241m=\u001b[39m\u001b[38;5;28;01mNone\u001b[39;00m, keepdims\u001b[38;5;241m=\u001b[39m\u001b[38;5;28;01mFalse\u001b[39;00m,\n\u001b[1;32m     48\u001b[0m          initial\u001b[38;5;241m=\u001b[39m_NoValue, where\u001b[38;5;241m=\u001b[39m\u001b[38;5;28;01mTrue\u001b[39;00m):\n\u001b[0;32m---> 49\u001b[0m     \u001b[38;5;28;01mreturn\u001b[39;00m \u001b[43mumr_sum\u001b[49m\u001b[43m(\u001b[49m\u001b[43ma\u001b[49m\u001b[43m,\u001b[49m\u001b[43m \u001b[49m\u001b[43maxis\u001b[49m\u001b[43m,\u001b[49m\u001b[43m \u001b[49m\u001b[43mdtype\u001b[49m\u001b[43m,\u001b[49m\u001b[43m \u001b[49m\u001b[43mout\u001b[49m\u001b[43m,\u001b[49m\u001b[43m \u001b[49m\u001b[43mkeepdims\u001b[49m\u001b[43m,\u001b[49m\u001b[43m \u001b[49m\u001b[43minitial\u001b[49m\u001b[43m,\u001b[49m\u001b[43m \u001b[49m\u001b[43mwhere\u001b[49m\u001b[43m)\u001b[49m\n",
      "\u001b[0;31mKeyboardInterrupt\u001b[0m: "
     ]
    }
   ],
   "source": [
    "df['zscore_apex'] = ([calc_apex_zscore(i, j, int(df['exp_count'].sum()), int(df['bg_count'].sum())) \\\n",
    "                      for i, j in zip(df.exp_count, df.bg_count)])\n"
   ]
  },
  {
   "cell_type": "markdown",
   "id": "23a5cceb-f8bc-4702-b992-650054686f51",
   "metadata": {},
   "source": [
    "# code archive below here"
   ]
  },
  {
   "cell_type": "code",
   "execution_count": 4,
   "id": "7eb29622-f516-4e4e-944a-fa26530b48a2",
   "metadata": {},
   "outputs": [
    {
     "data": {
      "text/plain": [
       "[11, 12, 13, 14, 15]"
      ]
     },
     "execution_count": 4,
     "metadata": {},
     "output_type": "execute_result"
    }
   ],
   "source": [
    "kmers = list(range(11,16))\n",
    "kmers"
   ]
  },
  {
   "cell_type": "code",
   "execution_count": 5,
   "id": "bf2ee962-81e6-4fb4-aed8-e90130931202",
   "metadata": {},
   "outputs": [],
   "source": [
    "# for k in kmers:\n",
    "#     library_file = f'../oligo/data/bait_kmers/library_{k}mers.csv'\n",
    "#     lib_set = get_library_set(library_file)\n",
    "#     for i in range(1,4):\n",
    "#         files = glob.glob(f'../oligo/results_pruned/{k}mer/oligo_{i}*{k}mers_unique.csv')\n",
    "#         print(files)\n",
    "#         truth_file = f'../oligo/data/bait_kmers/oligo_{i}_{k}mers.csv'\n",
    "#         outfile_prefix = f'oligo_{i}'\n",
    "#         for f in tqdm(files):\n",
    "#             truth_set = get_truth_set(truth_file)\n",
    "#             exp = re.search('(?<=_)\\w\\w(?=_)', f)[0]\n",
    "#             df = calc_zscore(f)\n",
    "#             df_out = label_exp(df, truth_set, lib_set, exp)\n",
    "#             df_out.to_csv(f'../oligo/results_pruned/{k}mer/{outfile_prefix}_{exp}_{k}mer_enrichment.csv', index=False)"
   ]
  },
  {
   "cell_type": "code",
   "execution_count": 6,
   "id": "70753026-e492-4aa4-883c-a35de51f0a70",
   "metadata": {},
   "outputs": [
    {
     "data": {
      "text/plain": [
       "[5, 6, 7, 8, 9, 10, 11, 12, 13, 14, 15]"
      ]
     },
     "execution_count": 6,
     "metadata": {},
     "output_type": "execute_result"
    }
   ],
   "source": [
    "kmers = list(range(5,16))\n",
    "kmers"
   ]
  },
  {
   "cell_type": "code",
   "execution_count": 7,
   "id": "77618c8a-74e2-4c98-bc27-2a378d369b2a",
   "metadata": {
    "scrolled": true
   },
   "outputs": [
    {
     "name": "stdout",
     "output_type": "stream",
     "text": [
      "['../oligo/results_pruned/5mer/oligo_1_3w_3mm_5mers_unique.csv', '../oligo/results_pruned/5mer/oligo_1_0w_3mm_5mers_unique.csv', '../oligo/results_pruned/5mer/oligo_1_bg_3mm_5mers_unique.csv', '../oligo/results_pruned/5mer/oligo_1_1w_3mm_5mers_unique.csv']\n"
     ]
    },
    {
     "name": "stderr",
     "output_type": "stream",
     "text": [
      "100%|██████████████████████████████████████████████████████████████████████████████████████████| 4/4 [00:00<00:00, 24.06it/s]\n"
     ]
    },
    {
     "name": "stdout",
     "output_type": "stream",
     "text": [
      "['../oligo/results_pruned/5mer/oligo_2_3w_3mm_5mers_unique.csv', '../oligo/results_pruned/5mer/oligo_2_1w_3mm_5mers_unique.csv', '../oligo/results_pruned/5mer/oligo_2_0w_3mm_5mers_unique.csv', '../oligo/results_pruned/5mer/oligo_2_bg_3mm_5mers_unique.csv']\n"
     ]
    },
    {
     "name": "stderr",
     "output_type": "stream",
     "text": [
      "100%|██████████████████████████████████████████████████████████████████████████████████████████| 4/4 [00:00<00:00, 51.12it/s]\n"
     ]
    },
    {
     "name": "stdout",
     "output_type": "stream",
     "text": [
      "['../oligo/results_pruned/5mer/oligo_3_1w_3mm_5mers_unique.csv', '../oligo/results_pruned/5mer/oligo_3_0w_3mm_5mers_unique.csv', '../oligo/results_pruned/5mer/oligo_3_bg_3mm_5mers_unique.csv', '../oligo/results_pruned/5mer/oligo_3_3w_3mm_5mers_unique.csv']\n"
     ]
    },
    {
     "name": "stderr",
     "output_type": "stream",
     "text": [
      "100%|██████████████████████████████████████████████████████████████████████████████████████████| 4/4 [00:00<00:00, 50.70it/s]\n"
     ]
    },
    {
     "name": "stdout",
     "output_type": "stream",
     "text": [
      "['../oligo/results_pruned/6mer/oligo_1_3w_3mm_6mers_unique.csv', '../oligo/results_pruned/6mer/oligo_1_1w_3mm_6mers_unique.csv', '../oligo/results_pruned/6mer/oligo_1_bg_3mm_6mers_unique.csv', '../oligo/results_pruned/6mer/oligo_1_0w_3mm_6mers_unique.csv']\n"
     ]
    },
    {
     "name": "stderr",
     "output_type": "stream",
     "text": [
      "100%|██████████████████████████████████████████████████████████████████████████████████████████| 4/4 [00:00<00:00, 17.89it/s]\n"
     ]
    },
    {
     "name": "stdout",
     "output_type": "stream",
     "text": [
      "['../oligo/results_pruned/6mer/oligo_2_3w_3mm_6mers_unique.csv', '../oligo/results_pruned/6mer/oligo_2_bg_3mm_6mers_unique.csv', '../oligo/results_pruned/6mer/oligo_2_0w_3mm_6mers_unique.csv', '../oligo/results_pruned/6mer/oligo_2_1w_3mm_6mers_unique.csv']\n"
     ]
    },
    {
     "name": "stderr",
     "output_type": "stream",
     "text": [
      "100%|██████████████████████████████████████████████████████████████████████████████████████████| 4/4 [00:00<00:00, 26.56it/s]\n"
     ]
    },
    {
     "name": "stdout",
     "output_type": "stream",
     "text": [
      "['../oligo/results_pruned/6mer/oligo_3_bg_3mm_6mers_unique.csv', '../oligo/results_pruned/6mer/oligo_3_0w_3mm_6mers_unique.csv', '../oligo/results_pruned/6mer/oligo_3_1w_3mm_6mers_unique.csv', '../oligo/results_pruned/6mer/oligo_3_3w_3mm_6mers_unique.csv']\n"
     ]
    },
    {
     "name": "stderr",
     "output_type": "stream",
     "text": [
      "100%|██████████████████████████████████████████████████████████████████████████████████████████| 4/4 [00:00<00:00, 20.95it/s]\n"
     ]
    },
    {
     "name": "stdout",
     "output_type": "stream",
     "text": [
      "['../oligo/results_pruned/7mer/oligo_1_3w_3mm_7mers_unique.csv', '../oligo/results_pruned/7mer/oligo_1_0w_3mm_7mers_unique.csv', '../oligo/results_pruned/7mer/oligo_1_bg_3mm_7mers_unique.csv', '../oligo/results_pruned/7mer/oligo_1_1w_3mm_7mers_unique.csv']\n"
     ]
    },
    {
     "name": "stderr",
     "output_type": "stream",
     "text": [
      "100%|██████████████████████████████████████████████████████████████████████████████████████████| 4/4 [00:00<00:00,  8.25it/s]\n"
     ]
    },
    {
     "name": "stdout",
     "output_type": "stream",
     "text": [
      "['../oligo/results_pruned/7mer/oligo_2_3w_3mm_7mers_unique.csv', '../oligo/results_pruned/7mer/oligo_2_1w_3mm_7mers_unique.csv', '../oligo/results_pruned/7mer/oligo_2_0w_3mm_7mers_unique.csv', '../oligo/results_pruned/7mer/oligo_2_bg_3mm_7mers_unique.csv']\n"
     ]
    },
    {
     "name": "stderr",
     "output_type": "stream",
     "text": [
      "100%|██████████████████████████████████████████████████████████████████████████████████████████| 4/4 [00:00<00:00,  7.47it/s]\n"
     ]
    },
    {
     "name": "stdout",
     "output_type": "stream",
     "text": [
      "['../oligo/results_pruned/7mer/oligo_3_1w_3mm_7mers_unique.csv', '../oligo/results_pruned/7mer/oligo_3_0w_3mm_7mers_unique.csv', '../oligo/results_pruned/7mer/oligo_3_bg_3mm_7mers_unique.csv', '../oligo/results_pruned/7mer/oligo_3_3w_3mm_7mers_unique.csv']\n"
     ]
    },
    {
     "name": "stderr",
     "output_type": "stream",
     "text": [
      "100%|██████████████████████████████████████████████████████████████████████████████████████████| 4/4 [00:00<00:00,  9.19it/s]\n"
     ]
    },
    {
     "name": "stdout",
     "output_type": "stream",
     "text": [
      "['../oligo/results_pruned/8mer/oligo_1_1w_3mm_8mers_unique.csv', '../oligo/results_pruned/8mer/oligo_1_0w_3mm_8mers_unique.csv', '../oligo/results_pruned/8mer/oligo_1_bg_3mm_8mers_unique.csv', '../oligo/results_pruned/8mer/oligo_1_3w_3mm_8mers_unique.csv']\n"
     ]
    },
    {
     "name": "stderr",
     "output_type": "stream",
     "text": [
      "100%|██████████████████████████████████████████████████████████████████████████████████████████| 4/4 [00:01<00:00,  2.97it/s]\n"
     ]
    },
    {
     "name": "stdout",
     "output_type": "stream",
     "text": [
      "['../oligo/results_pruned/8mer/oligo_2_0w_3mm_8mers_unique.csv', '../oligo/results_pruned/8mer/oligo_2_bg_3mm_8mers_unique.csv', '../oligo/results_pruned/8mer/oligo_2_1w_3mm_8mers_unique.csv', '../oligo/results_pruned/8mer/oligo_2_3w_3mm_8mers_unique.csv']\n"
     ]
    },
    {
     "name": "stderr",
     "output_type": "stream",
     "text": [
      "100%|██████████████████████████████████████████████████████████████████████████████████████████| 4/4 [00:01<00:00,  3.04it/s]\n"
     ]
    },
    {
     "name": "stdout",
     "output_type": "stream",
     "text": [
      "['../oligo/results_pruned/8mer/oligo_3_3w_3mm_8mers_unique.csv', '../oligo/results_pruned/8mer/oligo_3_0w_3mm_8mers_unique.csv', '../oligo/results_pruned/8mer/oligo_3_bg_3mm_8mers_unique.csv', '../oligo/results_pruned/8mer/oligo_3_1w_3mm_8mers_unique.csv']\n"
     ]
    },
    {
     "name": "stderr",
     "output_type": "stream",
     "text": [
      "100%|██████████████████████████████████████████████████████████████████████████████████████████| 4/4 [00:01<00:00,  3.08it/s]\n"
     ]
    },
    {
     "name": "stdout",
     "output_type": "stream",
     "text": [
      "['../oligo/results_pruned/9mer/oligo_1_0w_3mm_9mers_unique.csv', '../oligo/results_pruned/9mer/oligo_1_bg_3mm_9mers_unique.csv', '../oligo/results_pruned/9mer/oligo_1_1w_3mm_9mers_unique.csv', '../oligo/results_pruned/9mer/oligo_1_3w_3mm_9mers_unique.csv']\n"
     ]
    },
    {
     "name": "stderr",
     "output_type": "stream",
     "text": [
      "100%|██████████████████████████████████████████████████████████████████████████████████████████| 4/4 [00:04<00:00,  1.17s/it]\n"
     ]
    },
    {
     "name": "stdout",
     "output_type": "stream",
     "text": [
      "['../oligo/results_pruned/9mer/oligo_2_1w_3mm_9mers_unique.csv', '../oligo/results_pruned/9mer/oligo_2_0w_3mm_9mers_unique.csv', '../oligo/results_pruned/9mer/oligo_2_bg_3mm_9mers_unique.csv', '../oligo/results_pruned/9mer/oligo_2_3w_3mm_9mers_unique.csv']\n"
     ]
    },
    {
     "name": "stderr",
     "output_type": "stream",
     "text": [
      "100%|██████████████████████████████████████████████████████████████████████████████████████████| 4/4 [00:04<00:00,  1.22s/it]\n"
     ]
    },
    {
     "name": "stdout",
     "output_type": "stream",
     "text": [
      "['../oligo/results_pruned/9mer/oligo_3_3w_3mm_9mers_unique.csv', '../oligo/results_pruned/9mer/oligo_3_1w_3mm_9mers_unique.csv', '../oligo/results_pruned/9mer/oligo_3_0w_3mm_9mers_unique.csv', '../oligo/results_pruned/9mer/oligo_3_bg_3mm_9mers_unique.csv']\n"
     ]
    },
    {
     "name": "stderr",
     "output_type": "stream",
     "text": [
      "100%|██████████████████████████████████████████████████████████████████████████████████████████| 4/4 [00:04<00:00,  1.17s/it]\n"
     ]
    },
    {
     "name": "stdout",
     "output_type": "stream",
     "text": [
      "['../oligo/results_pruned/10mer/oligo_1_3w_3mm_10mers_unique.csv', '../oligo/results_pruned/10mer/oligo_1_0w_3mm_10mers_unique.csv', '../oligo/results_pruned/10mer/oligo_1_1w_3mm_10mers_unique.csv', '../oligo/results_pruned/10mer/oligo_1_bg_3mm_10mers_unique.csv']\n"
     ]
    },
    {
     "name": "stderr",
     "output_type": "stream",
     "text": [
      "100%|██████████████████████████████████████████████████████████████████████████████████████████| 4/4 [00:18<00:00,  4.72s/it]\n"
     ]
    },
    {
     "name": "stdout",
     "output_type": "stream",
     "text": [
      "['../oligo/results_pruned/10mer/oligo_2_3w_3mm_10mers_unique.csv', '../oligo/results_pruned/10mer/oligo_2_0w_3mm_10mers_unique.csv', '../oligo/results_pruned/10mer/oligo_2_1w_3mm_10mers_unique.csv', '../oligo/results_pruned/10mer/oligo_2_bg_3mm_10mers_unique.csv']\n"
     ]
    },
    {
     "name": "stderr",
     "output_type": "stream",
     "text": [
      "100%|██████████████████████████████████████████████████████████████████████████████████████████| 4/4 [00:18<00:00,  4.64s/it]\n"
     ]
    },
    {
     "name": "stdout",
     "output_type": "stream",
     "text": [
      "['../oligo/results_pruned/10mer/oligo_3_3w_3mm_10mers_unique.csv', '../oligo/results_pruned/10mer/oligo_3_0w_3mm_10mers_unique.csv', '../oligo/results_pruned/10mer/oligo_3_1w_3mm_10mers_unique.csv', '../oligo/results_pruned/10mer/oligo_3_bg_3mm_10mers_unique.csv']\n"
     ]
    },
    {
     "name": "stderr",
     "output_type": "stream",
     "text": [
      "100%|██████████████████████████████████████████████████████████████████████████████████████████| 4/4 [00:18<00:00,  4.71s/it]\n"
     ]
    },
    {
     "name": "stdout",
     "output_type": "stream",
     "text": [
      "['../oligo/results_pruned/11mer/oligo_1_3w_3mm_11mers_unique.csv', '../oligo/results_pruned/11mer/oligo_1_1w_3mm_11mers_unique.csv', '../oligo/results_pruned/11mer/oligo_1_0w_3mm_11mers_unique.csv', '../oligo/results_pruned/11mer/oligo_1_bg_3mm_11mers_unique.csv']\n"
     ]
    },
    {
     "name": "stderr",
     "output_type": "stream",
     "text": [
      "100%|██████████████████████████████████████████████████████████████████████████████████████████| 4/4 [01:15<00:00, 18.84s/it]\n"
     ]
    },
    {
     "name": "stdout",
     "output_type": "stream",
     "text": [
      "['../oligo/results_pruned/11mer/oligo_2_3w_3mm_11mers_unique.csv', '../oligo/results_pruned/11mer/oligo_2_1w_3mm_11mers_unique.csv', '../oligo/results_pruned/11mer/oligo_2_0w_3mm_11mers_unique.csv', '../oligo/results_pruned/11mer/oligo_2_bg_3mm_11mers_unique.csv']\n"
     ]
    },
    {
     "name": "stderr",
     "output_type": "stream",
     "text": [
      "100%|██████████████████████████████████████████████████████████████████████████████████████████| 4/4 [01:05<00:00, 16.34s/it]\n"
     ]
    },
    {
     "name": "stdout",
     "output_type": "stream",
     "text": [
      "['../oligo/results_pruned/11mer/oligo_3_3w_3mm_11mers_unique.csv', '../oligo/results_pruned/11mer/oligo_3_1w_3mm_11mers_unique.csv', '../oligo/results_pruned/11mer/oligo_3_0w_3mm_11mers_unique.csv', '../oligo/results_pruned/11mer/oligo_3_bg_3mm_11mers_unique.csv']\n"
     ]
    },
    {
     "name": "stderr",
     "output_type": "stream",
     "text": [
      "100%|██████████████████████████████████████████████████████████████████████████████████████████| 4/4 [01:08<00:00, 17.11s/it]\n"
     ]
    },
    {
     "name": "stdout",
     "output_type": "stream",
     "text": [
      "['../oligo/results_pruned/12mer/oligo_1_bg_3mm_12mers_unique.csv', '../oligo/results_pruned/12mer/oligo_1_3w_3mm_12mers_unique.csv', '../oligo/results_pruned/12mer/oligo_1_0w_3mm_12mers_unique.csv', '../oligo/results_pruned/12mer/oligo_1_1w_3mm_12mers_unique.csv']\n"
     ]
    },
    {
     "name": "stderr",
     "output_type": "stream",
     "text": [
      "100%|██████████████████████████████████████████████████████████████████████████████████████████| 4/4 [03:37<00:00, 54.27s/it]\n"
     ]
    },
    {
     "name": "stdout",
     "output_type": "stream",
     "text": [
      "['../oligo/results_pruned/12mer/oligo_2_bg_3mm_12mers_unique.csv', '../oligo/results_pruned/12mer/oligo_2_3w_3mm_12mers_unique.csv', '../oligo/results_pruned/12mer/oligo_2_0w_3mm_12mers_unique.csv', '../oligo/results_pruned/12mer/oligo_2_1w_3mm_12mers_unique.csv']\n"
     ]
    },
    {
     "name": "stderr",
     "output_type": "stream",
     "text": [
      "100%|██████████████████████████████████████████████████████████████████████████████████████████| 4/4 [02:24<00:00, 36.08s/it]\n"
     ]
    },
    {
     "name": "stdout",
     "output_type": "stream",
     "text": [
      "['../oligo/results_pruned/12mer/oligo_3_bg_3mm_12mers_unique.csv', '../oligo/results_pruned/12mer/oligo_3_3w_3mm_12mers_unique.csv', '../oligo/results_pruned/12mer/oligo_3_0w_3mm_12mers_unique.csv', '../oligo/results_pruned/12mer/oligo_3_1w_3mm_12mers_unique.csv']\n"
     ]
    },
    {
     "name": "stderr",
     "output_type": "stream",
     "text": [
      "100%|██████████████████████████████████████████████████████████████████████████████████████████| 4/4 [02:45<00:00, 41.42s/it]\n"
     ]
    },
    {
     "name": "stdout",
     "output_type": "stream",
     "text": [
      "['../oligo/results_pruned/13mer/oligo_1_3w_3mm_13mers_unique.csv', '../oligo/results_pruned/13mer/oligo_1_1w_3mm_13mers_unique.csv', '../oligo/results_pruned/13mer/oligo_1_0w_3mm_13mers_unique.csv', '../oligo/results_pruned/13mer/oligo_1_bg_3mm_13mers_unique.csv']\n"
     ]
    },
    {
     "name": "stderr",
     "output_type": "stream",
     "text": [
      "100%|██████████████████████████████████████████████████████████████████████████████████████████| 4/4 [06:23<00:00, 95.80s/it]\n"
     ]
    },
    {
     "name": "stdout",
     "output_type": "stream",
     "text": [
      "['../oligo/results_pruned/13mer/oligo_2_3w_3mm_13mers_unique.csv', '../oligo/results_pruned/13mer/oligo_2_1w_3mm_13mers_unique.csv', '../oligo/results_pruned/13mer/oligo_2_0w_3mm_13mers_unique.csv', '../oligo/results_pruned/13mer/oligo_2_bg_3mm_13mers_unique.csv']\n"
     ]
    },
    {
     "name": "stderr",
     "output_type": "stream",
     "text": [
      "100%|██████████████████████████████████████████████████████████████████████████████████████████| 4/4 [03:29<00:00, 52.49s/it]\n"
     ]
    },
    {
     "name": "stdout",
     "output_type": "stream",
     "text": [
      "['../oligo/results_pruned/13mer/oligo_3_3w_3mm_13mers_unique.csv', '../oligo/results_pruned/13mer/oligo_3_1w_3mm_13mers_unique.csv', '../oligo/results_pruned/13mer/oligo_3_0w_3mm_13mers_unique.csv', '../oligo/results_pruned/13mer/oligo_3_bg_3mm_13mers_unique.csv']\n"
     ]
    },
    {
     "name": "stderr",
     "output_type": "stream",
     "text": [
      "100%|██████████████████████████████████████████████████████████████████████████████████████████| 4/4 [04:20<00:00, 65.22s/it]\n"
     ]
    },
    {
     "name": "stdout",
     "output_type": "stream",
     "text": [
      "['../oligo/results_pruned/14mer/oligo_1_3w_3mm_14mers_unique.csv', '../oligo/results_pruned/14mer/oligo_1_0w_3mm_14mers_unique.csv', '../oligo/results_pruned/14mer/oligo_1_1w_3mm_14mers_unique.csv']\n"
     ]
    },
    {
     "name": "stderr",
     "output_type": "stream",
     "text": [
      "100%|█████████████████████████████████████████████████████████████████████████████████████████| 3/3 [06:18<00:00, 126.15s/it]\n"
     ]
    },
    {
     "name": "stdout",
     "output_type": "stream",
     "text": [
      "['../oligo/results_pruned/14mer/oligo_2_bg_3mm_14mers_unique.csv', '../oligo/results_pruned/14mer/oligo_2_3w_3mm_14mers_unique.csv', '../oligo/results_pruned/14mer/oligo_2_0w_3mm_14mers_unique.csv', '../oligo/results_pruned/14mer/oligo_2_1w_3mm_14mers_unique.csv']\n"
     ]
    },
    {
     "name": "stderr",
     "output_type": "stream",
     "text": [
      "100%|██████████████████████████████████████████████████████████████████████████████████████████| 4/4 [04:16<00:00, 64.17s/it]\n"
     ]
    },
    {
     "name": "stdout",
     "output_type": "stream",
     "text": [
      "['../oligo/results_pruned/14mer/oligo_3_bg_3mm_14mers_unique.csv', '../oligo/results_pruned/14mer/oligo_3_3w_3mm_14mers_unique.csv', '../oligo/results_pruned/14mer/oligo_3_0w_3mm_14mers_unique.csv', '../oligo/results_pruned/14mer/oligo_3_1w_3mm_14mers_unique.csv']\n"
     ]
    },
    {
     "name": "stderr",
     "output_type": "stream",
     "text": [
      "100%|██████████████████████████████████████████████████████████████████████████████████████████| 4/4 [05:23<00:00, 80.98s/it]\n"
     ]
    },
    {
     "name": "stdout",
     "output_type": "stream",
     "text": [
      "['../oligo/results_pruned/15mer/oligo_1_0w_3mm_15mers_unique.csv', '../oligo/results_pruned/15mer/oligo_1_1w_3mm_15mers_unique.csv', '../oligo/results_pruned/15mer/oligo_1_3w_3mm_15mers_unique.csv']\n"
     ]
    },
    {
     "name": "stderr",
     "output_type": "stream",
     "text": [
      "100%|█████████████████████████████████████████████████████████████████████████████████████████| 3/3 [07:24<00:00, 148.29s/it]\n"
     ]
    },
    {
     "name": "stdout",
     "output_type": "stream",
     "text": [
      "['../oligo/results_pruned/15mer/oligo_2_bg_3mm_15mers_unique.csv', '../oligo/results_pruned/15mer/oligo_2_0w_3mm_15mers_unique.csv', '../oligo/results_pruned/15mer/oligo_2_1w_3mm_15mers_unique.csv', '../oligo/results_pruned/15mer/oligo_2_3w_3mm_15mers_unique.csv']\n"
     ]
    },
    {
     "name": "stderr",
     "output_type": "stream",
     "text": [
      "100%|██████████████████████████████████████████████████████████████████████████████████████████| 4/4 [04:56<00:00, 74.01s/it]\n"
     ]
    },
    {
     "name": "stdout",
     "output_type": "stream",
     "text": [
      "['../oligo/results_pruned/15mer/oligo_3_bg_3mm_15mers_unique.csv', '../oligo/results_pruned/15mer/oligo_3_0w_3mm_15mers_unique.csv', '../oligo/results_pruned/15mer/oligo_3_1w_3mm_15mers_unique.csv', '../oligo/results_pruned/15mer/oligo_3_3w_3mm_15mers_unique.csv']\n"
     ]
    },
    {
     "name": "stderr",
     "output_type": "stream",
     "text": [
      "100%|██████████████████████████████████████████████████████████████████████████████████████████| 4/4 [06:19<00:00, 94.99s/it]\n"
     ]
    }
   ],
   "source": [
    "for k in kmers:\n",
    "    library_file = f'../oligo/data/bait_kmers/library_{k}mers.csv'\n",
    "    lib_set = get_library_set(library_file)\n",
    "    for i in range(1,4):\n",
    "        files = glob.glob(f'../oligo/results_pruned/{k}mer/oligo_{i}*{k}mers_unique.csv')\n",
    "        print(files)\n",
    "        truth_file = f'../oligo/data/bait_kmers/oligo_{i}_comp_{k}mers.csv'\n",
    "        outfile_prefix = f'oligo_{i}'\n",
    "        for f in tqdm(files):\n",
    "            truth_set = get_truth_set(truth_file)\n",
    "            exp = re.search('(?<=_)\\w\\w(?=_)', f)[0]\n",
    "            df = calc_zscore(f)\n",
    "            df_out = label_exp(df, truth_set, lib_set, exp)\n",
    "            df_out.to_csv(f'../oligo/results_pruned/{k}mer/{outfile_prefix}_{exp}_comp_{k}mer_enrichment.csv', index=False)"
   ]
  },
  {
   "cell_type": "code",
   "execution_count": 8,
   "id": "eb24d752-b20d-4ea6-aa02-458ccbd0a742",
   "metadata": {},
   "outputs": [],
   "source": [
    "# redo_files = ['../oligo/results/13mer/oligo_1_0w_13mers_unique.csv','../oligo/results/14mer/oligo_1_bg_14mers_unique.csv','../oligo/results/15mer/oligo_1_bg_15mers_unique.csv']\n",
    "# redo_k = [13, 14, 15]\n",
    "# i=1\n",
    "# for k, f in zip(redo_k, redo_files):\n",
    "#     print(k, '\\t', f)\n",
    "#     library_file = f'../oligo/data/bait_kmers/library_{k}mers.csv'\n",
    "#     lib_set = get_library_set(library_file)\n",
    "#     truth_file = f'../oligo/data/bait_kmers/oligo_{i}_{k}mers.csv'\n",
    "#     outfile_prefix = f'oligo_{i}'\n",
    "#     exp = re.search('(?<=_)\\w\\w(?=_)', f)[0]\n",
    "#     df = calc_zscore(f)\n",
    "#     df_out = label_exp(df, truth_set, lib_set, exp)\n",
    "#     df_out.to_csv(f'../oligo/results/{k}mer/{outfile_prefix}_{exp}_{k}mer_enrichment.csv', index=False)"
   ]
  },
  {
   "cell_type": "code",
   "execution_count": 9,
   "id": "7231a560-cd9c-4414-b22b-84eceba62cd9",
   "metadata": {},
   "outputs": [],
   "source": [
    "# k=11\n",
    "# library_file = f'../oligo/data/bait_kmers/library_comp_{k}mers.csv'\n",
    "# lib_set = get_library_set(library_file)"
   ]
  },
  {
   "cell_type": "code",
   "execution_count": 10,
   "id": "126425e3-b673-47fe-b906-977a5d8837da",
   "metadata": {},
   "outputs": [],
   "source": [
    "# for i in range(1,4):\n",
    "#     files = glob.glob(f'../oligo/results/{k}mer/oligo_{i}*{k}mers_unique.csv')\n",
    "#     print(files)\n",
    "#     truth_file = f'../oligo/data/bait_kmers/oligo_{i}_{k}mers.csv'\n",
    "#     outfile_prefix = f'oligo_{i}'\n",
    "#     for f in tqdm(files):\n",
    "#         truth_set = get_truth_set(truth_file)\n",
    "#         exp = re.search('(?<=_)\\w\\w(?=_)', f)[0]\n",
    "#         df = calc_zscore(f)\n",
    "#         df_out = label_exp(df, truth_set, lib_set, exp)\n",
    "#         #df_out.to_csv(f'../oligo/results/{k}mer/{outfile_prefix}_{exp}_{k}mer_enrichment.csv', index=False)"
   ]
  },
  {
   "cell_type": "markdown",
   "id": "7d03d3ff-3781-444f-910d-92f2f284bbc2",
   "metadata": {},
   "source": [
    "## streptavidin"
   ]
  },
  {
   "cell_type": "code",
   "execution_count": 4,
   "id": "75f3ac76-b936-4e26-98cd-bb3ddd68ca59",
   "metadata": {
    "scrolled": true
   },
   "outputs": [
    {
     "name": "stdout",
     "output_type": "stream",
     "text": [
      "['../oligo/results/hfog1/streptavidin_bg_5mers_unique.csv', '../oligo/results/hfog1/streptavidin_3w_5mers_unique.csv', '../oligo/results/hfog1/streptavidin_bg_15mers_unique.csv', '../oligo/results/hfog1/streptavidin_3w_15mers_unique.csv', '../oligo/results/hfog1/streptavidin_7w_5mers_unique.csv', '../oligo/results/hfog1/streptavidin_7w_15mers_unique.csv', '../oligo/results/hfog1/streptavidin_0w_5mers_unique.csv', '../oligo/results/hfog1/streptavidin_0w_15mers_unique.csv']\n"
     ]
    },
    {
     "name": "stderr",
     "output_type": "stream",
     "text": [
      "100%|███████████████████████████████████████| 8/8 [05:49<00:00, 43.66s/it]\n"
     ]
    },
    {
     "name": "stdout",
     "output_type": "stream",
     "text": [
      "['../oligo/results/hfog1/streptavidin_7w_6mers_unique.csv', '../oligo/results/hfog1/streptavidin_0w_6mers_unique.csv', '../oligo/results/hfog1/streptavidin_bg_6mers_unique.csv', '../oligo/results/hfog1/streptavidin_3w_6mers_unique.csv']\n"
     ]
    },
    {
     "name": "stderr",
     "output_type": "stream",
     "text": [
      "100%|███████████████████████████████████████| 4/4 [00:00<00:00,  5.34it/s]\n"
     ]
    },
    {
     "name": "stdout",
     "output_type": "stream",
     "text": [
      "['../oligo/results/hfog1/streptavidin_bg_7mers_unique.csv', '../oligo/results/hfog1/streptavidin_3w_7mers_unique.csv', '../oligo/results/hfog1/streptavidin_0w_7mers_unique.csv', '../oligo/results/hfog1/streptavidin_7w_7mers_unique.csv']\n"
     ]
    },
    {
     "name": "stderr",
     "output_type": "stream",
     "text": [
      "100%|███████████████████████████████████████| 4/4 [00:00<00:00,  7.26it/s]\n"
     ]
    },
    {
     "name": "stdout",
     "output_type": "stream",
     "text": [
      "['../oligo/results/hfog1/streptavidin_7w_8mers_unique.csv', '../oligo/results/hfog1/streptavidin_0w_8mers_unique.csv', '../oligo/results/hfog1/streptavidin_3w_8mers_unique.csv', '../oligo/results/hfog1/streptavidin_bg_8mers_unique.csv']\n"
     ]
    },
    {
     "name": "stderr",
     "output_type": "stream",
     "text": [
      "100%|███████████████████████████████████████| 4/4 [00:01<00:00,  2.60it/s]\n"
     ]
    },
    {
     "name": "stdout",
     "output_type": "stream",
     "text": [
      "['../oligo/results/hfog1/streptavidin_3w_9mers_unique.csv', '../oligo/results/hfog1/streptavidin_bg_9mers_unique.csv', '../oligo/results/hfog1/streptavidin_0w_9mers_unique.csv', '../oligo/results/hfog1/streptavidin_7w_9mers_unique.csv']\n"
     ]
    },
    {
     "name": "stderr",
     "output_type": "stream",
     "text": [
      "100%|███████████████████████████████████████| 4/4 [00:05<00:00,  1.31s/it]\n"
     ]
    },
    {
     "name": "stdout",
     "output_type": "stream",
     "text": [
      "['../oligo/results/hfog1/streptavidin_3w_10mers_unique.csv', '../oligo/results/hfog1/streptavidin_bg_10mers_unique.csv', '../oligo/results/hfog1/streptavidin_7w_10mers_unique.csv', '../oligo/results/hfog1/streptavidin_0w_10mers_unique.csv']\n"
     ]
    },
    {
     "name": "stderr",
     "output_type": "stream",
     "text": [
      "100%|███████████████████████████████████████| 4/4 [00:20<00:00,  5.08s/it]\n"
     ]
    },
    {
     "name": "stdout",
     "output_type": "stream",
     "text": [
      "['../oligo/results/hfog1/streptavidin_0w_11mers_unique.csv', '../oligo/results/hfog1/streptavidin_7w_11mers_unique.csv', '../oligo/results/hfog1/streptavidin_bg_11mers_unique.csv', '../oligo/results/hfog1/streptavidin_3w_11mers_unique.csv']\n"
     ]
    },
    {
     "name": "stderr",
     "output_type": "stream",
     "text": [
      "100%|███████████████████████████████████████| 4/4 [01:10<00:00, 17.75s/it]\n"
     ]
    },
    {
     "name": "stdout",
     "output_type": "stream",
     "text": [
      "['../oligo/results/hfog1/streptavidin_bg_12mers_unique.csv', '../oligo/results/hfog1/streptavidin_3w_12mers_unique.csv', '../oligo/results/hfog1/streptavidin_7w_12mers_unique.csv', '../oligo/results/hfog1/streptavidin_0w_12mers_unique.csv']\n"
     ]
    },
    {
     "name": "stderr",
     "output_type": "stream",
     "text": [
      "100%|███████████████████████████████████████| 4/4 [02:42<00:00, 40.65s/it]\n"
     ]
    },
    {
     "name": "stdout",
     "output_type": "stream",
     "text": [
      "['../oligo/results/hfog1/streptavidin_0w_13mers_unique.csv', '../oligo/results/hfog1/streptavidin_7w_13mers_unique.csv', '../oligo/results/hfog1/streptavidin_3w_13mers_unique.csv', '../oligo/results/hfog1/streptavidin_bg_13mers_unique.csv']\n"
     ]
    },
    {
     "name": "stderr",
     "output_type": "stream",
     "text": [
      "100%|███████████████████████████████████████| 4/4 [04:13<00:00, 63.30s/it]\n"
     ]
    },
    {
     "name": "stdout",
     "output_type": "stream",
     "text": [
      "['../oligo/results/hfog1/streptavidin_0w_14mers_unique.csv', '../oligo/results/hfog1/streptavidin_7w_14mers_unique.csv', '../oligo/results/hfog1/streptavidin_3w_14mers_unique.csv', '../oligo/results/hfog1/streptavidin_bg_14mers_unique.csv']\n"
     ]
    },
    {
     "name": "stderr",
     "output_type": "stream",
     "text": [
      "100%|███████████████████████████████████████| 4/4 [05:03<00:00, 75.96s/it]\n"
     ]
    },
    {
     "name": "stdout",
     "output_type": "stream",
     "text": [
      "['../oligo/results/hfog1/streptavidin_bg_15mers_unique.csv', '../oligo/results/hfog1/streptavidin_3w_15mers_unique.csv', '../oligo/results/hfog1/streptavidin_7w_15mers_unique.csv', '../oligo/results/hfog1/streptavidin_0w_15mers_unique.csv']\n"
     ]
    },
    {
     "name": "stderr",
     "output_type": "stream",
     "text": [
      "100%|███████████████████████████████████████| 4/4 [05:48<00:00, 87.15s/it]\n"
     ]
    }
   ],
   "source": [
    "kmers = list(range(5,16))\n",
    "for k in kmers:\n",
    "    library_file = f'../oligo/data/bait_kmers/library_{k}mers.csv'\n",
    "    lib_set = get_library_set(library_file)\n",
    "    files = glob.glob(f'../oligo/results/hfog1/streptavidin*_{k}mers_unique.csv')\n",
    "    print(files)\n",
    "    truth_file = f'../oligo/data/bait_kmers/oligo_all_comp_{k}mers.csv'\n",
    "    outfile_prefix = f'streptavidin'\n",
    "    for f in tqdm(files):\n",
    "        truth_set = get_truth_set(truth_file)\n",
    "        exp = re.search('(?<=_)\\w\\w(?=_)', f)[0]\n",
    "        df = calc_zscore(f)\n",
    "        df_out = label_exp(df, truth_set, lib_set, exp)\n",
    "        df_out.to_csv(f'../oligo/results/{k}mer/{outfile_prefix}_{exp}_comp_{k}mer_enrichment.csv', index=False)"
   ]
  },
  {
   "cell_type": "code",
   "execution_count": 5,
   "id": "97e6aa96-ed07-46dd-bc83-aa5c5b907437",
   "metadata": {},
   "outputs": [
    {
     "name": "stdout",
     "output_type": "stream",
     "text": [
      "['../oligo/results/hfog1/streptavidin_bg_5mers_unique.csv', '../oligo/results/hfog1/streptavidin_3w_5mers_unique.csv', '../oligo/results/hfog1/streptavidin_7w_5mers_unique.csv', '../oligo/results/hfog1/streptavidin_0w_5mers_unique.csv']\n"
     ]
    },
    {
     "name": "stderr",
     "output_type": "stream",
     "text": [
      "100%|███████████████████████████████████████| 4/4 [00:00<00:00,  4.29it/s]\n"
     ]
    }
   ],
   "source": [
    "k = 5\n",
    "library_file = f'../oligo/data/bait_kmers/library_{k}mers.csv'\n",
    "lib_set = get_library_set(library_file)\n",
    "files = glob.glob(f'../oligo/results/hfog1/streptavidin*_{k}mers_unique.csv')\n",
    "print(files)\n",
    "truth_file = f'../oligo/data/bait_kmers/oligo_all_comp_{k}mers.csv'\n",
    "outfile_prefix = f'streptavidin'\n",
    "for f in tqdm(files):\n",
    "    truth_set = get_truth_set(truth_file)\n",
    "    exp = re.search('(?<=_)\\w\\w(?=_)', f)[0]\n",
    "    df = calc_zscore(f)\n",
    "    df_out = label_exp(df, truth_set, lib_set, exp)\n",
    "    df_out.to_csv(f'../oligo/results/{k}mer/{outfile_prefix}_{exp}_comp_{k}mer_enrichment.csv', index=False)"
   ]
  },
  {
   "cell_type": "code",
   "execution_count": 6,
   "id": "b8c6092b-44ba-4789-943a-d5b30e5b8c51",
   "metadata": {},
   "outputs": [
    {
     "name": "stdout",
     "output_type": "stream",
     "text": [
      "['../oligo/results/hfog1/streptavidin_bg_5mers_unique.csv', '../oligo/results/hfog1/streptavidin_3w_5mers_unique.csv', '../oligo/results/hfog1/streptavidin_7w_5mers_unique.csv', '../oligo/results/hfog1/streptavidin_0w_5mers_unique.csv']\n"
     ]
    },
    {
     "name": "stderr",
     "output_type": "stream",
     "text": [
      "100%|███████████████████████████████████████| 4/4 [00:00<00:00, 82.06it/s]\n"
     ]
    },
    {
     "name": "stdout",
     "output_type": "stream",
     "text": [
      "['../oligo/results/hfog1/streptavidin_7w_6mers_unique.csv', '../oligo/results/hfog1/streptavidin_0w_6mers_unique.csv', '../oligo/results/hfog1/streptavidin_bg_6mers_unique.csv', '../oligo/results/hfog1/streptavidin_3w_6mers_unique.csv']\n"
     ]
    },
    {
     "name": "stderr",
     "output_type": "stream",
     "text": [
      "100%|███████████████████████████████████████| 4/4 [00:00<00:00, 40.07it/s]\n"
     ]
    },
    {
     "name": "stdout",
     "output_type": "stream",
     "text": [
      "['../oligo/results/hfog1/streptavidin_bg_7mers_unique.csv', '../oligo/results/hfog1/streptavidin_3w_7mers_unique.csv', '../oligo/results/hfog1/streptavidin_0w_7mers_unique.csv', '../oligo/results/hfog1/streptavidin_7w_7mers_unique.csv']\n"
     ]
    },
    {
     "name": "stderr",
     "output_type": "stream",
     "text": [
      "100%|███████████████████████████████████████| 4/4 [00:00<00:00, 12.98it/s]\n"
     ]
    },
    {
     "name": "stdout",
     "output_type": "stream",
     "text": [
      "['../oligo/results/hfog1/streptavidin_7w_8mers_unique.csv', '../oligo/results/hfog1/streptavidin_0w_8mers_unique.csv', '../oligo/results/hfog1/streptavidin_3w_8mers_unique.csv', '../oligo/results/hfog1/streptavidin_bg_8mers_unique.csv']\n"
     ]
    },
    {
     "name": "stderr",
     "output_type": "stream",
     "text": [
      "100%|███████████████████████████████████████| 4/4 [00:01<00:00,  3.41it/s]\n"
     ]
    },
    {
     "name": "stdout",
     "output_type": "stream",
     "text": [
      "['../oligo/results/hfog1/streptavidin_3w_9mers_unique.csv', '../oligo/results/hfog1/streptavidin_bg_9mers_unique.csv', '../oligo/results/hfog1/streptavidin_0w_9mers_unique.csv', '../oligo/results/hfog1/streptavidin_7w_9mers_unique.csv']\n"
     ]
    },
    {
     "name": "stderr",
     "output_type": "stream",
     "text": [
      "100%|███████████████████████████████████████| 4/4 [00:04<00:00,  1.17s/it]\n"
     ]
    },
    {
     "name": "stdout",
     "output_type": "stream",
     "text": [
      "['../oligo/results/hfog1/streptavidin_3w_10mers_unique.csv', '../oligo/results/hfog1/streptavidin_bg_10mers_unique.csv', '../oligo/results/hfog1/streptavidin_7w_10mers_unique.csv', '../oligo/results/hfog1/streptavidin_0w_10mers_unique.csv']\n"
     ]
    },
    {
     "name": "stderr",
     "output_type": "stream",
     "text": [
      "100%|███████████████████████████████████████| 4/4 [00:19<00:00,  4.94s/it]\n"
     ]
    },
    {
     "name": "stdout",
     "output_type": "stream",
     "text": [
      "['../oligo/results/hfog1/streptavidin_0w_11mers_unique.csv', '../oligo/results/hfog1/streptavidin_7w_11mers_unique.csv', '../oligo/results/hfog1/streptavidin_bg_11mers_unique.csv', '../oligo/results/hfog1/streptavidin_3w_11mers_unique.csv']\n"
     ]
    },
    {
     "name": "stderr",
     "output_type": "stream",
     "text": [
      "100%|███████████████████████████████████████| 4/4 [01:09<00:00, 17.35s/it]\n"
     ]
    },
    {
     "name": "stdout",
     "output_type": "stream",
     "text": [
      "['../oligo/results/hfog1/streptavidin_bg_12mers_unique.csv', '../oligo/results/hfog1/streptavidin_3w_12mers_unique.csv', '../oligo/results/hfog1/streptavidin_7w_12mers_unique.csv', '../oligo/results/hfog1/streptavidin_0w_12mers_unique.csv']\n"
     ]
    },
    {
     "name": "stderr",
     "output_type": "stream",
     "text": [
      "100%|███████████████████████████████████████| 4/4 [02:40<00:00, 40.08s/it]\n"
     ]
    },
    {
     "name": "stdout",
     "output_type": "stream",
     "text": [
      "['../oligo/results/hfog1/streptavidin_0w_13mers_unique.csv', '../oligo/results/hfog1/streptavidin_7w_13mers_unique.csv', '../oligo/results/hfog1/streptavidin_3w_13mers_unique.csv', '../oligo/results/hfog1/streptavidin_bg_13mers_unique.csv']\n"
     ]
    },
    {
     "name": "stderr",
     "output_type": "stream",
     "text": [
      "100%|███████████████████████████████████████| 4/4 [04:02<00:00, 60.71s/it]\n"
     ]
    },
    {
     "name": "stdout",
     "output_type": "stream",
     "text": [
      "['../oligo/results/hfog1/streptavidin_0w_14mers_unique.csv', '../oligo/results/hfog1/streptavidin_7w_14mers_unique.csv', '../oligo/results/hfog1/streptavidin_3w_14mers_unique.csv', '../oligo/results/hfog1/streptavidin_bg_14mers_unique.csv']\n"
     ]
    },
    {
     "name": "stderr",
     "output_type": "stream",
     "text": [
      "100%|███████████████████████████████████████| 4/4 [05:02<00:00, 75.56s/it]\n"
     ]
    },
    {
     "name": "stdout",
     "output_type": "stream",
     "text": [
      "['../oligo/results/hfog1/streptavidin_bg_15mers_unique.csv', '../oligo/results/hfog1/streptavidin_3w_15mers_unique.csv', '../oligo/results/hfog1/streptavidin_7w_15mers_unique.csv', '../oligo/results/hfog1/streptavidin_0w_15mers_unique.csv']\n"
     ]
    },
    {
     "name": "stderr",
     "output_type": "stream",
     "text": [
      "100%|███████████████████████████████████████| 4/4 [05:47<00:00, 86.89s/it]\n"
     ]
    }
   ],
   "source": [
    "kmers = list(range(5,16))\n",
    "for k in kmers:\n",
    "    library_file = f'../oligo/data/bait_kmers/library_{k}mers.csv'\n",
    "    lib_set = get_library_set(library_file)\n",
    "    files = glob.glob(f'../oligo/results/hfog1/streptavidin*_{k}mers_unique.csv')\n",
    "    print(files)\n",
    "    truth_file = f'../oligo/data/bait_kmers/oligo_all_{k}mers.csv'\n",
    "    outfile_prefix = f'streptavidin'\n",
    "    for f in tqdm(files):\n",
    "        truth_set = get_truth_set(truth_file)\n",
    "        exp = re.search('(?<=_)\\w\\w(?=_)', f)[0]\n",
    "        df = calc_zscore(f)\n",
    "        df_out = label_exp(df, truth_set, lib_set, exp)\n",
    "        df_out.to_csv(f'../oligo/results/{k}mer/{outfile_prefix}_{exp}_{k}mer_enrichment.csv', index=False)"
   ]
  }
 ],
 "metadata": {
  "kernelspec": {
   "display_name": "Python 3 (ipykernel)",
   "language": "python",
   "name": "python3"
  },
  "language_info": {
   "codemirror_mode": {
    "name": "ipython",
    "version": 3
   },
   "file_extension": ".py",
   "mimetype": "text/x-python",
   "name": "python",
   "nbconvert_exporter": "python",
   "pygments_lexer": "ipython3",
   "version": "3.9.16"
  }
 },
 "nbformat": 4,
 "nbformat_minor": 5
}
