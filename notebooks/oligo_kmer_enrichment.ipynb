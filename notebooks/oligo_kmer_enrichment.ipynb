{
 "cells": [
  {
   "cell_type": "code",
   "execution_count": 53,
   "id": "bc06a3ca-e8fa-437a-9640-0c79fe686c1f",
   "metadata": {},
   "outputs": [],
   "source": [
    "import re\n",
    "import os\n",
    "import glob\n",
    "import pandas as pd\n",
    "from tqdm import tqdm\n",
    "from scipy.stats import zscore\n",
    "from Bio import SeqIO"
   ]
  },
  {
   "cell_type": "code",
   "execution_count": 3,
   "id": "13f2a4f4-901b-4fda-9f78-c5893be947d1",
   "metadata": {},
   "outputs": [],
   "source": [
    "# for record in SeqIO.parse('../oligo/data/fastas/prey.fasta', \"fasta\"):\n",
    "#     print('>'+record.id+'_comp')\n",
    "#     print(record.seq.complement())\n",
    "#     with open('../oligo/data/fastas/prey_comp.fasta', 'w') as f:\n",
    "#         f.write('>'+record.id+'_comp'+'\\n')\n",
    "#         f.write(str(record.seq.complement())+'\\n')"
   ]
  },
  {
   "cell_type": "code",
   "execution_count": 19,
   "id": "9d5fba7c-bc1b-4431-98ff-0488005b08a6",
   "metadata": {},
   "outputs": [],
   "source": [
    "def get_truth_set(truth_file):\n",
    "    df = pd.read_csv(truth_file)\n",
    "    truth_set = [frozenset({i,j}) for i,j in zip(df['Node1'],df['Node2'])]\n",
    "    truth_set = set(truth_set)\n",
    "    return(truth_set)\n",
    "\n",
    "def get_library_set(lib_file):\n",
    "    df = pd.read_csv(library_file)\n",
    "    lib_set = [frozenset({i,j}) for i,j in zip(df['Node1'],df['Node2']) if 'N' not in i and 'N' not in j]\n",
    "    #lib_set = [x for x in lib_set if 'N' not in list(x)]\n",
    "    lib_set = set(lib_set)\n",
    "    return(lib_set)\n",
    "\n",
    "def calc_zscore(results_file):\n",
    "    df = pd.read_csv(results_file)\n",
    "    df['zscore'] = (df['count'] - df['count'].mean())/df['count'].std(ddof=0)\n",
    "    return(df)\n",
    "\n",
    "def label_exp(df, truth_set, lib_set, exp):\n",
    "    df['label'] = ['oligo match' if frozenset({i,j}) in truth_set else 'library match' if frozenset({i,j}) in lib_set else 'off target' for i, j in zip(df['node1'],df['node2'])]\n",
    "    df['exp'] = exp\n",
    "    return(df)"
   ]
  },
  {
   "cell_type": "code",
   "execution_count": 47,
   "id": "7eb29622-f516-4e4e-944a-fa26530b48a2",
   "metadata": {},
   "outputs": [
    {
     "data": {
      "text/plain": [
       "[11, 12, 13, 14, 15]"
      ]
     },
     "execution_count": 47,
     "metadata": {},
     "output_type": "execute_result"
    }
   ],
   "source": [
    "kmers = list(range(11,16))\n",
    "kmers"
   ]
  },
  {
   "cell_type": "code",
   "execution_count": 55,
   "id": "bf2ee962-81e6-4fb4-aed8-e90130931202",
   "metadata": {
    "collapsed": true,
    "jupyter": {
     "outputs_hidden": true
    }
   },
   "outputs": [
    {
     "name": "stdout",
     "output_type": "stream",
     "text": [
      "['../oligo/results/11mer/oligo_1_1w_11mers_unique.csv', '../oligo/results/11mer/oligo_1_bg_11mers_unique.csv', '../oligo/results/11mer/oligo_1_3w_11mers_unique.csv', '../oligo/results/11mer/oligo_1_0w_11mers_unique.csv']\n"
     ]
    },
    {
     "name": "stderr",
     "output_type": "stream",
     "text": [
      "100%|██████████████████████████████████████████████████████████████████████████| 4/4 [01:15<00:00, 18.87s/it]\n"
     ]
    },
    {
     "name": "stdout",
     "output_type": "stream",
     "text": [
      "['../oligo/results/11mer/oligo_2_0w_11mers_unique.csv', '../oligo/results/11mer/oligo_2_3w_11mers_unique.csv', '../oligo/results/11mer/oligo_2_1w_11mers_unique.csv', '../oligo/results/11mer/oligo_2_bg_11mers_unique.csv']\n"
     ]
    },
    {
     "name": "stderr",
     "output_type": "stream",
     "text": [
      "100%|██████████████████████████████████████████████████████████████████████████| 4/4 [01:07<00:00, 16.90s/it]\n"
     ]
    },
    {
     "name": "stdout",
     "output_type": "stream",
     "text": [
      "['../oligo/results/11mer/oligo_3_0w_11mers_unique.csv', '../oligo/results/11mer/oligo_3_1w_11mers_unique.csv', '../oligo/results/11mer/oligo_3_bg_11mers_unique.csv', '../oligo/results/11mer/oligo_3_3w_11mers_unique.csv']\n"
     ]
    },
    {
     "name": "stderr",
     "output_type": "stream",
     "text": [
      "100%|██████████████████████████████████████████████████████████████████████████| 4/4 [01:10<00:00, 17.75s/it]\n"
     ]
    },
    {
     "name": "stdout",
     "output_type": "stream",
     "text": [
      "['../oligo/results/12mer/oligo_1_0w_12mers_unique.csv', '../oligo/results/12mer/oligo_1_3w_12mers_unique.csv', '../oligo/results/12mer/oligo_1_1w_12mers_unique.csv', '../oligo/results/12mer/oligo_1_bg_12mers_unique.csv']\n"
     ]
    },
    {
     "name": "stderr",
     "output_type": "stream",
     "text": [
      " 50%|█████████████████████████████████████                                     | 2/4 [02:11<02:11, 65.66s/it]\n"
     ]
    },
    {
     "ename": "KeyboardInterrupt",
     "evalue": "",
     "output_type": "error",
     "traceback": [
      "\u001b[0;31m---------------------------------------------------------------------------\u001b[0m",
      "\u001b[0;31mKeyboardInterrupt\u001b[0m                         Traceback (most recent call last)",
      "Cell \u001b[0;32mIn[55], line 14\u001b[0m\n\u001b[1;32m     12\u001b[0m df \u001b[38;5;241m=\u001b[39m calc_zscore(f)\n\u001b[1;32m     13\u001b[0m df_out \u001b[38;5;241m=\u001b[39m label_exp(df, truth_set, lib_set, exp)\n\u001b[0;32m---> 14\u001b[0m \u001b[43mdf_out\u001b[49m\u001b[38;5;241;43m.\u001b[39;49m\u001b[43mto_csv\u001b[49m\u001b[43m(\u001b[49m\u001b[38;5;124;43mf\u001b[39;49m\u001b[38;5;124;43m'\u001b[39;49m\u001b[38;5;124;43m../oligo/results/\u001b[39;49m\u001b[38;5;132;43;01m{\u001b[39;49;00m\u001b[43mk\u001b[49m\u001b[38;5;132;43;01m}\u001b[39;49;00m\u001b[38;5;124;43mmer/\u001b[39;49m\u001b[38;5;132;43;01m{\u001b[39;49;00m\u001b[43moutfile_prefix\u001b[49m\u001b[38;5;132;43;01m}\u001b[39;49;00m\u001b[38;5;124;43m_\u001b[39;49m\u001b[38;5;132;43;01m{\u001b[39;49;00m\u001b[43mexp\u001b[49m\u001b[38;5;132;43;01m}\u001b[39;49;00m\u001b[38;5;124;43m_\u001b[39;49m\u001b[38;5;132;43;01m{\u001b[39;49;00m\u001b[43mk\u001b[49m\u001b[38;5;132;43;01m}\u001b[39;49;00m\u001b[38;5;124;43mmer_enrichment.csv\u001b[39;49m\u001b[38;5;124;43m'\u001b[39;49m\u001b[43m,\u001b[49m\u001b[43m \u001b[49m\u001b[43mindex\u001b[49m\u001b[38;5;241;43m=\u001b[39;49m\u001b[38;5;28;43;01mFalse\u001b[39;49;00m\u001b[43m)\u001b[49m\n",
      "File \u001b[0;32m~/miniconda3/envs/oligo/lib/python3.9/site-packages/pandas/core/generic.py:3772\u001b[0m, in \u001b[0;36mNDFrame.to_csv\u001b[0;34m(self, path_or_buf, sep, na_rep, float_format, columns, header, index, index_label, mode, encoding, compression, quoting, quotechar, lineterminator, chunksize, date_format, doublequote, escapechar, decimal, errors, storage_options)\u001b[0m\n\u001b[1;32m   3761\u001b[0m df \u001b[38;5;241m=\u001b[39m \u001b[38;5;28mself\u001b[39m \u001b[38;5;28;01mif\u001b[39;00m \u001b[38;5;28misinstance\u001b[39m(\u001b[38;5;28mself\u001b[39m, ABCDataFrame) \u001b[38;5;28;01melse\u001b[39;00m \u001b[38;5;28mself\u001b[39m\u001b[38;5;241m.\u001b[39mto_frame()\n\u001b[1;32m   3763\u001b[0m formatter \u001b[38;5;241m=\u001b[39m DataFrameFormatter(\n\u001b[1;32m   3764\u001b[0m     frame\u001b[38;5;241m=\u001b[39mdf,\n\u001b[1;32m   3765\u001b[0m     header\u001b[38;5;241m=\u001b[39mheader,\n\u001b[0;32m   (...)\u001b[0m\n\u001b[1;32m   3769\u001b[0m     decimal\u001b[38;5;241m=\u001b[39mdecimal,\n\u001b[1;32m   3770\u001b[0m )\n\u001b[0;32m-> 3772\u001b[0m \u001b[38;5;28;01mreturn\u001b[39;00m \u001b[43mDataFrameRenderer\u001b[49m\u001b[43m(\u001b[49m\u001b[43mformatter\u001b[49m\u001b[43m)\u001b[49m\u001b[38;5;241;43m.\u001b[39;49m\u001b[43mto_csv\u001b[49m\u001b[43m(\u001b[49m\n\u001b[1;32m   3773\u001b[0m \u001b[43m    \u001b[49m\u001b[43mpath_or_buf\u001b[49m\u001b[43m,\u001b[49m\n\u001b[1;32m   3774\u001b[0m \u001b[43m    \u001b[49m\u001b[43mlineterminator\u001b[49m\u001b[38;5;241;43m=\u001b[39;49m\u001b[43mlineterminator\u001b[49m\u001b[43m,\u001b[49m\n\u001b[1;32m   3775\u001b[0m \u001b[43m    \u001b[49m\u001b[43msep\u001b[49m\u001b[38;5;241;43m=\u001b[39;49m\u001b[43msep\u001b[49m\u001b[43m,\u001b[49m\n\u001b[1;32m   3776\u001b[0m \u001b[43m    \u001b[49m\u001b[43mencoding\u001b[49m\u001b[38;5;241;43m=\u001b[39;49m\u001b[43mencoding\u001b[49m\u001b[43m,\u001b[49m\n\u001b[1;32m   3777\u001b[0m \u001b[43m    \u001b[49m\u001b[43merrors\u001b[49m\u001b[38;5;241;43m=\u001b[39;49m\u001b[43merrors\u001b[49m\u001b[43m,\u001b[49m\n\u001b[1;32m   3778\u001b[0m \u001b[43m    \u001b[49m\u001b[43mcompression\u001b[49m\u001b[38;5;241;43m=\u001b[39;49m\u001b[43mcompression\u001b[49m\u001b[43m,\u001b[49m\n\u001b[1;32m   3779\u001b[0m \u001b[43m    \u001b[49m\u001b[43mquoting\u001b[49m\u001b[38;5;241;43m=\u001b[39;49m\u001b[43mquoting\u001b[49m\u001b[43m,\u001b[49m\n\u001b[1;32m   3780\u001b[0m \u001b[43m    \u001b[49m\u001b[43mcolumns\u001b[49m\u001b[38;5;241;43m=\u001b[39;49m\u001b[43mcolumns\u001b[49m\u001b[43m,\u001b[49m\n\u001b[1;32m   3781\u001b[0m \u001b[43m    \u001b[49m\u001b[43mindex_label\u001b[49m\u001b[38;5;241;43m=\u001b[39;49m\u001b[43mindex_label\u001b[49m\u001b[43m,\u001b[49m\n\u001b[1;32m   3782\u001b[0m \u001b[43m    \u001b[49m\u001b[43mmode\u001b[49m\u001b[38;5;241;43m=\u001b[39;49m\u001b[43mmode\u001b[49m\u001b[43m,\u001b[49m\n\u001b[1;32m   3783\u001b[0m \u001b[43m    \u001b[49m\u001b[43mchunksize\u001b[49m\u001b[38;5;241;43m=\u001b[39;49m\u001b[43mchunksize\u001b[49m\u001b[43m,\u001b[49m\n\u001b[1;32m   3784\u001b[0m \u001b[43m    \u001b[49m\u001b[43mquotechar\u001b[49m\u001b[38;5;241;43m=\u001b[39;49m\u001b[43mquotechar\u001b[49m\u001b[43m,\u001b[49m\n\u001b[1;32m   3785\u001b[0m \u001b[43m    \u001b[49m\u001b[43mdate_format\u001b[49m\u001b[38;5;241;43m=\u001b[39;49m\u001b[43mdate_format\u001b[49m\u001b[43m,\u001b[49m\n\u001b[1;32m   3786\u001b[0m \u001b[43m    \u001b[49m\u001b[43mdoublequote\u001b[49m\u001b[38;5;241;43m=\u001b[39;49m\u001b[43mdoublequote\u001b[49m\u001b[43m,\u001b[49m\n\u001b[1;32m   3787\u001b[0m \u001b[43m    \u001b[49m\u001b[43mescapechar\u001b[49m\u001b[38;5;241;43m=\u001b[39;49m\u001b[43mescapechar\u001b[49m\u001b[43m,\u001b[49m\n\u001b[1;32m   3788\u001b[0m \u001b[43m    \u001b[49m\u001b[43mstorage_options\u001b[49m\u001b[38;5;241;43m=\u001b[39;49m\u001b[43mstorage_options\u001b[49m\u001b[43m,\u001b[49m\n\u001b[1;32m   3789\u001b[0m \u001b[43m\u001b[49m\u001b[43m)\u001b[49m\n",
      "File \u001b[0;32m~/miniconda3/envs/oligo/lib/python3.9/site-packages/pandas/io/formats/format.py:1186\u001b[0m, in \u001b[0;36mDataFrameRenderer.to_csv\u001b[0;34m(self, path_or_buf, encoding, sep, columns, index_label, mode, compression, quoting, quotechar, lineterminator, chunksize, date_format, doublequote, escapechar, errors, storage_options)\u001b[0m\n\u001b[1;32m   1165\u001b[0m     created_buffer \u001b[38;5;241m=\u001b[39m \u001b[38;5;28;01mFalse\u001b[39;00m\n\u001b[1;32m   1167\u001b[0m csv_formatter \u001b[38;5;241m=\u001b[39m CSVFormatter(\n\u001b[1;32m   1168\u001b[0m     path_or_buf\u001b[38;5;241m=\u001b[39mpath_or_buf,\n\u001b[1;32m   1169\u001b[0m     lineterminator\u001b[38;5;241m=\u001b[39mlineterminator,\n\u001b[0;32m   (...)\u001b[0m\n\u001b[1;32m   1184\u001b[0m     formatter\u001b[38;5;241m=\u001b[39m\u001b[38;5;28mself\u001b[39m\u001b[38;5;241m.\u001b[39mfmt,\n\u001b[1;32m   1185\u001b[0m )\n\u001b[0;32m-> 1186\u001b[0m \u001b[43mcsv_formatter\u001b[49m\u001b[38;5;241;43m.\u001b[39;49m\u001b[43msave\u001b[49m\u001b[43m(\u001b[49m\u001b[43m)\u001b[49m\n\u001b[1;32m   1188\u001b[0m \u001b[38;5;28;01mif\u001b[39;00m created_buffer:\n\u001b[1;32m   1189\u001b[0m     \u001b[38;5;28;01massert\u001b[39;00m \u001b[38;5;28misinstance\u001b[39m(path_or_buf, StringIO)\n",
      "File \u001b[0;32m~/miniconda3/envs/oligo/lib/python3.9/site-packages/pandas/io/formats/csvs.py:259\u001b[0m, in \u001b[0;36mCSVFormatter.save\u001b[0;34m(self)\u001b[0m\n\u001b[1;32m    240\u001b[0m \u001b[38;5;28;01mwith\u001b[39;00m get_handle(\n\u001b[1;32m    241\u001b[0m     \u001b[38;5;28mself\u001b[39m\u001b[38;5;241m.\u001b[39mfilepath_or_buffer,\n\u001b[1;32m    242\u001b[0m     \u001b[38;5;28mself\u001b[39m\u001b[38;5;241m.\u001b[39mmode,\n\u001b[0;32m   (...)\u001b[0m\n\u001b[1;32m    247\u001b[0m ) \u001b[38;5;28;01mas\u001b[39;00m handles:\n\u001b[1;32m    248\u001b[0m     \u001b[38;5;66;03m# Note: self.encoding is irrelevant here\u001b[39;00m\n\u001b[1;32m    249\u001b[0m     \u001b[38;5;28mself\u001b[39m\u001b[38;5;241m.\u001b[39mwriter \u001b[38;5;241m=\u001b[39m csvlib\u001b[38;5;241m.\u001b[39mwriter(\n\u001b[1;32m    250\u001b[0m         handles\u001b[38;5;241m.\u001b[39mhandle,\n\u001b[1;32m    251\u001b[0m         lineterminator\u001b[38;5;241m=\u001b[39m\u001b[38;5;28mself\u001b[39m\u001b[38;5;241m.\u001b[39mlineterminator,\n\u001b[0;32m   (...)\u001b[0m\n\u001b[1;32m    256\u001b[0m         quotechar\u001b[38;5;241m=\u001b[39m\u001b[38;5;28mself\u001b[39m\u001b[38;5;241m.\u001b[39mquotechar,\n\u001b[1;32m    257\u001b[0m     )\n\u001b[0;32m--> 259\u001b[0m     \u001b[38;5;28;43mself\u001b[39;49m\u001b[38;5;241;43m.\u001b[39;49m\u001b[43m_save\u001b[49m\u001b[43m(\u001b[49m\u001b[43m)\u001b[49m\n",
      "File \u001b[0;32m~/miniconda3/envs/oligo/lib/python3.9/site-packages/pandas/io/formats/csvs.py:264\u001b[0m, in \u001b[0;36mCSVFormatter._save\u001b[0;34m(self)\u001b[0m\n\u001b[1;32m    262\u001b[0m \u001b[38;5;28;01mif\u001b[39;00m \u001b[38;5;28mself\u001b[39m\u001b[38;5;241m.\u001b[39m_need_to_save_header:\n\u001b[1;32m    263\u001b[0m     \u001b[38;5;28mself\u001b[39m\u001b[38;5;241m.\u001b[39m_save_header()\n\u001b[0;32m--> 264\u001b[0m \u001b[38;5;28;43mself\u001b[39;49m\u001b[38;5;241;43m.\u001b[39;49m\u001b[43m_save_body\u001b[49m\u001b[43m(\u001b[49m\u001b[43m)\u001b[49m\n",
      "File \u001b[0;32m~/miniconda3/envs/oligo/lib/python3.9/site-packages/pandas/io/formats/csvs.py:302\u001b[0m, in \u001b[0;36mCSVFormatter._save_body\u001b[0;34m(self)\u001b[0m\n\u001b[1;32m    300\u001b[0m \u001b[38;5;28;01mif\u001b[39;00m start_i \u001b[38;5;241m>\u001b[39m\u001b[38;5;241m=\u001b[39m end_i:\n\u001b[1;32m    301\u001b[0m     \u001b[38;5;28;01mbreak\u001b[39;00m\n\u001b[0;32m--> 302\u001b[0m \u001b[38;5;28;43mself\u001b[39;49m\u001b[38;5;241;43m.\u001b[39;49m\u001b[43m_save_chunk\u001b[49m\u001b[43m(\u001b[49m\u001b[43mstart_i\u001b[49m\u001b[43m,\u001b[49m\u001b[43m \u001b[49m\u001b[43mend_i\u001b[49m\u001b[43m)\u001b[49m\n",
      "File \u001b[0;32m~/miniconda3/envs/oligo/lib/python3.9/site-packages/pandas/io/formats/csvs.py:313\u001b[0m, in \u001b[0;36mCSVFormatter._save_chunk\u001b[0;34m(self, start_i, end_i)\u001b[0m\n\u001b[1;32m    310\u001b[0m data \u001b[38;5;241m=\u001b[39m [res\u001b[38;5;241m.\u001b[39miget_values(i) \u001b[38;5;28;01mfor\u001b[39;00m i \u001b[38;5;129;01min\u001b[39;00m \u001b[38;5;28mrange\u001b[39m(\u001b[38;5;28mlen\u001b[39m(res\u001b[38;5;241m.\u001b[39mitems))]\n\u001b[1;32m    312\u001b[0m ix \u001b[38;5;241m=\u001b[39m \u001b[38;5;28mself\u001b[39m\u001b[38;5;241m.\u001b[39mdata_index[slicer]\u001b[38;5;241m.\u001b[39m_format_native_types(\u001b[38;5;241m*\u001b[39m\u001b[38;5;241m*\u001b[39m\u001b[38;5;28mself\u001b[39m\u001b[38;5;241m.\u001b[39m_number_format)\n\u001b[0;32m--> 313\u001b[0m \u001b[43mlibwriters\u001b[49m\u001b[38;5;241;43m.\u001b[39;49m\u001b[43mwrite_csv_rows\u001b[49m\u001b[43m(\u001b[49m\n\u001b[1;32m    314\u001b[0m \u001b[43m    \u001b[49m\u001b[43mdata\u001b[49m\u001b[43m,\u001b[49m\n\u001b[1;32m    315\u001b[0m \u001b[43m    \u001b[49m\u001b[43mix\u001b[49m\u001b[43m,\u001b[49m\n\u001b[1;32m    316\u001b[0m \u001b[43m    \u001b[49m\u001b[38;5;28;43mself\u001b[39;49m\u001b[38;5;241;43m.\u001b[39;49m\u001b[43mnlevels\u001b[49m\u001b[43m,\u001b[49m\n\u001b[1;32m    317\u001b[0m \u001b[43m    \u001b[49m\u001b[38;5;28;43mself\u001b[39;49m\u001b[38;5;241;43m.\u001b[39;49m\u001b[43mcols\u001b[49m\u001b[43m,\u001b[49m\n\u001b[1;32m    318\u001b[0m \u001b[43m    \u001b[49m\u001b[38;5;28;43mself\u001b[39;49m\u001b[38;5;241;43m.\u001b[39;49m\u001b[43mwriter\u001b[49m\u001b[43m,\u001b[49m\n\u001b[1;32m    319\u001b[0m \u001b[43m\u001b[49m\u001b[43m)\u001b[49m\n",
      "File \u001b[0;32m~/miniconda3/envs/oligo/lib/python3.9/site-packages/pandas/_libs/writers.pyx:72\u001b[0m, in \u001b[0;36mpandas._libs.writers.write_csv_rows\u001b[0;34m()\u001b[0m\n",
      "\u001b[0;31mKeyboardInterrupt\u001b[0m: "
     ]
    }
   ],
   "source": [
    "for k in kmers:\n",
    "    library_file = f'../oligo/data/bait_kmers/library_{k}mers.csv'\n",
    "    lib_set = get_library_set(library_file)\n",
    "    for i in range(1,4):\n",
    "        files = glob.glob(f'../oligo/results/{k}mer/oligo_{i}*{k}mers_unique.csv')\n",
    "        print(files)\n",
    "        truth_file = f'../oligo/data/bait_kmers/oligo_{i}_{k}mers.csv'\n",
    "        outfile_prefix = f'oligo_{i}'\n",
    "        for f in tqdm(files):\n",
    "            truth_set = get_truth_set(truth_file)\n",
    "            exp = re.search('(?<=_)\\w\\w(?=_)', f)[0]\n",
    "            df = calc_zscore(f)\n",
    "            df_out = label_exp(df, truth_set, lib_set, exp)\n",
    "            df_out.to_csv(f'../oligo/results/{k}mer/{outfile_prefix}_{exp}_{k}mer_enrichment.csv', index=False)"
   ]
  },
  {
   "cell_type": "code",
   "execution_count": 65,
   "id": "70753026-e492-4aa4-883c-a35de51f0a70",
   "metadata": {},
   "outputs": [
    {
     "data": {
      "text/plain": [
       "[5, 6, 7, 8, 9, 10, 11, 12, 13, 14, 15]"
      ]
     },
     "execution_count": 65,
     "metadata": {},
     "output_type": "execute_result"
    }
   ],
   "source": [
    "kmers = list(range(5,16))\n",
    "kmers"
   ]
  },
  {
   "cell_type": "code",
   "execution_count": 66,
   "id": "77618c8a-74e2-4c98-bc27-2a378d369b2a",
   "metadata": {
    "scrolled": true
   },
   "outputs": [
    {
     "name": "stdout",
     "output_type": "stream",
     "text": [
      "['../oligo/results/5mer/oligo_1_3w_5mers_unique.csv', '../oligo/results/5mer/oligo_1_bg_5mers_unique.csv', '../oligo/results/5mer/oligo_1_1w_5mers_unique.csv', '../oligo/results/5mer/oligo_1_0w_5mers_unique.csv']\n"
     ]
    },
    {
     "name": "stderr",
     "output_type": "stream",
     "text": [
      "100%|█████████████████████████████████████████| 4/4 [00:03<00:00,  1.03it/s]\n"
     ]
    },
    {
     "name": "stdout",
     "output_type": "stream",
     "text": [
      "['../oligo/results/5mer/oligo_2_3w_5mers_unique.csv', '../oligo/results/5mer/oligo_2_bg_5mers_unique.csv', '../oligo/results/5mer/oligo_2_0w_5mers_unique.csv', '../oligo/results/5mer/oligo_2_1w_5mers_unique.csv']\n"
     ]
    },
    {
     "name": "stderr",
     "output_type": "stream",
     "text": [
      "100%|█████████████████████████████████████████| 4/4 [00:00<00:00, 55.22it/s]\n"
     ]
    },
    {
     "name": "stdout",
     "output_type": "stream",
     "text": [
      "['../oligo/results/5mer/oligo_3_0w_5mers_unique.csv', '../oligo/results/5mer/oligo_3_1w_5mers_unique.csv', '../oligo/results/5mer/oligo_3_3w_5mers_unique.csv', '../oligo/results/5mer/oligo_3_bg_5mers_unique.csv']\n"
     ]
    },
    {
     "name": "stderr",
     "output_type": "stream",
     "text": [
      "100%|█████████████████████████████████████████| 4/4 [00:00<00:00, 44.69it/s]\n"
     ]
    },
    {
     "name": "stdout",
     "output_type": "stream",
     "text": [
      "['../oligo/results/6mer/oligo_1_bg_6mers_unique.csv', '../oligo/results/6mer/oligo_1_3w_6mers_unique.csv', '../oligo/results/6mer/oligo_1_1w_6mers_unique.csv', '../oligo/results/6mer/oligo_1_0w_6mers_unique.csv']\n"
     ]
    },
    {
     "name": "stderr",
     "output_type": "stream",
     "text": [
      "100%|█████████████████████████████████████████| 4/4 [00:00<00:00, 12.97it/s]\n"
     ]
    },
    {
     "name": "stdout",
     "output_type": "stream",
     "text": [
      "['../oligo/results/6mer/oligo_2_bg_6mers_unique.csv', '../oligo/results/6mer/oligo_2_3w_6mers_unique.csv', '../oligo/results/6mer/oligo_2_0w_6mers_unique.csv', '../oligo/results/6mer/oligo_2_1w_6mers_unique.csv']\n"
     ]
    },
    {
     "name": "stderr",
     "output_type": "stream",
     "text": [
      "100%|█████████████████████████████████████████| 4/4 [00:00<00:00, 12.97it/s]\n"
     ]
    },
    {
     "name": "stdout",
     "output_type": "stream",
     "text": [
      "['../oligo/results/6mer/oligo_3_0w_6mers_unique.csv', '../oligo/results/6mer/oligo_3_1w_6mers_unique.csv', '../oligo/results/6mer/oligo_3_bg_6mers_unique.csv', '../oligo/results/6mer/oligo_3_3w_6mers_unique.csv']\n"
     ]
    },
    {
     "name": "stderr",
     "output_type": "stream",
     "text": [
      "100%|█████████████████████████████████████████| 4/4 [00:00<00:00, 19.43it/s]\n"
     ]
    },
    {
     "name": "stdout",
     "output_type": "stream",
     "text": [
      "['../oligo/results/7mer/oligo_1_0w_7mers_unique.csv', '../oligo/results/7mer/oligo_1_1w_7mers_unique.csv', '../oligo/results/7mer/oligo_1_3w_7mers_unique.csv', '../oligo/results/7mer/oligo_1_bg_7mers_unique.csv']\n"
     ]
    },
    {
     "name": "stderr",
     "output_type": "stream",
     "text": [
      "100%|█████████████████████████████████████████| 4/4 [00:00<00:00,  5.65it/s]\n"
     ]
    },
    {
     "name": "stdout",
     "output_type": "stream",
     "text": [
      "['../oligo/results/7mer/oligo_2_1w_7mers_unique.csv', '../oligo/results/7mer/oligo_2_0w_7mers_unique.csv', '../oligo/results/7mer/oligo_2_3w_7mers_unique.csv', '../oligo/results/7mer/oligo_2_bg_7mers_unique.csv']\n"
     ]
    },
    {
     "name": "stderr",
     "output_type": "stream",
     "text": [
      "100%|█████████████████████████████████████████| 4/4 [00:00<00:00,  7.18it/s]\n"
     ]
    },
    {
     "name": "stdout",
     "output_type": "stream",
     "text": [
      "['../oligo/results/7mer/oligo_3_3w_7mers_unique.csv', '../oligo/results/7mer/oligo_3_bg_7mers_unique.csv', '../oligo/results/7mer/oligo_3_1w_7mers_unique.csv', '../oligo/results/7mer/oligo_3_0w_7mers_unique.csv']\n"
     ]
    },
    {
     "name": "stderr",
     "output_type": "stream",
     "text": [
      "100%|█████████████████████████████████████████| 4/4 [00:00<00:00,  7.45it/s]\n"
     ]
    },
    {
     "name": "stdout",
     "output_type": "stream",
     "text": [
      "['../oligo/results/8mer/oligo_1_1w_8mers_unique.csv', '../oligo/results/8mer/oligo_1_0w_8mers_unique.csv', '../oligo/results/8mer/oligo_1_bg_8mers_unique.csv', '../oligo/results/8mer/oligo_1_3w_8mers_unique.csv']\n"
     ]
    },
    {
     "name": "stderr",
     "output_type": "stream",
     "text": [
      "100%|█████████████████████████████████████████| 4/4 [00:01<00:00,  2.23it/s]\n"
     ]
    },
    {
     "name": "stdout",
     "output_type": "stream",
     "text": [
      "['../oligo/results/8mer/oligo_2_0w_8mers_unique.csv', '../oligo/results/8mer/oligo_2_1w_8mers_unique.csv', '../oligo/results/8mer/oligo_2_bg_8mers_unique.csv', '../oligo/results/8mer/oligo_2_3w_8mers_unique.csv']\n"
     ]
    },
    {
     "name": "stderr",
     "output_type": "stream",
     "text": [
      "100%|█████████████████████████████████████████| 4/4 [00:01<00:00,  2.35it/s]\n"
     ]
    },
    {
     "name": "stdout",
     "output_type": "stream",
     "text": [
      "['../oligo/results/8mer/oligo_3_bg_8mers_unique.csv', '../oligo/results/8mer/oligo_3_3w_8mers_unique.csv', '../oligo/results/8mer/oligo_3_0w_8mers_unique.csv', '../oligo/results/8mer/oligo_3_1w_8mers_unique.csv']\n"
     ]
    },
    {
     "name": "stderr",
     "output_type": "stream",
     "text": [
      "100%|█████████████████████████████████████████| 4/4 [00:01<00:00,  2.45it/s]\n"
     ]
    },
    {
     "name": "stdout",
     "output_type": "stream",
     "text": [
      "['../oligo/results/9mer/oligo_1_0w_9mers_unique.csv', '../oligo/results/9mer/oligo_1_1w_9mers_unique.csv', '../oligo/results/9mer/oligo_1_3w_9mers_unique.csv', '../oligo/results/9mer/oligo_1_bg_9mers_unique.csv']\n"
     ]
    },
    {
     "name": "stderr",
     "output_type": "stream",
     "text": [
      "100%|█████████████████████████████████████████| 4/4 [00:06<00:00,  1.51s/it]\n"
     ]
    },
    {
     "name": "stdout",
     "output_type": "stream",
     "text": [
      "['../oligo/results/9mer/oligo_2_1w_9mers_unique.csv', '../oligo/results/9mer/oligo_2_0w_9mers_unique.csv', '../oligo/results/9mer/oligo_2_3w_9mers_unique.csv', '../oligo/results/9mer/oligo_2_bg_9mers_unique.csv']\n"
     ]
    },
    {
     "name": "stderr",
     "output_type": "stream",
     "text": [
      "100%|█████████████████████████████████████████| 4/4 [00:05<00:00,  1.27s/it]\n"
     ]
    },
    {
     "name": "stdout",
     "output_type": "stream",
     "text": [
      "['../oligo/results/9mer/oligo_3_3w_9mers_unique.csv', '../oligo/results/9mer/oligo_3_bg_9mers_unique.csv', '../oligo/results/9mer/oligo_3_1w_9mers_unique.csv', '../oligo/results/9mer/oligo_3_0w_9mers_unique.csv']\n"
     ]
    },
    {
     "name": "stderr",
     "output_type": "stream",
     "text": [
      "100%|█████████████████████████████████████████| 4/4 [00:04<00:00,  1.21s/it]\n"
     ]
    },
    {
     "name": "stdout",
     "output_type": "stream",
     "text": [
      "['../oligo/results/10mer/oligo_1_1w_10mers_unique.csv', '../oligo/results/10mer/oligo_1_bg_10mers_unique.csv', '../oligo/results/10mer/oligo_1_3w_10mers_unique.csv', '../oligo/results/10mer/oligo_1_0w_10mers_unique.csv']\n"
     ]
    },
    {
     "name": "stderr",
     "output_type": "stream",
     "text": [
      "100%|█████████████████████████████████████████| 4/4 [00:19<00:00,  4.81s/it]\n"
     ]
    },
    {
     "name": "stdout",
     "output_type": "stream",
     "text": [
      "['../oligo/results/10mer/oligo_2_0w_10mers_unique.csv', '../oligo/results/10mer/oligo_2_3w_10mers_unique.csv', '../oligo/results/10mer/oligo_2_1w_10mers_unique.csv', '../oligo/results/10mer/oligo_2_bg_10mers_unique.csv']\n"
     ]
    },
    {
     "name": "stderr",
     "output_type": "stream",
     "text": [
      "100%|█████████████████████████████████████████| 4/4 [00:19<00:00,  4.87s/it]\n"
     ]
    },
    {
     "name": "stdout",
     "output_type": "stream",
     "text": [
      "['../oligo/results/10mer/oligo_3_0w_10mers_unique.csv', '../oligo/results/10mer/oligo_3_1w_10mers_unique.csv', '../oligo/results/10mer/oligo_3_bg_10mers_unique.csv', '../oligo/results/10mer/oligo_3_3w_10mers_unique.csv']\n"
     ]
    },
    {
     "name": "stderr",
     "output_type": "stream",
     "text": [
      "100%|█████████████████████████████████████████| 4/4 [00:19<00:00,  4.96s/it]\n"
     ]
    },
    {
     "name": "stdout",
     "output_type": "stream",
     "text": [
      "['../oligo/results/11mer/oligo_1_1w_11mers_unique.csv', '../oligo/results/11mer/oligo_1_bg_11mers_unique.csv', '../oligo/results/11mer/oligo_1_3w_11mers_unique.csv', '../oligo/results/11mer/oligo_1_0w_11mers_unique.csv']\n"
     ]
    },
    {
     "name": "stderr",
     "output_type": "stream",
     "text": [
      "100%|█████████████████████████████████████████| 4/4 [01:17<00:00, 19.37s/it]\n"
     ]
    },
    {
     "name": "stdout",
     "output_type": "stream",
     "text": [
      "['../oligo/results/11mer/oligo_2_0w_11mers_unique.csv', '../oligo/results/11mer/oligo_2_3w_11mers_unique.csv', '../oligo/results/11mer/oligo_2_1w_11mers_unique.csv', '../oligo/results/11mer/oligo_2_bg_11mers_unique.csv']\n"
     ]
    },
    {
     "name": "stderr",
     "output_type": "stream",
     "text": [
      "100%|█████████████████████████████████████████| 4/4 [01:09<00:00, 17.32s/it]\n"
     ]
    },
    {
     "name": "stdout",
     "output_type": "stream",
     "text": [
      "['../oligo/results/11mer/oligo_3_0w_11mers_unique.csv', '../oligo/results/11mer/oligo_3_1w_11mers_unique.csv', '../oligo/results/11mer/oligo_3_bg_11mers_unique.csv', '../oligo/results/11mer/oligo_3_3w_11mers_unique.csv']\n"
     ]
    },
    {
     "name": "stderr",
     "output_type": "stream",
     "text": [
      "100%|█████████████████████████████████████████| 4/4 [01:12<00:00, 18.05s/it]\n"
     ]
    },
    {
     "name": "stdout",
     "output_type": "stream",
     "text": [
      "['../oligo/results/12mer/oligo_1_0w_12mers_unique.csv', '../oligo/results/12mer/oligo_1_3w_12mers_unique.csv', '../oligo/results/12mer/oligo_1_1w_12mers_unique.csv', '../oligo/results/12mer/oligo_1_bg_12mers_unique.csv']\n"
     ]
    },
    {
     "name": "stderr",
     "output_type": "stream",
     "text": [
      "100%|█████████████████████████████████████████| 4/4 [03:48<00:00, 57.14s/it]\n"
     ]
    },
    {
     "name": "stdout",
     "output_type": "stream",
     "text": [
      "['../oligo/results/12mer/oligo_2_1w_12mers_unique.csv', '../oligo/results/12mer/oligo_2_bg_12mers_unique.csv', '../oligo/results/12mer/oligo_2_3w_12mers_unique.csv', '../oligo/results/12mer/oligo_2_0w_12mers_unique.csv']\n"
     ]
    },
    {
     "name": "stderr",
     "output_type": "stream",
     "text": [
      "100%|█████████████████████████████████████████| 4/4 [02:35<00:00, 38.92s/it]\n"
     ]
    },
    {
     "name": "stdout",
     "output_type": "stream",
     "text": [
      "['../oligo/results/12mer/oligo_3_3w_12mers_unique.csv', '../oligo/results/12mer/oligo_3_1w_12mers_unique.csv', '../oligo/results/12mer/oligo_3_bg_12mers_unique.csv', '../oligo/results/12mer/oligo_3_0w_12mers_unique.csv']\n"
     ]
    },
    {
     "name": "stderr",
     "output_type": "stream",
     "text": [
      "100%|█████████████████████████████████████████| 4/4 [02:56<00:00, 44.19s/it]\n"
     ]
    },
    {
     "name": "stdout",
     "output_type": "stream",
     "text": [
      "['../oligo/results/13mer/oligo_1_3w_13mers_unique.csv', '../oligo/results/13mer/oligo_1_bg_13mers_unique.csv', '../oligo/results/13mer/oligo_1_1w_13mers_unique.csv', '../oligo/results/13mer/oligo_1_0w_13mers_unique.csv']\n"
     ]
    },
    {
     "name": "stderr",
     "output_type": "stream",
     "text": [
      "100%|████████████████████████████████████████| 4/4 [07:00<00:00, 105.19s/it]\n"
     ]
    },
    {
     "name": "stdout",
     "output_type": "stream",
     "text": [
      "['../oligo/results/13mer/oligo_2_0w_13mers_unique.csv', '../oligo/results/13mer/oligo_2_bg_13mers_unique.csv', '../oligo/results/13mer/oligo_2_1w_13mers_unique.csv', '../oligo/results/13mer/oligo_2_3w_13mers_unique.csv']\n"
     ]
    },
    {
     "name": "stderr",
     "output_type": "stream",
     "text": [
      "100%|█████████████████████████████████████████| 4/4 [03:51<00:00, 57.81s/it]\n"
     ]
    },
    {
     "name": "stdout",
     "output_type": "stream",
     "text": [
      "['../oligo/results/13mer/oligo_3_0w_13mers_unique.csv', '../oligo/results/13mer/oligo_3_3w_13mers_unique.csv', '../oligo/results/13mer/oligo_3_bg_13mers_unique.csv', '../oligo/results/13mer/oligo_3_1w_13mers_unique.csv']\n"
     ]
    },
    {
     "name": "stderr",
     "output_type": "stream",
     "text": [
      "100%|█████████████████████████████████████████| 4/4 [04:41<00:00, 70.37s/it]\n"
     ]
    },
    {
     "name": "stdout",
     "output_type": "stream",
     "text": [
      "['../oligo/results/14mer/oligo_1_1w_14mers_unique.csv', '../oligo/results/14mer/oligo_1_bg_14mers_unique.csv', '../oligo/results/14mer/oligo_1_3w_14mers_unique.csv', '../oligo/results/14mer/oligo_1_0w_14mers_unique.csv']\n"
     ]
    },
    {
     "name": "stderr",
     "output_type": "stream",
     "text": [
      "100%|████████████████████████████████████████| 4/4 [09:39<00:00, 144.85s/it]\n"
     ]
    },
    {
     "name": "stdout",
     "output_type": "stream",
     "text": [
      "['../oligo/results/14mer/oligo_2_0w_14mers_unique.csv', '../oligo/results/14mer/oligo_2_3w_14mers_unique.csv', '../oligo/results/14mer/oligo_2_1w_14mers_unique.csv', '../oligo/results/14mer/oligo_2_bg_14mers_unique.csv']\n"
     ]
    },
    {
     "name": "stderr",
     "output_type": "stream",
     "text": [
      "100%|█████████████████████████████████████████| 4/4 [04:46<00:00, 71.69s/it]\n"
     ]
    },
    {
     "name": "stdout",
     "output_type": "stream",
     "text": [
      "['../oligo/results/14mer/oligo_3_0w_14mers_unique.csv', '../oligo/results/14mer/oligo_3_1w_14mers_unique.csv', '../oligo/results/14mer/oligo_3_bg_14mers_unique.csv', '../oligo/results/14mer/oligo_3_3w_14mers_unique.csv']\n"
     ]
    },
    {
     "name": "stderr",
     "output_type": "stream",
     "text": [
      "100%|█████████████████████████████████████████| 4/4 [05:58<00:00, 89.57s/it]\n"
     ]
    },
    {
     "name": "stdout",
     "output_type": "stream",
     "text": [
      "['../oligo/results/15mer/oligo_1_0w_15mers_unique.csv', '../oligo/results/15mer/oligo_1_1w_15mers_unique.csv', '../oligo/results/15mer/oligo_1_bg_15mers_unique.csv', '../oligo/results/15mer/oligo_1_3w_15mers_unique.csv']\n"
     ]
    },
    {
     "name": "stderr",
     "output_type": "stream",
     "text": [
      "100%|████████████████████████████████████████| 4/4 [13:59<00:00, 209.94s/it]\n"
     ]
    },
    {
     "name": "stdout",
     "output_type": "stream",
     "text": [
      "['../oligo/results/15mer/oligo_2_3w_15mers_unique.csv', '../oligo/results/15mer/oligo_2_1w_15mers_unique.csv', '../oligo/results/15mer/oligo_2_bg_15mers_unique.csv', '../oligo/results/15mer/oligo_2_0w_15mers_unique.csv']\n"
     ]
    },
    {
     "name": "stderr",
     "output_type": "stream",
     "text": [
      "100%|█████████████████████████████████████████| 4/4 [05:33<00:00, 83.47s/it]\n"
     ]
    },
    {
     "name": "stdout",
     "output_type": "stream",
     "text": [
      "['../oligo/results/15mer/oligo_3_1w_15mers_unique.csv', '../oligo/results/15mer/oligo_3_bg_15mers_unique.csv', '../oligo/results/15mer/oligo_3_3w_15mers_unique.csv', '../oligo/results/15mer/oligo_3_0w_15mers_unique.csv']\n"
     ]
    },
    {
     "name": "stderr",
     "output_type": "stream",
     "text": [
      "100%|████████████████████████████████████████| 4/4 [06:59<00:00, 104.85s/it]\n"
     ]
    }
   ],
   "source": [
    "for k in kmers:\n",
    "    library_file = f'../oligo/data/bait_kmers/library_{k}mers.csv'\n",
    "    lib_set = get_library_set(library_file)\n",
    "    for i in range(1,4):\n",
    "        files = glob.glob(f'../oligo/results/{k}mer/oligo_{i}*{k}mers_unique.csv')\n",
    "        print(files)\n",
    "        truth_file = f'../oligo/data/bait_kmers/oligo_{i}_comp_{k}mers.csv'\n",
    "        outfile_prefix = f'oligo_{i}'\n",
    "        for f in tqdm(files):\n",
    "            truth_set = get_truth_set(truth_file)\n",
    "            exp = re.search('(?<=_)\\w\\w(?=_)', f)[0]\n",
    "            df = calc_zscore(f)\n",
    "            df_out = label_exp(df, truth_set, lib_set, exp)\n",
    "            df_out.to_csv(f'../oligo/results/{k}mer/{outfile_prefix}_{exp}_comp_{k}mer_enrichment.csv', index=False)"
   ]
  },
  {
   "cell_type": "code",
   "execution_count": 60,
   "id": "eb24d752-b20d-4ea6-aa02-458ccbd0a742",
   "metadata": {},
   "outputs": [
    {
     "name": "stdout",
     "output_type": "stream",
     "text": [
      "13 \t ../oligo/results/13mer/oligo_1_0w_13mers_unique.csv\n",
      "14 \t ../oligo/results/14mer/oligo_1_bg_14mers_unique.csv\n",
      "15 \t ../oligo/results/15mer/oligo_1_bg_15mers_unique.csv\n"
     ]
    }
   ],
   "source": [
    "redo_files = ['../oligo/results/13mer/oligo_1_0w_13mers_unique.csv','../oligo/results/14mer/oligo_1_bg_14mers_unique.csv','../oligo/results/15mer/oligo_1_bg_15mers_unique.csv']\n",
    "redo_k = [13, 14, 15]\n",
    "i=1\n",
    "for k, f in zip(redo_k, redo_files):\n",
    "    print(k, '\\t', f)\n",
    "    library_file = f'../oligo/data/bait_kmers/library_{k}mers.csv'\n",
    "    lib_set = get_library_set(library_file)\n",
    "    truth_file = f'../oligo/data/bait_kmers/oligo_{i}_{k}mers.csv'\n",
    "    outfile_prefix = f'oligo_{i}'\n",
    "    exp = re.search('(?<=_)\\w\\w(?=_)', f)[0]\n",
    "    df = calc_zscore(f)\n",
    "    df_out = label_exp(df, truth_set, lib_set, exp)\n",
    "    df_out.to_csv(f'../oligo/results/{k}mer/{outfile_prefix}_{exp}_{k}mer_enrichment.csv', index=False)"
   ]
  },
  {
   "cell_type": "code",
   "execution_count": 63,
   "id": "7231a560-cd9c-4414-b22b-84eceba62cd9",
   "metadata": {},
   "outputs": [],
   "source": [
    "k=11\n",
    "library_file = f'../oligo/data/bait_kmers/library_comp_{k}mers.csv'\n",
    "lib_set = get_library_set(library_file)"
   ]
  },
  {
   "cell_type": "code",
   "execution_count": 64,
   "id": "6145fa89-0489-487a-8f44-3b9c219fc836",
   "metadata": {},
   "outputs": [
    {
     "data": {
      "text/plain": [
       "{frozenset({'ACGCTATCGA', 'CGCTATCGAC'}),\n",
       " frozenset({'TATTCTTAGG', 'TTATTCTTAG'}),\n",
       " frozenset({'CTTAGGTTCG', 'TTAGGTTCGT'}),\n",
       " frozenset({'TAGGTTCGTC', 'TTAGGTTCGT'}),\n",
       " frozenset({'TTTTATTCTT', 'TTTTTATTCT'}),\n",
       " frozenset({'TTTTTGTTTT', 'TTTTTTGTTT'}),\n",
       " frozenset({'TTTATTCTTA', 'TTTTATTCTT'}),\n",
       " frozenset({'TCTGCGCTCC', 'TTCTGCGCTC'}),\n",
       " frozenset({'CGACTCTCTC', 'GACTCTCTCT'}),\n",
       " frozenset({'TTGTTTTTAT', 'TTTGTTTTTA'}),\n",
       " frozenset({'CGTCGTCGTT', 'TCGTCGTCGT'}),\n",
       " frozenset({'CGACTCTCTC', 'TCGACTCTCT'}),\n",
       " frozenset({'TTATTCTTAG', 'TTTATTCTTA'}),\n",
       " frozenset({'CTGCGCTCCC', 'TCTGCGCTCC'}),\n",
       " frozenset({'GTTTTTATTC', 'TTTTTATTCT'}),\n",
       " frozenset({'CTCTTCTGCG', 'TCTTCTGCGC'}),\n",
       " frozenset({'CGCTATCGAC', 'GCTATCGACT'}),\n",
       " frozenset({'TCTTAGGTTC', 'TTCTTAGGTT'}),\n",
       " frozenset({'CTTTTGTTTT', 'TTTTGTTTTT'}),\n",
       " frozenset({'ATTCTTAGGT', 'TATTCTTAGG'}),\n",
       " frozenset({'ATCGACTCTC', 'TCGACTCTCT'}),\n",
       " frozenset({'CTCTCTTCTG', 'TCTCTTCTGC'}),\n",
       " frozenset({'CTTCTGCGCT', 'TCTTCTGCGC'}),\n",
       " frozenset({'AACGCTATCG', 'ACGCTATCGA'}),\n",
       " frozenset({'AGGTTCGTCG', 'GGTTCGTCGT'}),\n",
       " frozenset({'CGTCGTCGTT', 'GTCGTCGTTG'}),\n",
       " frozenset({'CTCTCTTCTG', 'TCTCTCTTCT'}),\n",
       " frozenset({'CTTCTGCGCT', 'TTCTGCGCTC'}),\n",
       " frozenset({'GTTTTTTGTT', 'TGTTTTTTGT'}),\n",
       " frozenset({'GGTTCGTCGT', 'GTTCGTCGTC'}),\n",
       " frozenset({'CTATCGACTC', 'GCTATCGACT'}),\n",
       " frozenset({'CTCTCTCTTC', 'TCTCTCTTCT'}),\n",
       " frozenset({'TGTTTTTTGT', 'TTGTTTTTTG'}),\n",
       " frozenset({'TTTTGTTTTT', 'TTTTTGTTTT'}),\n",
       " frozenset({'GTCGTCGTTG', 'TCGTCGTTGT'}),\n",
       " frozenset({'ATTCTTAGGT', 'TTCTTAGGTT'}),\n",
       " frozenset({'ACTCTCTCTT', 'GACTCTCTCT'}),\n",
       " frozenset({'TTTGTTTTTA', 'TTTTGTTTTT'}),\n",
       " frozenset({'AACGCTATCG', 'TAACGCTATC'}),\n",
       " frozenset({'CTTTTGTTTT', 'GCTTTTGTTT'}),\n",
       " frozenset({'TCGTCGTCGT', 'TTCGTCGTCG'}),\n",
       " frozenset({'TTTGTTTTTT', 'TTTTGTTTTT'}),\n",
       " frozenset({'CTATCGACTC', 'TATCGACTCT'}),\n",
       " frozenset({'CTCTTCTGCG', 'TCTCTTCTGC'}),\n",
       " frozenset({'ACTCTCTCTT', 'CTCTCTCTTC'}),\n",
       " frozenset({'TTGTTTTTTG', 'TTTGTTTTTT'}),\n",
       " frozenset({'CGCTTTTGTT', 'GCTTTTGTTT'}),\n",
       " frozenset({'ATCGACTCTC', 'TATCGACTCT'}),\n",
       " frozenset({'AGGTTCGTCG', 'TAGGTTCGTC'}),\n",
       " frozenset({'GTTCGTCGTC', 'TTCGTCGTCG'}),\n",
       " frozenset({'TGTTTTTATT', 'TTGTTTTTAT'}),\n",
       " frozenset({'ATAACGCTAT', 'TAACGCTATC'}),\n",
       " frozenset({'GTTTTTTGTT', 'TTTTTTGTTT'}),\n",
       " frozenset({'GTTTTTATTC', 'TGTTTTTATT'}),\n",
       " frozenset({'CTTAGGTTCG', 'TCTTAGGTTC'})}"
      ]
     },
     "execution_count": 64,
     "metadata": {},
     "output_type": "execute_result"
    }
   ],
   "source": [
    "lib_set"
   ]
  },
  {
   "cell_type": "code",
   "execution_count": null,
   "id": "126425e3-b673-47fe-b906-977a5d8837da",
   "metadata": {},
   "outputs": [],
   "source": [
    "for i in range(1,4):\n",
    "    files = glob.glob(f'../oligo/results/{k}mer/oligo_{i}*{k}mers_unique.csv')\n",
    "    print(files)\n",
    "    truth_file = f'../oligo/data/bait_kmers/oligo_{i}_{k}mers.csv'\n",
    "    outfile_prefix = f'oligo_{i}'\n",
    "    for f in tqdm(files):\n",
    "        truth_set = get_truth_set(truth_file)\n",
    "        exp = re.search('(?<=_)\\w\\w(?=_)', f)[0]\n",
    "        df = calc_zscore(f)\n",
    "        df_out = label_exp(df, truth_set, lib_set, exp)\n",
    "        #df_out.to_csv(f'../oligo/results/{k}mer/{outfile_prefix}_{exp}_{k}mer_enrichment.csv', index=False)"
   ]
  }
 ],
 "metadata": {
  "kernelspec": {
   "display_name": "Python 3 (ipykernel)",
   "language": "python",
   "name": "python3"
  },
  "language_info": {
   "codemirror_mode": {
    "name": "ipython",
    "version": 3
   },
   "file_extension": ".py",
   "mimetype": "text/x-python",
   "name": "python",
   "nbconvert_exporter": "python",
   "pygments_lexer": "ipython3",
   "version": "3.9.16"
  }
 },
 "nbformat": 4,
 "nbformat_minor": 5
}
