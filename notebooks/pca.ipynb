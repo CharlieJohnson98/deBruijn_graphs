{
 "cells": [
  {
   "cell_type": "code",
   "execution_count": 1,
   "id": "03fc1ac7-5dfe-43df-a58e-3b0be8528f8b",
   "metadata": {},
   "outputs": [],
   "source": [
    "import pandas as pd"
   ]
  },
  {
   "cell_type": "code",
   "execution_count": null,
   "id": "7201b11d-f377-4216-85de-1263c39ac653",
   "metadata": {},
   "outputs": [],
   "source": [
    "code = {'A': 0, 'T': 1, 'C': 2, 'G': 4}"
   ]
  }
 ],
 "metadata": {
  "kernelspec": {
   "display_name": "Python 3 (ipykernel)",
   "language": "python",
   "name": "python3"
  },
  "language_info": {
   "codemirror_mode": {
    "name": "ipython",
    "version": 3
   },
   "file_extension": ".py",
   "mimetype": "text/x-python",
   "name": "python",
   "nbconvert_exporter": "python",
   "pygments_lexer": "ipython3",
   "version": "3.9.16"
  }
 },
 "nbformat": 4,
 "nbformat_minor": 5
}
