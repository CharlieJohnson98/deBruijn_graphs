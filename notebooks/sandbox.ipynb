{
 "cells": [
  {
   "cell_type": "markdown",
   "id": "607ace4e-5e0e-4182-ab97-aedba718c27d",
   "metadata": {},
   "source": [
    "## development for multi-consensus seq calculation"
   ]
  },
  {
   "cell_type": "code",
   "execution_count": 2,
   "id": "571d6df2-d016-468d-be42-bab61a93a769",
   "metadata": {},
   "outputs": [],
   "source": [
    "import pandas as pd"
   ]
  },
  {
   "cell_type": "code",
   "execution_count": 50,
   "id": "5ae3d5c0-bfb9-4bdc-88d6-fa1edbd8a0b4",
   "metadata": {
    "jupyter": {
     "source_hidden": true
    }
   },
   "outputs": [],
   "source": [
    "\"\"\" recursive function for growing kmer sequence in N-terminal/5' direction \"\"\"\n",
    "def grow_seq_n(seed_kmer, input_df, nterm_kmers=None, length=None, cons_seq_n=None):\n",
    "    \n",
    "    # if a list has not been passed as argument create an empty one\n",
    "    if(nterm_kmers == None):\n",
    "        nterm_kmers = []\n",
    "    \n",
    "    # if an length has not been passed as argument, initialize one from 0\n",
    "    if (length == None):\n",
    "        length = 0\n",
    "            \n",
    "    # choose next kmer in the N-terminal direction\n",
    "    if input_df['Node2'].str.contains(seed_kmer).any()\\\n",
    "        and seed_kmer not in nterm_kmers:  # greedy path only, no cycles\n",
    "        \n",
    "        length += 1\n",
    "        nterm_kmers.append(seed_kmer)\n",
    "        \n",
    "        poss_paths_nterm = input_df[input_df['Node2'] == seed_kmer]\n",
    "        #print(\"possible future directions =\",poss_paths_nterm)\n",
    "\n",
    "        # find edge with highest counts \n",
    "        most_common_kmer_n = poss_paths_nterm['Weight'] == poss_paths_nterm['Weight'].max()\n",
    "        \n",
    "        # if more than one most common edge, randomly pick one\n",
    "        next_n_edge_df = poss_paths_nterm[most_common_kmer_n].sample(1)\n",
    "        next_n_kmer = str(next_n_edge_df.iloc[0]['Node1'])\n",
    "        \n",
    "        # recursively add kmers to the consensus sequence\n",
    "        grow_seq_n(next_n_kmer, input_df, nterm_kmers, length)\n",
    "        \n",
    "    # after the kmer finding terminates\n",
    "    else:\n",
    "        #nterm_kmers.append(seed_kmer) #for locating where the first repeat is found\n",
    "\n",
    "        print(f\"Found beginning of sequence; total downstream k-mers traveled = {len(nterm_kmers)}\")\n",
    "        return nterm_kmers        \n",
    "\n",
    "    # calculate the consensus sequence from the most common kmer list\n",
    "    cons_seq_n = nterm_kmers[0]\n",
    "    for kmer in nterm_kmers[1:]:\n",
    "        cons_seq_n = kmer[0]+cons_seq_n       \n",
    "\n",
    "    # exit function and return consensus n-terminal kmers\n",
    "    return cons_seq_n\n",
    "\n",
    "\"\"\" function for recursively growing kmer sequence in C-terminal/3' direction \"\"\"\n",
    "\n",
    "def grow_seq_c(seed_kmer, input_df, cterm_kmers=None, length=None):\n",
    "\n",
    "    # if a list has not been passed as argument create an empty one\n",
    "    if(cterm_kmers == None):\n",
    "        cterm_kmers = []\n",
    "\n",
    "    # if an length has not been passed as argument, initialize one from 0\n",
    "    if (length == None):\n",
    "        length = 0\n",
    "\n",
    "    # choose next kmer in the N-terminal direction\n",
    "    if input_df['Node1'].str.contains(seed_kmer).any()\\\n",
    "        and seed_kmer not in cterm_kmers:  # greedy path only, no cycles\n",
    "\n",
    "        length += 1\n",
    "        cterm_kmers.append(seed_kmer)\n",
    "        poss_paths_cterm = input_df[input_df['Node1'] == seed_kmer]\n",
    "\n",
    "        # find edge with highest counts\n",
    "        most_common_kmer_c = poss_paths_cterm['Weight'] == poss_paths_cterm['Weight'].max()\n",
    "\n",
    "        # if more than one most common edge, randomly pick one\n",
    "        next_c_edge_df = poss_paths_cterm[most_common_kmer_c].sample(1)\n",
    "        next_c_kmer = str(next_c_edge_df.iloc[0]['Node2'])\n",
    "\n",
    "        # recursively add kmers to the consensus sequence\n",
    "        grow_seq_c(next_c_kmer, input_df, cterm_kmers, length)\n",
    "\n",
    "    # after the kmer finding terminate\n",
    "    else:\n",
    "        #cterm_kmers.append(seed_kmer) #for locating where the first repeat is found                                     \n",
    "        print(f\"Found end of sequence; total upstream k-mers traveled = {len(cterm_kmers)}\")\n",
    "        return cterm_kmers\n",
    "    \n",
    "    # calculate the consensus sequence from the most common kmer list\n",
    "    cons_seq_c = cterm_kmers[0]\n",
    "    for kmer in cterm_kmers[1:]:\n",
    "        cons_seq_c = cons_seq_c + kmer[-1]\n",
    "    \n",
    "    # exit function and return consensus n-terminal kmers\n",
    "    return cons_seq_c"
   ]
  },
  {
   "cell_type": "code",
   "execution_count": null,
   "id": "048be59a-5487-4875-a649-cae92b5105ad",
   "metadata": {
    "jupyter": {
     "source_hidden": true
    }
   },
   "outputs": [],
   "source": [
    "\"\"\" WRAPPER \"\"\"\n",
    "def grow_cons_seq(seed_kmer_1, seed_kmer_2, input_df):\n",
    "    # grow sequence recursively in both directions\n",
    "    nterm_seq = grow_seq_n(seed_kmer_1, input_df)\n",
    "    print(f\"Upstream sequence [length={len(nterm_seq)}]:\\n{nterm_seq}\")\n",
    "    cterm_seq = grow_seq_c(seed_kmer_2, input_df)\n",
    "    print(f\"Downstream sequence [length={len(cterm_seq)}]:\\n{cterm_seq}\")\n",
    "    # format output in the event connecting edges are not found\n",
    "    try:\n",
    "        consensus_seq = nterm_seq+cterm_seq\n",
    "        if len(nterm_seq)==0 and len(cterm_seq)==0:\n",
    "            print('WARNING: No connecting paths found.')\n",
    "            consensus_seq = None\n",
    "    except:\n",
    "        if len(cterm_seq) < len(seed_kmer_1) and len(nterm_seq) > len(seed_kmer_1):\n",
    "            consensus_seq = nterm_seq+seed_kmer_2[-1]\n",
    "        elif len(nterm_seq) < len(seed_kmer_1) and len(cterm_seq) > len(seed_kmer_1):\n",
    "            consensus_seq = seed_kmer_1[0]+cterm_seq\n",
    "    if consensus_seq:\n",
    "        print(f\"Consensus [length={len(consensus_seq)}]: {consensus_seq}\")\n",
    "    return consensus_seq"
   ]
  },
  {
   "cell_type": "code",
   "execution_count": 20,
   "id": "3e4b320b-6e35-4d06-b8a9-724a765214f5",
   "metadata": {
    "jupyter": {
     "source_hidden": true
    }
   },
   "outputs": [],
   "source": [
    "file = '../oligo/results/thresholded/oligo_1_10mer_graph_fdr1e-10_3w.csv'\n",
    "df = pd.read_csv(file)\n",
    "cols=['Node1','Node2','Weight']\n",
    "df.columns = cols\n",
    "df.sort_values('Weight', ascending=False, inplace=True)\n",
    "df.reset_index(inplace=True, drop=True)\n",
    "input_df = df.copy()"
   ]
  },
  {
   "cell_type": "code",
   "execution_count": 11,
   "id": "ebcfdd14-6f73-48dc-9459-a57074878e3b",
   "metadata": {
    "jupyter": {
     "source_hidden": true
    }
   },
   "outputs": [
    {
     "data": {
      "text/html": [
       "<div>\n",
       "<style scoped>\n",
       "    .dataframe tbody tr th:only-of-type {\n",
       "        vertical-align: middle;\n",
       "    }\n",
       "\n",
       "    .dataframe tbody tr th {\n",
       "        vertical-align: top;\n",
       "    }\n",
       "\n",
       "    .dataframe thead th {\n",
       "        text-align: right;\n",
       "    }\n",
       "</style>\n",
       "<table border=\"1\" class=\"dataframe\">\n",
       "  <thead>\n",
       "    <tr style=\"text-align: right;\">\n",
       "      <th></th>\n",
       "      <th>Node1</th>\n",
       "      <th>Node2</th>\n",
       "      <th>Weight</th>\n",
       "    </tr>\n",
       "  </thead>\n",
       "  <tbody>\n",
       "    <tr>\n",
       "      <th>0</th>\n",
       "      <td>ACAAAAAAA</td>\n",
       "      <td>CAAAAAAAA</td>\n",
       "      <td>10.978532</td>\n",
       "    </tr>\n",
       "    <tr>\n",
       "      <th>1</th>\n",
       "      <td>CAAAAAAAA</td>\n",
       "      <td>AAAAAAAAA</td>\n",
       "      <td>10.577317</td>\n",
       "    </tr>\n",
       "    <tr>\n",
       "      <th>2</th>\n",
       "      <td>GTTTTTTTT</td>\n",
       "      <td>TTTTTTTTT</td>\n",
       "      <td>9.499601</td>\n",
       "    </tr>\n",
       "    <tr>\n",
       "      <th>3</th>\n",
       "      <td>TGTTTTTTT</td>\n",
       "      <td>GTTTTTTTT</td>\n",
       "      <td>8.540747</td>\n",
       "    </tr>\n",
       "    <tr>\n",
       "      <th>4</th>\n",
       "      <td>GGACAAAAA</td>\n",
       "      <td>GACAAAAAA</td>\n",
       "      <td>7.741307</td>\n",
       "    </tr>\n",
       "    <tr>\n",
       "      <th>5</th>\n",
       "      <td>CTGTTTTTT</td>\n",
       "      <td>TGTTTTTTT</td>\n",
       "      <td>7.722771</td>\n",
       "    </tr>\n",
       "    <tr>\n",
       "      <th>6</th>\n",
       "      <td>ATGAGGTAG</td>\n",
       "      <td>TGAGGTAGG</td>\n",
       "      <td>7.253238</td>\n",
       "    </tr>\n",
       "    <tr>\n",
       "      <th>7</th>\n",
       "      <td>CAGTGGGGG</td>\n",
       "      <td>AGTGGGGGT</td>\n",
       "      <td>7.004341</td>\n",
       "    </tr>\n",
       "    <tr>\n",
       "      <th>8</th>\n",
       "      <td>GTGAGGTAG</td>\n",
       "      <td>TGAGGTAGG</td>\n",
       "      <td>6.992600</td>\n",
       "    </tr>\n",
       "    <tr>\n",
       "      <th>9</th>\n",
       "      <td>TGGGAGGTG</td>\n",
       "      <td>GGGAGGTGG</td>\n",
       "      <td>6.988173</td>\n",
       "    </tr>\n",
       "  </tbody>\n",
       "</table>\n",
       "</div>"
      ],
      "text/plain": [
       "       Node1      Node2     Weight\n",
       "0  ACAAAAAAA  CAAAAAAAA  10.978532\n",
       "1  CAAAAAAAA  AAAAAAAAA  10.577317\n",
       "2  GTTTTTTTT  TTTTTTTTT   9.499601\n",
       "3  TGTTTTTTT  GTTTTTTTT   8.540747\n",
       "4  GGACAAAAA  GACAAAAAA   7.741307\n",
       "5  CTGTTTTTT  TGTTTTTTT   7.722771\n",
       "6  ATGAGGTAG  TGAGGTAGG   7.253238\n",
       "7  CAGTGGGGG  AGTGGGGGT   7.004341\n",
       "8  GTGAGGTAG  TGAGGTAGG   6.992600\n",
       "9  TGGGAGGTG  GGGAGGTGG   6.988173"
      ]
     },
     "execution_count": 11,
     "metadata": {},
     "output_type": "execute_result"
    }
   ],
   "source": [
    "ranked_edges = df.nlargest(10, 'Weight')\n",
    "ranked_edges"
   ]
  },
  {
   "cell_type": "code",
   "execution_count": 51,
   "id": "a7deb1b1-5661-47f6-91bd-061c992e8ab9",
   "metadata": {
    "collapsed": true,
    "jupyter": {
     "outputs_hidden": true,
     "source_hidden": true
    }
   },
   "outputs": [
    {
     "name": "stdout",
     "output_type": "stream",
     "text": [
      "\n",
      "ACAAAAAAA CAAAAAAAA\trank:1\tscore:10.978532268446\n",
      "Found beginning of sequence; total downstream k-mers traveled = 2\n",
      "Upstream sequence [length=10]:\n",
      "GACAAAAAAA\n",
      "Found end of sequence; total upstream k-mers traveled = 1\n",
      "Downstream sequence [length=9]:\n",
      "CAAAAAAAA\n",
      "Consensus [length=19]: GACAAAAAAACAAAAAAAA\n",
      "\n",
      "CAAAAAAAA AAAAAAAAA\trank:2\tscore:10.5773171028366\n",
      "Found beginning of sequence; total downstream k-mers traveled = 3\n",
      "Upstream sequence [length=11]:\n",
      "GACAAAAAAAA\n",
      "Found end of sequence; total upstream k-mers traveled = 0\n",
      "Downstream sequence [length=0]:\n",
      "[]\n",
      "Consensus [length=12]: GACAAAAAAAAA\n",
      "\n",
      "GTTTTTTTT TTTTTTTTT\trank:3\tscore:9.49960115256854\n",
      "Found beginning of sequence; total downstream k-mers traveled = 4\n",
      "Upstream sequence [length=12]:\n",
      "CCTGTTTTTTTT\n",
      "Found end of sequence; total upstream k-mers traveled = 0\n",
      "Downstream sequence [length=0]:\n",
      "[]\n",
      "Consensus [length=13]: CCTGTTTTTTTTT\n",
      "\n",
      "TGTTTTTTT GTTTTTTTT\trank:4\tscore:8.54074713533857\n",
      "Found beginning of sequence; total downstream k-mers traveled = 3\n",
      "Upstream sequence [length=11]:\n",
      "CCTGTTTTTTT\n",
      "Found end of sequence; total upstream k-mers traveled = 1\n",
      "Downstream sequence [length=9]:\n",
      "GTTTTTTTT\n",
      "Consensus [length=20]: CCTGTTTTTTTGTTTTTTTT\n",
      "\n",
      "GGACAAAAA GACAAAAAA\trank:5\tscore:7.74130704896183\n",
      "Found beginning of sequence; total downstream k-mers traveled = 0\n",
      "Upstream sequence [length=0]:\n",
      "[]\n",
      "Found end of sequence; total upstream k-mers traveled = 3\n",
      "Downstream sequence [length=11]:\n",
      "GACAAAAAAAA\n",
      "Consensus [length=12]: GGACAAAAAAAA\n",
      "\n",
      "CTGTTTTTT TGTTTTTTT\trank:6\tscore:7.7227710975244\n",
      "Found beginning of sequence; total downstream k-mers traveled = 2\n",
      "Upstream sequence [length=10]:\n",
      "CCTGTTTTTT\n",
      "Found end of sequence; total upstream k-mers traveled = 2\n",
      "Downstream sequence [length=10]:\n",
      "TGTTTTTTTT\n",
      "Consensus [length=20]: CCTGTTTTTTTGTTTTTTTT\n",
      "\n",
      "ATGAGGTAG TGAGGTAGG\trank:7\tscore:7.25323797871393\n",
      "Found beginning of sequence; total downstream k-mers traveled = 2\n",
      "Upstream sequence [length=10]:\n",
      "TATGAGGTAG\n",
      "Found end of sequence; total upstream k-mers traveled = 5\n",
      "Downstream sequence [length=13]:\n",
      "TGAGGTAGGGCGA\n",
      "Consensus [length=23]: TATGAGGTAGTGAGGTAGGGCGA\n",
      "\n",
      "CAGTGGGGG AGTGGGGGT\trank:8\tscore:7.00434145479562\n",
      "Found beginning of sequence; total downstream k-mers traveled = 0\n",
      "Upstream sequence [length=0]:\n",
      "[]\n",
      "Found end of sequence; total upstream k-mers traveled = 0\n",
      "Downstream sequence [length=0]:\n",
      "[]\n",
      "WARNING: No connecting paths found.\n",
      "\n",
      "GTGAGGTAG TGAGGTAGG\trank:9\tscore:6.99260022994292\n",
      "Found beginning of sequence; total downstream k-mers traveled = 4\n",
      "Upstream sequence [length=12]:\n",
      "AATGTGAGGTAG\n",
      "Found end of sequence; total upstream k-mers traveled = 5\n",
      "Downstream sequence [length=13]:\n",
      "TGAGGTAGGGCGA\n",
      "Consensus [length=25]: AATGTGAGGTAGTGAGGTAGGGCGA\n",
      "\n",
      "TGGGAGGTG GGGAGGTGG\trank:10\tscore:6.98817251790211\n",
      "Found beginning of sequence; total downstream k-mers traveled = 3\n",
      "Upstream sequence [length=11]:\n",
      "AATGGGAGGTG\n",
      "Found end of sequence; total upstream k-mers traveled = 0\n",
      "Downstream sequence [length=0]:\n",
      "[]\n",
      "Consensus [length=12]: AATGGGAGGTGG\n",
      "\n",
      "Consensus seqs from top 10 kmers:\n"
     ]
    },
    {
     "data": {
      "text/html": [
       "<div>\n",
       "<style scoped>\n",
       "    .dataframe tbody tr th:only-of-type {\n",
       "        vertical-align: middle;\n",
       "    }\n",
       "\n",
       "    .dataframe tbody tr th {\n",
       "        vertical-align: top;\n",
       "    }\n",
       "\n",
       "    .dataframe thead th {\n",
       "        text-align: right;\n",
       "    }\n",
       "</style>\n",
       "<table border=\"1\" class=\"dataframe\">\n",
       "  <thead>\n",
       "    <tr style=\"text-align: right;\">\n",
       "      <th></th>\n",
       "      <th>seed_kmer</th>\n",
       "      <th>rank</th>\n",
       "      <th>score</th>\n",
       "      <th>consensus_seq</th>\n",
       "    </tr>\n",
       "  </thead>\n",
       "  <tbody>\n",
       "    <tr>\n",
       "      <th>0</th>\n",
       "      <td>ACAAAAAAA</td>\n",
       "      <td>1</td>\n",
       "      <td>10.978532</td>\n",
       "      <td>GACAAAAAAACAAAAAAAA</td>\n",
       "    </tr>\n",
       "    <tr>\n",
       "      <th>1</th>\n",
       "      <td>CAAAAAAAA</td>\n",
       "      <td>2</td>\n",
       "      <td>10.577317</td>\n",
       "      <td>GACAAAAAAAAA</td>\n",
       "    </tr>\n",
       "    <tr>\n",
       "      <th>2</th>\n",
       "      <td>GTTTTTTTT</td>\n",
       "      <td>3</td>\n",
       "      <td>9.499601</td>\n",
       "      <td>CCTGTTTTTTTTT</td>\n",
       "    </tr>\n",
       "    <tr>\n",
       "      <th>3</th>\n",
       "      <td>TGTTTTTTT</td>\n",
       "      <td>4</td>\n",
       "      <td>8.540747</td>\n",
       "      <td>CCTGTTTTTTTGTTTTTTTT</td>\n",
       "    </tr>\n",
       "    <tr>\n",
       "      <th>4</th>\n",
       "      <td>GGACAAAAA</td>\n",
       "      <td>5</td>\n",
       "      <td>7.741307</td>\n",
       "      <td>GGACAAAAAAAA</td>\n",
       "    </tr>\n",
       "    <tr>\n",
       "      <th>5</th>\n",
       "      <td>CTGTTTTTT</td>\n",
       "      <td>6</td>\n",
       "      <td>7.722771</td>\n",
       "      <td>CCTGTTTTTTTGTTTTTTTT</td>\n",
       "    </tr>\n",
       "    <tr>\n",
       "      <th>6</th>\n",
       "      <td>ATGAGGTAG</td>\n",
       "      <td>7</td>\n",
       "      <td>7.253238</td>\n",
       "      <td>TATGAGGTAGTGAGGTAGGGCGA</td>\n",
       "    </tr>\n",
       "    <tr>\n",
       "      <th>7</th>\n",
       "      <td>CAGTGGGGT</td>\n",
       "      <td>8</td>\n",
       "      <td>7.004341</td>\n",
       "      <td>None</td>\n",
       "    </tr>\n",
       "    <tr>\n",
       "      <th>8</th>\n",
       "      <td>GTGAGGTAG</td>\n",
       "      <td>9</td>\n",
       "      <td>6.992600</td>\n",
       "      <td>AATGTGAGGTAGTGAGGTAGGGCGA</td>\n",
       "    </tr>\n",
       "    <tr>\n",
       "      <th>9</th>\n",
       "      <td>TGGGAGGTG</td>\n",
       "      <td>10</td>\n",
       "      <td>6.988173</td>\n",
       "      <td>AATGGGAGGTGG</td>\n",
       "    </tr>\n",
       "  </tbody>\n",
       "</table>\n",
       "</div>"
      ],
      "text/plain": [
       "   seed_kmer  rank      score              consensus_seq\n",
       "0  ACAAAAAAA     1  10.978532        GACAAAAAAACAAAAAAAA\n",
       "1  CAAAAAAAA     2  10.577317               GACAAAAAAAAA\n",
       "2  GTTTTTTTT     3   9.499601              CCTGTTTTTTTTT\n",
       "3  TGTTTTTTT     4   8.540747       CCTGTTTTTTTGTTTTTTTT\n",
       "4  GGACAAAAA     5   7.741307               GGACAAAAAAAA\n",
       "5  CTGTTTTTT     6   7.722771       CCTGTTTTTTTGTTTTTTTT\n",
       "6  ATGAGGTAG     7   7.253238    TATGAGGTAGTGAGGTAGGGCGA\n",
       "7  CAGTGGGGT     8   7.004341                       None\n",
       "8  GTGAGGTAG     9   6.992600  AATGTGAGGTAGTGAGGTAGGGCGA\n",
       "9  TGGGAGGTG    10   6.988173               AATGGGAGGTGG"
      ]
     },
     "execution_count": 51,
     "metadata": {},
     "output_type": "execute_result"
    }
   ],
   "source": [
    "rows = []\n",
    "records = []\n",
    "print()\n",
    "for idx, row in ranked_edges.iterrows():\n",
    "    rank = idx+1\n",
    "    score = row['Weight']\n",
    "    seed_kmer_1 = row['Node1']\n",
    "    seed_kmer_2 = row['Node2']\n",
    "    print(f'{seed_kmer_1} {seed_kmer_2}\\trank:{rank}\\tscore:{score}')\n",
    "    seed_kmer_seq = seed_kmer_1[:-1]+seed_kmer_2[-1]\n",
    "    header = f'[seed={seed_kmer_seq} | rank={rank} | score={score}]'\n",
    "    cons_seq = grow_cons_seq(seed_kmer_1, seed_kmer_2, input_df)\n",
    "    record = SeqRecord(Seq(cons_seq), id=header)\n",
    "    records.append(record)\n",
    "    rows.append([seed_kmer_seq, rank, score, cons_seq])\n",
    "    print()\n",
    "df_out = pd.DataFrame(rows, columns=['seed_kmer','rank','score','consensus_seq'])\n",
    "print(f'Consensus seqs from top {len(ranked_edges)} kmers:')\n",
    "df_out\n",
    "#return df_out"
   ]
  },
  {
   "cell_type": "code",
   "execution_count": 52,
   "id": "cdc08961-1f53-498f-9267-710cb2352f6e",
   "metadata": {
    "scrolled": true
   },
   "outputs": [
    {
     "data": {
      "text/plain": [
       "'../oligo/results/thresholded/oligo_1_10mer_graph_fdr1e-10_3w'"
      ]
     },
     "execution_count": 52,
     "metadata": {},
     "output_type": "execute_result"
    }
   ],
   "source": [
    "infile_base = file.replace('.csv','')\n",
    "infile_base"
   ]
  },
  {
   "cell_type": "code",
   "execution_count": 54,
   "id": "4fc533c4-ebf0-4787-9cdd-d9a4b369bf1d",
   "metadata": {},
   "outputs": [
    {
     "data": {
      "text/plain": [
       "'oligo_1_10mer_graph_fdr1e-10_3w'"
      ]
     },
     "execution_count": 54,
     "metadata": {},
     "output_type": "execute_result"
    }
   ],
   "source": [
    "import os\n",
    "path, filename = os.path.split(os.path.realpath(file))\n",
    "infile_base = filename.replace('.csv','')\n",
    "infile_base"
   ]
  },
  {
   "cell_type": "code",
   "execution_count": 63,
   "id": "c5d3f6a5-df8d-410a-a421-a230cdb26b50",
   "metadata": {},
   "outputs": [],
   "source": [
    "header = f'consensus sequence [{infile_base}] [seed={seed_kmer_1[:-1]+seed_kmer_2[-1]}]'"
   ]
  },
  {
   "cell_type": "code",
   "execution_count": 64,
   "id": "02128a4c-ba0c-4699-935a-4bed995287b5",
   "metadata": {},
   "outputs": [],
   "source": [
    "record = SeqRecord(Seq(cons_seq), id=header)"
   ]
  },
  {
   "cell_type": "code",
   "execution_count": 65,
   "id": "154ab022-fe28-407f-ae8d-a5807f0fab15",
   "metadata": {},
   "outputs": [
    {
     "data": {
      "text/plain": [
       "SeqRecord(seq=Seq('AATGGGAGGTGG'), id='oligo_1_10mer_graph_fdr1e-10_3w [seed=TGGGAGGTG]', name='<unknown name>', description='<unknown description>', dbxrefs=[])"
      ]
     },
     "execution_count": 65,
     "metadata": {},
     "output_type": "execute_result"
    }
   ],
   "source": [
    "record"
   ]
  },
  {
   "cell_type": "code",
   "execution_count": null,
   "id": "5e39b08a-349b-4f1a-99df-b1dd29362495",
   "metadata": {},
   "outputs": [],
   "source": [
    "def write_fasta(seq, header, writefile):\n",
    "    record = SeqRecord(Seq(seq), id=header)\n",
    "    with open(writefile, \"w\") as f:\n",
    "        SeqIO.write(record, f, \"fasta\")\n",
    "    print(f\"FASTA record has been written to {writefile}\")"
   ]
  },
  {
   "cell_type": "code",
   "execution_count": null,
   "id": "43852e89-ea92-47a8-9d61-4fba97c14a7a",
   "metadata": {},
   "outputs": [],
   "source": []
  },
  {
   "cell_type": "markdown",
   "id": "54ca1abf-7907-4f20-b6a3-3fe2b611b273",
   "metadata": {},
   "source": [
    "# check that graph re-direction is working as intended"
   ]
  },
  {
   "cell_type": "code",
   "execution_count": 10,
   "id": "3b0ef084-f5c9-4866-bcc6-a3b593b28cd5",
   "metadata": {},
   "outputs": [
    {
     "name": "stdout",
     "output_type": "stream",
     "text": [
      "TGCA TGCA\n",
      "True\n"
     ]
    }
   ],
   "source": [
    "# when nodes are in the correct order\n",
    "n1 = 'ATGCA'\n",
    "n2 = 'TGCAG'\n",
    "print(n1[1:], n2[:-1])\n",
    "print(n1[1:] == n2[:-1])"
   ]
  },
  {
   "cell_type": "code",
   "execution_count": 13,
   "id": "e3101c45-9e5d-4f3e-8643-4b08b04a1057",
   "metadata": {},
   "outputs": [
    {
     "name": "stdout",
     "output_type": "stream",
     "text": [
      "GCAG ATGC\n",
      "False\n"
     ]
    }
   ],
   "source": [
    "# when nodes are reversed\n",
    "n1 = 'TGCAG'\n",
    "n2 = 'ATGCA'\n",
    "print(n1[1:], n2[:-1])\n",
    "print(n1[1:] == n2[:-1])"
   ]
  },
  {
   "cell_type": "code",
   "execution_count": 14,
   "id": "9a78e237-c325-4923-b7dd-cebc5b7f8d00",
   "metadata": {},
   "outputs": [
    {
     "name": "stdout",
     "output_type": "stream",
     "text": [
      "ATGC GCAG\n",
      "False\n"
     ]
    }
   ],
   "source": [
    "# when nodes are in the correct order\n",
    "n1 = 'ATGCA'\n",
    "n2 = 'TGCAG'\n",
    "print(n1[:-1], n2[1:])\n",
    "print(n1[:-1] == n2[1:])"
   ]
  },
  {
   "cell_type": "code",
   "execution_count": 15,
   "id": "070967e1-f9ab-45aa-ac46-9ef49565be1f",
   "metadata": {},
   "outputs": [
    {
     "name": "stdout",
     "output_type": "stream",
     "text": [
      "TGCA TGCA\n",
      "True\n"
     ]
    }
   ],
   "source": [
    "# when nodes are reversed\n",
    "n1 = 'TGCAG'\n",
    "n2 = 'ATGCA'\n",
    "print(n1[:-1], n2[1:])\n",
    "print(n1[:-1] == n2[1:])"
   ]
  },
  {
   "cell_type": "markdown",
   "id": "52e49377-568a-4da7-93c0-18d4817e6069",
   "metadata": {},
   "source": [
    "#### oh shit.. this doesn't work for highly repetitive sequences"
   ]
  },
  {
   "cell_type": "markdown",
   "id": "5692350c-b787-42c8-871f-ae430e1f57fb",
   "metadata": {},
   "source": [
    "#### solution with tuples:"
   ]
  },
  {
   "cell_type": "code",
   "execution_count": 3,
   "id": "2cfe041a-4486-4859-a396-c6ac95c18815",
   "metadata": {},
   "outputs": [],
   "source": [
    "import pandas as pd\n",
    "from itertools import filterfalse\n",
    "import numpy as np"
   ]
  },
  {
   "cell_type": "code",
   "execution_count": 79,
   "id": "c9c1c93b-71a5-4a14-82ae-337dfb373a57",
   "metadata": {},
   "outputs": [],
   "source": [
    "def unique_everseen(iterable, key=None):\n",
    "    \"List unique elements, preserving order. Remember all elements ever seen.\"\n",
    "    # unique_everseen('AAAABBBCCDAABBB') --> A B C D\n",
    "    # unique_everseen('ABBCcAD', str.lower) --> A B C D\n",
    "    seen = set()\n",
    "    seen_add = seen.add\n",
    "    if key is None:\n",
    "        for element in filterfalse(seen.__contains__, iterable):\n",
    "            seen_add(element)\n",
    "            yield element\n",
    "    else:\n",
    "        for element in iterable:\n",
    "            k = key(element)\n",
    "            if k not in seen:\n",
    "                seen_add(k)\n",
    "                yield element\n",
    "\n",
    "def map_kmer(kmer, dct):\n",
    "    if kmer in dct.keys():\n",
    "        return(dct[kmer])\n",
    "    return(np.nan)"
   ]
  },
  {
   "cell_type": "code",
   "execution_count": 89,
   "id": "b20caec6-31bc-46a3-922f-c8e08f931b79",
   "metadata": {},
   "outputs": [
    {
     "name": "stdout",
     "output_type": "stream",
     "text": [
      "before:\n",
      "        node1      node2 proteinid                   tuple\n",
      "0   AGAGAGAGA  GAGAGAGAG         A  (AGAGAGAGA, GAGAGAGAG)\n",
      "1   AGAGAGAGA  GAGAGAGAG         B  (AGAGAGAGA, GAGAGAGAG)\n",
      "2   AGAGAGAGA  GAGAGAGAG         A  (AGAGAGAGA, GAGAGAGAG)\n",
      "3   AGAGAGAGA  GAGAGAGAG         C  (AGAGAGAGA, GAGAGAGAG)\n",
      "4   AGAGAGAGA  GAGAGAGAG         F  (AGAGAGAGA, GAGAGAGAG)\n",
      "5   ATATATATA  TATATATAT         R  (ATATATATA, TATATATAT)\n",
      "6   ATATATATA  TATATATAT         A  (ATATATATA, TATATATAT)\n",
      "7   ATATATATA  TATATATAT         R  (ATATATATA, TATATATAT)\n",
      "8   GCGCGCGCG  CGCGCGCGC         A  (GCGCGCGCG, CGCGCGCGC)\n",
      "9   TGTGAGAGG  GTGAGAGGG         G  (TGTGAGAGG, GTGAGAGGG)\n",
      "10  GTGTGGTGG  TGTGGTGGG         C  (GTGTGGTGG, TGTGGTGGG)\n",
      "11  GAGAGAGAG  AGAGAGAGA         O  (GAGAGAGAG, AGAGAGAGA)\n",
      "12  GAGAGAGAG  AGAGAGAGA         X  (GAGAGAGAG, AGAGAGAGA)\n",
      "13  TTGGAAGAT  TGGAAGATG         D  (TTGGAAGAT, TGGAAGATG)\n",
      "14  ATTGCGACT  TTGCGACTC         F  (ATTGCGACT, TTGCGACTC)\n",
      "15  AAGGTAGGT  AGGTAGGTA         V  (AAGGTAGGT, AGGTAGGTA)\n",
      "16  TAGGTGAGG  AGGTGAGGG         Q  (TAGGTGAGG, AGGTGAGGG)\n",
      "17  CTGGGTAGG  TGGGTAGGG         F  (CTGGGTAGG, TGGGTAGGG)\n",
      "after:\n",
      "        node1      node2  count         ids\n",
      "0   AGAGAGAGA  GAGAGAGAG      5  C, B, F, A\n",
      "5   ATATATATA  TATATATAT      3        R, A\n",
      "8   GCGCGCGCG  CGCGCGCGC      1           A\n",
      "9   TGTGAGAGG  GTGAGAGGG      1           G\n",
      "10  GTGTGGTGG  TGTGGTGGG      1           C\n",
      "11  GAGAGAGAG  AGAGAGAGA      2        X, O\n",
      "13  TTGGAAGAT  TGGAAGATG      1           D\n",
      "14  ATTGCGACT  TTGCGACTC      1           F\n",
      "15  AAGGTAGGT  AGGTAGGTA      1           V\n",
      "16  TAGGTGAGG  AGGTGAGGG      1           Q\n",
      "17  CTGGGTAGG  TGGGTAGGG      1           F\n"
     ]
    }
   ],
   "source": [
    "df = pd.read_csv('../oligo/debug/kmer_direction_test.csv')\n",
    "df.columns = map(str.lower, df.columns)\n",
    "df['tuple'] = df[['node1','node2']].apply(tuple, axis=1)\n",
    "print('before:')\n",
    "print(df)\n",
    "kmer_pairs = df.tuple.to_list()\n",
    "count_dct = {n:kmer_pairs.count(n) for n in unique_everseen(kmer_pairs)}\n",
    "id_df = df.groupby('tuple').agg(lambda x: ', '.join(set(x))).drop(columns=['node1','node2'])\n",
    "id_dct = id_df.to_dict()['proteinid']\n",
    "#id_dct = id_dct['ProteinID']\n",
    "df = df.drop('proteinid',axis=1).drop_duplicates()\n",
    "df['count'] = [map_kmer(kmer, count_dct) for kmer in df.tuple]\n",
    "df['ids'] = [map_kmer(kmer, id_dct) for kmer in df.tuple]\n",
    "df = df.drop('tuple', axis=1)\n",
    "print('after:')\n",
    "print(df)"
   ]
  },
  {
   "cell_type": "code",
   "execution_count": 78,
   "id": "15396ac4-4f94-4f83-b5dd-c7789de03ca7",
   "metadata": {},
   "outputs": [
    {
     "data": {
      "text/plain": [
       "{('AAGGTAGGT', 'AGGTAGGTA'): 'V',\n",
       " ('AGAGAGAGA', 'GAGAGAGAG'): 'C, B, F, A',\n",
       " ('ATATATATA', 'TATATATAT'): 'R, A',\n",
       " ('ATTGCGACT', 'TTGCGACTC'): 'F',\n",
       " ('CTGGGTAGG', 'TGGGTAGGG'): 'F',\n",
       " ('GAGAGAGAG', 'AGAGAGAGA'): 'X, O',\n",
       " ('GCGCGCGCG', 'CGCGCGCGC'): 'A',\n",
       " ('GTGTGGTGG', 'TGTGGTGGG'): 'C',\n",
       " ('TAGGTGAGG', 'AGGTGAGGG'): 'Q',\n",
       " ('TGTGAGAGG', 'GTGAGAGGG'): 'G',\n",
       " ('TTGGAAGAT', 'TGGAAGATG'): 'D'}"
      ]
     },
     "execution_count": 78,
     "metadata": {},
     "output_type": "execute_result"
    }
   ],
   "source": [
    "\n",
    "id_dict"
   ]
  },
  {
   "cell_type": "code",
   "execution_count": 72,
   "id": "2a318b70-af77-4857-92da-bff8211c9b49",
   "metadata": {},
   "outputs": [
    {
     "data": {
      "text/plain": [
       "'V'"
      ]
     },
     "execution_count": 72,
     "metadata": {},
     "output_type": "execute_result"
    }
   ],
   "source": [
    "id_dict['ProteinID'][('AAGGTAGGT', 'AGGTAGGTA')]"
   ]
  },
  {
   "cell_type": "markdown",
   "id": "96db3540-44f5-4807-bb04-9fa0ae1454e6",
   "metadata": {},
   "source": [
    "#### faster solution than tuples:"
   ]
  },
  {
   "cell_type": "code",
   "execution_count": 4,
   "id": "a1eaf008-2db4-42c5-9a62-a141665890f2",
   "metadata": {},
   "outputs": [],
   "source": [
    "import pandas as pd"
   ]
  },
  {
   "cell_type": "code",
   "execution_count": 18,
   "id": "24d5d611-4984-4a07-b35e-2939fe9855ca",
   "metadata": {},
   "outputs": [],
   "source": [
    "def map_kmer(kmer, dct):\n",
    "    if kmer in dct.keys():\n",
    "        return(dct[kmer])\n",
    "    return(np.nan)"
   ]
  },
  {
   "cell_type": "code",
   "execution_count": 12,
   "id": "bfda99a7-d807-4ddd-a8a9-f2dbcac0776a",
   "metadata": {},
   "outputs": [
    {
     "data": {
      "text/html": [
       "<div>\n",
       "<style scoped>\n",
       "    .dataframe tbody tr th:only-of-type {\n",
       "        vertical-align: middle;\n",
       "    }\n",
       "\n",
       "    .dataframe tbody tr th {\n",
       "        vertical-align: top;\n",
       "    }\n",
       "\n",
       "    .dataframe thead th {\n",
       "        text-align: right;\n",
       "    }\n",
       "</style>\n",
       "<table border=\"1\" class=\"dataframe\">\n",
       "  <thead>\n",
       "    <tr style=\"text-align: right;\">\n",
       "      <th></th>\n",
       "      <th>node1</th>\n",
       "      <th>node2</th>\n",
       "      <th>proteinid</th>\n",
       "      <th>node_edge</th>\n",
       "    </tr>\n",
       "  </thead>\n",
       "  <tbody>\n",
       "    <tr>\n",
       "      <th>0</th>\n",
       "      <td>AGAGAGAGA</td>\n",
       "      <td>GAGAGAGAG</td>\n",
       "      <td>A</td>\n",
       "      <td>AGAGAGAGAG</td>\n",
       "    </tr>\n",
       "    <tr>\n",
       "      <th>1</th>\n",
       "      <td>AGAGAGAGA</td>\n",
       "      <td>GAGAGAGAG</td>\n",
       "      <td>B</td>\n",
       "      <td>AGAGAGAGAG</td>\n",
       "    </tr>\n",
       "    <tr>\n",
       "      <th>2</th>\n",
       "      <td>AGAGAGAGA</td>\n",
       "      <td>GAGAGAGAG</td>\n",
       "      <td>A</td>\n",
       "      <td>AGAGAGAGAG</td>\n",
       "    </tr>\n",
       "    <tr>\n",
       "      <th>3</th>\n",
       "      <td>AGAGAGAGA</td>\n",
       "      <td>GAGAGAGAG</td>\n",
       "      <td>C</td>\n",
       "      <td>AGAGAGAGAG</td>\n",
       "    </tr>\n",
       "    <tr>\n",
       "      <th>4</th>\n",
       "      <td>AGAGAGAGA</td>\n",
       "      <td>GAGAGAGAG</td>\n",
       "      <td>F</td>\n",
       "      <td>AGAGAGAGAG</td>\n",
       "    </tr>\n",
       "    <tr>\n",
       "      <th>5</th>\n",
       "      <td>ATATATATA</td>\n",
       "      <td>TATATATAT</td>\n",
       "      <td>R</td>\n",
       "      <td>ATATATATAT</td>\n",
       "    </tr>\n",
       "    <tr>\n",
       "      <th>6</th>\n",
       "      <td>ATATATATA</td>\n",
       "      <td>TATATATAT</td>\n",
       "      <td>A</td>\n",
       "      <td>ATATATATAT</td>\n",
       "    </tr>\n",
       "    <tr>\n",
       "      <th>7</th>\n",
       "      <td>ATATATATA</td>\n",
       "      <td>TATATATAT</td>\n",
       "      <td>R</td>\n",
       "      <td>ATATATATAT</td>\n",
       "    </tr>\n",
       "    <tr>\n",
       "      <th>8</th>\n",
       "      <td>GCGCGCGCG</td>\n",
       "      <td>CGCGCGCGC</td>\n",
       "      <td>A</td>\n",
       "      <td>GCGCGCGCGC</td>\n",
       "    </tr>\n",
       "    <tr>\n",
       "      <th>9</th>\n",
       "      <td>TGTGAGAGG</td>\n",
       "      <td>GTGAGAGGG</td>\n",
       "      <td>G</td>\n",
       "      <td>TGTGAGAGGG</td>\n",
       "    </tr>\n",
       "    <tr>\n",
       "      <th>10</th>\n",
       "      <td>GTGTGGTGG</td>\n",
       "      <td>TGTGGTGGG</td>\n",
       "      <td>C</td>\n",
       "      <td>GTGTGGTGGG</td>\n",
       "    </tr>\n",
       "    <tr>\n",
       "      <th>11</th>\n",
       "      <td>GAGAGAGAG</td>\n",
       "      <td>AGAGAGAGA</td>\n",
       "      <td>O</td>\n",
       "      <td>GAGAGAGAGA</td>\n",
       "    </tr>\n",
       "    <tr>\n",
       "      <th>12</th>\n",
       "      <td>GAGAGAGAG</td>\n",
       "      <td>AGAGAGAGA</td>\n",
       "      <td>X</td>\n",
       "      <td>GAGAGAGAGA</td>\n",
       "    </tr>\n",
       "    <tr>\n",
       "      <th>13</th>\n",
       "      <td>TTGGAAGAT</td>\n",
       "      <td>TGGAAGATG</td>\n",
       "      <td>D</td>\n",
       "      <td>TTGGAAGATG</td>\n",
       "    </tr>\n",
       "    <tr>\n",
       "      <th>14</th>\n",
       "      <td>ATTGCGACT</td>\n",
       "      <td>TTGCGACTC</td>\n",
       "      <td>F</td>\n",
       "      <td>ATTGCGACTC</td>\n",
       "    </tr>\n",
       "    <tr>\n",
       "      <th>15</th>\n",
       "      <td>AAGGTAGGT</td>\n",
       "      <td>AGGTAGGTA</td>\n",
       "      <td>V</td>\n",
       "      <td>AAGGTAGGTA</td>\n",
       "    </tr>\n",
       "    <tr>\n",
       "      <th>16</th>\n",
       "      <td>TAGGTGAGG</td>\n",
       "      <td>AGGTGAGGG</td>\n",
       "      <td>Q</td>\n",
       "      <td>TAGGTGAGGG</td>\n",
       "    </tr>\n",
       "    <tr>\n",
       "      <th>17</th>\n",
       "      <td>CTGGGTAGG</td>\n",
       "      <td>TGGGTAGGG</td>\n",
       "      <td>F</td>\n",
       "      <td>CTGGGTAGGG</td>\n",
       "    </tr>\n",
       "  </tbody>\n",
       "</table>\n",
       "</div>"
      ],
      "text/plain": [
       "        node1      node2 proteinid   node_edge\n",
       "0   AGAGAGAGA  GAGAGAGAG         A  AGAGAGAGAG\n",
       "1   AGAGAGAGA  GAGAGAGAG         B  AGAGAGAGAG\n",
       "2   AGAGAGAGA  GAGAGAGAG         A  AGAGAGAGAG\n",
       "3   AGAGAGAGA  GAGAGAGAG         C  AGAGAGAGAG\n",
       "4   AGAGAGAGA  GAGAGAGAG         F  AGAGAGAGAG\n",
       "5   ATATATATA  TATATATAT         R  ATATATATAT\n",
       "6   ATATATATA  TATATATAT         A  ATATATATAT\n",
       "7   ATATATATA  TATATATAT         R  ATATATATAT\n",
       "8   GCGCGCGCG  CGCGCGCGC         A  GCGCGCGCGC\n",
       "9   TGTGAGAGG  GTGAGAGGG         G  TGTGAGAGGG\n",
       "10  GTGTGGTGG  TGTGGTGGG         C  GTGTGGTGGG\n",
       "11  GAGAGAGAG  AGAGAGAGA         O  GAGAGAGAGA\n",
       "12  GAGAGAGAG  AGAGAGAGA         X  GAGAGAGAGA\n",
       "13  TTGGAAGAT  TGGAAGATG         D  TTGGAAGATG\n",
       "14  ATTGCGACT  TTGCGACTC         F  ATTGCGACTC\n",
       "15  AAGGTAGGT  AGGTAGGTA         V  AAGGTAGGTA\n",
       "16  TAGGTGAGG  AGGTGAGGG         Q  TAGGTGAGGG\n",
       "17  CTGGGTAGG  TGGGTAGGG         F  CTGGGTAGGG"
      ]
     },
     "execution_count": 12,
     "metadata": {},
     "output_type": "execute_result"
    }
   ],
   "source": [
    "df = pd.read_csv('../oligo/debug/kmer_direction_test.csv')\n",
    "df.columns = map(str.lower, df.columns)\n",
    "df['node_edge'] = df['node1']+df['node2'].str.rstrip().str[-1]\n",
    "df"
   ]
  },
  {
   "cell_type": "code",
   "execution_count": 13,
   "id": "e4a117ac-08b9-4cb3-be7c-fa5a89db1323",
   "metadata": {},
   "outputs": [
    {
     "data": {
      "text/plain": [
       "{'AGAGAGAGAG': 5,\n",
       " 'ATATATATAT': 3,\n",
       " 'GCGCGCGCGC': 1,\n",
       " 'TGTGAGAGGG': 1,\n",
       " 'GTGTGGTGGG': 1,\n",
       " 'GAGAGAGAGA': 2,\n",
       " 'TTGGAAGATG': 1,\n",
       " 'ATTGCGACTC': 1,\n",
       " 'AAGGTAGGTA': 1,\n",
       " 'TAGGTGAGGG': 1,\n",
       " 'CTGGGTAGGG': 1}"
      ]
     },
     "execution_count": 13,
     "metadata": {},
     "output_type": "execute_result"
    }
   ],
   "source": [
    "counts = {}\n",
    "for kmer_edge in df['node_edge']:\n",
    "    counts[kmer_edge] = counts.get(kmer_edge, 0) + 1\n",
    "counts"
   ]
  },
  {
   "cell_type": "code",
   "execution_count": 15,
   "id": "ad8d70da-34dc-428c-969d-be0b78a70c5f",
   "metadata": {},
   "outputs": [
    {
     "data": {
      "text/plain": [
       "{'AAGGTAGGTA': 'V',\n",
       " 'AGAGAGAGAG': 'F, B, A, C',\n",
       " 'ATATATATAT': 'A, R',\n",
       " 'ATTGCGACTC': 'F',\n",
       " 'CTGGGTAGGG': 'F',\n",
       " 'GAGAGAGAGA': 'X, O',\n",
       " 'GCGCGCGCGC': 'A',\n",
       " 'GTGTGGTGGG': 'C',\n",
       " 'TAGGTGAGGG': 'Q',\n",
       " 'TGTGAGAGGG': 'G',\n",
       " 'TTGGAAGATG': 'D'}"
      ]
     },
     "execution_count": 15,
     "metadata": {},
     "output_type": "execute_result"
    }
   ],
   "source": [
    "id_df = df.groupby('node_edge').agg(lambda x: ', '.join(set(x)))\n",
    "ids = id_df.to_dict()['proteinid']\n",
    "ids"
   ]
  },
  {
   "cell_type": "code",
   "execution_count": 50,
   "id": "1cefcd8d-09d6-4760-85f8-6a140feff81d",
   "metadata": {},
   "outputs": [
    {
     "data": {
      "text/html": [
       "<div>\n",
       "<style scoped>\n",
       "    .dataframe tbody tr th:only-of-type {\n",
       "        vertical-align: middle;\n",
       "    }\n",
       "\n",
       "    .dataframe tbody tr th {\n",
       "        vertical-align: top;\n",
       "    }\n",
       "\n",
       "    .dataframe thead th {\n",
       "        text-align: right;\n",
       "    }\n",
       "</style>\n",
       "<table border=\"1\" class=\"dataframe\">\n",
       "  <thead>\n",
       "    <tr style=\"text-align: right;\">\n",
       "      <th></th>\n",
       "      <th>node_edge</th>\n",
       "      <th>count</th>\n",
       "      <th>proteinid</th>\n",
       "      <th>node1</th>\n",
       "      <th>node2</th>\n",
       "    </tr>\n",
       "  </thead>\n",
       "  <tbody>\n",
       "    <tr>\n",
       "      <th>0</th>\n",
       "      <td>AGAGAGAGAG</td>\n",
       "      <td>5</td>\n",
       "      <td>F, B, A, C</td>\n",
       "      <td>AGAGAGAGA</td>\n",
       "      <td>GAGAGAGAG</td>\n",
       "    </tr>\n",
       "    <tr>\n",
       "      <th>1</th>\n",
       "      <td>ATATATATAT</td>\n",
       "      <td>3</td>\n",
       "      <td>A, R</td>\n",
       "      <td>AGAGAGAGA</td>\n",
       "      <td>GAGAGAGAG</td>\n",
       "    </tr>\n",
       "    <tr>\n",
       "      <th>2</th>\n",
       "      <td>GCGCGCGCGC</td>\n",
       "      <td>1</td>\n",
       "      <td>A</td>\n",
       "      <td>AGAGAGAGA</td>\n",
       "      <td>GAGAGAGAG</td>\n",
       "    </tr>\n",
       "    <tr>\n",
       "      <th>3</th>\n",
       "      <td>TGTGAGAGGG</td>\n",
       "      <td>1</td>\n",
       "      <td>G</td>\n",
       "      <td>AGAGAGAGA</td>\n",
       "      <td>GAGAGAGAG</td>\n",
       "    </tr>\n",
       "    <tr>\n",
       "      <th>4</th>\n",
       "      <td>GTGTGGTGGG</td>\n",
       "      <td>1</td>\n",
       "      <td>C</td>\n",
       "      <td>AGAGAGAGA</td>\n",
       "      <td>GAGAGAGAG</td>\n",
       "    </tr>\n",
       "    <tr>\n",
       "      <th>5</th>\n",
       "      <td>GAGAGAGAGA</td>\n",
       "      <td>2</td>\n",
       "      <td>X, O</td>\n",
       "      <td>ATATATATA</td>\n",
       "      <td>TATATATAT</td>\n",
       "    </tr>\n",
       "    <tr>\n",
       "      <th>6</th>\n",
       "      <td>TTGGAAGATG</td>\n",
       "      <td>1</td>\n",
       "      <td>D</td>\n",
       "      <td>ATATATATA</td>\n",
       "      <td>TATATATAT</td>\n",
       "    </tr>\n",
       "    <tr>\n",
       "      <th>7</th>\n",
       "      <td>ATTGCGACTC</td>\n",
       "      <td>1</td>\n",
       "      <td>F</td>\n",
       "      <td>ATATATATA</td>\n",
       "      <td>TATATATAT</td>\n",
       "    </tr>\n",
       "    <tr>\n",
       "      <th>8</th>\n",
       "      <td>AAGGTAGGTA</td>\n",
       "      <td>1</td>\n",
       "      <td>V</td>\n",
       "      <td>GCGCGCGCG</td>\n",
       "      <td>CGCGCGCGC</td>\n",
       "    </tr>\n",
       "    <tr>\n",
       "      <th>9</th>\n",
       "      <td>TAGGTGAGGG</td>\n",
       "      <td>1</td>\n",
       "      <td>Q</td>\n",
       "      <td>TGTGAGAGG</td>\n",
       "      <td>GTGAGAGGG</td>\n",
       "    </tr>\n",
       "    <tr>\n",
       "      <th>10</th>\n",
       "      <td>CTGGGTAGGG</td>\n",
       "      <td>1</td>\n",
       "      <td>F</td>\n",
       "      <td>GTGTGGTGG</td>\n",
       "      <td>TGTGGTGGG</td>\n",
       "    </tr>\n",
       "  </tbody>\n",
       "</table>\n",
       "</div>"
      ],
      "text/plain": [
       "     node_edge  count   proteinid      node1      node2\n",
       "0   AGAGAGAGAG      5  F, B, A, C  AGAGAGAGA  GAGAGAGAG\n",
       "1   ATATATATAT      3        A, R  AGAGAGAGA  GAGAGAGAG\n",
       "2   GCGCGCGCGC      1           A  AGAGAGAGA  GAGAGAGAG\n",
       "3   TGTGAGAGGG      1           G  AGAGAGAGA  GAGAGAGAG\n",
       "4   GTGTGGTGGG      1           C  AGAGAGAGA  GAGAGAGAG\n",
       "5   GAGAGAGAGA      2        X, O  ATATATATA  TATATATAT\n",
       "6   TTGGAAGATG      1           D  ATATATATA  TATATATAT\n",
       "7   ATTGCGACTC      1           F  ATATATATA  TATATATAT\n",
       "8   AAGGTAGGTA      1           V  GCGCGCGCG  CGCGCGCGC\n",
       "9   TAGGTGAGGG      1           Q  TGTGAGAGG  GTGAGAGGG\n",
       "10  CTGGGTAGGG      1           F  GTGTGGTGG  TGTGGTGGG"
      ]
     },
     "execution_count": 50,
     "metadata": {},
     "output_type": "execute_result"
    }
   ],
   "source": [
    "df_out = pd.DataFrame.from_dict(counts, orient='index', columns=['count'])\n",
    "df_out['proteinid'] = [map_kmer(i, ids) for i in df_out.index]\n",
    "df_out = df_out.reset_index().rename(columns={'index':'node_edge'})\n",
    "df_out['node1'] = df.node_edge.str.rstrip().str[:-1]\n",
    "df_out['node2'] = df.node_edge.str.rstrip().str[1:]\n",
    "df_out"
   ]
  },
  {
   "cell_type": "code",
   "execution_count": 51,
   "id": "cac2e6f3-86e2-4c2b-8763-1dd122f0ed90",
   "metadata": {},
   "outputs": [
    {
     "data": {
      "text/html": [
       "<div>\n",
       "<style scoped>\n",
       "    .dataframe tbody tr th:only-of-type {\n",
       "        vertical-align: middle;\n",
       "    }\n",
       "\n",
       "    .dataframe tbody tr th {\n",
       "        vertical-align: top;\n",
       "    }\n",
       "\n",
       "    .dataframe thead th {\n",
       "        text-align: right;\n",
       "    }\n",
       "</style>\n",
       "<table border=\"1\" class=\"dataframe\">\n",
       "  <thead>\n",
       "    <tr style=\"text-align: right;\">\n",
       "      <th></th>\n",
       "      <th>node1</th>\n",
       "      <th>node2</th>\n",
       "      <th>count</th>\n",
       "      <th>proteinid</th>\n",
       "    </tr>\n",
       "  </thead>\n",
       "  <tbody>\n",
       "    <tr>\n",
       "      <th>0</th>\n",
       "      <td>AGAGAGAGA</td>\n",
       "      <td>GAGAGAGAG</td>\n",
       "      <td>5</td>\n",
       "      <td>F, B, A, C</td>\n",
       "    </tr>\n",
       "    <tr>\n",
       "      <th>1</th>\n",
       "      <td>AGAGAGAGA</td>\n",
       "      <td>GAGAGAGAG</td>\n",
       "      <td>3</td>\n",
       "      <td>A, R</td>\n",
       "    </tr>\n",
       "    <tr>\n",
       "      <th>2</th>\n",
       "      <td>AGAGAGAGA</td>\n",
       "      <td>GAGAGAGAG</td>\n",
       "      <td>1</td>\n",
       "      <td>A</td>\n",
       "    </tr>\n",
       "    <tr>\n",
       "      <th>3</th>\n",
       "      <td>AGAGAGAGA</td>\n",
       "      <td>GAGAGAGAG</td>\n",
       "      <td>1</td>\n",
       "      <td>G</td>\n",
       "    </tr>\n",
       "    <tr>\n",
       "      <th>4</th>\n",
       "      <td>AGAGAGAGA</td>\n",
       "      <td>GAGAGAGAG</td>\n",
       "      <td>1</td>\n",
       "      <td>C</td>\n",
       "    </tr>\n",
       "    <tr>\n",
       "      <th>5</th>\n",
       "      <td>ATATATATA</td>\n",
       "      <td>TATATATAT</td>\n",
       "      <td>2</td>\n",
       "      <td>X, O</td>\n",
       "    </tr>\n",
       "    <tr>\n",
       "      <th>6</th>\n",
       "      <td>ATATATATA</td>\n",
       "      <td>TATATATAT</td>\n",
       "      <td>1</td>\n",
       "      <td>D</td>\n",
       "    </tr>\n",
       "    <tr>\n",
       "      <th>7</th>\n",
       "      <td>ATATATATA</td>\n",
       "      <td>TATATATAT</td>\n",
       "      <td>1</td>\n",
       "      <td>F</td>\n",
       "    </tr>\n",
       "    <tr>\n",
       "      <th>8</th>\n",
       "      <td>GCGCGCGCG</td>\n",
       "      <td>CGCGCGCGC</td>\n",
       "      <td>1</td>\n",
       "      <td>V</td>\n",
       "    </tr>\n",
       "    <tr>\n",
       "      <th>9</th>\n",
       "      <td>TGTGAGAGG</td>\n",
       "      <td>GTGAGAGGG</td>\n",
       "      <td>1</td>\n",
       "      <td>Q</td>\n",
       "    </tr>\n",
       "    <tr>\n",
       "      <th>10</th>\n",
       "      <td>GTGTGGTGG</td>\n",
       "      <td>TGTGGTGGG</td>\n",
       "      <td>1</td>\n",
       "      <td>F</td>\n",
       "    </tr>\n",
       "  </tbody>\n",
       "</table>\n",
       "</div>"
      ],
      "text/plain": [
       "        node1      node2  count   proteinid\n",
       "0   AGAGAGAGA  GAGAGAGAG      5  F, B, A, C\n",
       "1   AGAGAGAGA  GAGAGAGAG      3        A, R\n",
       "2   AGAGAGAGA  GAGAGAGAG      1           A\n",
       "3   AGAGAGAGA  GAGAGAGAG      1           G\n",
       "4   AGAGAGAGA  GAGAGAGAG      1           C\n",
       "5   ATATATATA  TATATATAT      2        X, O\n",
       "6   ATATATATA  TATATATAT      1           D\n",
       "7   ATATATATA  TATATATAT      1           F\n",
       "8   GCGCGCGCG  CGCGCGCGC      1           V\n",
       "9   TGTGAGAGG  GTGAGAGGG      1           Q\n",
       "10  GTGTGGTGG  TGTGGTGGG      1           F"
      ]
     },
     "execution_count": 51,
     "metadata": {},
     "output_type": "execute_result"
    }
   ],
   "source": [
    "cols = df_out.columns.tolist()\n",
    "col_order = [cols[-2], cols[-1]]+cols[:-2]\n",
    "df_out = df_out[col_order]\n",
    "df_out = df_out.drop('node_edge', axis=1)\n",
    "df_out"
   ]
  },
  {
   "cell_type": "code",
   "execution_count": 44,
   "id": "9b1c7d38-ba0e-4fec-b214-9ae49ee8ba88",
   "metadata": {},
   "outputs": [
    {
     "data": {
      "text/plain": [
       "{('AGAGAGAGA', 'GAGAGAGAG'): 5,\n",
       " ('ATATATATA', 'TATATATAT'): 3,\n",
       " ('GCGCGCGCG', 'CGCGCGCGC'): 1,\n",
       " ('TGTGAGAGG', 'GTGAGAGGG'): 1,\n",
       " ('GTGTGGTGG', 'TGTGGTGGG'): 1,\n",
       " ('GAGAGAGAG', 'AGAGAGAGA'): 2,\n",
       " ('TTGGAAGAT', 'TGGAAGATG'): 1,\n",
       " ('ATTGCGACT', 'TTGCGACTC'): 1,\n",
       " ('AAGGTAGGT', 'AGGTAGGTA'): 1,\n",
       " ('TAGGTGAGG', 'AGGTGAGGG'): 1,\n",
       " ('CTGGGTAGG', 'TGGGTAGGG'): 1}"
      ]
     },
     "execution_count": 44,
     "metadata": {},
     "output_type": "execute_result"
    }
   ],
   "source": [
    "count_dct"
   ]
  },
  {
   "cell_type": "code",
   "execution_count": 33,
   "id": "e3542f47-0ec2-424b-bb5a-14becec04d51",
   "metadata": {},
   "outputs": [
    {
     "data": {
      "text/plain": [
       "['node_edge', 'count', 'proteinid', 'node1', 'node2']"
      ]
     },
     "execution_count": 33,
     "metadata": {},
     "output_type": "execute_result"
    }
   ],
   "source": []
  },
  {
   "cell_type": "code",
   "execution_count": 41,
   "id": "209e6836-d80b-42e0-8220-2570f88da8fa",
   "metadata": {},
   "outputs": [
    {
     "data": {
      "text/plain": [
       "['node1', 'node2', 'node_edge', 'count', 'proteinid']"
      ]
     },
     "execution_count": 41,
     "metadata": {},
     "output_type": "execute_result"
    }
   ],
   "source": [
    "[cols[-2], cols[-1]]+cols[:-2]"
   ]
  },
  {
   "cell_type": "markdown",
   "id": "052882e1-e210-4140-9387-8618c53a628e",
   "metadata": {},
   "source": [
    "# guaymas checks"
   ]
  },
  {
   "cell_type": "code",
   "execution_count": 6,
   "id": "3e7d31f7-00ad-4200-a199-c27cfe1c88a2",
   "metadata": {},
   "outputs": [],
   "source": [
    "import os\n",
    "import pandas as pd\n",
    "from Bio import SeqIO\n",
    "import statistics"
   ]
  },
  {
   "cell_type": "code",
   "execution_count": 4,
   "id": "966718fd-be57-4655-9320-1819748b4606",
   "metadata": {},
   "outputs": [],
   "source": [
    "def print_stats(records):\n",
    "    sizes = [len(rec) for rec in records]\n",
    "    print(\"Mean read length:\", statistics.mean(sizes))\n",
    "    print(\"Median:\", statistics.median(sizes))\n",
    "    print(\"Mode:\", statistics.mode(sizes))\n",
    "    print(\"Max:\", max(sizes))\n",
    "    print(\"Min:\", min(sizes))"
   ]
  },
  {
   "cell_type": "code",
   "execution_count": 2,
   "id": "64e69fe0-714f-4a44-b218-04cfefec9ff1",
   "metadata": {},
   "outputs": [],
   "source": [
    "fa_ny = '../guaymas/data/NylonHits_Guaymas2020_ALLBINS.fasta'\n",
    "fa_pet = '../guaymas/data/PETHits_Guaymas2020_ALLBINS.fasta'"
   ]
  },
  {
   "cell_type": "code",
   "execution_count": 7,
   "id": "a8c1c3a4-7a4b-4a6f-a199-b0377cd29d51",
   "metadata": {},
   "outputs": [],
   "source": [
    "recs_ny = list(SeqIO.parse(fa_ny, \"fasta\"))\n",
    "recs_pet = list(SeqIO.parse(fa_pet, \"fasta\"))"
   ]
  },
  {
   "cell_type": "code",
   "execution_count": 8,
   "id": "46d1a2cb-03af-4e30-ad69-d4757825936c",
   "metadata": {},
   "outputs": [
    {
     "name": "stdout",
     "output_type": "stream",
     "text": [
      "Total entries in Nylon hits: 661\n",
      "Mean read length: 448.8290468986384\n",
      "Median: 405\n",
      "Mode: 367\n",
      "Max: 1032\n",
      "Min: 115\n"
     ]
    }
   ],
   "source": [
    "print(\"Total entries in Nylon hits:\", len(recs_ny))\n",
    "print_stats(recs_ny)"
   ]
  },
  {
   "cell_type": "code",
   "execution_count": 9,
   "id": "cc660b2e-dc50-45cf-86b4-a80062156ffa",
   "metadata": {},
   "outputs": [
    {
     "name": "stdout",
     "output_type": "stream",
     "text": [
      "Total entries in PET hits: 503\n",
      "Mean read length: 408.04771371769385\n",
      "Median: 365\n",
      "Mode: 253\n",
      "Max: 1153\n",
      "Min: 141\n"
     ]
    }
   ],
   "source": [
    "print(\"Total entries in PET hits:\", len(recs_pet))\n",
    "print_stats(recs_pet)"
   ]
  },
  {
   "cell_type": "code",
   "execution_count": null,
   "id": "e40d3ca0-346e-4be1-b262-6bc57097c6fc",
   "metadata": {},
   "outputs": [],
   "source": []
  },
  {
   "cell_type": "code",
   "execution_count": null,
   "id": "1a1a34be-e974-4662-a29e-234ac15d83bb",
   "metadata": {},
   "outputs": [],
   "source": []
  },
  {
   "cell_type": "code",
   "execution_count": 53,
   "id": "47c4aa07-1a71-45c0-a224-fe46697d40d6",
   "metadata": {},
   "outputs": [
    {
     "data": {
      "text/plain": [
       "18467316.5"
      ]
     },
     "execution_count": 53,
     "metadata": {},
     "output_type": "execute_result"
    }
   ],
   "source": [
    "import statistics\n",
    "counts = [64667900,34810140,33569917,38242331,16630314,16409585,17648268,17597260,21395913,20505193,22228464,22505545,10336939,6237698,8164624,10902029,9194458,19286365,8862211,30442926]\n",
    "statistics.median(counts)"
   ]
  }
 ],
 "metadata": {
  "kernelspec": {
   "display_name": "Python 3 (ipykernel)",
   "language": "python",
   "name": "python3"
  },
  "language_info": {
   "codemirror_mode": {
    "name": "ipython",
    "version": 3
   },
   "file_extension": ".py",
   "mimetype": "text/x-python",
   "name": "python",
   "nbconvert_exporter": "python",
   "pygments_lexer": "ipython3",
   "version": "3.9.16"
  }
 },
 "nbformat": 4,
 "nbformat_minor": 5
}
