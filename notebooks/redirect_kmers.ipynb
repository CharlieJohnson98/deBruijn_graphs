{
 "cells": [
  {
   "cell_type": "code",
   "execution_count": 1,
   "id": "b67a7da1-28cb-40ee-b215-01c60c18ef30",
   "metadata": {},
   "outputs": [],
   "source": [
    "import pandas as pd"
   ]
  },
  {
   "cell_type": "code",
   "execution_count": 2,
   "id": "a3a3060b-4f8b-4316-96f7-9fd110b747aa",
   "metadata": {},
   "outputs": [],
   "source": [
    "test_file = '../oligo/results/10mer/oligo_1_3w_10mers_unique.csv'"
   ]
  },
  {
   "cell_type": "code",
   "execution_count": 31,
   "id": "77faa575-245c-422b-8eae-0d1b3f1e4a48",
   "metadata": {},
   "outputs": [],
   "source": [
    "df = pd.read_csv(test_file)\n",
    "df = df.dropna()\n",
    "df.reset_index(inplace=True, drop=True)"
   ]
  },
  {
   "cell_type": "code",
   "execution_count": 32,
   "id": "b0e338eb-27c9-42c4-9a70-fe24712a00b1",
   "metadata": {},
   "outputs": [
    {
     "data": {
      "text/html": [
       "<div>\n",
       "<style scoped>\n",
       "    .dataframe tbody tr th:only-of-type {\n",
       "        vertical-align: middle;\n",
       "    }\n",
       "\n",
       "    .dataframe tbody tr th {\n",
       "        vertical-align: top;\n",
       "    }\n",
       "\n",
       "    .dataframe thead th {\n",
       "        text-align: right;\n",
       "    }\n",
       "</style>\n",
       "<table border=\"1\" class=\"dataframe\">\n",
       "  <thead>\n",
       "    <tr style=\"text-align: right;\">\n",
       "      <th></th>\n",
       "      <th>node1</th>\n",
       "      <th>node2</th>\n",
       "      <th>count</th>\n",
       "    </tr>\n",
       "  </thead>\n",
       "  <tbody>\n",
       "    <tr>\n",
       "      <th>0</th>\n",
       "      <td>AAACAAAAA</td>\n",
       "      <td>AAAACAAAA</td>\n",
       "      <td>9869385</td>\n",
       "    </tr>\n",
       "    <tr>\n",
       "      <th>1</th>\n",
       "      <td>AGCTGAGAG</td>\n",
       "      <td>TAGCTGAGA</td>\n",
       "      <td>4996752</td>\n",
       "    </tr>\n",
       "    <tr>\n",
       "      <th>2</th>\n",
       "      <td>GATAGCTGA</td>\n",
       "      <td>ATAGCTGAG</td>\n",
       "      <td>4996590</td>\n",
       "    </tr>\n",
       "    <tr>\n",
       "      <th>3</th>\n",
       "      <td>GCGATAGCT</td>\n",
       "      <td>CGATAGCTG</td>\n",
       "      <td>4993135</td>\n",
       "    </tr>\n",
       "    <tr>\n",
       "      <th>4</th>\n",
       "      <td>GATAGCTGA</td>\n",
       "      <td>CGATAGCTG</td>\n",
       "      <td>4989826</td>\n",
       "    </tr>\n",
       "    <tr>\n",
       "      <th>...</th>\n",
       "      <td>...</td>\n",
       "      <td>...</td>\n",
       "      <td>...</td>\n",
       "    </tr>\n",
       "    <tr>\n",
       "      <th>1048110</th>\n",
       "      <td>CGCGAAGAA</td>\n",
       "      <td>GCGAAGAAC</td>\n",
       "      <td>1</td>\n",
       "    </tr>\n",
       "    <tr>\n",
       "      <th>1048111</th>\n",
       "      <td>GGTGCGACC</td>\n",
       "      <td>CGGTGCGAC</td>\n",
       "      <td>1</td>\n",
       "    </tr>\n",
       "    <tr>\n",
       "      <th>1048112</th>\n",
       "      <td>GTCCGAGTC</td>\n",
       "      <td>CGTCCGAGT</td>\n",
       "      <td>1</td>\n",
       "    </tr>\n",
       "    <tr>\n",
       "      <th>1048113</th>\n",
       "      <td>ACCGAGCGT</td>\n",
       "      <td>CCGAGCGTC</td>\n",
       "      <td>1</td>\n",
       "    </tr>\n",
       "    <tr>\n",
       "      <th>1048114</th>\n",
       "      <td>TCAGGCGTC</td>\n",
       "      <td>CAGGCGTCT</td>\n",
       "      <td>1</td>\n",
       "    </tr>\n",
       "  </tbody>\n",
       "</table>\n",
       "<p>1048115 rows × 3 columns</p>\n",
       "</div>"
      ],
      "text/plain": [
       "             node1      node2    count\n",
       "0        AAACAAAAA  AAAACAAAA  9869385\n",
       "1        AGCTGAGAG  TAGCTGAGA  4996752\n",
       "2        GATAGCTGA  ATAGCTGAG  4996590\n",
       "3        GCGATAGCT  CGATAGCTG  4993135\n",
       "4        GATAGCTGA  CGATAGCTG  4989826\n",
       "...            ...        ...      ...\n",
       "1048110  CGCGAAGAA  GCGAAGAAC        1\n",
       "1048111  GGTGCGACC  CGGTGCGAC        1\n",
       "1048112  GTCCGAGTC  CGTCCGAGT        1\n",
       "1048113  ACCGAGCGT  CCGAGCGTC        1\n",
       "1048114  TCAGGCGTC  CAGGCGTCT        1\n",
       "\n",
       "[1048115 rows x 3 columns]"
      ]
     },
     "execution_count": 32,
     "metadata": {},
     "output_type": "execute_result"
    }
   ],
   "source": [
    "df"
   ]
  },
  {
   "cell_type": "code",
   "execution_count": 5,
   "id": "0045ecc6-ff39-412b-9ede-b55e8f91feb8",
   "metadata": {},
   "outputs": [],
   "source": [
    "test1 = 'AGCTGAGAG'\n",
    "test2 = 'TAGCTGAGA'"
   ]
  },
  {
   "cell_type": "code",
   "execution_count": 11,
   "id": "dfa4a7f8-6553-4d7f-8b62-e4d8eafa2d59",
   "metadata": {},
   "outputs": [
    {
     "data": {
      "text/plain": [
       "False"
      ]
     },
     "execution_count": 11,
     "metadata": {},
     "output_type": "execute_result"
    }
   ],
   "source": [
    "test1[1:] == test2[:-1]"
   ]
  },
  {
   "cell_type": "code",
   "execution_count": 12,
   "id": "36540eec-0bc9-4437-b195-a2e4d73c6650",
   "metadata": {},
   "outputs": [
    {
     "data": {
      "text/plain": [
       "True"
      ]
     },
     "execution_count": 12,
     "metadata": {},
     "output_type": "execute_result"
    }
   ],
   "source": [
    "test1[:-1] == test2[1:]"
   ]
  },
  {
   "cell_type": "code",
   "execution_count": 5,
   "id": "28f0b9b1-d05d-4b43-aef7-46c0a0e4ba49",
   "metadata": {
    "scrolled": true
   },
   "outputs": [],
   "source": [
    "redirected = []\n",
    "for i in range(len(df)):\n",
    "    node1 = df.iloc[i, 0]\n",
    "    node2 = df.iloc[i, 1]\n",
    "    if node1[:-1] == node2[1:]:\n",
    "        node1 = df.iloc[i, 1]\n",
    "        node2 = df.iloc[i, 0]\n",
    "    redirected.append([node1, node2])"
   ]
  },
  {
   "cell_type": "code",
   "execution_count": 6,
   "id": "678afc57-ec60-4781-ab32-a5797960b0d8",
   "metadata": {},
   "outputs": [
    {
     "data": {
      "text/plain": [
       "1048115"
      ]
     },
     "execution_count": 6,
     "metadata": {},
     "output_type": "execute_result"
    }
   ],
   "source": [
    "len(redirected)"
   ]
  },
  {
   "cell_type": "code",
   "execution_count": 33,
   "id": "9f2176a2-4664-40cb-bb92-b0ac58159e6e",
   "metadata": {},
   "outputs": [],
   "source": [
    "redirected_df = pd.DataFrame(redirected, columns=['node1','node2'])\n",
    "redirected_df.reset_index(inplace=True, drop=True)"
   ]
  },
  {
   "cell_type": "code",
   "execution_count": 34,
   "id": "9d27effc-dbfe-4af6-b3b1-bec4e00fdf5e",
   "metadata": {},
   "outputs": [],
   "source": [
    "redirected_df['count'] = df['count']"
   ]
  },
  {
   "cell_type": "code",
   "execution_count": 35,
   "id": "652bafe4-437d-410c-b318-a20b5963f644",
   "metadata": {},
   "outputs": [],
   "source": [
    "redirected_df['count'] = redirected_df['count'].astype(int)"
   ]
  },
  {
   "cell_type": "code",
   "execution_count": 12,
   "id": "c910ee66-7287-4ebf-91a6-eccc9ccfaaae",
   "metadata": {},
   "outputs": [
    {
     "data": {
      "text/html": [
       "<div>\n",
       "<style scoped>\n",
       "    .dataframe tbody tr th:only-of-type {\n",
       "        vertical-align: middle;\n",
       "    }\n",
       "\n",
       "    .dataframe tbody tr th {\n",
       "        vertical-align: top;\n",
       "    }\n",
       "\n",
       "    .dataframe thead th {\n",
       "        text-align: right;\n",
       "    }\n",
       "</style>\n",
       "<table border=\"1\" class=\"dataframe\">\n",
       "  <thead>\n",
       "    <tr style=\"text-align: right;\">\n",
       "      <th></th>\n",
       "      <th>node1</th>\n",
       "      <th>node2</th>\n",
       "      <th>count</th>\n",
       "    </tr>\n",
       "  </thead>\n",
       "  <tbody>\n",
       "    <tr>\n",
       "      <th>0</th>\n",
       "      <td>AAAACAAAA</td>\n",
       "      <td>AAACAAAAA</td>\n",
       "      <td>9869385.0</td>\n",
       "    </tr>\n",
       "    <tr>\n",
       "      <th>1</th>\n",
       "      <td>TAGCTGAGA</td>\n",
       "      <td>AGCTGAGAG</td>\n",
       "      <td>4996752.0</td>\n",
       "    </tr>\n",
       "    <tr>\n",
       "      <th>2</th>\n",
       "      <td>GATAGCTGA</td>\n",
       "      <td>ATAGCTGAG</td>\n",
       "      <td>4996590.0</td>\n",
       "    </tr>\n",
       "    <tr>\n",
       "      <th>3</th>\n",
       "      <td>GCGATAGCT</td>\n",
       "      <td>CGATAGCTG</td>\n",
       "      <td>4993135.0</td>\n",
       "    </tr>\n",
       "    <tr>\n",
       "      <th>4</th>\n",
       "      <td>CGATAGCTG</td>\n",
       "      <td>GATAGCTGA</td>\n",
       "      <td>4989826.0</td>\n",
       "    </tr>\n",
       "    <tr>\n",
       "      <th>...</th>\n",
       "      <td>...</td>\n",
       "      <td>...</td>\n",
       "      <td>...</td>\n",
       "    </tr>\n",
       "    <tr>\n",
       "      <th>1048110</th>\n",
       "      <td>CGCGAAGAA</td>\n",
       "      <td>GCGAAGAAC</td>\n",
       "      <td>1.0</td>\n",
       "    </tr>\n",
       "    <tr>\n",
       "      <th>1048111</th>\n",
       "      <td>CGGTGCGAC</td>\n",
       "      <td>GGTGCGACC</td>\n",
       "      <td>1.0</td>\n",
       "    </tr>\n",
       "    <tr>\n",
       "      <th>1048112</th>\n",
       "      <td>CGTCCGAGT</td>\n",
       "      <td>GTCCGAGTC</td>\n",
       "      <td>1.0</td>\n",
       "    </tr>\n",
       "    <tr>\n",
       "      <th>1048113</th>\n",
       "      <td>ACCGAGCGT</td>\n",
       "      <td>CCGAGCGTC</td>\n",
       "      <td>1.0</td>\n",
       "    </tr>\n",
       "    <tr>\n",
       "      <th>1048114</th>\n",
       "      <td>TCAGGCGTC</td>\n",
       "      <td>CAGGCGTCT</td>\n",
       "      <td>1.0</td>\n",
       "    </tr>\n",
       "  </tbody>\n",
       "</table>\n",
       "<p>1048115 rows × 3 columns</p>\n",
       "</div>"
      ],
      "text/plain": [
       "             node1      node2      count\n",
       "0        AAAACAAAA  AAACAAAAA  9869385.0\n",
       "1        TAGCTGAGA  AGCTGAGAG  4996752.0\n",
       "2        GATAGCTGA  ATAGCTGAG  4996590.0\n",
       "3        GCGATAGCT  CGATAGCTG  4993135.0\n",
       "4        CGATAGCTG  GATAGCTGA  4989826.0\n",
       "...            ...        ...        ...\n",
       "1048110  CGCGAAGAA  GCGAAGAAC        1.0\n",
       "1048111  CGGTGCGAC  GGTGCGACC        1.0\n",
       "1048112  CGTCCGAGT  GTCCGAGTC        1.0\n",
       "1048113  ACCGAGCGT  CCGAGCGTC        1.0\n",
       "1048114  TCAGGCGTC  CAGGCGTCT        1.0\n",
       "\n",
       "[1048115 rows x 3 columns]"
      ]
     },
     "execution_count": 12,
     "metadata": {},
     "output_type": "execute_result"
    }
   ],
   "source": [
    "redirected_df"
   ]
  },
  {
   "cell_type": "code",
   "execution_count": 29,
   "id": "256e3a6a-a4ec-46aa-aa4b-67aab2f70d40",
   "metadata": {},
   "outputs": [
    {
     "data": {
      "text/html": [
       "<div>\n",
       "<style scoped>\n",
       "    .dataframe tbody tr th:only-of-type {\n",
       "        vertical-align: middle;\n",
       "    }\n",
       "\n",
       "    .dataframe tbody tr th {\n",
       "        vertical-align: top;\n",
       "    }\n",
       "\n",
       "    .dataframe thead th {\n",
       "        text-align: right;\n",
       "    }\n",
       "</style>\n",
       "<table border=\"1\" class=\"dataframe\">\n",
       "  <thead>\n",
       "    <tr style=\"text-align: right;\">\n",
       "      <th></th>\n",
       "      <th>index</th>\n",
       "      <th>node1</th>\n",
       "      <th>node2</th>\n",
       "      <th>count</th>\n",
       "    </tr>\n",
       "  </thead>\n",
       "  <tbody>\n",
       "  </tbody>\n",
       "</table>\n",
       "</div>"
      ],
      "text/plain": [
       "Empty DataFrame\n",
       "Columns: [index, node1, node2, count]\n",
       "Index: []"
      ]
     },
     "execution_count": 29,
     "metadata": {},
     "output_type": "execute_result"
    }
   ],
   "source": [
    "redirected_df[redirected_df.isnull().any(axis=1)]"
   ]
  },
  {
   "cell_type": "code",
   "execution_count": 36,
   "id": "2890f423-a22d-49cf-8d0e-3fd22a061951",
   "metadata": {},
   "outputs": [
    {
     "data": {
      "text/html": [
       "<div>\n",
       "<style scoped>\n",
       "    .dataframe tbody tr th:only-of-type {\n",
       "        vertical-align: middle;\n",
       "    }\n",
       "\n",
       "    .dataframe tbody tr th {\n",
       "        vertical-align: top;\n",
       "    }\n",
       "\n",
       "    .dataframe thead th {\n",
       "        text-align: right;\n",
       "    }\n",
       "</style>\n",
       "<table border=\"1\" class=\"dataframe\">\n",
       "  <thead>\n",
       "    <tr style=\"text-align: right;\">\n",
       "      <th></th>\n",
       "      <th>node1</th>\n",
       "      <th>node2</th>\n",
       "      <th>count</th>\n",
       "    </tr>\n",
       "  </thead>\n",
       "  <tbody>\n",
       "    <tr>\n",
       "      <th>2774</th>\n",
       "      <td>CATTCGCGA</td>\n",
       "      <td>ATTCGCGAA</td>\n",
       "      <td>3702</td>\n",
       "    </tr>\n",
       "    <tr>\n",
       "      <th>635318</th>\n",
       "      <td>CATTCGCGA</td>\n",
       "      <td>ATTCGCGAG</td>\n",
       "      <td>22</td>\n",
       "    </tr>\n",
       "    <tr>\n",
       "      <th>739073</th>\n",
       "      <td>CATTCGCGA</td>\n",
       "      <td>ATTCGCGAT</td>\n",
       "      <td>18</td>\n",
       "    </tr>\n",
       "    <tr>\n",
       "      <th>743936</th>\n",
       "      <td>CATTCGCGA</td>\n",
       "      <td>ATTCGCGAC</td>\n",
       "      <td>17</td>\n",
       "    </tr>\n",
       "  </tbody>\n",
       "</table>\n",
       "</div>"
      ],
      "text/plain": [
       "            node1      node2  count\n",
       "2774    CATTCGCGA  ATTCGCGAA   3702\n",
       "635318  CATTCGCGA  ATTCGCGAG     22\n",
       "739073  CATTCGCGA  ATTCGCGAT     18\n",
       "743936  CATTCGCGA  ATTCGCGAC     17"
      ]
     },
     "execution_count": 36,
     "metadata": {},
     "output_type": "execute_result"
    }
   ],
   "source": [
    "redirected_df[redirected_df['node1']=='CATTCGCGA']"
   ]
  },
  {
   "cell_type": "code",
   "execution_count": 46,
   "id": "81898ec6-f1f6-4c9a-9757-425ea1823092",
   "metadata": {},
   "outputs": [],
   "source": [
    "test = redirected_df[redirected_df['count'] >= 100]"
   ]
  },
  {
   "cell_type": "code",
   "execution_count": 48,
   "id": "014164f4-b9b6-45e4-b4b5-fdf8ee810a3f",
   "metadata": {},
   "outputs": [
    {
     "data": {
      "text/plain": [
       "7991.689999999595"
      ]
     },
     "execution_count": 48,
     "metadata": {},
     "output_type": "execute_result"
    }
   ],
   "source": [
    "q = test['count'].quantile(0.99)\n",
    "q"
   ]
  },
  {
   "cell_type": "code",
   "execution_count": 38,
   "id": "c736e756-23b3-4702-b427-aa5afb8abec7",
   "metadata": {},
   "outputs": [],
   "source": [
    "redirected_df.to_csv('../oligo/results/10mer/oligo_1_3w_10mers_unique_directed.csv', index=False)"
   ]
  }
 ],
 "metadata": {
  "kernelspec": {
   "display_name": "Python 3 (ipykernel)",
   "language": "python",
   "name": "python3"
  },
  "language_info": {
   "codemirror_mode": {
    "name": "ipython",
    "version": 3
   },
   "file_extension": ".py",
   "mimetype": "text/x-python",
   "name": "python",
   "nbconvert_exporter": "python",
   "pygments_lexer": "ipython3",
   "version": "3.9.16"
  }
 },
 "nbformat": 4,
 "nbformat_minor": 5
}
