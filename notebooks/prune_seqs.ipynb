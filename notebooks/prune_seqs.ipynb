{
 "cells": [
  {
   "cell_type": "code",
   "execution_count": 1,
   "id": "11ebfe1f-f898-4705-88f7-71e3722c338a",
   "metadata": {},
   "outputs": [],
   "source": [
    "from Bio import SeqIO\n",
    "from Bio import Align\n",
    "import re\n",
    "import statistics\n",
    "aligner = Align.PairwiseAligner(mode='global', match_score=2, mismatch_score=-1)"
   ]
  },
  {
   "cell_type": "code",
   "execution_count": 2,
   "id": "4fc01612-df1c-404d-9758-9fc96661743b",
   "metadata": {},
   "outputs": [],
   "source": [
    "from collections import deque\n",
    "\n",
    "def hamming_distance(s1, s2):\n",
    "    return sum(ch1 != ch2 for ch1, ch2 in zip(s1, s2))\n",
    "\n",
    "def approx_match(reference, string, max_mismatches=5):\n",
    "    # if abs(len(string) - len(reference)) > max_mismatches:\n",
    "    #     if hamming_distance(reference, string) <= max_mismatches:\n",
    "    #         return True\n",
    "    if hamming_distance(reference, string) <= max_mismatches:\n",
    "        return True\n",
    "    return False\n",
    "\n",
    "def count_mismatches(s1, s2):\n",
    "    alignment = aligner.align(s1, s2)\n",
    "    score = alignment.score\n",
    "    n_mismatches = sum(1 for a, b in zip(alignment[0][0], alignment[0][1]) if a != b)\n",
    "    return n_mismatches\n",
    "\n",
    "def print_stats(records):\n",
    "    sizes = [len(rec) for rec in records]\n",
    "    print(\"Mean read length:\", statistics.mean(sizes))\n",
    "    print(\"Median:\", statistics.median(sizes))\n",
    "    print(\"Mode:\", statistics.mode(sizes))\n",
    "    print(\"Max:\", max(sizes))\n",
    "    print(\"Min:\", min(sizes))"
   ]
  },
  {
   "cell_type": "code",
   "execution_count": 6,
   "id": "cbac264f-5962-4742-bde6-a8a804a9af41",
   "metadata": {},
   "outputs": [],
   "source": [
    "reference_string = \"reference\"\n",
    "all_strings = [\"reference\", \"refernce\", \"inreferenceto\", \"referece\", \"apple\", \"banana\", \"ref\"]"
   ]
  },
  {
   "cell_type": "code",
   "execution_count": 7,
   "id": "3cebc5f1-919d-48ff-87b9-c9c6db88f68a",
   "metadata": {
    "scrolled": true
   },
   "outputs": [
    {
     "name": "stdout",
     "output_type": "stream",
     "text": [
      "reference:\n",
      "target            0 reference 9\n",
      "                  0 ||||||||| 9\n",
      "query             0 reference 9\n",
      "\n",
      "\tHamming distance: 0\n",
      "\tAlignment score: 18.0\n",
      "\tInsertions: 0\tDeletions: 0\tMismatches: 0\n",
      "Mismatch function: 0\n",
      "\n",
      "refernce:\n",
      "target            0 reference 9\n",
      "                  0 |||||-||| 9\n",
      "query             0 refer-nce 8\n",
      "\n",
      "\tHamming distance: 3\n",
      "\tAlignment score: 16.0\n",
      "\tInsertions: 0\tDeletions: 1\tMismatches: 1\n",
      "Mismatch function: 1\n",
      "\n",
      "inreferenceto:\n",
      "target            0 --reference--  9\n",
      "                  0 --|||||||||-- 13\n",
      "query             0 inreferenceto 13\n",
      "\n",
      "\tHamming distance: 7\n",
      "\tAlignment score: 18.0\n",
      "\tInsertions: 4\tDeletions: 0\tMismatches: 4\n",
      "Mismatch function: 4\n",
      "\n",
      "referece:\n",
      "target            0 reference 9\n",
      "                  0 ||||||-|| 9\n",
      "query             0 refere-ce 8\n",
      "\n",
      "\tHamming distance: 2\n",
      "\tAlignment score: 16.0\n",
      "\tInsertions: 0\tDeletions: 1\tMismatches: 1\n",
      "Mismatch function: 1\n",
      "\n",
      "apple:\n",
      "target            0 r----eference  9\n",
      "                  0 -----|------- 13\n",
      "query             0 -apple-------  5\n",
      "\n",
      "\tHamming distance: 5\n",
      "\tAlignment score: 2.0\n",
      "\tInsertions: 4\tDeletions: 8\tMismatches: 12\n",
      "Mismatch function: 12\n",
      "\n",
      "banana:\n",
      "target            0 refere--nce---  9\n",
      "                  0 --------|----- 14\n",
      "query             0 ------ban--ana  6\n",
      "\n",
      "\tHamming distance: 6\n",
      "\tAlignment score: 2.0\n",
      "\tInsertions: 5\tDeletions: 8\tMismatches: 13\n",
      "Mismatch function: 13\n",
      "\n",
      "ref:\n",
      "target            0 reference 9\n",
      "                  0 |||------ 9\n",
      "query             0 ref------ 3\n",
      "\n",
      "\tHamming distance: 0\n",
      "\tAlignment score: 6.0\n",
      "\tInsertions: 0\tDeletions: 6\tMismatches: 6\n",
      "Mismatch function: 6\n",
      "\n"
     ]
    }
   ],
   "source": [
    "for string in all_strings:\n",
    "    alignment = aligner.align(reference_string, string)\n",
    "    score = alignment.score\n",
    "    mismatch_count = sum(1 for a, b in zip(alignment[0][0], alignment[0][1]) if a != b)\n",
    "    insertions, deletions, mismatches = 0, 0, 0\n",
    "    for char1, char2 in zip(alignment[0][0], alignment[0][1]):\n",
    "        if char1 == \"-\" and char2 != \"-\":\n",
    "            insertions += 1\n",
    "        elif char1 != \"-\" and char2 == \"-\":\n",
    "            deletions += 1\n",
    "        elif char1 != char2:\n",
    "            mismatches += 1\n",
    "    n = count_mismatches(reference_string, string)\n",
    "    print(f'{string}:')\n",
    "    print(alignment[0])\n",
    "    print(f'\\tHamming distance: {hamming_distance(reference_string, string)}')\n",
    "    print(f'\\tAlignment score: {score}')\n",
    "    print(f'\\tInsertions: {insertions}\\tDeletions: {deletions}\\tMismatches: {mismatch_count}')\n",
    "    print(f'Mismatch function: {n}')\n",
    "    print()"
   ]
  },
  {
   "cell_type": "code",
   "execution_count": 8,
   "id": "c7a48920-8817-4590-8deb-39ac06dc3003",
   "metadata": {},
   "outputs": [],
   "source": [
    "f1 = 'TATTGCGATAGCTGAGAGAGAAGACGCGAGGG'\n",
    "f2 = 'GCGAAAACAAAAAACAAAAATAAGAATCCAAGCAGCAGCAACA'"
   ]
  },
  {
   "cell_type": "code",
   "execution_count": 9,
   "id": "5aa9379e-9d67-49e3-be59-d1785c5ab73e",
   "metadata": {},
   "outputs": [],
   "source": [
    "test_file = '../oligo/data/processed/oligo_1_wash_merged/oligo_1_bg.merged.fasta'\n",
    "records = list(SeqIO.parse(test_file, \"fasta\"))"
   ]
  },
  {
   "cell_type": "code",
   "execution_count": 10,
   "id": "3142426f-6820-4aee-9cb7-c8faffd95082",
   "metadata": {},
   "outputs": [
    {
     "name": "stdout",
     "output_type": "stream",
     "text": [
      "Total reads in: 4740316\n",
      "Mean read length: 88.94119316096227\n",
      "Median: 89.0\n",
      "Mode: 89\n",
      "Max: 100\n",
      "Min: 31\n"
     ]
    }
   ],
   "source": [
    "# parse input\n",
    "print(\"Total reads in:\", len(records))\n",
    "print_stats(records)"
   ]
  },
  {
   "cell_type": "code",
   "execution_count": 12,
   "id": "c6a19f7f-08e9-4d1c-9795-5fee9f604ca0",
   "metadata": {},
   "outputs": [
    {
     "name": "stdout",
     "output_type": "stream",
     "text": [
      "Total reads out: 4218415\n",
      "Mean read length: 88.96693450028032\n",
      "Median: 89\n",
      "Mode: 89\n",
      "Max: 100\n",
      "Min: 53\n",
      "% of reads retained: 88.99016436878891\n"
     ]
    }
   ],
   "source": [
    "# prune\n",
    "matches = [rec for rec in records if rec.seq.startswith(f1) or rec.seq.endswith(f2)]\n",
    "# parse output\n",
    "print(\"Total reads out:\", len(matches))\n",
    "print_stats(matches)\n",
    "print(\"% of reads retained:\", (len(matches)/len(records))*100)"
   ]
  },
  {
   "cell_type": "code",
   "execution_count": 13,
   "id": "aff15d74-1cbe-4509-8c66-1b0884ab8288",
   "metadata": {},
   "outputs": [
    {
     "name": "stdout",
     "output_type": "stream",
     "text": [
      "Total reads out: 2451\n",
      "Mean read length: 89.97103223174214\n",
      "Median: 90\n",
      "Mode: 90\n",
      "Max: 91\n",
      "Min: 68\n",
      "% of reads retained: 0.05\n"
     ]
    }
   ],
   "source": [
    "# prune\n",
    "front_len = len(f1)\n",
    "end_len = len(f2)\n",
    "apprx_matches = [rec for rec in records if approx_match(f1, rec.seq[0:front_len]) and approx_match(f2, rec.seq[-end_len:])]\n",
    "# parse output\n",
    "print(\"Total reads out:\", len(apprx_matches))\n",
    "print_stats(apprx_matches)\n",
    "print(\"% of reads retained:\", round((len(apprx_matches)/len(records))*100, 2))"
   ]
  },
  {
   "cell_type": "code",
   "execution_count": null,
   "id": "1c1674cd-aa3b-46ca-aafa-6621e6923547",
   "metadata": {},
   "outputs": [],
   "source": [
    "start_matches = [rec for rec in records if rec.seq.startswith(f1)]\n",
    "print(f'# reads with exact 5\\' matches: {len(start_matches)}')\n",
    "for i in range(front_len):\n",
    "    apprx_start_matches = [rec for rec in records if approx_match(f1, rec.seq[0:front_len], i)]\n",
    "    print(f'# reads with {i} 5\\' mismatches: {len(apprx_start_matches)}')"
   ]
  },
  {
   "cell_type": "code",
   "execution_count": null,
   "id": "f3206fb6-2083-4168-bab0-319a0cb0ba03",
   "metadata": {},
   "outputs": [],
   "source": [
    "end_matches = [rec for rec in records if rec.seq.endswith(f2)]\n",
    "print(f'# reads with exact 3\\' matches: {len(end_matches)}')\n",
    "for i in range(end_len):\n",
    "    apprx_end_matches = [rec for rec in records if approx_match(f2, rec.seq[-end_len:], i)]\n",
    "    print(f'# reads with {i} 3\\' mismatches: {len(apprx_end_matches)}')"
   ]
  },
  {
   "cell_type": "code",
   "execution_count": null,
   "id": "8c7385bf-9821-4265-a9c3-e415080e5f9a",
   "metadata": {},
   "outputs": [],
   "source": [
    "score = aligner.score(reference_string, string)\n",
    "end_matches = [rec for rec in records if rec.seq.endswith(f2)]\n",
    "print(f'# reads with exact 3\\' matches: {len(end_matches)}')\n",
    "for i in range(end_len):\n",
    "    apprx_end_matches = [rec for rec in records if count_mismatch(f2, rec.seq[-end_len:]) <= i]\n",
    "    print(f'# reads with {i} 3\\' mismatches: {len(apprx_end_matches)}')"
   ]
  },
  {
   "cell_type": "code",
   "execution_count": 16,
   "id": "3a5ee6bc-6393-44e2-9b91-abe422b39f95",
   "metadata": {},
   "outputs": [
    {
     "name": "stdout",
     "output_type": "stream",
     "text": [
      "# reads with 5 5' mismatches: 4728458\n"
     ]
    }
   ],
   "source": [
    "apprx_start_matches = [rec for rec in records if count_mismatches(f1, rec.seq[0:len(f1)]) <= 5]\n",
    "print(f'# reads with 5 5\\' mismatches: {len(apprx_start_matches)}')"
   ]
  },
  {
   "cell_type": "code",
   "execution_count": 15,
   "id": "fd08bbd5-cb4b-4845-8ee9-b14fbef50f87",
   "metadata": {},
   "outputs": [
    {
     "name": "stdout",
     "output_type": "stream",
     "text": [
      "# reads with 5 3' mismatches: 4702919\n"
     ]
    }
   ],
   "source": [
    "apprx_end_matches = [rec for rec in records if count_mismatches(f2, rec.seq[-end_len:]) <= 5]\n",
    "print(f'# reads with 5 3\\' mismatches: {len(apprx_end_matches)}')"
   ]
  },
  {
   "cell_type": "code",
   "execution_count": null,
   "id": "1d91a846-3afd-4700-96eb-24555bdaa5aa",
   "metadata": {},
   "outputs": [],
   "source": [
    "matches = [rec for rec in records if mismatch_count(f2, rec.seq[0:len(f1)]) <= n and mismatch_count(f2, rec.seq[-len(f2):]) <= n]"
   ]
  }
 ],
 "metadata": {
  "kernelspec": {
   "display_name": "Python 3 (ipykernel)",
   "language": "python",
   "name": "python3"
  },
  "language_info": {
   "codemirror_mode": {
    "name": "ipython",
    "version": 3
   },
   "file_extension": ".py",
   "mimetype": "text/x-python",
   "name": "python",
   "nbconvert_exporter": "python",
   "pygments_lexer": "ipython3",
   "version": "3.9.16"
  }
 },
 "nbformat": 4,
 "nbformat_minor": 5
}
